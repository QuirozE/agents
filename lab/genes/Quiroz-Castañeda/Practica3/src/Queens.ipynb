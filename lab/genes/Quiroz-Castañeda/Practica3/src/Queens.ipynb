{
 "cells": [
  {
   "cell_type": "code",
   "execution_count": 26,
   "metadata": {},
   "outputs": [],
   "source": [
    "using Random, StatsBase, Plots"
   ]
  },
  {
   "cell_type": "markdown",
   "metadata": {},
   "source": [
    "# Las ocho reinas\n",
    "\n",
    "El problema de las ocho reinas consiste en colocar ocho reinas en un tablero de ajedrez si que se puedan capturar entre sí en un movimiento. El problema fue propuesto en 1848 por Max Bezzel. Tiene 92 posibles soluciones, contando reflexiones y rotaciones.\n",
    "\n",
    "Considere una solución con las siguientes características\n",
    "\n",
    "* Representación: Permutación\n",
    "* Recombinación: `cut & crossfit` con probabilidad 1\n",
    "* Mutación: `swap` con probabilidad 0.8\n",
    "* Selección de padres: mejores 2 de 5 aleatorios\n",
    "* Operador de reemplazo: reemplazar a los peores\n",
    "* Tamaño de la población: 100 individuos\n",
    "* Inicialización: Aleatoria\n",
    "* Condición de paro: Encontrar la solución o evaluación de 10,000 fitness.\n",
    "\n",
    "A partir del planteamiento realizado en clase, resolver este problema a través\n",
    "de algoritmos evolutivos.\n",
    "\n",
    "* Reporte la solución: genotipo, fenotipo y fitness.\n",
    "* Grafique la evolución de la mejor aptitud y fitness promedio.\n",
    "* Con su implementación resuelva el problema para $n=30$ reinas."
   ]
  },
  {
   "cell_type": "markdown",
   "metadata": {},
   "source": [
    "## Modelación"
   ]
  },
  {
   "cell_type": "markdown",
   "metadata": {},
   "source": [
    "### Genotipo\n",
    "\n",
    "Cada permutación se representa como una lista de enteros, de tal manera que $q[i]$ representa el lugar a donde se permuteó la posición $i$."
   ]
  },
  {
   "cell_type": "code",
   "execution_count": 2,
   "metadata": {},
   "outputs": [
    {
     "data": {
      "text/plain": [
       "Array{Int64,1}"
      ]
     },
     "execution_count": 2,
     "metadata": {},
     "output_type": "execute_result"
    }
   ],
   "source": [
    "const Queen = Array{Int, 1}"
   ]
  },
  {
   "cell_type": "markdown",
   "metadata": {},
   "source": [
    "### Fenotipo\n",
    "\n",
    "El fenotipo de la permutación sería el tablero asociado. En este caso, los fenotipos se representan como matrices con entrada $0$ para casillas vacías y $1$ para casillas con una reina. "
   ]
  },
  {
   "cell_type": "code",
   "execution_count": 3,
   "metadata": {},
   "outputs": [
    {
     "data": {
      "text/plain": [
       "build_board (generic function with 1 method)"
      ]
     },
     "execution_count": 3,
     "metadata": {},
     "output_type": "execute_result"
    }
   ],
   "source": [
    "function build_board(q::Queen)::Array{Int, 2}\n",
    "    n = length(q)\n",
    "    board::Array{Int, 2} = zeros((n, n))\n",
    "    for (x, y) in enumerate(q)\n",
    "        board[x, y] = 1\n",
    "    end\n",
    "    return board\n",
    "end"
   ]
  },
  {
   "cell_type": "markdown",
   "metadata": {},
   "source": [
    "### Aptitud\n",
    "\n",
    "Una medidad del desempeño puede ser la cantidad de colisiones que tiene una reinas con todas las demás. Esta cantidad se quiere hacer cero, así que la aptitud se puede tomar como el recíproco de esta cantidad. \n",
    "\n",
    "Notemos que como los genotipos son permutaciones, no es posible que en fenotipo haya dos reinas en la misma fila o columna. Así que las únicas colisiones serían por diagonales."
   ]
  },
  {
   "cell_type": "code",
   "execution_count": 4,
   "metadata": {},
   "outputs": [
    {
     "data": {
      "text/plain": [
       "apt (generic function with 1 method)"
      ]
     },
     "execution_count": 4,
     "metadata": {},
     "output_type": "execute_result"
    }
   ],
   "source": [
    "function collisions(q::Queen)::Int\n",
    "    total = 0\n",
    "    for i in 1:length(q)\n",
    "        for j in 1:(i-1)\n",
    "            offset = i - j\n",
    "            if q[j] + offset == q[i] || q[i] + offset == q[j]\n",
    "                total+=1\n",
    "            end\n",
    "        end\n",
    "    end\n",
    "    return total\n",
    "end\n",
    "\n",
    "apt(q::Queen)::Float64 = 1/collisions(q)"
   ]
  },
  {
   "cell_type": "markdown",
   "metadata": {},
   "source": [
    "### Reproducción\n",
    "\n",
    "Primero, se crea una estructura para guardar las probabilidades de mutación y cruza, la población y un generador de números aleatorios. Además se definie el constructor que inicializa una población aleatoria."
   ]
  },
  {
   "cell_type": "code",
   "execution_count": 5,
   "metadata": {},
   "outputs": [],
   "source": [
    "const Population = Array{Queen, 1}\n",
    "\n",
    "mutable struct QueenSGA\n",
    "    cross_p::Float64\n",
    "    mut_p::Float64\n",
    "    pop::Population\n",
    "    rng::AbstractRNG\n",
    "    function QueenSGA(n::Int, pop_size::Int, cross_p::Float64, mut_p::Float64, seed=0) \n",
    "        r = MersenneTwister(seed)\n",
    "        init_pop = [randperm(r, n) for i in 1:pop_size]\n",
    "        new(cross_p, mut_p, init_pop, r)\n",
    "    end\n",
    "end"
   ]
  },
  {
   "cell_type": "markdown",
   "metadata": {},
   "source": [
    "Luego, para la selección de padres se toman los mejores dos de cinco aleatorios"
   ]
  },
  {
   "cell_type": "code",
   "execution_count": 6,
   "metadata": {},
   "outputs": [
    {
     "data": {
      "text/plain": [
       "selection (generic function with 1 method)"
      ]
     },
     "execution_count": 6,
     "metadata": {},
     "output_type": "execute_result"
    }
   ],
   "source": [
    "function selection(q::QueenSGA)::Tuple{Queen, Queen}\n",
    "    p_par = sample(q.rng, q.pop, 5)\n",
    "    apts = apt.(p_par)\n",
    "    order = sortperm(apts)\n",
    "    return (p_par[order[1]], p_par[order[2]])\n",
    "end"
   ]
  },
  {
   "cell_type": "markdown",
   "metadata": {},
   "source": [
    "Para el operador de cruza, se utiliza el método de `cut & crossfit`. Este consta en tomar dos permutaciones y un punto arbitrario de estas (`cut`). Luego, la primera parte del primer padre es completada usado el inicio del segundo padre y viceversa (`crossfit`). Esto da lugar a dos permutaciones nuevas."
   ]
  },
  {
   "cell_type": "code",
   "execution_count": 12,
   "metadata": {},
   "outputs": [
    {
     "data": {
      "text/plain": [
       "cut_and_crossfit (generic function with 1 method)"
      ]
     },
     "execution_count": 12,
     "metadata": {},
     "output_type": "execute_result"
    }
   ],
   "source": [
    "function crossfit(c::Queen, p::Tuple{Queen, Queen})::Queen\n",
    "    i = 1\n",
    "    while(length(c) < length(p[1]))\n",
    "        if !(p[2][i] in c)\n",
    "            push!(c, p[2][i])\n",
    "        elseif !(p[1][i] in c)\n",
    "            push!(c, p[1][i])\n",
    "        end\n",
    "        i+=1\n",
    "    end\n",
    "    return c\n",
    "end\n",
    "\n",
    "function cut_and_crossfit(q::QueenSGA, p::Tuple{Queen, Queen})::Tuple{Queen, Queen}\n",
    "    if rand(q.rng) < q.cross_p\n",
    "        cut_point = rand(q.rng, 1:length(p[1]))\n",
    "        c1 = p[1][1:cut_point]\n",
    "        c2 = p[2][1:cut_point]\n",
    "    \n",
    "        return (crossfit(c1, p), crossfit(c2, (p[2], p[1])))\n",
    "    end\n",
    "    return p\n",
    "end"
   ]
  },
  {
   "cell_type": "markdown",
   "metadata": {},
   "source": [
    "Para el operador de mutación se hará un intercambio de elementos de la lista."
   ]
  },
  {
   "cell_type": "code",
   "execution_count": 8,
   "metadata": {},
   "outputs": [
    {
     "data": {
      "text/plain": [
       "mutation (generic function with 1 method)"
      ]
     },
     "execution_count": 8,
     "metadata": {},
     "output_type": "execute_result"
    }
   ],
   "source": [
    "function mutation(sga::QueenSGA, q::Queen)::Queen\n",
    "    if rand(sga.rng) < sga.mut_p\n",
    "        n = length(q)\n",
    "        i = rand(sga.rng, 1:n)\n",
    "        j = rand(sga.rng, 1:n)\n",
    "        aux = q[i]\n",
    "        q[i] = q[j]\n",
    "        q[j] = aux\n",
    "    end\n",
    "    return q\n",
    "end"
   ]
  },
  {
   "cell_type": "markdown",
   "metadata": {},
   "source": [
    "Y para el operador de remplazo, se crearán $n+2$ nuevos individuos, de los que se conservarán los mejores $n$."
   ]
  },
  {
   "cell_type": "code",
   "execution_count": 9,
   "metadata": {},
   "outputs": [
    {
     "data": {
      "text/plain": [
       "replacement (generic function with 1 method)"
      ]
     },
     "execution_count": 9,
     "metadata": {},
     "output_type": "execute_result"
    }
   ],
   "source": [
    "function replacement(q::QueenSGA)::Population\n",
    "    n = length(q.pop)\n",
    "    n_pop = []\n",
    "    for i in 1:n\n",
    "        p = selection(q)\n",
    "        crs = cut_and_crossfit(q, p)\n",
    "        m1 = mutation(q, crs[1])\n",
    "        m2 = mutation(q, crs[2])\n",
    "        push!(n_pop, m1)\n",
    "        push!(n_pop, m2)\n",
    "    end\n",
    "    ranking = sortperm([apt(s) for s in q.pop])\n",
    "    return n_pop[ranking[1:n]]\n",
    "end"
   ]
  },
  {
   "cell_type": "markdown",
   "metadata": {},
   "source": [
    "Finalmente, para correr el algoritmo se remplazará la problación hasta llegar a una solución válida o una aptitup de 10,000"
   ]
  },
  {
   "cell_type": "code",
   "execution_count": 11,
   "metadata": {},
   "outputs": [
    {
     "data": {
      "text/plain": [
       "run (generic function with 1 method)"
      ]
     },
     "execution_count": 11,
     "metadata": {},
     "output_type": "execute_result"
    }
   ],
   "source": [
    "function good_enough(q::QueenSGA)::Bool\n",
    "    max_apt = maximum([apt(p) for p in q.pop])\n",
    "    return max_apt >= 10000\n",
    "end\n",
    "\n",
    "function run(q::QueenSGA)::Queen\n",
    "    while !good_enough(q)\n",
    "        q.pop = replacement(q)\n",
    "    end\n",
    "    imax = argmax([apt(p) for p in q.pop])\n",
    "    return q.pop[imax]\n",
    "end"
   ]
  },
  {
   "cell_type": "markdown",
   "metadata": {},
   "source": [
    "## Simulación"
   ]
  },
  {
   "cell_type": "markdown",
   "metadata": {},
   "source": [
    "* Reporte la solución: genotipo, fenotipo y fitness.\n"
   ]
  },
  {
   "cell_type": "code",
   "execution_count": 20,
   "metadata": {},
   "outputs": [
    {
     "name": "stdout",
     "output_type": "stream",
     "text": [
      "Genotipo: [6, 3, 5, 7, 1, 4, 2, 8]\n",
      "Aptitud: Inf\n",
      "Fenotipo: "
     ]
    },
    {
     "data": {
      "text/plain": [
       "8×8 Array{Int64,2}:\n",
       " 0  0  0  0  0  1  0  0\n",
       " 0  0  1  0  0  0  0  0\n",
       " 0  0  0  0  1  0  0  0\n",
       " 0  0  0  0  0  0  1  0\n",
       " 1  0  0  0  0  0  0  0\n",
       " 0  0  0  1  0  0  0  0\n",
       " 0  1  0  0  0  0  0  0\n",
       " 0  0  0  0  0  0  0  1"
      ]
     },
     "execution_count": 20,
     "metadata": {},
     "output_type": "execute_result"
    }
   ],
   "source": [
    "q1 = QueenSGA(8, 100, 1.0, 0.8)\n",
    "best = run(q1)\n",
    "print(\"Genotipo: \", best, \"\\n\")\n",
    "print(\"Aptitud: \", apt(best), \"\\n\")\n",
    "print(\"Fenotipo: \")\n",
    "build_board(best)"
   ]
  },
  {
   "cell_type": "markdown",
   "metadata": {},
   "source": [
    "* Grafique la evolución de la mejor aptitud y fitness promedio."
   ]
  },
  {
   "cell_type": "code",
   "execution_count": 22,
   "metadata": {},
   "outputs": [
    {
     "data": {
      "text/plain": [
       "collect_data (generic function with 1 method)"
      ]
     },
     "execution_count": 22,
     "metadata": {},
     "output_type": "execute_result"
    }
   ],
   "source": [
    "function collect_data(q::QueenSGA)::Array{Array{Float64, 1}}\n",
    "    best_apt = []\n",
    "    avg_apt = []\n",
    "    while !good_enough(q)\n",
    "        q.pop = replacement(q)\n",
    "        apts = [apt(s) for s in q.pop]\n",
    "        push!(best_apt, maximum(apts))\n",
    "        push!(avg_apt, sum(apts)/length(apts))\n",
    "    end\n",
    "    return [best_apt, avg_apt]\n",
    "end"
   ]
  },
  {
   "cell_type": "code",
   "execution_count": 27,
   "metadata": {},
   "outputs": [
    {
     "data": {
      "image/svg+xml": [
       "<?xml version=\"1.0\" encoding=\"utf-8\"?>\n",
       "<svg xmlns=\"http://www.w3.org/2000/svg\" xmlns:xlink=\"http://www.w3.org/1999/xlink\" width=\"600\" height=\"400\" viewBox=\"0 0 2400 1600\">\n",
       "<defs>\n",
       "  <clipPath id=\"clip200\">\n",
       "    <rect x=\"0\" y=\"0\" width=\"2400\" height=\"1600\"/>\n",
       "  </clipPath>\n",
       "</defs>\n",
       "<path clip-path=\"url(#clip200)\" d=\"\n",
       "M0 1600 L2400 1600 L2400 0 L0 0  Z\n",
       "  \" fill=\"#ffffff\" fill-rule=\"evenodd\" fill-opacity=\"1\"/>\n",
       "<defs>\n",
       "  <clipPath id=\"clip201\">\n",
       "    <rect x=\"480\" y=\"0\" width=\"1681\" height=\"1600\"/>\n",
       "  </clipPath>\n",
       "</defs>\n",
       "<path clip-path=\"url(#clip200)\" d=\"\n",
       "M148.334 1486.45 L2352.76 1486.45 L2352.76 123.472 L148.334 123.472  Z\n",
       "  \" fill=\"#ffffff\" fill-rule=\"evenodd\" fill-opacity=\"1\"/>\n",
       "<defs>\n",
       "  <clipPath id=\"clip202\">\n",
       "    <rect x=\"148\" y=\"123\" width=\"2205\" height=\"1364\"/>\n",
       "  </clipPath>\n",
       "</defs>\n",
       "<polyline clip-path=\"url(#clip202)\" style=\"stroke:#000000; stroke-width:2; stroke-opacity:0.1; fill:none\" points=\"\n",
       "  168.282,1486.45 168.282,123.472 \n",
       "  \"/>\n",
       "<polyline clip-path=\"url(#clip202)\" style=\"stroke:#000000; stroke-width:2; stroke-opacity:0.1; fill:none\" points=\"\n",
       "  592.699,1486.45 592.699,123.472 \n",
       "  \"/>\n",
       "<polyline clip-path=\"url(#clip202)\" style=\"stroke:#000000; stroke-width:2; stroke-opacity:0.1; fill:none\" points=\"\n",
       "  1017.12,1486.45 1017.12,123.472 \n",
       "  \"/>\n",
       "<polyline clip-path=\"url(#clip202)\" style=\"stroke:#000000; stroke-width:2; stroke-opacity:0.1; fill:none\" points=\"\n",
       "  1441.53,1486.45 1441.53,123.472 \n",
       "  \"/>\n",
       "<polyline clip-path=\"url(#clip202)\" style=\"stroke:#000000; stroke-width:2; stroke-opacity:0.1; fill:none\" points=\"\n",
       "  1865.95,1486.45 1865.95,123.472 \n",
       "  \"/>\n",
       "<polyline clip-path=\"url(#clip202)\" style=\"stroke:#000000; stroke-width:2; stroke-opacity:0.1; fill:none\" points=\"\n",
       "  2290.37,1486.45 2290.37,123.472 \n",
       "  \"/>\n",
       "<polyline clip-path=\"url(#clip200)\" style=\"stroke:#000000; stroke-width:4; stroke-opacity:1; fill:none\" points=\"\n",
       "  148.334,1486.45 2352.76,1486.45 \n",
       "  \"/>\n",
       "<polyline clip-path=\"url(#clip200)\" style=\"stroke:#000000; stroke-width:4; stroke-opacity:1; fill:none\" points=\"\n",
       "  168.282,1486.45 168.282,1470.09 \n",
       "  \"/>\n",
       "<polyline clip-path=\"url(#clip200)\" style=\"stroke:#000000; stroke-width:4; stroke-opacity:1; fill:none\" points=\"\n",
       "  592.699,1486.45 592.699,1470.09 \n",
       "  \"/>\n",
       "<polyline clip-path=\"url(#clip200)\" style=\"stroke:#000000; stroke-width:4; stroke-opacity:1; fill:none\" points=\"\n",
       "  1017.12,1486.45 1017.12,1470.09 \n",
       "  \"/>\n",
       "<polyline clip-path=\"url(#clip200)\" style=\"stroke:#000000; stroke-width:4; stroke-opacity:1; fill:none\" points=\"\n",
       "  1441.53,1486.45 1441.53,1470.09 \n",
       "  \"/>\n",
       "<polyline clip-path=\"url(#clip200)\" style=\"stroke:#000000; stroke-width:4; stroke-opacity:1; fill:none\" points=\"\n",
       "  1865.95,1486.45 1865.95,1470.09 \n",
       "  \"/>\n",
       "<polyline clip-path=\"url(#clip200)\" style=\"stroke:#000000; stroke-width:4; stroke-opacity:1; fill:none\" points=\"\n",
       "  2290.37,1486.45 2290.37,1470.09 \n",
       "  \"/>\n",
       "<path clip-path=\"url(#clip200)\" d=\"M 0 0 M168.282 1515.64 Q164.671 1515.64 162.842 1519.2 Q161.037 1522.75 161.037 1529.87 Q161.037 1536.98 162.842 1540.55 Q164.671 1544.09 168.282 1544.09 Q171.916 1544.09 173.722 1540.55 Q175.55 1536.98 175.55 1529.87 Q175.55 1522.75 173.722 1519.2 Q171.916 1515.64 168.282 1515.64 M168.282 1511.93 Q174.092 1511.93 177.148 1516.54 Q180.226 1521.12 180.226 1529.87 Q180.226 1538.6 177.148 1543.21 Q174.092 1547.79 168.282 1547.79 Q162.472 1547.79 159.393 1543.21 Q156.338 1538.6 156.338 1529.87 Q156.338 1521.12 159.393 1516.54 Q162.472 1511.93 168.282 1511.93 Z\" fill=\"#000000\" fill-rule=\"evenodd\" fill-opacity=\"1\" /><path clip-path=\"url(#clip200)\" d=\"M 0 0 M569.574 1543.18 L577.213 1543.18 L577.213 1516.82 L568.903 1518.49 L568.903 1514.23 L577.167 1512.56 L581.842 1512.56 L581.842 1543.18 L589.481 1543.18 L589.481 1547.12 L569.574 1547.12 L569.574 1543.18 Z\" fill=\"#000000\" fill-rule=\"evenodd\" fill-opacity=\"1\" /><path clip-path=\"url(#clip200)\" d=\"M 0 0 M604.551 1515.64 Q600.94 1515.64 599.111 1519.2 Q597.305 1522.75 597.305 1529.87 Q597.305 1536.98 599.111 1540.55 Q600.94 1544.09 604.551 1544.09 Q608.185 1544.09 609.99 1540.55 Q611.819 1536.98 611.819 1529.87 Q611.819 1522.75 609.99 1519.2 Q608.185 1515.64 604.551 1515.64 M604.551 1511.93 Q610.361 1511.93 613.416 1516.54 Q616.495 1521.12 616.495 1529.87 Q616.495 1538.6 613.416 1543.21 Q610.361 1547.79 604.551 1547.79 Q598.741 1547.79 595.662 1543.21 Q592.606 1538.6 592.606 1529.87 Q592.606 1521.12 595.662 1516.54 Q598.741 1511.93 604.551 1511.93 Z\" fill=\"#000000\" fill-rule=\"evenodd\" fill-opacity=\"1\" /><path clip-path=\"url(#clip200)\" d=\"M 0 0 M998.262 1543.18 L1014.58 1543.18 L1014.58 1547.12 L992.637 1547.12 L992.637 1543.18 Q995.299 1540.43 999.882 1535.8 Q1004.49 1531.15 1005.67 1529.81 Q1007.91 1527.28 1008.79 1525.55 Q1009.7 1523.79 1009.7 1522.1 Q1009.7 1519.34 1007.75 1517.61 Q1005.83 1515.87 1002.73 1515.87 Q1000.53 1515.87 998.077 1516.63 Q995.646 1517.4 992.868 1518.95 L992.868 1514.23 Q995.692 1513.09 998.146 1512.51 Q1000.6 1511.93 1002.64 1511.93 Q1008.01 1511.93 1011.2 1514.62 Q1014.4 1517.31 1014.4 1521.8 Q1014.4 1523.93 1013.59 1525.85 Q1012.8 1527.74 1010.69 1530.34 Q1010.11 1531.01 1007.01 1534.23 Q1003.91 1537.42 998.262 1543.18 Z\" fill=\"#000000\" fill-rule=\"evenodd\" fill-opacity=\"1\" /><path clip-path=\"url(#clip200)\" d=\"M 0 0 M1029.65 1515.64 Q1026.04 1515.64 1024.21 1519.2 Q1022.41 1522.75 1022.41 1529.87 Q1022.41 1536.98 1024.21 1540.55 Q1026.04 1544.09 1029.65 1544.09 Q1033.28 1544.09 1035.09 1540.55 Q1036.92 1536.98 1036.92 1529.87 Q1036.92 1522.75 1035.09 1519.2 Q1033.28 1515.64 1029.65 1515.64 M1029.65 1511.93 Q1035.46 1511.93 1038.52 1516.54 Q1041.59 1521.12 1041.59 1529.87 Q1041.59 1538.6 1038.52 1543.21 Q1035.46 1547.79 1029.65 1547.79 Q1023.84 1547.79 1020.76 1543.21 Q1017.71 1538.6 1017.71 1529.87 Q1017.71 1521.12 1020.76 1516.54 Q1023.84 1511.93 1029.65 1511.93 Z\" fill=\"#000000\" fill-rule=\"evenodd\" fill-opacity=\"1\" /><path clip-path=\"url(#clip200)\" d=\"M 0 0 M1432.27 1528.49 Q1435.63 1529.2 1437.51 1531.47 Q1439.4 1533.74 1439.4 1537.07 Q1439.4 1542.19 1435.88 1544.99 Q1432.37 1547.79 1425.88 1547.79 Q1423.71 1547.79 1421.39 1547.35 Q1419.1 1546.93 1416.65 1546.08 L1416.65 1541.56 Q1418.59 1542.7 1420.91 1543.28 Q1423.22 1543.86 1425.75 1543.86 Q1430.14 1543.86 1432.44 1542.12 Q1434.75 1540.38 1434.75 1537.07 Q1434.75 1534.02 1432.6 1532.31 Q1430.47 1530.57 1426.65 1530.57 L1422.62 1530.57 L1422.62 1526.73 L1426.83 1526.73 Q1430.28 1526.73 1432.11 1525.36 Q1433.94 1523.97 1433.94 1521.38 Q1433.94 1518.72 1432.04 1517.31 Q1430.17 1515.87 1426.65 1515.87 Q1424.73 1515.87 1422.53 1516.29 Q1420.33 1516.7 1417.69 1517.58 L1417.69 1513.42 Q1420.35 1512.68 1422.67 1512.31 Q1425.01 1511.93 1427.07 1511.93 Q1432.39 1511.93 1435.49 1514.37 Q1438.59 1516.77 1438.59 1520.89 Q1438.59 1523.76 1436.95 1525.75 Q1435.31 1527.72 1432.27 1528.49 Z\" fill=\"#000000\" fill-rule=\"evenodd\" fill-opacity=\"1\" /><path clip-path=\"url(#clip200)\" d=\"M 0 0 M1454.47 1515.64 Q1450.86 1515.64 1449.03 1519.2 Q1447.23 1522.75 1447.23 1529.87 Q1447.23 1536.98 1449.03 1540.55 Q1450.86 1544.09 1454.47 1544.09 Q1458.11 1544.09 1459.91 1540.55 Q1461.74 1536.98 1461.74 1529.87 Q1461.74 1522.75 1459.91 1519.2 Q1458.11 1515.64 1454.47 1515.64 M1454.47 1511.93 Q1460.28 1511.93 1463.34 1516.54 Q1466.42 1521.12 1466.42 1529.87 Q1466.42 1538.6 1463.34 1543.21 Q1460.28 1547.79 1454.47 1547.79 Q1448.66 1547.79 1445.58 1543.21 Q1442.53 1538.6 1442.53 1529.87 Q1442.53 1521.12 1445.58 1516.54 Q1448.66 1511.93 1454.47 1511.93 Z\" fill=\"#000000\" fill-rule=\"evenodd\" fill-opacity=\"1\" /><path clip-path=\"url(#clip200)\" d=\"M 0 0 M1855.45 1516.63 L1843.65 1535.08 L1855.45 1535.08 L1855.45 1516.63 M1854.23 1512.56 L1860.1 1512.56 L1860.1 1535.08 L1865.04 1535.08 L1865.04 1538.97 L1860.1 1538.97 L1860.1 1547.12 L1855.45 1547.12 L1855.45 1538.97 L1839.85 1538.97 L1839.85 1534.46 L1854.23 1512.56 Z\" fill=\"#000000\" fill-rule=\"evenodd\" fill-opacity=\"1\" /><path clip-path=\"url(#clip200)\" d=\"M 0 0 M1880.1 1515.64 Q1876.49 1515.64 1874.66 1519.2 Q1872.86 1522.75 1872.86 1529.87 Q1872.86 1536.98 1874.66 1540.55 Q1876.49 1544.09 1880.1 1544.09 Q1883.74 1544.09 1885.54 1540.55 Q1887.37 1536.98 1887.37 1529.87 Q1887.37 1522.75 1885.54 1519.2 Q1883.74 1515.64 1880.1 1515.64 M1880.1 1511.93 Q1885.91 1511.93 1888.97 1516.54 Q1892.05 1521.12 1892.05 1529.87 Q1892.05 1538.6 1888.97 1543.21 Q1885.91 1547.79 1880.1 1547.79 Q1874.29 1547.79 1871.22 1543.21 Q1868.16 1538.6 1868.16 1529.87 Q1868.16 1521.12 1871.22 1516.54 Q1874.29 1511.93 1880.1 1511.93 Z\" fill=\"#000000\" fill-rule=\"evenodd\" fill-opacity=\"1\" /><path clip-path=\"url(#clip200)\" d=\"M 0 0 M2267.14 1512.56 L2285.49 1512.56 L2285.49 1516.5 L2271.42 1516.5 L2271.42 1524.97 Q2272.44 1524.62 2273.46 1524.46 Q2274.48 1524.27 2275.49 1524.27 Q2281.28 1524.27 2284.66 1527.44 Q2288.04 1530.62 2288.04 1536.03 Q2288.04 1541.61 2284.57 1544.71 Q2281.1 1547.79 2274.78 1547.79 Q2272.6 1547.79 2270.33 1547.42 Q2268.09 1547.05 2265.68 1546.31 L2265.68 1541.61 Q2267.76 1542.74 2269.98 1543.3 Q2272.21 1543.86 2274.68 1543.86 Q2278.69 1543.86 2281.03 1541.75 Q2283.36 1539.64 2283.36 1536.03 Q2283.36 1532.42 2281.03 1530.31 Q2278.69 1528.21 2274.68 1528.21 Q2272.81 1528.21 2270.93 1528.62 Q2269.08 1529.04 2267.14 1529.92 L2267.14 1512.56 Z\" fill=\"#000000\" fill-rule=\"evenodd\" fill-opacity=\"1\" /><path clip-path=\"url(#clip200)\" d=\"M 0 0 M2303.11 1515.64 Q2299.5 1515.64 2297.67 1519.2 Q2295.86 1522.75 2295.86 1529.87 Q2295.86 1536.98 2297.67 1540.55 Q2299.5 1544.09 2303.11 1544.09 Q2306.74 1544.09 2308.55 1540.55 Q2310.38 1536.98 2310.38 1529.87 Q2310.38 1522.75 2308.55 1519.2 Q2306.74 1515.64 2303.11 1515.64 M2303.11 1511.93 Q2308.92 1511.93 2311.98 1516.54 Q2315.05 1521.12 2315.05 1529.87 Q2315.05 1538.6 2311.98 1543.21 Q2308.92 1547.79 2303.11 1547.79 Q2297.3 1547.79 2294.22 1543.21 Q2291.17 1538.6 2291.17 1529.87 Q2291.17 1521.12 2294.22 1516.54 Q2297.3 1511.93 2303.11 1511.93 Z\" fill=\"#000000\" fill-rule=\"evenodd\" fill-opacity=\"1\" /><polyline clip-path=\"url(#clip202)\" style=\"stroke:#000000; stroke-width:2; stroke-opacity:0.1; fill:none\" points=\"\n",
       "  148.334,1367.93 2352.76,1367.93 \n",
       "  \"/>\n",
       "<polyline clip-path=\"url(#clip202)\" style=\"stroke:#000000; stroke-width:2; stroke-opacity:0.1; fill:none\" points=\"\n",
       "  148.334,1066.46 2352.76,1066.46 \n",
       "  \"/>\n",
       "<polyline clip-path=\"url(#clip202)\" style=\"stroke:#000000; stroke-width:2; stroke-opacity:0.1; fill:none\" points=\"\n",
       "  148.334,764.987 2352.76,764.987 \n",
       "  \"/>\n",
       "<polyline clip-path=\"url(#clip202)\" style=\"stroke:#000000; stroke-width:2; stroke-opacity:0.1; fill:none\" points=\"\n",
       "  148.334,463.517 2352.76,463.517 \n",
       "  \"/>\n",
       "<polyline clip-path=\"url(#clip202)\" style=\"stroke:#000000; stroke-width:2; stroke-opacity:0.1; fill:none\" points=\"\n",
       "  148.334,162.047 2352.76,162.047 \n",
       "  \"/>\n",
       "<polyline clip-path=\"url(#clip200)\" style=\"stroke:#000000; stroke-width:4; stroke-opacity:1; fill:none\" points=\"\n",
       "  148.334,1486.45 148.334,123.472 \n",
       "  \"/>\n",
       "<polyline clip-path=\"url(#clip200)\" style=\"stroke:#000000; stroke-width:4; stroke-opacity:1; fill:none\" points=\"\n",
       "  148.334,1367.93 174.787,1367.93 \n",
       "  \"/>\n",
       "<polyline clip-path=\"url(#clip200)\" style=\"stroke:#000000; stroke-width:4; stroke-opacity:1; fill:none\" points=\"\n",
       "  148.334,1066.46 174.787,1066.46 \n",
       "  \"/>\n",
       "<polyline clip-path=\"url(#clip200)\" style=\"stroke:#000000; stroke-width:4; stroke-opacity:1; fill:none\" points=\"\n",
       "  148.334,764.987 174.787,764.987 \n",
       "  \"/>\n",
       "<polyline clip-path=\"url(#clip200)\" style=\"stroke:#000000; stroke-width:4; stroke-opacity:1; fill:none\" points=\"\n",
       "  148.334,463.517 174.787,463.517 \n",
       "  \"/>\n",
       "<polyline clip-path=\"url(#clip200)\" style=\"stroke:#000000; stroke-width:4; stroke-opacity:1; fill:none\" points=\"\n",
       "  148.334,162.047 174.787,162.047 \n",
       "  \"/>\n",
       "<path clip-path=\"url(#clip200)\" d=\"M 0 0 M65.0198 1353.73 Q61.4087 1353.73 59.58 1357.29 Q57.7745 1360.83 57.7745 1367.96 Q57.7745 1375.07 59.58 1378.63 Q61.4087 1382.17 65.0198 1382.17 Q68.6541 1382.17 70.4596 1378.63 Q72.2883 1375.07 72.2883 1367.96 Q72.2883 1360.83 70.4596 1357.29 Q68.6541 1353.73 65.0198 1353.73 M65.0198 1350.02 Q70.83 1350.02 73.8855 1354.63 Q76.9642 1359.21 76.9642 1367.96 Q76.9642 1376.69 73.8855 1381.29 Q70.83 1385.88 65.0198 1385.88 Q59.2097 1385.88 56.131 1381.29 Q53.0754 1376.69 53.0754 1367.96 Q53.0754 1359.21 56.131 1354.63 Q59.2097 1350.02 65.0198 1350.02 Z\" fill=\"#000000\" fill-rule=\"evenodd\" fill-opacity=\"1\" /><path clip-path=\"url(#clip200)\" d=\"M 0 0 M82.0336 1379.33 L86.9179 1379.33 L86.9179 1385.21 L82.0336 1385.21 L82.0336 1379.33 Z\" fill=\"#000000\" fill-rule=\"evenodd\" fill-opacity=\"1\" /><path clip-path=\"url(#clip200)\" d=\"M 0 0 M96.015 1381.27 L112.334 1381.27 L112.334 1385.21 L90.3901 1385.21 L90.3901 1381.27 Q93.0521 1378.52 97.6354 1373.89 Q102.242 1369.23 103.422 1367.89 Q105.668 1365.37 106.547 1363.63 Q107.45 1361.87 107.45 1360.18 Q107.45 1357.43 105.506 1355.69 Q103.584 1353.96 100.483 1353.96 Q98.2835 1353.96 95.8298 1354.72 Q93.3993 1355.48 90.6215 1357.04 L90.6215 1352.31 Q93.4456 1351.18 95.8993 1350.6 Q98.353 1350.02 100.39 1350.02 Q105.76 1350.02 108.955 1352.71 Q112.149 1355.39 112.149 1359.88 Q112.149 1362.01 111.339 1363.93 Q110.552 1365.83 108.446 1368.42 Q107.867 1369.1 104.765 1372.31 Q101.663 1375.51 96.015 1381.27 Z\" fill=\"#000000\" fill-rule=\"evenodd\" fill-opacity=\"1\" /><path clip-path=\"url(#clip200)\" d=\"M 0 0 M62.9365 1052.26 Q59.3254 1052.26 57.4967 1055.82 Q55.6912 1059.36 55.6912 1066.49 Q55.6912 1073.6 57.4967 1077.16 Q59.3254 1080.7 62.9365 1080.7 Q66.5707 1080.7 68.3763 1077.16 Q70.205 1073.6 70.205 1066.49 Q70.205 1059.36 68.3763 1055.82 Q66.5707 1052.26 62.9365 1052.26 M62.9365 1048.55 Q68.7467 1048.55 71.8022 1053.16 Q74.8809 1057.74 74.8809 1066.49 Q74.8809 1075.22 71.8022 1079.82 Q68.7467 1084.41 62.9365 1084.41 Q57.1264 1084.41 54.0477 1079.82 Q50.9921 1075.22 50.9921 1066.49 Q50.9921 1057.74 54.0477 1053.16 Q57.1264 1048.55 62.9365 1048.55 Z\" fill=\"#000000\" fill-rule=\"evenodd\" fill-opacity=\"1\" /><path clip-path=\"url(#clip200)\" d=\"M 0 0 M79.9503 1077.86 L84.8345 1077.86 L84.8345 1083.74 L79.9503 1083.74 L79.9503 1077.86 Z\" fill=\"#000000\" fill-rule=\"evenodd\" fill-opacity=\"1\" /><path clip-path=\"url(#clip200)\" d=\"M 0 0 M102.751 1053.25 L90.9456 1071.7 L102.751 1071.7 L102.751 1053.25 M101.524 1049.18 L107.404 1049.18 L107.404 1071.7 L112.334 1071.7 L112.334 1075.59 L107.404 1075.59 L107.404 1083.74 L102.751 1083.74 L102.751 1075.59 L87.1493 1075.59 L87.1493 1071.07 L101.524 1049.18 Z\" fill=\"#000000\" fill-rule=\"evenodd\" fill-opacity=\"1\" /><path clip-path=\"url(#clip200)\" d=\"M 0 0 M63.2606 750.785 Q59.6495 750.785 57.8208 754.35 Q56.0152 757.892 56.0152 765.022 Q56.0152 772.128 57.8208 775.693 Q59.6495 779.234 63.2606 779.234 Q66.8948 779.234 68.7004 775.693 Q70.5291 772.128 70.5291 765.022 Q70.5291 757.892 68.7004 754.35 Q66.8948 750.785 63.2606 750.785 M63.2606 747.082 Q69.0707 747.082 72.1263 751.688 Q75.205 756.272 75.205 765.022 Q75.205 773.748 72.1263 778.355 Q69.0707 782.938 63.2606 782.938 Q57.4504 782.938 54.3717 778.355 Q51.3162 773.748 51.3162 765.022 Q51.3162 756.272 54.3717 751.688 Q57.4504 747.082 63.2606 747.082 Z\" fill=\"#000000\" fill-rule=\"evenodd\" fill-opacity=\"1\" /><path clip-path=\"url(#clip200)\" d=\"M 0 0 M80.2744 776.387 L85.1586 776.387 L85.1586 782.267 L80.2744 782.267 L80.2744 776.387 Z\" fill=\"#000000\" fill-rule=\"evenodd\" fill-opacity=\"1\" /><path clip-path=\"url(#clip200)\" d=\"M 0 0 M100.807 763.123 Q97.6585 763.123 95.8067 765.276 Q93.978 767.429 93.978 771.179 Q93.978 774.906 95.8067 777.082 Q97.6585 779.234 100.807 779.234 Q103.955 779.234 105.783 777.082 Q107.635 774.906 107.635 771.179 Q107.635 767.429 105.783 765.276 Q103.955 763.123 100.807 763.123 M110.089 748.471 L110.089 752.73 Q108.33 751.897 106.524 751.457 Q104.742 751.017 102.983 751.017 Q98.353 751.017 95.8993 754.142 Q93.4688 757.267 93.1215 763.586 Q94.4873 761.572 96.5474 760.508 Q98.6076 759.42 101.084 759.42 Q106.293 759.42 109.302 762.591 Q112.334 765.739 112.334 771.179 Q112.334 776.503 109.186 779.721 Q106.038 782.938 100.807 782.938 Q94.8113 782.938 91.6401 778.355 Q88.4688 773.748 88.4688 765.022 Q88.4688 756.827 92.3576 751.966 Q96.2465 747.082 102.797 747.082 Q104.557 747.082 106.339 747.429 Q108.145 747.776 110.089 748.471 Z\" fill=\"#000000\" fill-rule=\"evenodd\" fill-opacity=\"1\" /><path clip-path=\"url(#clip200)\" d=\"M 0 0 M63.5152 449.316 Q59.9041 449.316 58.0754 452.88 Q56.2699 456.422 56.2699 463.552 Q56.2699 470.658 58.0754 474.223 Q59.9041 477.764 63.5152 477.764 Q67.1494 477.764 68.955 474.223 Q70.7837 470.658 70.7837 463.552 Q70.7837 456.422 68.955 452.88 Q67.1494 449.316 63.5152 449.316 M63.5152 445.612 Q69.3254 445.612 72.3809 450.218 Q75.4596 454.802 75.4596 463.552 Q75.4596 472.278 72.3809 476.885 Q69.3254 481.468 63.5152 481.468 Q57.7051 481.468 54.6264 476.885 Q51.5708 472.278 51.5708 463.552 Q51.5708 454.802 54.6264 450.218 Q57.7051 445.612 63.5152 445.612 Z\" fill=\"#000000\" fill-rule=\"evenodd\" fill-opacity=\"1\" /><path clip-path=\"url(#clip200)\" d=\"M 0 0 M80.529 474.917 L85.4132 474.917 L85.4132 480.797 L80.529 480.797 L80.529 474.917 Z\" fill=\"#000000\" fill-rule=\"evenodd\" fill-opacity=\"1\" /><path clip-path=\"url(#clip200)\" d=\"M 0 0 M100.483 464.385 Q97.1493 464.385 95.228 466.167 Q93.3299 467.95 93.3299 471.075 Q93.3299 474.2 95.228 475.982 Q97.1493 477.764 100.483 477.764 Q103.816 477.764 105.737 475.982 Q107.658 474.177 107.658 471.075 Q107.658 467.95 105.737 466.167 Q103.839 464.385 100.483 464.385 M95.8067 462.394 Q92.7975 461.653 91.1077 459.593 Q89.441 457.533 89.441 454.57 Q89.441 450.427 92.3808 448.019 Q95.3437 445.612 100.483 445.612 Q105.645 445.612 108.584 448.019 Q111.524 450.427 111.524 454.57 Q111.524 457.533 109.834 459.593 Q108.168 461.653 105.182 462.394 Q108.561 463.181 110.436 465.473 Q112.334 467.765 112.334 471.075 Q112.334 476.098 109.256 478.783 Q106.2 481.468 100.483 481.468 Q94.765 481.468 91.6864 478.783 Q88.6308 476.098 88.6308 471.075 Q88.6308 467.765 90.529 465.473 Q92.4271 463.181 95.8067 462.394 M94.0937 455.01 Q94.0937 457.695 95.7604 459.2 Q97.4502 460.704 100.483 460.704 Q103.492 460.704 105.182 459.2 Q106.895 457.695 106.895 455.01 Q106.895 452.325 105.182 450.82 Q103.492 449.316 100.483 449.316 Q97.4502 449.316 95.7604 450.82 Q94.0937 452.325 94.0937 455.01 Z\" fill=\"#000000\" fill-rule=\"evenodd\" fill-opacity=\"1\" /><path clip-path=\"url(#clip200)\" d=\"M 0 0 M55.4597 175.392 L63.0985 175.392 L63.0985 149.026 L54.7884 150.693 L54.7884 146.434 L63.0522 144.767 L67.7281 144.767 L67.7281 175.392 L75.367 175.392 L75.367 179.327 L55.4597 179.327 L55.4597 175.392 Z\" fill=\"#000000\" fill-rule=\"evenodd\" fill-opacity=\"1\" /><path clip-path=\"url(#clip200)\" d=\"M 0 0 M80.4364 173.447 L85.3206 173.447 L85.3206 179.327 L80.4364 179.327 L80.4364 173.447 Z\" fill=\"#000000\" fill-rule=\"evenodd\" fill-opacity=\"1\" /><path clip-path=\"url(#clip200)\" d=\"M 0 0 M100.39 147.846 Q96.7789 147.846 94.9502 151.41 Q93.1447 154.952 93.1447 162.082 Q93.1447 169.188 94.9502 172.753 Q96.7789 176.295 100.39 176.295 Q104.024 176.295 105.83 172.753 Q107.658 169.188 107.658 162.082 Q107.658 154.952 105.83 151.41 Q104.024 147.846 100.39 147.846 M100.39 144.142 Q106.2 144.142 109.256 148.748 Q112.334 153.332 112.334 162.082 Q112.334 170.808 109.256 175.415 Q106.2 179.998 100.39 179.998 Q94.5799 179.998 91.5012 175.415 Q88.4456 170.808 88.4456 162.082 Q88.4456 153.332 91.5012 148.748 Q94.5799 144.142 100.39 144.142 Z\" fill=\"#000000\" fill-rule=\"evenodd\" fill-opacity=\"1\" /><path clip-path=\"url(#clip200)\" d=\"M 0 0 M837.029 12.096 L875.269 12.096 L875.269 18.9825 L845.212 18.9825 L845.212 36.8875 L874.014 36.8875 L874.014 43.7741 L845.212 43.7741 L845.212 65.6895 L875.999 65.6895 L875.999 72.576 L837.029 72.576 L837.029 12.096 Z\" fill=\"#000000\" fill-rule=\"evenodd\" fill-opacity=\"1\" /><path clip-path=\"url(#clip200)\" d=\"M 0 0 M878.47 27.2059 L886.369 27.2059 L900.547 65.2844 L914.725 27.2059 L922.624 27.2059 L905.611 72.576 L895.483 72.576 L878.47 27.2059 Z\" fill=\"#000000\" fill-rule=\"evenodd\" fill-opacity=\"1\" /><path clip-path=\"url(#clip200)\" d=\"M 0 0 M948.024 32.4315 Q942.028 32.4315 938.545 37.1306 Q935.061 41.7891 935.061 49.9314 Q935.061 58.0738 938.504 62.7728 Q941.988 67.4314 948.024 67.4314 Q953.978 67.4314 957.462 62.7323 Q960.946 58.0333 960.946 49.9314 Q960.946 41.8701 957.462 37.1711 Q953.978 32.4315 948.024 32.4315 M948.024 26.1121 Q957.746 26.1121 963.296 32.4315 Q968.845 38.7509 968.845 49.9314 Q968.845 61.0714 963.296 67.4314 Q957.746 73.7508 948.024 73.7508 Q938.261 73.7508 932.711 67.4314 Q927.202 61.0714 927.202 49.9314 Q927.202 38.7509 932.711 32.4315 Q938.261 26.1121 948.024 26.1121 Z\" fill=\"#000000\" fill-rule=\"evenodd\" fill-opacity=\"1\" /><path clip-path=\"url(#clip200)\" d=\"M 0 0 M976.664 9.54393 L984.117 9.54393 L984.117 72.576 L976.664 72.576 L976.664 9.54393 Z\" fill=\"#000000\" fill-rule=\"evenodd\" fill-opacity=\"1\" /><path clip-path=\"url(#clip200)\" d=\"M 0 0 M991.166 54.671 L991.166 27.2059 L998.619 27.2059 L998.619 54.3874 Q998.619 60.8284 1001.13 64.0691 Q1003.64 67.2693 1008.67 67.2693 Q1014.7 67.2693 1018.19 63.421 Q1021.71 59.5726 1021.71 52.9291 L1021.71 27.2059 L1029.16 27.2059 L1029.16 72.576 L1021.71 72.576 L1021.71 65.6084 Q1019 69.7404 1015.39 71.7658 Q1011.83 73.7508 1007.09 73.7508 Q999.268 73.7508 995.217 68.8897 Q991.166 64.0286 991.166 54.671 M1009.92 26.1121 L1009.92 26.1121 Z\" fill=\"#000000\" fill-rule=\"evenodd\" fill-opacity=\"1\" /><path clip-path=\"url(#clip200)\" d=\"M 0 0 M1069.63 28.9478 L1069.63 35.9153 Q1066.47 34.1734 1063.27 33.3227 Q1060.11 32.4315 1056.87 32.4315 Q1049.62 32.4315 1045.61 37.0496 Q1041.6 41.6271 1041.6 49.9314 Q1041.6 58.2358 1045.61 62.8538 Q1049.62 67.4314 1056.87 67.4314 Q1060.11 67.4314 1063.27 66.5807 Q1066.47 65.6895 1069.63 63.9476 L1069.63 70.8341 Q1066.51 72.2924 1063.15 73.0216 Q1059.83 73.7508 1056.06 73.7508 Q1045.81 73.7508 1039.78 67.3098 Q1033.74 60.8689 1033.74 49.9314 Q1033.74 38.832 1039.82 32.472 Q1045.93 26.1121 1056.55 26.1121 Q1059.99 26.1121 1063.27 26.8413 Q1066.55 27.5299 1069.63 28.9478 Z\" fill=\"#000000\" fill-rule=\"evenodd\" fill-opacity=\"1\" /><path clip-path=\"url(#clip200)\" d=\"M 0 0 M1077.45 27.2059 L1084.9 27.2059 L1084.9 72.576 L1077.45 72.576 L1077.45 27.2059 M1077.45 9.54393 L1084.9 9.54393 L1084.9 18.9825 L1077.45 18.9825 L1077.45 9.54393 Z\" fill=\"#000000\" fill-rule=\"evenodd\" fill-opacity=\"1\" /><path clip-path=\"url(#clip200)\" d=\"M 0 0 M1110.3 32.4315 Q1104.31 32.4315 1100.82 37.1306 Q1097.34 41.7891 1097.34 49.9314 Q1097.34 58.0738 1100.78 62.7728 Q1104.27 67.4314 1110.3 67.4314 Q1116.26 67.4314 1119.74 62.7323 Q1123.23 58.0333 1123.23 49.9314 Q1123.23 41.8701 1119.74 37.1711 Q1116.26 32.4315 1110.3 32.4315 M1110.3 26.1121 Q1120.03 26.1121 1125.57 32.4315 Q1131.12 38.7509 1131.12 49.9314 Q1131.12 61.0714 1125.57 67.4314 Q1120.03 73.7508 1110.3 73.7508 Q1100.54 73.7508 1094.99 67.4314 Q1089.48 61.0714 1089.48 49.9314 Q1089.48 38.7509 1094.99 32.4315 Q1100.54 26.1121 1110.3 26.1121 M1115.93 6.22219 L1123.99 6.22219 L1110.79 21.4536 L1104.59 21.4536 L1115.93 6.22219 Z\" fill=\"#000000\" fill-rule=\"evenodd\" fill-opacity=\"1\" /><path clip-path=\"url(#clip200)\" d=\"M 0 0 M1176.66 45.1919 L1176.66 72.576 L1169.2 72.576 L1169.2 45.4349 Q1169.2 38.994 1166.69 35.7938 Q1164.18 32.5936 1159.16 32.5936 Q1153.12 32.5936 1149.64 36.4419 Q1146.15 40.2903 1146.15 46.9338 L1146.15 72.576 L1138.66 72.576 L1138.66 27.2059 L1146.15 27.2059 L1146.15 34.2544 Q1148.83 30.163 1152.43 28.1376 Q1156.08 26.1121 1160.82 26.1121 Q1168.64 26.1121 1172.65 30.9732 Q1176.66 35.7938 1176.66 45.1919 Z\" fill=\"#000000\" fill-rule=\"evenodd\" fill-opacity=\"1\" /><path clip-path=\"url(#clip200)\" d=\"M 0 0 M1240.7 34.0924 L1240.7 9.54393 L1248.16 9.54393 L1248.16 72.576 L1240.7 72.576 L1240.7 65.7705 Q1238.35 69.8214 1234.75 71.8063 Q1231.18 73.7508 1226.16 73.7508 Q1217.94 73.7508 1212.75 67.1883 Q1207.61 60.6258 1207.61 49.9314 Q1207.61 39.2371 1212.75 32.6746 Q1217.94 26.1121 1226.16 26.1121 Q1231.18 26.1121 1234.75 28.0971 Q1238.35 30.0415 1240.7 34.0924 M1215.3 49.9314 Q1215.3 58.1548 1218.66 62.8538 Q1222.07 67.5124 1227.98 67.5124 Q1233.9 67.5124 1237.3 62.8538 Q1240.7 58.1548 1240.7 49.9314 Q1240.7 41.7081 1237.3 37.0496 Q1233.9 32.3505 1227.98 32.3505 Q1222.07 32.3505 1218.66 37.0496 Q1215.3 41.7081 1215.3 49.9314 Z\" fill=\"#000000\" fill-rule=\"evenodd\" fill-opacity=\"1\" /><path clip-path=\"url(#clip200)\" d=\"M 0 0 M1294.78 48.0275 L1294.78 51.6733 L1260.51 51.6733 Q1261 59.3701 1265.13 63.421 Q1269.3 67.4314 1276.71 67.4314 Q1281.01 67.4314 1285.02 66.3781 Q1289.07 65.3249 1293.04 63.2184 L1293.04 70.267 Q1289.03 71.9684 1284.82 72.8596 Q1280.6 73.7508 1276.27 73.7508 Q1265.41 73.7508 1259.05 67.4314 Q1252.73 61.1119 1252.73 50.3365 Q1252.73 39.1965 1258.73 32.6746 Q1264.76 26.1121 1274.97 26.1121 Q1284.13 26.1121 1289.43 32.0264 Q1294.78 37.9003 1294.78 48.0275 M1287.33 45.84 Q1287.25 39.7232 1283.88 36.0774 Q1280.56 32.4315 1275.05 32.4315 Q1268.81 32.4315 1265.05 35.9558 Q1261.32 39.4801 1260.75 45.8805 L1287.33 45.84 Z\" fill=\"#000000\" fill-rule=\"evenodd\" fill-opacity=\"1\" /><path clip-path=\"url(#clip200)\" d=\"M 0 0 M1328.97 9.54393 L1336.42 9.54393 L1336.42 72.576 L1328.97 72.576 L1328.97 9.54393 Z\" fill=\"#000000\" fill-rule=\"evenodd\" fill-opacity=\"1\" /><path clip-path=\"url(#clip200)\" d=\"M 0 0 M1364.86 49.7694 Q1355.83 49.7694 1352.34 51.8354 Q1348.86 53.9013 1348.86 58.8839 Q1348.86 62.8538 1351.45 65.2034 Q1354.09 67.5124 1358.58 67.5124 Q1364.78 67.5124 1368.51 63.1374 Q1372.27 58.7219 1372.27 51.4303 L1372.27 49.7694 L1364.86 49.7694 M1379.73 46.6907 L1379.73 72.576 L1372.27 72.576 L1372.27 65.6895 Q1369.72 69.8214 1365.91 71.8063 Q1362.11 73.7508 1356.6 73.7508 Q1349.63 73.7508 1345.5 69.8619 Q1341.41 65.9325 1341.41 59.3701 Q1341.41 51.7138 1346.51 47.825 Q1351.66 43.9361 1361.82 43.9361 L1372.27 43.9361 L1372.27 43.2069 Q1372.27 38.0623 1368.87 35.2672 Q1365.51 32.4315 1359.39 32.4315 Q1355.5 32.4315 1351.82 33.3632 Q1348.13 34.295 1344.73 36.1584 L1344.73 29.2718 Q1348.82 27.692 1352.67 26.9223 Q1356.52 26.1121 1360.16 26.1121 Q1370.01 26.1121 1374.87 31.2163 Q1379.73 36.3204 1379.73 46.6907 Z\" fill=\"#000000\" fill-rule=\"evenodd\" fill-opacity=\"1\" /><path clip-path=\"url(#clip200)\" d=\"M 0 0 M1434.54 49.7694 Q1425.5 49.7694 1422.02 51.8354 Q1418.54 53.9013 1418.54 58.8839 Q1418.54 62.8538 1421.13 65.2034 Q1423.76 67.5124 1428.26 67.5124 Q1434.46 67.5124 1438.18 63.1374 Q1441.95 58.7219 1441.95 51.4303 L1441.95 49.7694 L1434.54 49.7694 M1449.4 46.6907 L1449.4 72.576 L1441.95 72.576 L1441.95 65.6895 Q1439.4 69.8214 1435.59 71.8063 Q1431.78 73.7508 1426.27 73.7508 Q1419.31 73.7508 1415.17 69.8619 Q1411.08 65.9325 1411.08 59.3701 Q1411.08 51.7138 1416.19 47.825 Q1421.33 43.9361 1431.5 43.9361 L1441.95 43.9361 L1441.95 43.2069 Q1441.95 38.0623 1438.55 35.2672 Q1435.19 32.4315 1429.07 32.4315 Q1425.18 32.4315 1421.49 33.3632 Q1417.81 34.295 1414.4 36.1584 L1414.4 29.2718 Q1418.5 27.692 1422.34 26.9223 Q1426.19 26.1121 1429.84 26.1121 Q1439.68 26.1121 1444.54 31.2163 Q1449.4 36.3204 1449.4 46.6907 Z\" fill=\"#000000\" fill-rule=\"evenodd\" fill-opacity=\"1\" /><path clip-path=\"url(#clip200)\" d=\"M 0 0 M1464.43 65.7705 L1464.43 89.8329 L1456.94 89.8329 L1456.94 27.2059 L1464.43 27.2059 L1464.43 34.0924 Q1466.78 30.0415 1470.35 28.0971 Q1473.95 26.1121 1478.94 26.1121 Q1487.2 26.1121 1492.34 32.6746 Q1497.53 39.2371 1497.53 49.9314 Q1497.53 60.6258 1492.34 67.1883 Q1487.2 73.7508 1478.94 73.7508 Q1473.95 73.7508 1470.35 71.8063 Q1466.78 69.8214 1464.43 65.7705 M1489.79 49.9314 Q1489.79 41.7081 1486.39 37.0496 Q1483.03 32.3505 1477.11 32.3505 Q1471.2 32.3505 1467.8 37.0496 Q1464.43 41.7081 1464.43 49.9314 Q1464.43 58.1548 1467.8 62.8538 Q1471.2 67.5124 1477.11 67.5124 Q1483.03 67.5124 1486.39 62.8538 Q1489.79 58.1548 1489.79 49.9314 Z\" fill=\"#000000\" fill-rule=\"evenodd\" fill-opacity=\"1\" /><path clip-path=\"url(#clip200)\" d=\"M 0 0 M1512.72 14.324 L1512.72 27.2059 L1528.07 27.2059 L1528.07 32.9987 L1512.72 32.9987 L1512.72 57.6282 Q1512.72 63.1779 1514.22 64.7578 Q1515.76 66.3376 1520.42 66.3376 L1528.07 66.3376 L1528.07 72.576 L1520.42 72.576 Q1511.79 72.576 1508.51 69.3758 Q1505.23 66.1351 1505.23 57.6282 L1505.23 32.9987 L1499.76 32.9987 L1499.76 27.2059 L1505.23 27.2059 L1505.23 14.324 L1512.72 14.324 Z\" fill=\"#000000\" fill-rule=\"evenodd\" fill-opacity=\"1\" /><path clip-path=\"url(#clip200)\" d=\"M 0 0 M1535.89 27.2059 L1543.34 27.2059 L1543.34 72.576 L1535.89 72.576 L1535.89 27.2059 M1535.89 9.54393 L1543.34 9.54393 L1543.34 18.9825 L1535.89 18.9825 L1535.89 9.54393 Z\" fill=\"#000000\" fill-rule=\"evenodd\" fill-opacity=\"1\" /><path clip-path=\"url(#clip200)\" d=\"M 0 0 M1558.54 14.324 L1558.54 27.2059 L1573.89 27.2059 L1573.89 32.9987 L1558.54 32.9987 L1558.54 57.6282 Q1558.54 63.1779 1560.03 64.7578 Q1561.57 66.3376 1566.23 66.3376 L1573.89 66.3376 L1573.89 72.576 L1566.23 72.576 Q1557.6 72.576 1554.32 69.3758 Q1551.04 66.1351 1551.04 57.6282 L1551.04 32.9987 L1545.57 32.9987 L1545.57 27.2059 L1551.04 27.2059 L1551.04 14.324 L1558.54 14.324 Z\" fill=\"#000000\" fill-rule=\"evenodd\" fill-opacity=\"1\" /><path clip-path=\"url(#clip200)\" d=\"M 0 0 M1580.94 54.671 L1580.94 27.2059 L1588.39 27.2059 L1588.39 54.3874 Q1588.39 60.8284 1590.9 64.0691 Q1593.41 67.2693 1598.44 67.2693 Q1604.47 67.2693 1607.96 63.421 Q1611.48 59.5726 1611.48 52.9291 L1611.48 27.2059 L1618.93 27.2059 L1618.93 72.576 L1611.48 72.576 L1611.48 65.6084 Q1608.77 69.7404 1605.16 71.7658 Q1601.6 73.7508 1596.86 73.7508 Q1589.04 73.7508 1584.99 68.8897 Q1580.94 64.0286 1580.94 54.671 M1599.69 26.1121 L1599.69 26.1121 Z\" fill=\"#000000\" fill-rule=\"evenodd\" fill-opacity=\"1\" /><path clip-path=\"url(#clip200)\" d=\"M 0 0 M1656.61 34.0924 L1656.61 9.54393 L1664.06 9.54393 L1664.06 72.576 L1656.61 72.576 L1656.61 65.7705 Q1654.26 69.8214 1650.65 71.8063 Q1647.09 73.7508 1642.07 73.7508 Q1633.84 73.7508 1628.66 67.1883 Q1623.51 60.6258 1623.51 49.9314 Q1623.51 39.2371 1628.66 32.6746 Q1633.84 26.1121 1642.07 26.1121 Q1647.09 26.1121 1650.65 28.0971 Q1654.26 30.0415 1656.61 34.0924 M1631.21 49.9314 Q1631.21 58.1548 1634.57 62.8538 Q1637.97 67.5124 1643.89 67.5124 Q1649.8 67.5124 1653.21 62.8538 Q1656.61 58.1548 1656.61 49.9314 Q1656.61 41.7081 1653.21 37.0496 Q1649.8 32.3505 1643.89 32.3505 Q1637.97 32.3505 1634.57 37.0496 Q1631.21 41.7081 1631.21 49.9314 Z\" fill=\"#000000\" fill-rule=\"evenodd\" fill-opacity=\"1\" /><polyline clip-path=\"url(#clip202)\" style=\"stroke:#009af9; stroke-width:4; stroke-opacity:1; fill:none\" points=\"\n",
       "  210.724,915.722 253.165,915.722 295.607,915.722 338.049,162.047 380.49,162.047 422.932,162.047 465.374,162.047 507.816,162.047 550.257,915.722 592.699,915.722 \n",
       "  635.141,162.047 677.582,915.722 720.024,162.047 762.466,915.722 804.907,1166.95 847.349,162.047 889.791,915.722 932.232,162.047 974.674,915.722 1017.12,915.722 \n",
       "  1059.56,915.722 1102,162.047 1144.44,162.047 1186.88,915.722 1229.32,915.722 1271.77,162.047 1314.21,915.722 1356.65,915.722 1399.09,1166.95 1441.53,915.722 \n",
       "  1483.97,162.047 1526.42,915.722 1568.86,915.722 1611.3,915.722 1653.74,915.722 1696.18,915.722 1738.62,915.722 1781.07,915.722 1823.51,162.047 1865.95,162.047 \n",
       "  1908.39,915.722 1950.83,162.047 1993.27,915.722 2035.72,1166.95 2078.16,162.047 2120.6,915.722 2163.04,915.722 2205.48,915.722 2247.92,162.047 \n",
       "  \"/>\n",
       "<polyline clip-path=\"url(#clip202)\" style=\"stroke:#e26f46; stroke-width:4; stroke-opacity:1; fill:none\" points=\"\n",
       "  210.724,1375.15 253.165,1371.76 295.607,1369.07 338.049,1387.54 380.49,1398.3 422.932,1390.09 465.374,1376.82 507.816,1338.07 550.257,1407.15 592.699,1415.31 \n",
       "  635.141,1394.62 677.582,1418.22 720.024,1389.91 762.466,1384.38 804.907,1431.61 847.349,1393.25 889.791,1422.51 932.232,1402.39 974.674,1425.2 1017.12,1407.06 \n",
       "  1059.56,1405.45 1102,1390.17 1144.44,1399.44 1186.88,1409.83 1229.32,1435.22 1271.77,1425.77 1314.21,1425.13 1356.65,1409.85 1399.09,1425.9 1441.53,1422.95 \n",
       "  1483.97,1410.7 1526.42,1407.27 1568.86,1404.38 1611.3,1381.08 1653.74,1409.45 1696.18,1401.66 1738.62,1359.45 1781.07,1426.16 1823.51,1393.9 1865.95,1396.54 \n",
       "  1908.39,1388.98 1950.83,1411.52 1993.27,1429.46 2035.72,1410.72 2078.16,1399.63 2120.6,1447.87 2163.04,1422.22 2205.48,1430.21 2247.92,1409.6 \n",
       "  \"/>\n",
       "<path clip-path=\"url(#clip200)\" d=\"\n",
       "M1662.86 350.345 L2279.28 350.345 L2279.28 168.905 L1662.86 168.905  Z\n",
       "  \" fill=\"#ffffff\" fill-rule=\"evenodd\" fill-opacity=\"1\"/>\n",
       "<polyline clip-path=\"url(#clip200)\" style=\"stroke:#000000; stroke-width:4; stroke-opacity:1; fill:none\" points=\"\n",
       "  1662.86,350.345 2279.28,350.345 2279.28,168.905 1662.86,168.905 1662.86,350.345 \n",
       "  \"/>\n",
       "<polyline clip-path=\"url(#clip200)\" style=\"stroke:#009af9; stroke-width:4; stroke-opacity:1; fill:none\" points=\"\n",
       "  1687.35,229.385 1834.31,229.385 \n",
       "  \"/>\n",
       "<path clip-path=\"url(#clip200)\" d=\"M 0 0 M1858.81 212.105 L1865.78 212.105 L1874.6 235.623 L1883.46 212.105 L1890.43 212.105 L1890.43 246.665 L1885.87 246.665 L1885.87 216.318 L1876.96 240.021 L1872.26 240.021 L1863.35 216.318 L1863.35 246.665 L1858.81 246.665 L1858.81 212.105 Z\" fill=\"#000000\" fill-rule=\"evenodd\" fill-opacity=\"1\" /><path clip-path=\"url(#clip200)\" d=\"M 0 0 M1917.07 232.637 L1917.07 234.72 L1897.49 234.72 Q1897.77 239.118 1900.13 241.433 Q1902.51 243.725 1906.75 243.725 Q1909.2 243.725 1911.49 243.123 Q1913.81 242.521 1916.08 241.317 L1916.08 245.345 Q1913.79 246.317 1911.38 246.827 Q1908.97 247.336 1906.49 247.336 Q1900.29 247.336 1896.66 243.725 Q1893.04 240.114 1893.04 233.956 Q1893.04 227.591 1896.47 223.864 Q1899.92 220.114 1905.75 220.114 Q1910.98 220.114 1914.02 223.493 Q1917.07 226.85 1917.07 232.637 M1912.81 231.387 Q1912.77 227.892 1910.85 225.808 Q1908.95 223.725 1905.8 223.725 Q1902.23 223.725 1900.08 225.739 Q1897.95 227.753 1897.63 231.41 L1912.81 231.387 Z\" fill=\"#000000\" fill-rule=\"evenodd\" fill-opacity=\"1\" /><path clip-path=\"url(#clip200)\" d=\"M 0 0 M1921.54 220.739 L1925.8 220.739 L1925.8 247.128 Q1925.8 252.081 1923.9 254.303 Q1922.03 256.526 1917.84 256.526 L1916.22 256.526 L1916.22 252.915 L1917.35 252.915 Q1919.78 252.915 1920.66 251.78 Q1921.54 250.669 1921.54 247.128 L1921.54 220.739 M1921.54 210.646 L1925.8 210.646 L1925.8 216.04 L1921.54 216.04 L1921.54 210.646 Z\" fill=\"#000000\" fill-rule=\"evenodd\" fill-opacity=\"1\" /><path clip-path=\"url(#clip200)\" d=\"M 0 0 M1940.31 223.725 Q1936.89 223.725 1934.9 226.41 Q1932.91 229.072 1932.91 233.725 Q1932.91 238.378 1934.87 241.063 Q1936.86 243.725 1940.31 243.725 Q1943.72 243.725 1945.71 241.04 Q1947.7 238.355 1947.7 233.725 Q1947.7 229.118 1945.71 226.433 Q1943.72 223.725 1940.31 223.725 M1940.31 220.114 Q1945.87 220.114 1949.04 223.725 Q1952.21 227.336 1952.21 233.725 Q1952.21 240.091 1949.04 243.725 Q1945.87 247.336 1940.31 247.336 Q1934.73 247.336 1931.56 243.725 Q1928.41 240.091 1928.41 233.725 Q1928.41 227.336 1931.56 223.725 Q1934.73 220.114 1940.31 220.114 Z\" fill=\"#000000\" fill-rule=\"evenodd\" fill-opacity=\"1\" /><path clip-path=\"url(#clip200)\" d=\"M 0 0 M1971.7 224.72 Q1970.98 224.304 1970.13 224.118 Q1969.29 223.91 1968.28 223.91 Q1964.66 223.91 1962.72 226.271 Q1960.8 228.609 1960.8 233.007 L1960.8 246.665 L1956.52 246.665 L1956.52 220.739 L1960.8 220.739 L1960.8 224.767 Q1962.14 222.406 1964.29 221.271 Q1966.45 220.114 1969.53 220.114 Q1969.97 220.114 1970.5 220.183 Q1971.03 220.23 1971.68 220.345 L1971.7 224.72 Z\" fill=\"#000000\" fill-rule=\"evenodd\" fill-opacity=\"1\" /><path clip-path=\"url(#clip200)\" d=\"M 0 0 M2003.02 233.632 Q1997.86 233.632 1995.87 234.813 Q1993.88 235.993 1993.88 238.841 Q1993.88 241.109 1995.36 242.452 Q1996.86 243.771 1999.43 243.771 Q2002.97 243.771 2005.1 241.271 Q2007.26 238.748 2007.26 234.581 L2007.26 233.632 L2003.02 233.632 M2011.52 231.873 L2011.52 246.665 L2007.26 246.665 L2007.26 242.729 Q2005.8 245.091 2003.62 246.225 Q2001.45 247.336 1998.3 247.336 Q1994.32 247.336 1991.96 245.114 Q1989.62 242.868 1989.62 239.118 Q1989.62 234.743 1992.53 232.521 Q1995.47 230.299 2001.28 230.299 L2007.26 230.299 L2007.26 229.882 Q2007.26 226.943 2005.31 225.345 Q2003.39 223.725 1999.9 223.725 Q1997.67 223.725 1995.57 224.257 Q1993.46 224.79 1991.52 225.855 L1991.52 221.919 Q1993.85 221.017 1996.05 220.577 Q1998.25 220.114 2000.34 220.114 Q2005.96 220.114 2008.74 223.031 Q2011.52 225.947 2011.52 231.873 Z\" fill=\"#000000\" fill-rule=\"evenodd\" fill-opacity=\"1\" /><path clip-path=\"url(#clip200)\" d=\"M 0 0 M2020.1 242.776 L2020.1 256.526 L2015.82 256.526 L2015.82 220.739 L2020.1 220.739 L2020.1 224.674 Q2021.45 222.359 2023.48 221.248 Q2025.54 220.114 2028.39 220.114 Q2033.11 220.114 2036.05 223.864 Q2039.02 227.614 2039.02 233.725 Q2039.02 239.836 2036.05 243.586 Q2033.11 247.336 2028.39 247.336 Q2025.54 247.336 2023.48 246.225 Q2021.45 245.091 2020.1 242.776 M2034.59 233.725 Q2034.59 229.026 2032.65 226.364 Q2030.73 223.679 2027.35 223.679 Q2023.97 223.679 2022.03 226.364 Q2020.1 229.026 2020.1 233.725 Q2020.1 238.424 2022.03 241.109 Q2023.97 243.771 2027.35 243.771 Q2030.73 243.771 2032.65 241.109 Q2034.59 238.424 2034.59 233.725 Z\" fill=\"#000000\" fill-rule=\"evenodd\" fill-opacity=\"1\" /><path clip-path=\"url(#clip200)\" d=\"M 0 0 M2047.7 213.378 L2047.7 220.739 L2056.47 220.739 L2056.47 224.049 L2047.7 224.049 L2047.7 238.123 Q2047.7 241.294 2048.55 242.197 Q2049.43 243.1 2052.09 243.1 L2056.47 243.1 L2056.47 246.665 L2052.09 246.665 Q2047.16 246.665 2045.29 244.836 Q2043.41 242.984 2043.41 238.123 L2043.41 224.049 L2040.29 224.049 L2040.29 220.739 L2043.41 220.739 L2043.41 213.378 L2047.7 213.378 Z\" fill=\"#000000\" fill-rule=\"evenodd\" fill-opacity=\"1\" /><path clip-path=\"url(#clip200)\" d=\"M 0 0 M2060.94 220.739 L2065.2 220.739 L2065.2 246.665 L2060.94 246.665 L2060.94 220.739 M2060.94 210.646 L2065.2 210.646 L2065.2 216.04 L2060.94 216.04 L2060.94 210.646 Z\" fill=\"#000000\" fill-rule=\"evenodd\" fill-opacity=\"1\" /><path clip-path=\"url(#clip200)\" d=\"M 0 0 M2073.88 213.378 L2073.88 220.739 L2082.65 220.739 L2082.65 224.049 L2073.88 224.049 L2073.88 238.123 Q2073.88 241.294 2074.73 242.197 Q2075.61 243.1 2078.27 243.1 L2082.65 243.1 L2082.65 246.665 L2078.27 246.665 Q2073.34 246.665 2071.47 244.836 Q2069.59 242.984 2069.59 238.123 L2069.59 224.049 L2066.47 224.049 L2066.47 220.739 L2069.59 220.739 L2069.59 213.378 L2073.88 213.378 Z\" fill=\"#000000\" fill-rule=\"evenodd\" fill-opacity=\"1\" /><path clip-path=\"url(#clip200)\" d=\"M 0 0 M2086.68 236.433 L2086.68 220.739 L2090.94 220.739 L2090.94 236.271 Q2090.94 239.952 2092.37 241.804 Q2093.81 243.632 2096.68 243.632 Q2100.13 243.632 2102.12 241.433 Q2104.13 239.234 2104.13 235.438 L2104.13 220.739 L2108.39 220.739 L2108.39 246.665 L2104.13 246.665 L2104.13 242.683 Q2102.58 245.044 2100.52 246.202 Q2098.48 247.336 2095.77 247.336 Q2091.31 247.336 2088.99 244.558 Q2086.68 241.78 2086.68 236.433 M2097.4 220.114 L2097.4 220.114 Z\" fill=\"#000000\" fill-rule=\"evenodd\" fill-opacity=\"1\" /><path clip-path=\"url(#clip200)\" d=\"M 0 0 M2129.92 224.674 L2129.92 210.646 L2134.18 210.646 L2134.18 246.665 L2129.92 246.665 L2129.92 242.776 Q2128.58 245.091 2126.52 246.225 Q2124.48 247.336 2121.61 247.336 Q2116.91 247.336 2113.95 243.586 Q2111.01 239.836 2111.01 233.725 Q2111.01 227.614 2113.95 223.864 Q2116.91 220.114 2121.61 220.114 Q2124.48 220.114 2126.52 221.248 Q2128.58 222.359 2129.92 224.674 M2115.4 233.725 Q2115.4 238.424 2117.33 241.109 Q2119.27 243.771 2122.65 243.771 Q2126.03 243.771 2127.97 241.109 Q2129.92 238.424 2129.92 233.725 Q2129.92 229.026 2127.97 226.364 Q2126.03 223.679 2122.65 223.679 Q2119.27 223.679 2117.33 226.364 Q2115.4 229.026 2115.4 233.725 Z\" fill=\"#000000\" fill-rule=\"evenodd\" fill-opacity=\"1\" /><polyline clip-path=\"url(#clip200)\" style=\"stroke:#e26f46; stroke-width:4; stroke-opacity:1; fill:none\" points=\"\n",
       "  1687.35,289.865 1834.31,289.865 \n",
       "  \"/>\n",
       "<path clip-path=\"url(#clip200)\" d=\"M 0 0 M1874.64 277.191 L1868.3 294.39 L1881.01 294.39 L1874.64 277.191 M1872 272.585 L1877.3 272.585 L1890.48 307.145 L1885.61 307.145 L1882.47 298.279 L1866.89 298.279 L1863.74 307.145 L1858.81 307.145 L1872 272.585 Z\" fill=\"#000000\" fill-rule=\"evenodd\" fill-opacity=\"1\" /><path clip-path=\"url(#clip200)\" d=\"M 0 0 M1899.06 303.256 L1899.06 317.006 L1894.78 317.006 L1894.78 281.219 L1899.06 281.219 L1899.06 285.154 Q1900.41 282.839 1902.44 281.728 Q1904.5 280.594 1907.35 280.594 Q1912.07 280.594 1915.01 284.344 Q1917.97 288.094 1917.97 294.205 Q1917.97 300.316 1915.01 304.066 Q1912.07 307.816 1907.35 307.816 Q1904.5 307.816 1902.44 306.705 Q1900.41 305.571 1899.06 303.256 M1913.55 294.205 Q1913.55 289.506 1911.61 286.844 Q1909.69 284.159 1906.31 284.159 Q1902.93 284.159 1900.98 286.844 Q1899.06 289.506 1899.06 294.205 Q1899.06 298.904 1900.98 301.589 Q1902.93 304.251 1906.31 304.251 Q1909.69 304.251 1911.61 301.589 Q1913.55 298.904 1913.55 294.205 Z\" fill=\"#000000\" fill-rule=\"evenodd\" fill-opacity=\"1\" /><path clip-path=\"url(#clip200)\" d=\"M 0 0 M1926.66 273.858 L1926.66 281.219 L1935.43 281.219 L1935.43 284.529 L1926.66 284.529 L1926.66 298.603 Q1926.66 301.774 1927.51 302.677 Q1928.39 303.58 1931.05 303.58 L1935.43 303.58 L1935.43 307.145 L1931.05 307.145 Q1926.12 307.145 1924.25 305.316 Q1922.37 303.464 1922.37 298.603 L1922.37 284.529 L1919.25 284.529 L1919.25 281.219 L1922.37 281.219 L1922.37 273.858 L1926.66 273.858 Z\" fill=\"#000000\" fill-rule=\"evenodd\" fill-opacity=\"1\" /><path clip-path=\"url(#clip200)\" d=\"M 0 0 M1939.9 281.219 L1944.16 281.219 L1944.16 307.145 L1939.9 307.145 L1939.9 281.219 M1939.9 271.126 L1944.16 271.126 L1944.16 276.52 L1939.9 276.52 L1939.9 271.126 Z\" fill=\"#000000\" fill-rule=\"evenodd\" fill-opacity=\"1\" /><path clip-path=\"url(#clip200)\" d=\"M 0 0 M1952.84 273.858 L1952.84 281.219 L1961.61 281.219 L1961.61 284.529 L1952.84 284.529 L1952.84 298.603 Q1952.84 301.774 1953.69 302.677 Q1954.57 303.58 1957.23 303.58 L1961.61 303.58 L1961.61 307.145 L1957.23 307.145 Q1952.3 307.145 1950.43 305.316 Q1948.55 303.464 1948.55 298.603 L1948.55 284.529 L1945.43 284.529 L1945.43 281.219 L1948.55 281.219 L1948.55 273.858 L1952.84 273.858 Z\" fill=\"#000000\" fill-rule=\"evenodd\" fill-opacity=\"1\" /><path clip-path=\"url(#clip200)\" d=\"M 0 0 M1965.64 296.913 L1965.64 281.219 L1969.9 281.219 L1969.9 296.751 Q1969.9 300.432 1971.33 302.284 Q1972.77 304.112 1975.64 304.112 Q1979.09 304.112 1981.08 301.913 Q1983.09 299.714 1983.09 295.918 L1983.09 281.219 L1987.35 281.219 L1987.35 307.145 L1983.09 307.145 L1983.09 303.163 Q1981.54 305.524 1979.48 306.682 Q1977.44 307.816 1974.73 307.816 Q1970.27 307.816 1967.95 305.038 Q1965.64 302.26 1965.64 296.913 M1976.35 280.594 L1976.35 280.594 Z\" fill=\"#000000\" fill-rule=\"evenodd\" fill-opacity=\"1\" /><path clip-path=\"url(#clip200)\" d=\"M 0 0 M2008.88 285.154 L2008.88 271.126 L2013.14 271.126 L2013.14 307.145 L2008.88 307.145 L2008.88 303.256 Q2007.53 305.571 2005.47 306.705 Q2003.44 307.816 2000.57 307.816 Q1995.87 307.816 1992.91 304.066 Q1989.97 300.316 1989.97 294.205 Q1989.97 288.094 1992.91 284.344 Q1995.87 280.594 2000.57 280.594 Q2003.44 280.594 2005.47 281.728 Q2007.53 282.839 2008.88 285.154 M1994.36 294.205 Q1994.36 298.904 1996.28 301.589 Q1998.23 304.251 2001.61 304.251 Q2004.99 304.251 2006.93 301.589 Q2008.88 298.904 2008.88 294.205 Q2008.88 289.506 2006.93 286.844 Q2004.99 284.159 2001.61 284.159 Q1998.23 284.159 1996.28 286.844 Q1994.36 289.506 1994.36 294.205 Z\" fill=\"#000000\" fill-rule=\"evenodd\" fill-opacity=\"1\" /><path clip-path=\"url(#clip200)\" d=\"M 0 0 M2036.79 303.256 L2036.79 317.006 L2032.51 317.006 L2032.51 281.219 L2036.79 281.219 L2036.79 285.154 Q2038.14 282.839 2040.17 281.728 Q2042.23 280.594 2045.08 280.594 Q2049.8 280.594 2052.74 284.344 Q2055.71 288.094 2055.71 294.205 Q2055.71 300.316 2052.74 304.066 Q2049.8 307.816 2045.08 307.816 Q2042.23 307.816 2040.17 306.705 Q2038.14 305.571 2036.79 303.256 M2051.28 294.205 Q2051.28 289.506 2049.34 286.844 Q2047.42 284.159 2044.04 284.159 Q2040.66 284.159 2038.71 286.844 Q2036.79 289.506 2036.79 294.205 Q2036.79 298.904 2038.71 301.589 Q2040.66 304.251 2044.04 304.251 Q2047.42 304.251 2049.34 301.589 Q2051.28 298.904 2051.28 294.205 Z\" fill=\"#000000\" fill-rule=\"evenodd\" fill-opacity=\"1\" /><path clip-path=\"url(#clip200)\" d=\"M 0 0 M2075.2 285.2 Q2074.48 284.784 2073.62 284.598 Q2072.79 284.39 2071.77 284.39 Q2068.16 284.39 2066.21 286.751 Q2064.29 289.089 2064.29 293.487 L2064.29 307.145 L2060.01 307.145 L2060.01 281.219 L2064.29 281.219 L2064.29 285.247 Q2065.64 282.886 2067.79 281.751 Q2069.94 280.594 2073.02 280.594 Q2073.46 280.594 2073.99 280.663 Q2074.52 280.71 2075.17 280.825 L2075.2 285.2 Z\" fill=\"#000000\" fill-rule=\"evenodd\" fill-opacity=\"1\" /><path clip-path=\"url(#clip200)\" d=\"M 0 0 M2088.67 284.205 Q2085.24 284.205 2083.25 286.89 Q2081.26 289.552 2081.26 294.205 Q2081.26 298.858 2083.23 301.543 Q2085.22 304.205 2088.67 304.205 Q2092.07 304.205 2094.06 301.52 Q2096.05 298.835 2096.05 294.205 Q2096.05 289.598 2094.06 286.913 Q2092.07 284.205 2088.67 284.205 M2088.67 280.594 Q2094.22 280.594 2097.4 284.205 Q2100.57 287.816 2100.57 294.205 Q2100.57 300.571 2097.4 304.205 Q2094.22 307.816 2088.67 307.816 Q2083.09 307.816 2079.92 304.205 Q2076.77 300.571 2076.77 294.205 Q2076.77 287.816 2079.92 284.205 Q2083.09 280.594 2088.67 280.594 Z\" fill=\"#000000\" fill-rule=\"evenodd\" fill-opacity=\"1\" /><path clip-path=\"url(#clip200)\" d=\"M 0 0 M2125.22 286.196 Q2126.82 283.325 2129.04 281.96 Q2131.26 280.594 2134.27 280.594 Q2138.32 280.594 2140.52 283.441 Q2142.72 286.265 2142.72 291.497 L2142.72 307.145 L2138.44 307.145 L2138.44 291.635 Q2138.44 287.909 2137.12 286.103 Q2135.8 284.298 2133.09 284.298 Q2129.78 284.298 2127.86 286.497 Q2125.94 288.696 2125.94 292.492 L2125.94 307.145 L2121.65 307.145 L2121.65 291.635 Q2121.65 287.885 2120.33 286.103 Q2119.02 284.298 2116.26 284.298 Q2113 284.298 2111.08 286.52 Q2109.15 288.719 2109.15 292.492 L2109.15 307.145 L2104.87 307.145 L2104.87 281.219 L2109.15 281.219 L2109.15 285.247 Q2110.61 282.862 2112.65 281.728 Q2114.69 280.594 2117.49 280.594 Q2120.31 280.594 2122.28 282.029 Q2124.27 283.464 2125.22 286.196 Z\" fill=\"#000000\" fill-rule=\"evenodd\" fill-opacity=\"1\" /><path clip-path=\"url(#clip200)\" d=\"M 0 0 M2169.36 293.117 L2169.36 295.2 L2149.78 295.2 Q2150.06 299.598 2152.42 301.913 Q2154.8 304.205 2159.04 304.205 Q2161.49 304.205 2163.78 303.603 Q2166.1 303.001 2168.37 301.797 L2168.37 305.825 Q2166.08 306.797 2163.67 307.307 Q2161.26 307.816 2158.78 307.816 Q2152.58 307.816 2148.95 304.205 Q2145.33 300.594 2145.33 294.436 Q2145.33 288.071 2148.76 284.344 Q2152.21 280.594 2158.04 280.594 Q2163.27 280.594 2166.31 283.973 Q2169.36 287.33 2169.36 293.117 M2165.1 291.867 Q2165.06 288.372 2163.14 286.288 Q2161.24 284.205 2158.09 284.205 Q2154.52 284.205 2152.37 286.219 Q2150.24 288.233 2149.92 291.89 L2165.1 291.867 Z\" fill=\"#000000\" fill-rule=\"evenodd\" fill-opacity=\"1\" /><path clip-path=\"url(#clip200)\" d=\"M 0 0 M2190.89 285.154 L2190.89 271.126 L2195.15 271.126 L2195.15 307.145 L2190.89 307.145 L2190.89 303.256 Q2189.55 305.571 2187.49 306.705 Q2185.45 307.816 2182.58 307.816 Q2177.88 307.816 2174.92 304.066 Q2171.98 300.316 2171.98 294.205 Q2171.98 288.094 2174.92 284.344 Q2177.88 280.594 2182.58 280.594 Q2185.45 280.594 2187.49 281.728 Q2189.55 282.839 2190.89 285.154 M2176.38 294.205 Q2176.38 298.904 2178.3 301.589 Q2180.24 304.251 2183.62 304.251 Q2187 304.251 2188.95 301.589 Q2190.89 298.904 2190.89 294.205 Q2190.89 289.506 2188.95 286.844 Q2187 284.159 2183.62 284.159 Q2180.24 284.159 2178.3 286.844 Q2176.38 289.506 2176.38 294.205 Z\" fill=\"#000000\" fill-rule=\"evenodd\" fill-opacity=\"1\" /><path clip-path=\"url(#clip200)\" d=\"M 0 0 M2199.62 281.219 L2203.88 281.219 L2203.88 307.145 L2199.62 307.145 L2199.62 281.219 M2199.62 271.126 L2203.88 271.126 L2203.88 276.52 L2199.62 276.52 L2199.62 271.126 Z\" fill=\"#000000\" fill-rule=\"evenodd\" fill-opacity=\"1\" /><path clip-path=\"url(#clip200)\" d=\"M 0 0 M2218.39 284.205 Q2214.96 284.205 2212.97 286.89 Q2210.98 289.552 2210.98 294.205 Q2210.98 298.858 2212.95 301.543 Q2214.94 304.205 2218.39 304.205 Q2221.79 304.205 2223.78 301.52 Q2225.77 298.835 2225.77 294.205 Q2225.77 289.598 2223.78 286.913 Q2221.79 284.205 2218.39 284.205 M2218.39 280.594 Q2223.95 280.594 2227.12 284.205 Q2230.29 287.816 2230.29 294.205 Q2230.29 300.571 2227.12 304.205 Q2223.95 307.816 2218.39 307.816 Q2212.81 307.816 2209.64 304.205 Q2206.49 300.571 2206.49 294.205 Q2206.49 287.816 2209.64 284.205 Q2212.81 280.594 2218.39 280.594 Z\" fill=\"#000000\" fill-rule=\"evenodd\" fill-opacity=\"1\" /></svg>\n"
      ]
     },
     "execution_count": 27,
     "metadata": {},
     "output_type": "execute_result"
    }
   ],
   "source": [
    "q2 = QueenSGA(8, 100, 1.0, 0.8)\n",
    "data = collect_data(q2)\n",
    "plot(data, title=\"Evolución de la aptitud\", label=[\"Mejor aptitud\" \"Aptitud promedio\"])"
   ]
  },
  {
   "cell_type": "markdown",
   "metadata": {},
   "source": [
    "* Con su implementación resuelva el problema para $n=30$ reinas."
   ]
  },
  {
   "cell_type": "code",
   "execution_count": null,
   "metadata": {},
   "outputs": [],
   "source": [
    "q3 = QueenSGA(30, 100, 1.0, 0.8)\n",
    "best = run(q3)\n",
    "print(\"Genotipo: \", best, \"\\n\")\n",
    "print(\"Aptitud: \", apt(best), \"\\n\")\n",
    "print(\"Fenotipo: \")\n",
    "build_board(best)"
   ]
  }
 ],
 "metadata": {
  "kernelspec": {
   "display_name": "Julia 1.5.3",
   "language": "julia",
   "name": "julia-1.5"
  },
  "language_info": {
   "file_extension": ".jl",
   "mimetype": "application/julia",
   "name": "julia",
   "version": "1.5.3"
  }
 },
 "nbformat": 4,
 "nbformat_minor": 4
}
