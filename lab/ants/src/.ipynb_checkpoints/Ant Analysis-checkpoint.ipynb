{
 "cells": [
  {
   "cell_type": "markdown",
   "metadata": {},
   "source": [
    "# Hormigas al borde del caos"
   ]
  },
  {
   "cell_type": "code",
   "execution_count": 1,
   "metadata": {},
   "outputs": [
    {
     "data": {
      "text/html": [
       "\n",
       "    <div class=\"bk-root\">\n",
       "        <a href=\"https://bokeh.org\" target=\"_blank\" class=\"bk-logo bk-logo-small bk-logo-notebook\"></a>\n",
       "        <span id=\"1001\">Loading BokehJS ...</span>\n",
       "    </div>"
      ]
     },
     "metadata": {},
     "output_type": "display_data"
    },
    {
     "data": {
      "application/javascript": [
       "\n",
       "(function(root) {\n",
       "  function now() {\n",
       "    return new Date();\n",
       "  }\n",
       "\n",
       "  var force = true;\n",
       "\n",
       "  if (typeof root._bokeh_onload_callbacks === \"undefined\" || force === true) {\n",
       "    root._bokeh_onload_callbacks = [];\n",
       "    root._bokeh_is_loading = undefined;\n",
       "  }\n",
       "\n",
       "  var JS_MIME_TYPE = 'application/javascript';\n",
       "  var HTML_MIME_TYPE = 'text/html';\n",
       "  var EXEC_MIME_TYPE = 'application/vnd.bokehjs_exec.v0+json';\n",
       "  var CLASS_NAME = 'output_bokeh rendered_html';\n",
       "\n",
       "  /**\n",
       "   * Render data to the DOM node\n",
       "   */\n",
       "  function render(props, node) {\n",
       "    var script = document.createElement(\"script\");\n",
       "    node.appendChild(script);\n",
       "  }\n",
       "\n",
       "  /**\n",
       "   * Handle when an output is cleared or removed\n",
       "   */\n",
       "  function handleClearOutput(event, handle) {\n",
       "    var cell = handle.cell;\n",
       "\n",
       "    var id = cell.output_area._bokeh_element_id;\n",
       "    var server_id = cell.output_area._bokeh_server_id;\n",
       "    // Clean up Bokeh references\n",
       "    if (id != null && id in Bokeh.index) {\n",
       "      Bokeh.index[id].model.document.clear();\n",
       "      delete Bokeh.index[id];\n",
       "    }\n",
       "\n",
       "    if (server_id !== undefined) {\n",
       "      // Clean up Bokeh references\n",
       "      var cmd = \"from bokeh.io.state import curstate; print(curstate().uuid_to_server['\" + server_id + \"'].get_sessions()[0].document.roots[0]._id)\";\n",
       "      cell.notebook.kernel.execute(cmd, {\n",
       "        iopub: {\n",
       "          output: function(msg) {\n",
       "            var id = msg.content.text.trim();\n",
       "            if (id in Bokeh.index) {\n",
       "              Bokeh.index[id].model.document.clear();\n",
       "              delete Bokeh.index[id];\n",
       "            }\n",
       "          }\n",
       "        }\n",
       "      });\n",
       "      // Destroy server and session\n",
       "      var cmd = \"import bokeh.io.notebook as ion; ion.destroy_server('\" + server_id + \"')\";\n",
       "      cell.notebook.kernel.execute(cmd);\n",
       "    }\n",
       "  }\n",
       "\n",
       "  /**\n",
       "   * Handle when a new output is added\n",
       "   */\n",
       "  function handleAddOutput(event, handle) {\n",
       "    var output_area = handle.output_area;\n",
       "    var output = handle.output;\n",
       "\n",
       "    // limit handleAddOutput to display_data with EXEC_MIME_TYPE content only\n",
       "    if ((output.output_type != \"display_data\") || (!output.data.hasOwnProperty(EXEC_MIME_TYPE))) {\n",
       "      return\n",
       "    }\n",
       "\n",
       "    var toinsert = output_area.element.find(\".\" + CLASS_NAME.split(' ')[0]);\n",
       "\n",
       "    if (output.metadata[EXEC_MIME_TYPE][\"id\"] !== undefined) {\n",
       "      toinsert[toinsert.length - 1].firstChild.textContent = output.data[JS_MIME_TYPE];\n",
       "      // store reference to embed id on output_area\n",
       "      output_area._bokeh_element_id = output.metadata[EXEC_MIME_TYPE][\"id\"];\n",
       "    }\n",
       "    if (output.metadata[EXEC_MIME_TYPE][\"server_id\"] !== undefined) {\n",
       "      var bk_div = document.createElement(\"div\");\n",
       "      bk_div.innerHTML = output.data[HTML_MIME_TYPE];\n",
       "      var script_attrs = bk_div.children[0].attributes;\n",
       "      for (var i = 0; i < script_attrs.length; i++) {\n",
       "        toinsert[toinsert.length - 1].firstChild.setAttribute(script_attrs[i].name, script_attrs[i].value);\n",
       "        toinsert[toinsert.length - 1].firstChild.textContent = bk_div.children[0].textContent\n",
       "      }\n",
       "      // store reference to server id on output_area\n",
       "      output_area._bokeh_server_id = output.metadata[EXEC_MIME_TYPE][\"server_id\"];\n",
       "    }\n",
       "  }\n",
       "\n",
       "  function register_renderer(events, OutputArea) {\n",
       "\n",
       "    function append_mime(data, metadata, element) {\n",
       "      // create a DOM node to render to\n",
       "      var toinsert = this.create_output_subarea(\n",
       "        metadata,\n",
       "        CLASS_NAME,\n",
       "        EXEC_MIME_TYPE\n",
       "      );\n",
       "      this.keyboard_manager.register_events(toinsert);\n",
       "      // Render to node\n",
       "      var props = {data: data, metadata: metadata[EXEC_MIME_TYPE]};\n",
       "      render(props, toinsert[toinsert.length - 1]);\n",
       "      element.append(toinsert);\n",
       "      return toinsert\n",
       "    }\n",
       "\n",
       "    /* Handle when an output is cleared or removed */\n",
       "    events.on('clear_output.CodeCell', handleClearOutput);\n",
       "    events.on('delete.Cell', handleClearOutput);\n",
       "\n",
       "    /* Handle when a new output is added */\n",
       "    events.on('output_added.OutputArea', handleAddOutput);\n",
       "\n",
       "    /**\n",
       "     * Register the mime type and append_mime function with output_area\n",
       "     */\n",
       "    OutputArea.prototype.register_mime_type(EXEC_MIME_TYPE, append_mime, {\n",
       "      /* Is output safe? */\n",
       "      safe: true,\n",
       "      /* Index of renderer in `output_area.display_order` */\n",
       "      index: 0\n",
       "    });\n",
       "  }\n",
       "\n",
       "  // register the mime type if in Jupyter Notebook environment and previously unregistered\n",
       "  if (root.Jupyter !== undefined) {\n",
       "    var events = require('base/js/events');\n",
       "    var OutputArea = require('notebook/js/outputarea').OutputArea;\n",
       "\n",
       "    if (OutputArea.prototype.mime_types().indexOf(EXEC_MIME_TYPE) == -1) {\n",
       "      register_renderer(events, OutputArea);\n",
       "    }\n",
       "  }\n",
       "\n",
       "  \n",
       "  if (typeof (root._bokeh_timeout) === \"undefined\" || force === true) {\n",
       "    root._bokeh_timeout = Date.now() + 5000;\n",
       "    root._bokeh_failed_load = false;\n",
       "  }\n",
       "\n",
       "  var NB_LOAD_WARNING = {'data': {'text/html':\n",
       "     \"<div style='background-color: #fdd'>\\n\"+\n",
       "     \"<p>\\n\"+\n",
       "     \"BokehJS does not appear to have successfully loaded. If loading BokehJS from CDN, this \\n\"+\n",
       "     \"may be due to a slow or bad network connection. Possible fixes:\\n\"+\n",
       "     \"</p>\\n\"+\n",
       "     \"<ul>\\n\"+\n",
       "     \"<li>re-rerun `output_notebook()` to attempt to load from CDN again, or</li>\\n\"+\n",
       "     \"<li>use INLINE resources instead, as so:</li>\\n\"+\n",
       "     \"</ul>\\n\"+\n",
       "     \"<code>\\n\"+\n",
       "     \"from bokeh.resources import INLINE\\n\"+\n",
       "     \"output_notebook(resources=INLINE)\\n\"+\n",
       "     \"</code>\\n\"+\n",
       "     \"</div>\"}};\n",
       "\n",
       "  function display_loaded() {\n",
       "    var el = document.getElementById(\"1001\");\n",
       "    if (el != null) {\n",
       "      el.textContent = \"BokehJS is loading...\";\n",
       "    }\n",
       "    if (root.Bokeh !== undefined) {\n",
       "      if (el != null) {\n",
       "        el.textContent = \"BokehJS \" + root.Bokeh.version + \" successfully loaded.\";\n",
       "      }\n",
       "    } else if (Date.now() < root._bokeh_timeout) {\n",
       "      setTimeout(display_loaded, 100)\n",
       "    }\n",
       "  }\n",
       "\n",
       "\n",
       "  function run_callbacks() {\n",
       "    try {\n",
       "      root._bokeh_onload_callbacks.forEach(function(callback) {\n",
       "        if (callback != null)\n",
       "          callback();\n",
       "      });\n",
       "    } finally {\n",
       "      delete root._bokeh_onload_callbacks\n",
       "    }\n",
       "    console.debug(\"Bokeh: all callbacks have finished\");\n",
       "  }\n",
       "\n",
       "  function load_libs(css_urls, js_urls, callback) {\n",
       "    if (css_urls == null) css_urls = [];\n",
       "    if (js_urls == null) js_urls = [];\n",
       "\n",
       "    root._bokeh_onload_callbacks.push(callback);\n",
       "    if (root._bokeh_is_loading > 0) {\n",
       "      console.debug(\"Bokeh: BokehJS is being loaded, scheduling callback at\", now());\n",
       "      return null;\n",
       "    }\n",
       "    if (js_urls == null || js_urls.length === 0) {\n",
       "      run_callbacks();\n",
       "      return null;\n",
       "    }\n",
       "    console.debug(\"Bokeh: BokehJS not loaded, scheduling load and callback at\", now());\n",
       "    root._bokeh_is_loading = css_urls.length + js_urls.length;\n",
       "\n",
       "    function on_load() {\n",
       "      root._bokeh_is_loading--;\n",
       "      if (root._bokeh_is_loading === 0) {\n",
       "        console.debug(\"Bokeh: all BokehJS libraries/stylesheets loaded\");\n",
       "        run_callbacks()\n",
       "      }\n",
       "    }\n",
       "\n",
       "    function on_error() {\n",
       "      console.error(\"failed to load \" + url);\n",
       "    }\n",
       "\n",
       "    for (var i = 0; i < css_urls.length; i++) {\n",
       "      var url = css_urls[i];\n",
       "      const element = document.createElement(\"link\");\n",
       "      element.onload = on_load;\n",
       "      element.onerror = on_error;\n",
       "      element.rel = \"stylesheet\";\n",
       "      element.type = \"text/css\";\n",
       "      element.href = url;\n",
       "      console.debug(\"Bokeh: injecting link tag for BokehJS stylesheet: \", url);\n",
       "      document.body.appendChild(element);\n",
       "    }\n",
       "\n",
       "    const hashes = {\"https://cdn.bokeh.org/bokeh/release/bokeh-2.2.3.min.js\": \"T2yuo9Oe71Cz/I4X9Ac5+gpEa5a8PpJCDlqKYO0CfAuEszu1JrXLl8YugMqYe3sM\", \"https://cdn.bokeh.org/bokeh/release/bokeh-widgets-2.2.3.min.js\": \"98GDGJ0kOMCUMUePhksaQ/GYgB3+NH9h996V88sh3aOiUNX3N+fLXAtry6xctSZ6\", \"https://cdn.bokeh.org/bokeh/release/bokeh-tables-2.2.3.min.js\": \"89bArO+nlbP3sgakeHjCo1JYxYR5wufVgA3IbUvDY+K7w4zyxJqssu7wVnfeKCq8\"};\n",
       "\n",
       "    for (var i = 0; i < js_urls.length; i++) {\n",
       "      var url = js_urls[i];\n",
       "      var element = document.createElement('script');\n",
       "      element.onload = on_load;\n",
       "      element.onerror = on_error;\n",
       "      element.async = false;\n",
       "      element.src = url;\n",
       "      if (url in hashes) {\n",
       "        element.crossOrigin = \"anonymous\";\n",
       "        element.integrity = \"sha384-\" + hashes[url];\n",
       "      }\n",
       "      console.debug(\"Bokeh: injecting script tag for BokehJS library: \", url);\n",
       "      document.head.appendChild(element);\n",
       "    }\n",
       "  };\n",
       "\n",
       "  function inject_raw_css(css) {\n",
       "    const element = document.createElement(\"style\");\n",
       "    element.appendChild(document.createTextNode(css));\n",
       "    document.body.appendChild(element);\n",
       "  }\n",
       "\n",
       "  \n",
       "  var js_urls = [\"https://cdn.bokeh.org/bokeh/release/bokeh-2.2.3.min.js\", \"https://cdn.bokeh.org/bokeh/release/bokeh-widgets-2.2.3.min.js\", \"https://cdn.bokeh.org/bokeh/release/bokeh-tables-2.2.3.min.js\"];\n",
       "  var css_urls = [];\n",
       "  \n",
       "\n",
       "  var inline_js = [\n",
       "    function(Bokeh) {\n",
       "      Bokeh.set_log_level(\"info\");\n",
       "    },\n",
       "    function(Bokeh) {\n",
       "    \n",
       "    \n",
       "    }\n",
       "  ];\n",
       "\n",
       "  function run_inline_js() {\n",
       "    \n",
       "    if (root.Bokeh !== undefined || force === true) {\n",
       "      \n",
       "    for (var i = 0; i < inline_js.length; i++) {\n",
       "      inline_js[i].call(root, root.Bokeh);\n",
       "    }\n",
       "    if (force === true) {\n",
       "        display_loaded();\n",
       "      }} else if (Date.now() < root._bokeh_timeout) {\n",
       "      setTimeout(run_inline_js, 100);\n",
       "    } else if (!root._bokeh_failed_load) {\n",
       "      console.log(\"Bokeh: BokehJS failed to load within specified timeout.\");\n",
       "      root._bokeh_failed_load = true;\n",
       "    } else if (force !== true) {\n",
       "      var cell = $(document.getElementById(\"1001\")).parents('.cell').data().cell;\n",
       "      cell.output_area.append_execute_result(NB_LOAD_WARNING)\n",
       "    }\n",
       "\n",
       "  }\n",
       "\n",
       "  if (root._bokeh_is_loading === 0) {\n",
       "    console.debug(\"Bokeh: BokehJS loaded, going straight to plotting\");\n",
       "    run_inline_js();\n",
       "  } else {\n",
       "    load_libs(css_urls, js_urls, function() {\n",
       "      console.debug(\"Bokeh: BokehJS plotting callback run at\", now());\n",
       "      run_inline_js();\n",
       "    });\n",
       "  }\n",
       "}(window));"
      ],
      "application/vnd.bokehjs_load.v0+json": "\n(function(root) {\n  function now() {\n    return new Date();\n  }\n\n  var force = true;\n\n  if (typeof root._bokeh_onload_callbacks === \"undefined\" || force === true) {\n    root._bokeh_onload_callbacks = [];\n    root._bokeh_is_loading = undefined;\n  }\n\n  \n\n  \n  if (typeof (root._bokeh_timeout) === \"undefined\" || force === true) {\n    root._bokeh_timeout = Date.now() + 5000;\n    root._bokeh_failed_load = false;\n  }\n\n  var NB_LOAD_WARNING = {'data': {'text/html':\n     \"<div style='background-color: #fdd'>\\n\"+\n     \"<p>\\n\"+\n     \"BokehJS does not appear to have successfully loaded. If loading BokehJS from CDN, this \\n\"+\n     \"may be due to a slow or bad network connection. Possible fixes:\\n\"+\n     \"</p>\\n\"+\n     \"<ul>\\n\"+\n     \"<li>re-rerun `output_notebook()` to attempt to load from CDN again, or</li>\\n\"+\n     \"<li>use INLINE resources instead, as so:</li>\\n\"+\n     \"</ul>\\n\"+\n     \"<code>\\n\"+\n     \"from bokeh.resources import INLINE\\n\"+\n     \"output_notebook(resources=INLINE)\\n\"+\n     \"</code>\\n\"+\n     \"</div>\"}};\n\n  function display_loaded() {\n    var el = document.getElementById(\"1001\");\n    if (el != null) {\n      el.textContent = \"BokehJS is loading...\";\n    }\n    if (root.Bokeh !== undefined) {\n      if (el != null) {\n        el.textContent = \"BokehJS \" + root.Bokeh.version + \" successfully loaded.\";\n      }\n    } else if (Date.now() < root._bokeh_timeout) {\n      setTimeout(display_loaded, 100)\n    }\n  }\n\n\n  function run_callbacks() {\n    try {\n      root._bokeh_onload_callbacks.forEach(function(callback) {\n        if (callback != null)\n          callback();\n      });\n    } finally {\n      delete root._bokeh_onload_callbacks\n    }\n    console.debug(\"Bokeh: all callbacks have finished\");\n  }\n\n  function load_libs(css_urls, js_urls, callback) {\n    if (css_urls == null) css_urls = [];\n    if (js_urls == null) js_urls = [];\n\n    root._bokeh_onload_callbacks.push(callback);\n    if (root._bokeh_is_loading > 0) {\n      console.debug(\"Bokeh: BokehJS is being loaded, scheduling callback at\", now());\n      return null;\n    }\n    if (js_urls == null || js_urls.length === 0) {\n      run_callbacks();\n      return null;\n    }\n    console.debug(\"Bokeh: BokehJS not loaded, scheduling load and callback at\", now());\n    root._bokeh_is_loading = css_urls.length + js_urls.length;\n\n    function on_load() {\n      root._bokeh_is_loading--;\n      if (root._bokeh_is_loading === 0) {\n        console.debug(\"Bokeh: all BokehJS libraries/stylesheets loaded\");\n        run_callbacks()\n      }\n    }\n\n    function on_error() {\n      console.error(\"failed to load \" + url);\n    }\n\n    for (var i = 0; i < css_urls.length; i++) {\n      var url = css_urls[i];\n      const element = document.createElement(\"link\");\n      element.onload = on_load;\n      element.onerror = on_error;\n      element.rel = \"stylesheet\";\n      element.type = \"text/css\";\n      element.href = url;\n      console.debug(\"Bokeh: injecting link tag for BokehJS stylesheet: \", url);\n      document.body.appendChild(element);\n    }\n\n    const hashes = {\"https://cdn.bokeh.org/bokeh/release/bokeh-2.2.3.min.js\": \"T2yuo9Oe71Cz/I4X9Ac5+gpEa5a8PpJCDlqKYO0CfAuEszu1JrXLl8YugMqYe3sM\", \"https://cdn.bokeh.org/bokeh/release/bokeh-widgets-2.2.3.min.js\": \"98GDGJ0kOMCUMUePhksaQ/GYgB3+NH9h996V88sh3aOiUNX3N+fLXAtry6xctSZ6\", \"https://cdn.bokeh.org/bokeh/release/bokeh-tables-2.2.3.min.js\": \"89bArO+nlbP3sgakeHjCo1JYxYR5wufVgA3IbUvDY+K7w4zyxJqssu7wVnfeKCq8\"};\n\n    for (var i = 0; i < js_urls.length; i++) {\n      var url = js_urls[i];\n      var element = document.createElement('script');\n      element.onload = on_load;\n      element.onerror = on_error;\n      element.async = false;\n      element.src = url;\n      if (url in hashes) {\n        element.crossOrigin = \"anonymous\";\n        element.integrity = \"sha384-\" + hashes[url];\n      }\n      console.debug(\"Bokeh: injecting script tag for BokehJS library: \", url);\n      document.head.appendChild(element);\n    }\n  };\n\n  function inject_raw_css(css) {\n    const element = document.createElement(\"style\");\n    element.appendChild(document.createTextNode(css));\n    document.body.appendChild(element);\n  }\n\n  \n  var js_urls = [\"https://cdn.bokeh.org/bokeh/release/bokeh-2.2.3.min.js\", \"https://cdn.bokeh.org/bokeh/release/bokeh-widgets-2.2.3.min.js\", \"https://cdn.bokeh.org/bokeh/release/bokeh-tables-2.2.3.min.js\"];\n  var css_urls = [];\n  \n\n  var inline_js = [\n    function(Bokeh) {\n      Bokeh.set_log_level(\"info\");\n    },\n    function(Bokeh) {\n    \n    \n    }\n  ];\n\n  function run_inline_js() {\n    \n    if (root.Bokeh !== undefined || force === true) {\n      \n    for (var i = 0; i < inline_js.length; i++) {\n      inline_js[i].call(root, root.Bokeh);\n    }\n    if (force === true) {\n        display_loaded();\n      }} else if (Date.now() < root._bokeh_timeout) {\n      setTimeout(run_inline_js, 100);\n    } else if (!root._bokeh_failed_load) {\n      console.log(\"Bokeh: BokehJS failed to load within specified timeout.\");\n      root._bokeh_failed_load = true;\n    } else if (force !== true) {\n      var cell = $(document.getElementById(\"1001\")).parents('.cell').data().cell;\n      cell.output_area.append_execute_result(NB_LOAD_WARNING)\n    }\n\n  }\n\n  if (root._bokeh_is_loading === 0) {\n    console.debug(\"Bokeh: BokehJS loaded, going straight to plotting\");\n    run_inline_js();\n  } else {\n    load_libs(css_urls, js_urls, function() {\n      console.debug(\"Bokeh: BokehJS plotting callback run at\", now());\n      run_inline_js();\n    });\n  }\n}(window));"
     },
     "metadata": {},
     "output_type": "display_data"
    }
   ],
   "source": [
    "import pandas as pd\n",
    "pd.set_option('plotting.backend', 'pandas_bokeh')\n",
    "pd.plotting.output_notebook()\n",
    "\n",
    "from ants.model import Colony"
   ]
  },
  {
   "cell_type": "markdown",
   "metadata": {},
   "source": [
    "Usando información de estudios biológicos, Miramontes propuso un modelo para simular los periodos de trabajo reposo en colonias de\n",
    "hormigas *Leptothorax*. En este, se colocan hormigas artificales en una fracción $d$ de una malla. Con una $d$ pequeña, las hormigas no interactuan y todo su comportamiento es aleatorio. Con una $d$ grande, las hormigas se sincronizan, trabajando y descansando exactamente en los mismo periodos.\n",
    "\n",
    "Los experimentos mostraron que las colonias reales tienen una densidad en un punto intermedio, donde las hormigas interatúan y se sincronizan, pero aún tienen libertad suficiente para realizar acciones aleatorias. Están al borde del caos."
   ]
  },
  {
   "cell_type": "markdown",
   "metadata": {},
   "source": [
    "**Definición del sistema (entorno):** La colonia está representada por una malla de $10 \\times 10$. Cada casilla puede estar vacía o contener una hormiga. Al inicia, se colocan hormigas aleatoramente en una fracción $d$ de la malla.\n"
   ]
  },
  {
   "cell_type": "markdown",
   "metadata": {},
   "source": [
    "**Dinámica (reglas):** Cada hormiga puede estar activada o no. Puede pasar de inactiva a activa de dos formas. Primero, con una probabilidad $p_{a}$ de forma expontánea. Luego, cuando otra hormiga activa entre a vecindad de Moore.\n",
    "\n",
    "Una vez activa, una hormiga se mueve de manera aleatoria, una casilla a la vez. Al activarse, una hormiga adquiere una energía inicial $s_{a}$. A partir de ese momento, su energía evoluciona de la siguiente manera\n",
    "\n",
    "\\begin{equation}\n",
    "  s_{i}(t) = \\tanh(g \\cdot ((\\sum_{j \\in N(i)}{s_{i}(t-1)}) + s_{i}(t-1))\n",
    "\\end{equation}\n",
    "\n",
    "donde $g$ es una constante llamada ganancia, y $N(i)$ es la vecindad de Moore de $i$. Al llegar la energía a un valor menor a $\\varepsilon$, se considera que la energía es cero, y la hormiga se desactiva. Siguiendo los experimentos de Miramontes, se toma $\\varepsilon = 10^{-16}$, $s_{a} = 10^{-6}$ , $p_{a} = 10^{-2}$ y $0.005 \\le g \\le 0.5$."
   ]
  },
  {
   "cell_type": "code",
   "execution_count": 2,
   "metadata": {},
   "outputs": [],
   "source": [
    "def run_and_plot(colony, steps=600):\n",
    "    for _ in range(steps):\n",
    "        if colony.running:\n",
    "            colony.step()\n",
    "            \n",
    "    df = colony.datacollector.get_model_vars_dataframe()\n",
    "    df.plot(\n",
    "        legend=False,\n",
    "        xlabel='steps',\n",
    "        ylabel='active ants',\n",
    "        xticks=range(0, df.size+1, 100)\n",
    "    )\n",
    "    \n",
    "def build_colony(density):\n",
    "    return Colony(\n",
    "        density = density, \n",
    "        width = 10,\n",
    "        height = 10,\n",
    "        act_prob = 0.01,\n",
    "        gain = 0.01,\n",
    "        init_energy = 1e-6\n",
    "    )"
   ]
  },
  {
   "cell_type": "code",
   "execution_count": 3,
   "metadata": {},
   "outputs": [],
   "source": [
    "colony = build_colony(0.9)"
   ]
  },
  {
   "cell_type": "code",
   "execution_count": 4,
   "metadata": {},
   "outputs": [
    {
     "data": {
      "text/html": [
       "\n",
       "\n",
       "\n",
       "\n",
       "\n",
       "\n",
       "  <div class=\"bk-root\" id=\"c08154c8-b590-4a50-9ce8-3142ba397833\" data-root-id=\"1002\"></div>\n"
      ]
     },
     "metadata": {},
     "output_type": "display_data"
    },
    {
     "data": {
      "application/javascript": [
       "(function(root) {\n",
       "  function embed_document(root) {\n",
       "    \n",
       "  var docs_json = {\"8fb10d19-427a-47a2-b9de-77017267b22e\":{\"roots\":{\"references\":[{\"attributes\":{\"below\":[{\"id\":\"1013\"}],\"center\":[{\"id\":\"1016\"},{\"id\":\"1020\"},{\"id\":\"1049\"}],\"left\":[{\"id\":\"1017\"}],\"output_backend\":\"webgl\",\"plot_height\":400,\"renderers\":[{\"id\":\"1039\"}],\"sizing_mode\":\"fixed\",\"title\":{\"id\":\"1003\"},\"toolbar\":{\"id\":\"1028\"},\"x_range\":{\"id\":\"1005\"},\"x_scale\":{\"id\":\"1009\"},\"y_range\":{\"id\":\"1007\"},\"y_scale\":{\"id\":\"1011\"}},\"id\":\"1002\",\"subtype\":\"Figure\",\"type\":\"Plot\"},{\"attributes\":{\"line_color\":\"#1f77b4\",\"line_width\":2,\"x\":{\"field\":\"__x__values\"},\"y\":{\"field\":\"active_count\"}},\"id\":\"1037\",\"type\":\"Line\"},{\"attributes\":{\"axis_label\":\"steps\",\"formatter\":{\"id\":\"1043\"},\"ticker\":{\"id\":\"1053\"}},\"id\":\"1013\",\"type\":\"LinearAxis\"},{\"attributes\":{\"line_alpha\":0.1,\"line_color\":\"#1f77b4\",\"line_width\":2,\"x\":{\"field\":\"__x__values\"},\"y\":{\"field\":\"active_count\"}},\"id\":\"1038\",\"type\":\"Line\"},{\"attributes\":{\"text\":\"\"},\"id\":\"1003\",\"type\":\"Title\"},{\"attributes\":{\"click_policy\":\"hide\",\"items\":[{\"id\":\"1050\"}],\"visible\":false},\"id\":\"1049\",\"type\":\"Legend\"},{\"attributes\":{},\"id\":\"1046\",\"type\":\"UnionRenderers\"},{\"attributes\":{\"source\":{\"id\":\"1035\"}},\"id\":\"1040\",\"type\":\"CDSView\"},{\"attributes\":{\"bottom_units\":\"screen\",\"fill_alpha\":0.5,\"fill_color\":\"lightgrey\",\"left_units\":\"screen\",\"level\":\"overlay\",\"line_alpha\":1.0,\"line_color\":\"black\",\"line_dash\":[4,4],\"line_width\":2,\"right_units\":\"screen\",\"top_units\":\"screen\"},\"id\":\"1027\",\"type\":\"BoxAnnotation\"},{\"attributes\":{\"callback\":null,\"mode\":\"vline\",\"renderers\":[{\"id\":\"1039\"}],\"tooltips\":[[\"steps\",\"@__x__values_original\"],[\"active_count\",\"@{active_count}\"]]},\"id\":\"1051\",\"type\":\"HoverTool\"},{\"attributes\":{},\"id\":\"1047\",\"type\":\"Selection\"},{\"attributes\":{},\"id\":\"1022\",\"type\":\"WheelZoomTool\"},{\"attributes\":{},\"id\":\"1005\",\"type\":\"DataRange1d\"},{\"attributes\":{},\"id\":\"1011\",\"type\":\"LinearScale\"},{\"attributes\":{},\"id\":\"1007\",\"type\":\"DataRange1d\"},{\"attributes\":{},\"id\":\"1009\",\"type\":\"LinearScale\"},{\"attributes\":{\"axis\":{\"id\":\"1013\"},\"ticker\":null},\"id\":\"1016\",\"type\":\"Grid\"},{\"attributes\":{\"axis_label\":\"active ants\",\"formatter\":{\"id\":\"1045\"},\"ticker\":{\"id\":\"1018\"}},\"id\":\"1017\",\"type\":\"LinearAxis\"},{\"attributes\":{\"axis\":{\"id\":\"1017\"},\"dimension\":1,\"ticker\":null},\"id\":\"1020\",\"type\":\"Grid\"},{\"attributes\":{},\"id\":\"1018\",\"type\":\"BasicTicker\"},{\"attributes\":{\"label\":{\"value\":\" active_count\"},\"renderers\":[{\"id\":\"1039\"}]},\"id\":\"1050\",\"type\":\"LegendItem\"},{\"attributes\":{\"active_drag\":\"auto\",\"active_inspect\":\"auto\",\"active_multi\":null,\"active_scroll\":{\"id\":\"1022\"},\"active_tap\":\"auto\",\"tools\":[{\"id\":\"1021\"},{\"id\":\"1022\"},{\"id\":\"1023\"},{\"id\":\"1024\"},{\"id\":\"1025\"},{\"id\":\"1026\"},{\"id\":\"1051\"}]},\"id\":\"1028\",\"type\":\"Toolbar\"},{\"attributes\":{},\"id\":\"1026\",\"type\":\"HelpTool\"},{\"attributes\":{},\"id\":\"1021\",\"type\":\"PanTool\"},{\"attributes\":{},\"id\":\"1043\",\"type\":\"BasicTickFormatter\"},{\"attributes\":{\"overlay\":{\"id\":\"1027\"}},\"id\":\"1023\",\"type\":\"BoxZoomTool\"},{\"attributes\":{},\"id\":\"1024\",\"type\":\"SaveTool\"},{\"attributes\":{},\"id\":\"1025\",\"type\":\"ResetTool\"},{\"attributes\":{\"data\":{\"__x__values\":[0,1,2,3,4,5,6,7,8,9,10,11,12,13,14,15,16,17,18,19,20,21,22,23,24,25,26,27,28,29,30,31,32,33,34,35,36,37,38,39,40,41,42,43,44,45,46,47,48,49,50,51,52,53,54,55,56,57,58,59,60,61,62,63,64,65,66,67,68,69,70,71,72,73,74,75,76,77,78,79,80,81,82,83,84,85,86,87,88,89,90,91,92,93,94,95,96,97,98,99,100,101,102,103,104,105,106,107,108,109,110,111,112,113,114,115,116,117,118,119,120,121,122,123,124,125,126,127,128,129,130,131,132,133,134,135,136,137,138,139,140,141,142,143,144,145,146,147,148,149,150,151,152,153,154,155,156,157,158,159,160,161,162,163,164,165,166,167,168,169,170,171,172,173,174,175,176,177,178,179,180,181,182,183,184,185,186,187,188,189,190,191,192,193,194,195,196,197,198,199,200,201,202,203,204,205,206,207,208,209,210,211,212,213,214,215,216,217,218,219,220,221,222,223,224,225,226,227,228,229,230,231,232,233,234,235,236,237,238,239,240,241,242,243,244,245,246,247,248,249,250,251,252,253,254,255,256,257,258,259,260,261,262,263,264,265,266,267,268,269,270,271,272,273,274,275,276,277,278,279,280,281,282,283,284,285,286,287,288,289,290,291,292,293,294,295,296,297,298,299,300,301,302,303,304,305,306,307,308,309,310,311,312,313,314,315,316,317,318,319,320,321,322,323,324,325,326,327,328,329,330,331,332,333,334,335,336,337,338,339,340,341,342,343,344,345,346,347,348,349,350,351,352,353,354,355,356,357,358,359,360,361,362,363,364,365,366,367,368,369,370,371,372,373,374,375,376,377,378,379,380,381,382,383,384,385,386,387,388,389,390,391,392,393,394,395,396,397,398,399,400,401,402,403,404,405,406,407,408,409,410,411,412,413,414,415,416,417,418,419,420,421,422,423,424,425,426,427,428,429,430,431,432,433,434,435,436,437,438,439,440,441,442,443,444,445,446,447,448,449,450,451,452,453,454,455,456,457,458,459,460,461,462,463,464,465,466,467,468,469,470,471,472,473,474,475,476,477,478,479,480,481,482,483,484,485,486,487,488,489,490,491,492,493,494,495,496,497,498,499,500,501,502,503,504,505,506,507,508,509,510,511,512,513,514,515,516,517,518,519,520,521,522,523,524,525,526,527,528,529,530,531,532,533,534,535,536,537,538,539,540,541,542,543,544,545,546,547,548,549,550,551,552,553,554,555,556,557,558,559,560,561,562,563,564,565,566,567,568,569,570,571,572,573,574,575,576,577,578,579,580,581,582,583,584,585,586,587,588,589,590,591,592,593,594,595,596,597,598,599,600],\"__x__values_original\":[0,1,2,3,4,5,6,7,8,9,10,11,12,13,14,15,16,17,18,19,20,21,22,23,24,25,26,27,28,29,30,31,32,33,34,35,36,37,38,39,40,41,42,43,44,45,46,47,48,49,50,51,52,53,54,55,56,57,58,59,60,61,62,63,64,65,66,67,68,69,70,71,72,73,74,75,76,77,78,79,80,81,82,83,84,85,86,87,88,89,90,91,92,93,94,95,96,97,98,99,100,101,102,103,104,105,106,107,108,109,110,111,112,113,114,115,116,117,118,119,120,121,122,123,124,125,126,127,128,129,130,131,132,133,134,135,136,137,138,139,140,141,142,143,144,145,146,147,148,149,150,151,152,153,154,155,156,157,158,159,160,161,162,163,164,165,166,167,168,169,170,171,172,173,174,175,176,177,178,179,180,181,182,183,184,185,186,187,188,189,190,191,192,193,194,195,196,197,198,199,200,201,202,203,204,205,206,207,208,209,210,211,212,213,214,215,216,217,218,219,220,221,222,223,224,225,226,227,228,229,230,231,232,233,234,235,236,237,238,239,240,241,242,243,244,245,246,247,248,249,250,251,252,253,254,255,256,257,258,259,260,261,262,263,264,265,266,267,268,269,270,271,272,273,274,275,276,277,278,279,280,281,282,283,284,285,286,287,288,289,290,291,292,293,294,295,296,297,298,299,300,301,302,303,304,305,306,307,308,309,310,311,312,313,314,315,316,317,318,319,320,321,322,323,324,325,326,327,328,329,330,331,332,333,334,335,336,337,338,339,340,341,342,343,344,345,346,347,348,349,350,351,352,353,354,355,356,357,358,359,360,361,362,363,364,365,366,367,368,369,370,371,372,373,374,375,376,377,378,379,380,381,382,383,384,385,386,387,388,389,390,391,392,393,394,395,396,397,398,399,400,401,402,403,404,405,406,407,408,409,410,411,412,413,414,415,416,417,418,419,420,421,422,423,424,425,426,427,428,429,430,431,432,433,434,435,436,437,438,439,440,441,442,443,444,445,446,447,448,449,450,451,452,453,454,455,456,457,458,459,460,461,462,463,464,465,466,467,468,469,470,471,472,473,474,475,476,477,478,479,480,481,482,483,484,485,486,487,488,489,490,491,492,493,494,495,496,497,498,499,500,501,502,503,504,505,506,507,508,509,510,511,512,513,514,515,516,517,518,519,520,521,522,523,524,525,526,527,528,529,530,531,532,533,534,535,536,537,538,539,540,541,542,543,544,545,546,547,548,549,550,551,552,553,554,555,556,557,558,559,560,561,562,563,564,565,566,567,568,569,570,571,572,573,574,575,576,577,578,579,580,581,582,583,584,585,586,587,588,589,590,591,592,593,594,595,596,597,598,599,600],\"active_count\":[0,0,0,0,4,24,66,90,90,90,90,90,90,90,90,90,36,29,78,90,90,90,90,90,90,90,90,85,5,20,46,79,90,90,90,90,90,90,90,90,86,4,20,62,88,90,90,90,90,90,90,90,90,26,45,87,90,90,90,90,90,90,90,88,63,34,75,90,90,90,90,90,90,90,90,90,41,25,78,90,90,90,90,90,90,90,90,85,5,30,64,88,90,90,90,90,90,90,90,90,60,30,67,87,90,90,90,90,90,90,90,90,46,32,71,88,90,90,90,90,90,90,90,88,50,40,78,89,90,90,90,90,90,90,90,90,1,9,33,76,90,90,90,90,90,90,90,90,88,2,14,63,89,90,90,90,90,90,90,90,90,13,35,64,88,90,90,90,90,90,90,90,90,31,28,80,89,90,90,90,90,90,90,90,90,0,0,1,8,35,66,90,90,90,90,90,90,90,90,90,32,32,85,90,90,90,90,90,90,90,90,80,10,35,69,90,90,90,90,90,90,90,90,88,15,35,83,90,90,90,90,90,90,90,90,87,3,20,41,78,90,90,90,90,90,90,90,90,90,0,0,1,9,36,79,90,90,90,90,90,90,90,90,83,7,34,74,88,90,90,90,90,90,90,90,90,20,31,83,90,90,90,90,90,90,90,90,78,12,45,88,90,90,90,90,90,90,90,90,72,15,50,88,90,90,90,90,90,90,90,90,55,32,79,90,90,90,90,90,90,90,90,87,4,18,50,86,90,90,90,90,90,90,90,90,76,17,63,87,90,90,90,90,90,90,90,90,30,41,76,90,90,90,90,90,90,90,90,86,7,35,81,90,90,90,90,90,90,90,90,84,6,23,69,90,90,90,90,90,90,90,90,88,81,14,50,87,90,90,90,90,90,90,90,90,72,14,61,86,90,90,90,90,90,90,90,90,63,26,55,90,90,90,90,90,90,90,90,90,53,35,81,90,90,90,90,90,90,90,90,89,39,33,80,90,90,90,90,90,90,90,90,90,0,2,17,54,86,90,90,90,90,90,90,90,90,76,14,57,89,90,90,90,90,90,90,90,90,48,32,78,90,90,90,90,90,90,90,90,89,1,4,16,55,88,90,90,90,90,90,90,90,88,62,31,86,90,90,90,90,90,90,90,90,58,30,71,90,90,90,90,90,90,90,90,88,4,26,72,90,90,90,90,90,90,90,90,90,15,18,56,90,90,90,90,90,90,90,90,90,55,26,74,90,90,90,90,90,90,90,90,90,0,3,27,77,90,90,90,90,90,90,90,90,85,17,38,90,90,90,90,90,90,90,90,90,58,25,67,88,90,90,90,90,90,90,90,90,70,18,58,87,90,90,90,90,90,90,90,89,71]},\"selected\":{\"id\":\"1047\"},\"selection_policy\":{\"id\":\"1046\"}},\"id\":\"1035\",\"type\":\"ColumnDataSource\"},{\"attributes\":{\"ticks\":[0,100,200,300,400,500,600]},\"id\":\"1053\",\"type\":\"FixedTicker\"},{\"attributes\":{},\"id\":\"1045\",\"type\":\"BasicTickFormatter\"},{\"attributes\":{\"data_source\":{\"id\":\"1035\"},\"glyph\":{\"id\":\"1037\"},\"hover_glyph\":null,\"muted_glyph\":null,\"nonselection_glyph\":{\"id\":\"1038\"},\"selection_glyph\":null,\"view\":{\"id\":\"1040\"}},\"id\":\"1039\",\"type\":\"GlyphRenderer\"}],\"root_ids\":[\"1002\"]},\"title\":\"Bokeh Application\",\"version\":\"2.2.3\"}};\n",
       "  var render_items = [{\"docid\":\"8fb10d19-427a-47a2-b9de-77017267b22e\",\"root_ids\":[\"1002\"],\"roots\":{\"1002\":\"c08154c8-b590-4a50-9ce8-3142ba397833\"}}];\n",
       "  root.Bokeh.embed.embed_items_notebook(docs_json, render_items);\n",
       "\n",
       "  }\n",
       "  if (root.Bokeh !== undefined) {\n",
       "    embed_document(root);\n",
       "  } else {\n",
       "    var attempts = 0;\n",
       "    var timer = setInterval(function(root) {\n",
       "      if (root.Bokeh !== undefined) {\n",
       "        clearInterval(timer);\n",
       "        embed_document(root);\n",
       "      } else {\n",
       "        attempts++;\n",
       "        if (attempts > 100) {\n",
       "          clearInterval(timer);\n",
       "          console.log(\"Bokeh: ERROR: Unable to run BokehJS code because BokehJS library is missing\");\n",
       "        }\n",
       "      }\n",
       "    }, 10, root)\n",
       "  }\n",
       "})(window);"
      ],
      "application/vnd.bokehjs_exec.v0+json": ""
     },
     "metadata": {
      "application/vnd.bokehjs_exec.v0+json": {
       "id": "1002"
      }
     },
     "output_type": "display_data"
    }
   ],
   "source": [
    "run_and_plot(colony)"
   ]
  },
  {
   "cell_type": "markdown",
   "metadata": {},
   "source": [
    "## Series de tiempo de activación"
   ]
  },
  {
   "cell_type": "markdown",
   "metadata": {},
   "source": [
    "Cree las series de tiempo de activación para distintas densidades de a población de hormigas. Específicamente, contar las hormigas que se encuentran en estado activo en el tiempo $t$, y grafica la evolución durante 600 tiempos.\n"
   ]
  },
  {
   "cell_type": "code",
   "execution_count": 5,
   "metadata": {},
   "outputs": [],
   "source": [
    "def plot_runner(runner):\n",
    "    raw_data = runner.get_model_vars_dataframe()[['density', 'activation_series']].to_dict()\n",
    "\n",
    "    dfs = zip(\n",
    "            raw_data['density'].values(),\n",
    "            raw_data['activation_series'].values()\n",
    "        )\n",
    "\n",
    "    for d, df in dfs:\n",
    "        plot = df.plot(\n",
    "            title=f'density at {d}',\n",
    "            legend=False,\n",
    "            xlabel='steps',\n",
    "            ylabel='active ants',\n",
    "            xticks=range(0, df.size+1, 100),\n",
    "            figsize=(800, 150),\n",
    "            show_figure=False,\n",
    "        )\n",
    "        from bokeh.models import SaveTool\n",
    "        plot.tools = [SaveTool()]\n",
    "\n",
    "        from bokeh.plotting import show\n",
    "        show(plot)"
   ]
  },
  {
   "cell_type": "code",
   "execution_count": 6,
   "metadata": {},
   "outputs": [],
   "source": [
    "from mesa.batchrunner import BatchRunner\n",
    "\n",
    "fixed_params = {\n",
    "    'width': 10,\n",
    "    'height': 10,\n",
    "    'act_prob': 0.01,\n",
    "    'gain': 0.01,\n",
    "    'init_energy': 1e-6\n",
    "}\n",
    "\n",
    "var_params = {\n",
    "    'density': [0.01, 0.1, 0.2, 0.3, 0.5, 0.9]\n",
    "}\n",
    "\n",
    "runner = BatchRunner(\n",
    "    Colony,\n",
    "    var_params,\n",
    "    fixed_params,\n",
    "    iterations=1,\n",
    "    max_steps=600,\n",
    "    model_reporters={\n",
    "        'activation_series': lambda m: m.datacollector.get_model_vars_dataframe()\n",
    "    }\n",
    ")"
   ]
  },
  {
   "cell_type": "code",
   "execution_count": 7,
   "metadata": {},
   "outputs": [
    {
     "name": "stderr",
     "output_type": "stream",
     "text": [
      "6it [00:04,  1.44it/s]\n"
     ]
    }
   ],
   "source": [
    "runner.run_all()"
   ]
  },
  {
   "cell_type": "code",
   "execution_count": 8,
   "metadata": {},
   "outputs": [
    {
     "data": {
      "text/html": [
       "\n",
       "\n",
       "\n",
       "\n",
       "\n",
       "\n",
       "  <div class=\"bk-root\" id=\"6da6b26f-d19b-44a3-a5f7-e4184d9af550\" data-root-id=\"1097\"></div>\n"
      ]
     },
     "metadata": {},
     "output_type": "display_data"
    },
    {
     "data": {
      "application/javascript": [
       "(function(root) {\n",
       "  function embed_document(root) {\n",
       "    \n",
       "  var docs_json = {\"e3e8dc04-d028-4889-8642-ea9ef6e05f72\":{\"roots\":{\"references\":[{\"attributes\":{\"below\":[{\"id\":\"1108\"}],\"center\":[{\"id\":\"1111\"},{\"id\":\"1115\"},{\"id\":\"1144\"}],\"left\":[{\"id\":\"1112\"}],\"output_backend\":\"webgl\",\"plot_height\":150,\"plot_width\":800,\"renderers\":[{\"id\":\"1134\"}],\"sizing_mode\":\"fixed\",\"title\":{\"id\":\"1098\"},\"toolbar\":{\"id\":\"1123\"},\"x_range\":{\"id\":\"1100\"},\"x_scale\":{\"id\":\"1104\"},\"y_range\":{\"id\":\"1102\"},\"y_scale\":{\"id\":\"1106\"}},\"id\":\"1097\",\"subtype\":\"Figure\",\"type\":\"Plot\"},{\"attributes\":{},\"id\":\"1138\",\"type\":\"BasicTickFormatter\"},{\"attributes\":{},\"id\":\"1150\",\"type\":\"SaveTool\"},{\"attributes\":{\"axis\":{\"id\":\"1112\"},\"dimension\":1,\"ticker\":null},\"id\":\"1115\",\"type\":\"Grid\"},{\"attributes\":{\"line_alpha\":0.1,\"line_color\":\"#1f77b4\",\"line_width\":2,\"x\":{\"field\":\"__x__values\"},\"y\":{\"field\":\"active_count\"}},\"id\":\"1133\",\"type\":\"Line\"},{\"attributes\":{\"data_source\":{\"id\":\"1130\"},\"glyph\":{\"id\":\"1132\"},\"hover_glyph\":null,\"muted_glyph\":null,\"nonselection_glyph\":{\"id\":\"1133\"},\"selection_glyph\":null,\"view\":{\"id\":\"1135\"}},\"id\":\"1134\",\"type\":\"GlyphRenderer\"},{\"attributes\":{\"ticks\":[0,100,200,300,400,500,600]},\"id\":\"1148\",\"type\":\"FixedTicker\"},{\"attributes\":{},\"id\":\"1141\",\"type\":\"UnionRenderers\"},{\"attributes\":{\"text\":\"density at 0.01\"},\"id\":\"1098\",\"type\":\"Title\"},{\"attributes\":{},\"id\":\"1142\",\"type\":\"Selection\"},{\"attributes\":{\"label\":{\"value\":\" active_count\"},\"renderers\":[{\"id\":\"1134\"}]},\"id\":\"1145\",\"type\":\"LegendItem\"},{\"attributes\":{},\"id\":\"1100\",\"type\":\"DataRange1d\"},{\"attributes\":{},\"id\":\"1117\",\"type\":\"WheelZoomTool\"},{\"attributes\":{\"line_color\":\"#1f77b4\",\"line_width\":2,\"x\":{\"field\":\"__x__values\"},\"y\":{\"field\":\"active_count\"}},\"id\":\"1132\",\"type\":\"Line\"},{\"attributes\":{},\"id\":\"1104\",\"type\":\"LinearScale\"},{\"attributes\":{\"source\":{\"id\":\"1130\"}},\"id\":\"1135\",\"type\":\"CDSView\"},{\"attributes\":{\"data\":{\"__x__values\":[0,1,2,3,4,5,6,7,8,9,10,11,12,13,14,15,16,17,18,19,20,21,22,23,24,25,26,27,28,29,30,31,32,33,34,35,36,37,38,39,40,41,42,43,44,45,46,47,48,49,50,51,52,53,54,55,56,57,58,59,60,61,62,63,64,65,66,67,68,69,70,71,72,73,74,75,76,77,78,79,80,81,82,83,84,85,86,87,88,89,90,91,92,93,94,95,96,97,98,99,100,101,102,103,104,105,106,107,108,109,110,111,112,113,114,115,116,117,118,119,120,121,122,123,124,125,126,127,128,129,130,131,132,133,134,135,136,137,138,139,140,141,142,143,144,145,146,147,148,149,150,151,152,153,154,155,156,157,158,159,160,161,162,163,164,165,166,167,168,169,170,171,172,173,174,175,176,177,178,179,180,181,182,183,184,185,186,187,188,189,190,191,192,193,194,195,196,197,198,199,200,201,202,203,204,205,206,207,208,209,210,211,212,213,214,215,216,217,218,219,220,221,222,223,224,225,226,227,228,229,230,231,232,233,234,235,236,237,238,239,240,241,242,243,244,245,246,247,248,249,250,251,252,253,254,255,256,257,258,259,260,261,262,263,264,265,266,267,268,269,270,271,272,273,274,275,276,277,278,279,280,281,282,283,284,285,286,287,288,289,290,291,292,293,294,295,296,297,298,299,300,301,302,303,304,305,306,307,308,309,310,311,312,313,314,315,316,317,318,319,320,321,322,323,324,325,326,327,328,329,330,331,332,333,334,335,336,337,338,339,340,341,342,343,344,345,346,347,348,349,350,351,352,353,354,355,356,357,358,359,360,361,362,363,364,365,366,367,368,369,370,371,372,373,374,375,376,377,378,379,380,381,382,383,384,385,386,387,388,389,390,391,392,393,394,395,396,397,398,399,400,401,402,403,404,405,406,407,408,409,410,411,412,413,414,415,416,417,418,419,420,421,422,423,424,425,426,427,428,429,430,431,432,433,434,435,436,437,438,439,440,441,442,443,444,445,446,447,448,449,450,451,452,453,454,455,456,457,458,459,460,461,462,463,464,465,466,467,468,469,470,471,472,473,474,475,476,477,478,479,480,481,482,483,484,485,486,487,488,489,490,491,492,493,494,495,496,497,498,499,500,501,502,503,504,505,506,507,508,509,510,511,512,513,514,515,516,517,518,519,520,521,522,523,524,525,526,527,528,529,530,531,532,533,534,535,536,537,538,539,540,541,542,543,544,545,546,547,548,549,550,551,552,553,554,555,556,557,558,559,560,561,562,563,564,565,566,567,568,569,570,571,572,573,574,575,576,577,578,579,580,581,582,583,584,585,586,587,588,589,590,591,592,593,594,595,596,597,598,599,600],\"__x__values_original\":[0,1,2,3,4,5,6,7,8,9,10,11,12,13,14,15,16,17,18,19,20,21,22,23,24,25,26,27,28,29,30,31,32,33,34,35,36,37,38,39,40,41,42,43,44,45,46,47,48,49,50,51,52,53,54,55,56,57,58,59,60,61,62,63,64,65,66,67,68,69,70,71,72,73,74,75,76,77,78,79,80,81,82,83,84,85,86,87,88,89,90,91,92,93,94,95,96,97,98,99,100,101,102,103,104,105,106,107,108,109,110,111,112,113,114,115,116,117,118,119,120,121,122,123,124,125,126,127,128,129,130,131,132,133,134,135,136,137,138,139,140,141,142,143,144,145,146,147,148,149,150,151,152,153,154,155,156,157,158,159,160,161,162,163,164,165,166,167,168,169,170,171,172,173,174,175,176,177,178,179,180,181,182,183,184,185,186,187,188,189,190,191,192,193,194,195,196,197,198,199,200,201,202,203,204,205,206,207,208,209,210,211,212,213,214,215,216,217,218,219,220,221,222,223,224,225,226,227,228,229,230,231,232,233,234,235,236,237,238,239,240,241,242,243,244,245,246,247,248,249,250,251,252,253,254,255,256,257,258,259,260,261,262,263,264,265,266,267,268,269,270,271,272,273,274,275,276,277,278,279,280,281,282,283,284,285,286,287,288,289,290,291,292,293,294,295,296,297,298,299,300,301,302,303,304,305,306,307,308,309,310,311,312,313,314,315,316,317,318,319,320,321,322,323,324,325,326,327,328,329,330,331,332,333,334,335,336,337,338,339,340,341,342,343,344,345,346,347,348,349,350,351,352,353,354,355,356,357,358,359,360,361,362,363,364,365,366,367,368,369,370,371,372,373,374,375,376,377,378,379,380,381,382,383,384,385,386,387,388,389,390,391,392,393,394,395,396,397,398,399,400,401,402,403,404,405,406,407,408,409,410,411,412,413,414,415,416,417,418,419,420,421,422,423,424,425,426,427,428,429,430,431,432,433,434,435,436,437,438,439,440,441,442,443,444,445,446,447,448,449,450,451,452,453,454,455,456,457,458,459,460,461,462,463,464,465,466,467,468,469,470,471,472,473,474,475,476,477,478,479,480,481,482,483,484,485,486,487,488,489,490,491,492,493,494,495,496,497,498,499,500,501,502,503,504,505,506,507,508,509,510,511,512,513,514,515,516,517,518,519,520,521,522,523,524,525,526,527,528,529,530,531,532,533,534,535,536,537,538,539,540,541,542,543,544,545,546,547,548,549,550,551,552,553,554,555,556,557,558,559,560,561,562,563,564,565,566,567,568,569,570,571,572,573,574,575,576,577,578,579,580,581,582,583,584,585,586,587,588,589,590,591,592,593,594,595,596,597,598,599,600],\"active_count\":[0,0,0,0,0,0,0,0,0,0,0,0,0,0,0,0,0,0,0,0,0,0,0,0,0,0,0,0,0,0,0,0,0,0,0,0,0,0,0,0,0,0,0,0,0,0,0,0,0,0,0,0,0,0,0,0,0,0,0,0,0,0,0,0,0,0,0,0,0,0,0,0,0,0,0,0,0,0,0,0,0,0,0,0,0,0,0,0,0,0,0,0,0,1,1,1,1,1,1,0,0,0,0,0,0,0,0,0,0,0,0,0,0,0,0,0,0,0,0,0,0,0,0,0,0,0,0,0,0,0,0,0,1,1,1,1,1,1,0,0,0,0,0,0,0,0,0,0,0,0,0,0,0,0,0,0,0,0,0,0,0,0,0,0,0,0,0,0,0,0,0,0,0,0,0,0,0,0,0,0,0,0,0,0,0,0,0,0,0,0,0,0,0,0,0,0,0,0,0,0,0,0,0,0,0,1,1,1,1,1,1,0,0,0,0,0,0,0,0,0,0,0,0,0,0,0,0,0,0,0,0,0,0,0,0,0,0,0,0,0,0,0,0,0,0,0,0,0,0,0,0,0,0,0,0,0,0,0,0,0,0,0,0,0,0,0,0,0,0,0,0,0,0,0,0,0,0,0,0,0,0,0,0,0,0,0,0,0,0,0,0,0,0,0,0,0,0,0,0,0,0,0,0,0,0,0,0,0,0,0,0,0,0,0,0,0,0,0,0,0,0,0,0,0,0,0,0,0,0,0,0,0,0,0,0,0,0,0,0,0,0,0,0,0,0,0,0,0,0,0,0,0,0,0,0,0,0,0,0,0,0,0,0,0,0,0,0,0,0,0,0,0,0,0,0,0,0,0,0,0,0,0,0,0,0,0,0,0,0,0,0,0,0,0,0,0,0,0,0,0,0,0,0,0,0,0,0,0,0,0,0,0,0,0,0,0,0,0,0,0,0,0,0,0,0,0,0,0,0,0,0,0,0,0,0,0,0,0,0,0,0,0,0,0,0,0,0,0,0,0,0,0,0,0,0,0,0,0,0,0,0,0,0,0,0,0,0,0,0,0,0,0,0,0,0,0,0,0,0,0,0,0,0,0,0,0,0,0,0,0,0,0,0,0,0,0,0,0,0,0,0,0,0,0,0,0,0,0,0,0,0,0,0,0,0,0,0,0,0,0,0,0,0,0,0,0,0,0,0,0,0,0,0,0,0,0,0,0,0,0,0,0,0,0,0,0,0,0,0,0,0,0,0,0,0,0,0,0,0,0,0,0,0,0,0,0,0,0,0,0,0,0,0,0,0,0,0,0,0,0,0,0,0,0,0,0,0,0,0,0,0,0,0,0,0,1,1,1,1,1,1]},\"selected\":{\"id\":\"1142\"},\"selection_policy\":{\"id\":\"1141\"}},\"id\":\"1130\",\"type\":\"ColumnDataSource\"},{\"attributes\":{\"axis_label\":\"active ants\",\"formatter\":{\"id\":\"1140\"},\"ticker\":{\"id\":\"1113\"}},\"id\":\"1112\",\"type\":\"LinearAxis\"},{\"attributes\":{\"axis_label\":\"steps\",\"formatter\":{\"id\":\"1138\"},\"ticker\":{\"id\":\"1148\"}},\"id\":\"1108\",\"type\":\"LinearAxis\"},{\"attributes\":{},\"id\":\"1140\",\"type\":\"BasicTickFormatter\"},{\"attributes\":{},\"id\":\"1106\",\"type\":\"LinearScale\"},{\"attributes\":{\"active_drag\":\"auto\",\"active_inspect\":\"auto\",\"active_multi\":null,\"active_scroll\":{\"id\":\"1117\"},\"active_tap\":\"auto\",\"tools\":[{\"id\":\"1150\"}]},\"id\":\"1123\",\"type\":\"Toolbar\"},{\"attributes\":{\"axis\":{\"id\":\"1108\"},\"ticker\":null},\"id\":\"1111\",\"type\":\"Grid\"},{\"attributes\":{\"click_policy\":\"hide\",\"items\":[{\"id\":\"1145\"}],\"visible\":false},\"id\":\"1144\",\"type\":\"Legend\"},{\"attributes\":{},\"id\":\"1113\",\"type\":\"BasicTicker\"},{\"attributes\":{},\"id\":\"1102\",\"type\":\"DataRange1d\"}],\"root_ids\":[\"1097\"]},\"title\":\"Bokeh Application\",\"version\":\"2.2.3\"}};\n",
       "  var render_items = [{\"docid\":\"e3e8dc04-d028-4889-8642-ea9ef6e05f72\",\"root_ids\":[\"1097\"],\"roots\":{\"1097\":\"6da6b26f-d19b-44a3-a5f7-e4184d9af550\"}}];\n",
       "  root.Bokeh.embed.embed_items_notebook(docs_json, render_items);\n",
       "\n",
       "  }\n",
       "  if (root.Bokeh !== undefined) {\n",
       "    embed_document(root);\n",
       "  } else {\n",
       "    var attempts = 0;\n",
       "    var timer = setInterval(function(root) {\n",
       "      if (root.Bokeh !== undefined) {\n",
       "        clearInterval(timer);\n",
       "        embed_document(root);\n",
       "      } else {\n",
       "        attempts++;\n",
       "        if (attempts > 100) {\n",
       "          clearInterval(timer);\n",
       "          console.log(\"Bokeh: ERROR: Unable to run BokehJS code because BokehJS library is missing\");\n",
       "        }\n",
       "      }\n",
       "    }, 10, root)\n",
       "  }\n",
       "})(window);"
      ],
      "application/vnd.bokehjs_exec.v0+json": ""
     },
     "metadata": {
      "application/vnd.bokehjs_exec.v0+json": {
       "id": "1097"
      }
     },
     "output_type": "display_data"
    },
    {
     "data": {
      "text/html": [
       "\n",
       "\n",
       "\n",
       "\n",
       "\n",
       "\n",
       "  <div class=\"bk-root\" id=\"83daaa0d-8d41-48da-8b4f-5f5f995c12ce\" data-root-id=\"1195\"></div>\n"
      ]
     },
     "metadata": {},
     "output_type": "display_data"
    },
    {
     "data": {
      "application/javascript": [
       "(function(root) {\n",
       "  function embed_document(root) {\n",
       "    \n",
       "  var docs_json = {\"cd76d132-9c69-4217-af8a-5ae31920923b\":{\"roots\":{\"references\":[{\"attributes\":{\"below\":[{\"id\":\"1206\"}],\"center\":[{\"id\":\"1209\"},{\"id\":\"1213\"},{\"id\":\"1242\"}],\"left\":[{\"id\":\"1210\"}],\"output_backend\":\"webgl\",\"plot_height\":150,\"plot_width\":800,\"renderers\":[{\"id\":\"1232\"}],\"sizing_mode\":\"fixed\",\"title\":{\"id\":\"1196\"},\"toolbar\":{\"id\":\"1221\"},\"x_range\":{\"id\":\"1198\"},\"x_scale\":{\"id\":\"1202\"},\"y_range\":{\"id\":\"1200\"},\"y_scale\":{\"id\":\"1204\"}},\"id\":\"1195\",\"subtype\":\"Figure\",\"type\":\"Plot\"},{\"attributes\":{\"ticks\":[0,100,200,300,400,500,600]},\"id\":\"1246\",\"type\":\"FixedTicker\"},{\"attributes\":{},\"id\":\"1198\",\"type\":\"DataRange1d\"},{\"attributes\":{\"active_drag\":\"auto\",\"active_inspect\":\"auto\",\"active_multi\":null,\"active_scroll\":{\"id\":\"1215\"},\"active_tap\":\"auto\",\"tools\":[{\"id\":\"1248\"}]},\"id\":\"1221\",\"type\":\"Toolbar\"},{\"attributes\":{},\"id\":\"1248\",\"type\":\"SaveTool\"},{\"attributes\":{},\"id\":\"1202\",\"type\":\"LinearScale\"},{\"attributes\":{},\"id\":\"1236\",\"type\":\"BasicTickFormatter\"},{\"attributes\":{},\"id\":\"1215\",\"type\":\"WheelZoomTool\"},{\"attributes\":{\"text\":\"density at 0.1\"},\"id\":\"1196\",\"type\":\"Title\"},{\"attributes\":{},\"id\":\"1238\",\"type\":\"BasicTickFormatter\"},{\"attributes\":{},\"id\":\"1211\",\"type\":\"BasicTicker\"},{\"attributes\":{\"data_source\":{\"id\":\"1228\"},\"glyph\":{\"id\":\"1230\"},\"hover_glyph\":null,\"muted_glyph\":null,\"nonselection_glyph\":{\"id\":\"1231\"},\"selection_glyph\":null,\"view\":{\"id\":\"1233\"}},\"id\":\"1232\",\"type\":\"GlyphRenderer\"},{\"attributes\":{\"data\":{\"__x__values\":[0,1,2,3,4,5,6,7,8,9,10,11,12,13,14,15,16,17,18,19,20,21,22,23,24,25,26,27,28,29,30,31,32,33,34,35,36,37,38,39,40,41,42,43,44,45,46,47,48,49,50,51,52,53,54,55,56,57,58,59,60,61,62,63,64,65,66,67,68,69,70,71,72,73,74,75,76,77,78,79,80,81,82,83,84,85,86,87,88,89,90,91,92,93,94,95,96,97,98,99,100,101,102,103,104,105,106,107,108,109,110,111,112,113,114,115,116,117,118,119,120,121,122,123,124,125,126,127,128,129,130,131,132,133,134,135,136,137,138,139,140,141,142,143,144,145,146,147,148,149,150,151,152,153,154,155,156,157,158,159,160,161,162,163,164,165,166,167,168,169,170,171,172,173,174,175,176,177,178,179,180,181,182,183,184,185,186,187,188,189,190,191,192,193,194,195,196,197,198,199,200,201,202,203,204,205,206,207,208,209,210,211,212,213,214,215,216,217,218,219,220,221,222,223,224,225,226,227,228,229,230,231,232,233,234,235,236,237,238,239,240,241,242,243,244,245,246,247,248,249,250,251,252,253,254,255,256,257,258,259,260,261,262,263,264,265,266,267,268,269,270,271,272,273,274,275,276,277,278,279,280,281,282,283,284,285,286,287,288,289,290,291,292,293,294,295,296,297,298,299,300,301,302,303,304,305,306,307,308,309,310,311,312,313,314,315,316,317,318,319,320,321,322,323,324,325,326,327,328,329,330,331,332,333,334,335,336,337,338,339,340,341,342,343,344,345,346,347,348,349,350,351,352,353,354,355,356,357,358,359,360,361,362,363,364,365,366,367,368,369,370,371,372,373,374,375,376,377,378,379,380,381,382,383,384,385,386,387,388,389,390,391,392,393,394,395,396,397,398,399,400,401,402,403,404,405,406,407,408,409,410,411,412,413,414,415,416,417,418,419,420,421,422,423,424,425,426,427,428,429,430,431,432,433,434,435,436,437,438,439,440,441,442,443,444,445,446,447,448,449,450,451,452,453,454,455,456,457,458,459,460,461,462,463,464,465,466,467,468,469,470,471,472,473,474,475,476,477,478,479,480,481,482,483,484,485,486,487,488,489,490,491,492,493,494,495,496,497,498,499,500,501,502,503,504,505,506,507,508,509,510,511,512,513,514,515,516,517,518,519,520,521,522,523,524,525,526,527,528,529,530,531,532,533,534,535,536,537,538,539,540,541,542,543,544,545,546,547,548,549,550,551,552,553,554,555,556,557,558,559,560,561,562,563,564,565,566,567,568,569,570,571,572,573,574,575,576,577,578,579,580,581,582,583,584,585,586,587,588,589,590,591,592,593,594,595,596,597,598,599,600],\"__x__values_original\":[0,1,2,3,4,5,6,7,8,9,10,11,12,13,14,15,16,17,18,19,20,21,22,23,24,25,26,27,28,29,30,31,32,33,34,35,36,37,38,39,40,41,42,43,44,45,46,47,48,49,50,51,52,53,54,55,56,57,58,59,60,61,62,63,64,65,66,67,68,69,70,71,72,73,74,75,76,77,78,79,80,81,82,83,84,85,86,87,88,89,90,91,92,93,94,95,96,97,98,99,100,101,102,103,104,105,106,107,108,109,110,111,112,113,114,115,116,117,118,119,120,121,122,123,124,125,126,127,128,129,130,131,132,133,134,135,136,137,138,139,140,141,142,143,144,145,146,147,148,149,150,151,152,153,154,155,156,157,158,159,160,161,162,163,164,165,166,167,168,169,170,171,172,173,174,175,176,177,178,179,180,181,182,183,184,185,186,187,188,189,190,191,192,193,194,195,196,197,198,199,200,201,202,203,204,205,206,207,208,209,210,211,212,213,214,215,216,217,218,219,220,221,222,223,224,225,226,227,228,229,230,231,232,233,234,235,236,237,238,239,240,241,242,243,244,245,246,247,248,249,250,251,252,253,254,255,256,257,258,259,260,261,262,263,264,265,266,267,268,269,270,271,272,273,274,275,276,277,278,279,280,281,282,283,284,285,286,287,288,289,290,291,292,293,294,295,296,297,298,299,300,301,302,303,304,305,306,307,308,309,310,311,312,313,314,315,316,317,318,319,320,321,322,323,324,325,326,327,328,329,330,331,332,333,334,335,336,337,338,339,340,341,342,343,344,345,346,347,348,349,350,351,352,353,354,355,356,357,358,359,360,361,362,363,364,365,366,367,368,369,370,371,372,373,374,375,376,377,378,379,380,381,382,383,384,385,386,387,388,389,390,391,392,393,394,395,396,397,398,399,400,401,402,403,404,405,406,407,408,409,410,411,412,413,414,415,416,417,418,419,420,421,422,423,424,425,426,427,428,429,430,431,432,433,434,435,436,437,438,439,440,441,442,443,444,445,446,447,448,449,450,451,452,453,454,455,456,457,458,459,460,461,462,463,464,465,466,467,468,469,470,471,472,473,474,475,476,477,478,479,480,481,482,483,484,485,486,487,488,489,490,491,492,493,494,495,496,497,498,499,500,501,502,503,504,505,506,507,508,509,510,511,512,513,514,515,516,517,518,519,520,521,522,523,524,525,526,527,528,529,530,531,532,533,534,535,536,537,538,539,540,541,542,543,544,545,546,547,548,549,550,551,552,553,554,555,556,557,558,559,560,561,562,563,564,565,566,567,568,569,570,571,572,573,574,575,576,577,578,579,580,581,582,583,584,585,586,587,588,589,590,591,592,593,594,595,596,597,598,599,600],\"active_count\":[0,0,0,0,0,0,0,0,0,0,0,0,0,0,0,0,0,0,0,0,0,0,0,0,0,0,0,0,0,0,0,1,3,5,5,6,6,6,7,5,6,6,7,7,7,7,8,8,2,3,3,2,1,1,1,0,0,1,1,1,1,1,2,1,1,2,2,2,2,3,3,2,2,2,3,2,4,4,5,6,7,7,7,8,5,5,3,4,3,2,2,2,3,2,3,2,2,3,3,5,4,6,6,7,8,8,8,6,7,6,3,3,4,6,7,8,10,10,10,9,8,6,0,0,0,0,0,0,0,0,0,0,0,0,0,0,0,0,0,0,0,0,0,0,0,0,0,0,0,0,0,0,0,0,0,0,0,0,0,0,0,0,0,0,0,0,0,0,0,0,0,0,0,0,0,0,0,0,0,0,0,0,0,0,1,1,2,3,4,4,3,3,3,2,4,4,6,6,8,9,9,10,9,10,4,3,4,4,4,5,7,5,5,6,8,9,9,8,9,9,7,3,4,5,5,5,5,6,5,7,3,3,5,6,7,8,8,8,5,3,4,5,8,8,9,9,10,8,5,6,6,7,6,7,7,7,7,2,2,0,0,0,0,0,0,0,0,0,0,0,0,0,1,2,4,4,4,6,6,5,5,5,6,2,3,4,4,4,4,4,3,0,0,0,0,1,1,3,3,3,4,4,5,4,4,4,2,2,0,0,0,0,0,0,0,0,0,0,0,0,0,0,0,0,0,0,0,0,1,1,2,2,2,3,2,2,3,5,5,5,6,6,6,3,3,4,2,3,3,3,3,3,2,1,3,5,7,9,10,10,9,9,9,6,2,2,4,5,7,7,7,7,6,6,0,0,0,0,0,0,0,0,0,0,0,0,0,0,0,0,0,0,0,0,0,0,0,0,1,1,2,4,5,5,5,5,5,4,0,1,2,3,4,6,7,7,7,6,6,3,1,1,2,2,3,3,3,4,2,3,4,4,4,3,4,4,4,5,5,5,5,3,3,1,2,4,5,5,7,7,7,3,3,4,3,3,4,4,5,5,5,5,6,6,5,2,3,4,5,6,6,6,6,7,7,3,3,4,5,6,6,6,6,5,4,0,0,0,0,0,0,0,0,0,0,0,0,0,0,0,0,0,0,0,0,0,1,1,1,3,4,5,6,6,6,6,5,6,4,7,7,8,8,9,8,7,7,3,3,0,0,0,0,0,0,0,0,0,0,0,0,1,2,2,2,3,4,5,5,5,5,6,4,3,5,6,6,7,7,7,7,6,6,5,5,5,4,2,3,3,3,3,4,4,3,3,4,4,4,5,5,5,6,7,5,4,6,6,5,5,5,5,1,1,3,4,5,6,8,8,9]},\"selected\":{\"id\":\"1240\"},\"selection_policy\":{\"id\":\"1239\"}},\"id\":\"1228\",\"type\":\"ColumnDataSource\"},{\"attributes\":{\"line_alpha\":0.1,\"line_color\":\"#1f77b4\",\"line_width\":2,\"x\":{\"field\":\"__x__values\"},\"y\":{\"field\":\"active_count\"}},\"id\":\"1231\",\"type\":\"Line\"},{\"attributes\":{\"line_color\":\"#1f77b4\",\"line_width\":2,\"x\":{\"field\":\"__x__values\"},\"y\":{\"field\":\"active_count\"}},\"id\":\"1230\",\"type\":\"Line\"},{\"attributes\":{},\"id\":\"1239\",\"type\":\"UnionRenderers\"},{\"attributes\":{\"source\":{\"id\":\"1228\"}},\"id\":\"1233\",\"type\":\"CDSView\"},{\"attributes\":{\"axis_label\":\"steps\",\"formatter\":{\"id\":\"1236\"},\"ticker\":{\"id\":\"1246\"}},\"id\":\"1206\",\"type\":\"LinearAxis\"},{\"attributes\":{},\"id\":\"1240\",\"type\":\"Selection\"},{\"attributes\":{\"click_policy\":\"hide\",\"items\":[{\"id\":\"1243\"}],\"visible\":false},\"id\":\"1242\",\"type\":\"Legend\"},{\"attributes\":{\"label\":{\"value\":\" active_count\"},\"renderers\":[{\"id\":\"1232\"}]},\"id\":\"1243\",\"type\":\"LegendItem\"},{\"attributes\":{},\"id\":\"1200\",\"type\":\"DataRange1d\"},{\"attributes\":{\"axis_label\":\"active ants\",\"formatter\":{\"id\":\"1238\"},\"ticker\":{\"id\":\"1211\"}},\"id\":\"1210\",\"type\":\"LinearAxis\"},{\"attributes\":{\"axis\":{\"id\":\"1210\"},\"dimension\":1,\"ticker\":null},\"id\":\"1213\",\"type\":\"Grid\"},{\"attributes\":{\"axis\":{\"id\":\"1206\"},\"ticker\":null},\"id\":\"1209\",\"type\":\"Grid\"},{\"attributes\":{},\"id\":\"1204\",\"type\":\"LinearScale\"}],\"root_ids\":[\"1195\"]},\"title\":\"Bokeh Application\",\"version\":\"2.2.3\"}};\n",
       "  var render_items = [{\"docid\":\"cd76d132-9c69-4217-af8a-5ae31920923b\",\"root_ids\":[\"1195\"],\"roots\":{\"1195\":\"83daaa0d-8d41-48da-8b4f-5f5f995c12ce\"}}];\n",
       "  root.Bokeh.embed.embed_items_notebook(docs_json, render_items);\n",
       "\n",
       "  }\n",
       "  if (root.Bokeh !== undefined) {\n",
       "    embed_document(root);\n",
       "  } else {\n",
       "    var attempts = 0;\n",
       "    var timer = setInterval(function(root) {\n",
       "      if (root.Bokeh !== undefined) {\n",
       "        clearInterval(timer);\n",
       "        embed_document(root);\n",
       "      } else {\n",
       "        attempts++;\n",
       "        if (attempts > 100) {\n",
       "          clearInterval(timer);\n",
       "          console.log(\"Bokeh: ERROR: Unable to run BokehJS code because BokehJS library is missing\");\n",
       "        }\n",
       "      }\n",
       "    }, 10, root)\n",
       "  }\n",
       "})(window);"
      ],
      "application/vnd.bokehjs_exec.v0+json": ""
     },
     "metadata": {
      "application/vnd.bokehjs_exec.v0+json": {
       "id": "1195"
      }
     },
     "output_type": "display_data"
    },
    {
     "data": {
      "text/html": [
       "\n",
       "\n",
       "\n",
       "\n",
       "\n",
       "\n",
       "  <div class=\"bk-root\" id=\"103d549e-6659-47eb-9d29-15298dcf1f1d\" data-root-id=\"1299\"></div>\n"
      ]
     },
     "metadata": {},
     "output_type": "display_data"
    },
    {
     "data": {
      "application/javascript": [
       "(function(root) {\n",
       "  function embed_document(root) {\n",
       "    \n",
       "  var docs_json = {\"fb78fc61-3073-472d-8b67-462faafdb7bd\":{\"roots\":{\"references\":[{\"attributes\":{\"below\":[{\"id\":\"1310\"}],\"center\":[{\"id\":\"1313\"},{\"id\":\"1317\"},{\"id\":\"1346\"}],\"left\":[{\"id\":\"1314\"}],\"output_backend\":\"webgl\",\"plot_height\":150,\"plot_width\":800,\"renderers\":[{\"id\":\"1336\"}],\"sizing_mode\":\"fixed\",\"title\":{\"id\":\"1300\"},\"toolbar\":{\"id\":\"1325\"},\"x_range\":{\"id\":\"1302\"},\"x_scale\":{\"id\":\"1306\"},\"y_range\":{\"id\":\"1304\"},\"y_scale\":{\"id\":\"1308\"}},\"id\":\"1299\",\"subtype\":\"Figure\",\"type\":\"Plot\"},{\"attributes\":{},\"id\":\"1319\",\"type\":\"WheelZoomTool\"},{\"attributes\":{},\"id\":\"1304\",\"type\":\"DataRange1d\"},{\"attributes\":{\"axis_label\":\"steps\",\"formatter\":{\"id\":\"1340\"},\"ticker\":{\"id\":\"1350\"}},\"id\":\"1310\",\"type\":\"LinearAxis\"},{\"attributes\":{\"axis\":{\"id\":\"1310\"},\"ticker\":null},\"id\":\"1313\",\"type\":\"Grid\"},{\"attributes\":{\"axis_label\":\"active ants\",\"formatter\":{\"id\":\"1342\"},\"ticker\":{\"id\":\"1315\"}},\"id\":\"1314\",\"type\":\"LinearAxis\"},{\"attributes\":{\"axis\":{\"id\":\"1314\"},\"dimension\":1,\"ticker\":null},\"id\":\"1317\",\"type\":\"Grid\"},{\"attributes\":{\"label\":{\"value\":\" active_count\"},\"renderers\":[{\"id\":\"1336\"}]},\"id\":\"1347\",\"type\":\"LegendItem\"},{\"attributes\":{\"source\":{\"id\":\"1332\"}},\"id\":\"1337\",\"type\":\"CDSView\"},{\"attributes\":{},\"id\":\"1315\",\"type\":\"BasicTicker\"},{\"attributes\":{},\"id\":\"1340\",\"type\":\"BasicTickFormatter\"},{\"attributes\":{\"active_drag\":\"auto\",\"active_inspect\":\"auto\",\"active_multi\":null,\"active_scroll\":{\"id\":\"1319\"},\"active_tap\":\"auto\",\"tools\":[{\"id\":\"1352\"}]},\"id\":\"1325\",\"type\":\"Toolbar\"},{\"attributes\":{},\"id\":\"1308\",\"type\":\"LinearScale\"},{\"attributes\":{},\"id\":\"1342\",\"type\":\"BasicTickFormatter\"},{\"attributes\":{\"data_source\":{\"id\":\"1332\"},\"glyph\":{\"id\":\"1334\"},\"hover_glyph\":null,\"muted_glyph\":null,\"nonselection_glyph\":{\"id\":\"1335\"},\"selection_glyph\":null,\"view\":{\"id\":\"1337\"}},\"id\":\"1336\",\"type\":\"GlyphRenderer\"},{\"attributes\":{\"data\":{\"__x__values\":[0,1,2,3,4,5,6,7,8,9,10,11,12,13,14,15,16,17,18,19,20,21,22,23,24,25,26,27,28,29,30,31,32,33,34,35,36,37,38,39,40,41,42,43,44,45,46,47,48,49,50,51,52,53,54,55,56,57,58,59,60,61,62,63,64,65,66,67,68,69,70,71,72,73,74,75,76,77,78,79,80,81,82,83,84,85,86,87,88,89,90,91,92,93,94,95,96,97,98,99,100,101,102,103,104,105,106,107,108,109,110,111,112,113,114,115,116,117,118,119,120,121,122,123,124,125,126,127,128,129,130,131,132,133,134,135,136,137,138,139,140,141,142,143,144,145,146,147,148,149,150,151,152,153,154,155,156,157,158,159,160,161,162,163,164,165,166,167,168,169,170,171,172,173,174,175,176,177,178,179,180,181,182,183,184,185,186,187,188,189,190,191,192,193,194,195,196,197,198,199,200,201,202,203,204,205,206,207,208,209,210,211,212,213,214,215,216,217,218,219,220,221,222,223,224,225,226,227,228,229,230,231,232,233,234,235,236,237,238,239,240,241,242,243,244,245,246,247,248,249,250,251,252,253,254,255,256,257,258,259,260,261,262,263,264,265,266,267,268,269,270,271,272,273,274,275,276,277,278,279,280,281,282,283,284,285,286,287,288,289,290,291,292,293,294,295,296,297,298,299,300,301,302,303,304,305,306,307,308,309,310,311,312,313,314,315,316,317,318,319,320,321,322,323,324,325,326,327,328,329,330,331,332,333,334,335,336,337,338,339,340,341,342,343,344,345,346,347,348,349,350,351,352,353,354,355,356,357,358,359,360,361,362,363,364,365,366,367,368,369,370,371,372,373,374,375,376,377,378,379,380,381,382,383,384,385,386,387,388,389,390,391,392,393,394,395,396,397,398,399,400,401,402,403,404,405,406,407,408,409,410,411,412,413,414,415,416,417,418,419,420,421,422,423,424,425,426,427,428,429,430,431,432,433,434,435,436,437,438,439,440,441,442,443,444,445,446,447,448,449,450,451,452,453,454,455,456,457,458,459,460,461,462,463,464,465,466,467,468,469,470,471,472,473,474,475,476,477,478,479,480,481,482,483,484,485,486,487,488,489,490,491,492,493,494,495,496,497,498,499,500,501,502,503,504,505,506,507,508,509,510,511,512,513,514,515,516,517,518,519,520,521,522,523,524,525,526,527,528,529,530,531,532,533,534,535,536,537,538,539,540,541,542,543,544,545,546,547,548,549,550,551,552,553,554,555,556,557,558,559,560,561,562,563,564,565,566,567,568,569,570,571,572,573,574,575,576,577,578,579,580,581,582,583,584,585,586,587,588,589,590,591,592,593,594,595,596,597,598,599,600],\"__x__values_original\":[0,1,2,3,4,5,6,7,8,9,10,11,12,13,14,15,16,17,18,19,20,21,22,23,24,25,26,27,28,29,30,31,32,33,34,35,36,37,38,39,40,41,42,43,44,45,46,47,48,49,50,51,52,53,54,55,56,57,58,59,60,61,62,63,64,65,66,67,68,69,70,71,72,73,74,75,76,77,78,79,80,81,82,83,84,85,86,87,88,89,90,91,92,93,94,95,96,97,98,99,100,101,102,103,104,105,106,107,108,109,110,111,112,113,114,115,116,117,118,119,120,121,122,123,124,125,126,127,128,129,130,131,132,133,134,135,136,137,138,139,140,141,142,143,144,145,146,147,148,149,150,151,152,153,154,155,156,157,158,159,160,161,162,163,164,165,166,167,168,169,170,171,172,173,174,175,176,177,178,179,180,181,182,183,184,185,186,187,188,189,190,191,192,193,194,195,196,197,198,199,200,201,202,203,204,205,206,207,208,209,210,211,212,213,214,215,216,217,218,219,220,221,222,223,224,225,226,227,228,229,230,231,232,233,234,235,236,237,238,239,240,241,242,243,244,245,246,247,248,249,250,251,252,253,254,255,256,257,258,259,260,261,262,263,264,265,266,267,268,269,270,271,272,273,274,275,276,277,278,279,280,281,282,283,284,285,286,287,288,289,290,291,292,293,294,295,296,297,298,299,300,301,302,303,304,305,306,307,308,309,310,311,312,313,314,315,316,317,318,319,320,321,322,323,324,325,326,327,328,329,330,331,332,333,334,335,336,337,338,339,340,341,342,343,344,345,346,347,348,349,350,351,352,353,354,355,356,357,358,359,360,361,362,363,364,365,366,367,368,369,370,371,372,373,374,375,376,377,378,379,380,381,382,383,384,385,386,387,388,389,390,391,392,393,394,395,396,397,398,399,400,401,402,403,404,405,406,407,408,409,410,411,412,413,414,415,416,417,418,419,420,421,422,423,424,425,426,427,428,429,430,431,432,433,434,435,436,437,438,439,440,441,442,443,444,445,446,447,448,449,450,451,452,453,454,455,456,457,458,459,460,461,462,463,464,465,466,467,468,469,470,471,472,473,474,475,476,477,478,479,480,481,482,483,484,485,486,487,488,489,490,491,492,493,494,495,496,497,498,499,500,501,502,503,504,505,506,507,508,509,510,511,512,513,514,515,516,517,518,519,520,521,522,523,524,525,526,527,528,529,530,531,532,533,534,535,536,537,538,539,540,541,542,543,544,545,546,547,548,549,550,551,552,553,554,555,556,557,558,559,560,561,562,563,564,565,566,567,568,569,570,571,572,573,574,575,576,577,578,579,580,581,582,583,584,585,586,587,588,589,590,591,592,593,594,595,596,597,598,599,600],\"active_count\":[0,0,0,0,0,0,0,1,1,1,2,2,4,6,9,12,17,18,20,20,20,18,15,18,16,10,12,16,18,20,16,18,20,20,15,14,16,17,16,14,15,16,11,10,13,18,17,18,20,19,19,15,17,18,16,18,18,18,19,19,15,7,12,17,18,19,20,20,19,16,14,17,15,16,17,17,16,17,14,16,12,15,17,18,18,18,20,20,20,13,18,15,15,17,17,19,19,19,19,17,20,9,12,14,18,19,19,20,20,20,16,6,7,2,5,7,8,11,11,11,12,14,16,13,16,18,18,20,20,20,19,16,17,9,11,11,12,12,13,14,10,16,18,19,18,19,19,19,19,17,19,17,20,18,17,19,20,20,16,18,18,16,14,19,20,17,19,19,19,15,16,19,11,17,19,20,20,19,19,14,14,9,13,19,20,20,20,20,20,9,1,1,3,7,12,16,16,18,20,20,20,18,20,18,12,15,17,17,18,18,19,18,11,15,14,17,18,20,20,20,20,17,19,10,11,14,16,17,18,19,20,15,16,13,19,17,19,20,20,18,11,13,15,17,19,20,20,20,20,19,11,5,7,10,15,16,18,20,20,20,19,18,19,12,8,15,18,19,18,20,20,20,18,17,17,7,11,11,14,15,17,20,19,20,19,19,19,14,16,12,15,19,19,20,20,20,19,17,14,3,7,13,14,20,20,20,19,19,19,12,1,2,5,8,10,11,15,16,17,15,18,20,19,15,15,17,16,9,11,14,17,19,18,19,20,20,19,19,12,10,12,16,18,20,20,20,20,19,18,1,1,2,6,10,14,16,16,17,17,18,19,8,9,8,12,11,11,14,17,20,20,20,18,16,16,7,9,13,13,16,17,18,19,19,20,9,7,8,7,9,10,14,17,19,19,20,20,20,15,13,14,13,16,19,19,19,19,18,19,3,3,4,6,10,12,15,17,19,19,20,19,20,20,10,15,16,17,17,18,19,20,13,16,17,19,20,20,20,19,18,17,2,3,6,9,13,18,19,20,20,20,20,8,3,7,12,13,14,16,18,18,19,18,19,16,5,8,11,12,12,14,16,18,18,17,17,13,13,17,16,20,20,19,19,17,20,15,13,16,19,20,16,17,18,20,18,16,17,15,15,12,15,15,13,16,19,20,20,16,20,20,19,15,19,20,19,18,19,20,17,10,12,11,14,13,15,18,18,20,20,20,20,10,12,10,10,13,17,20,20,20,20,20,16,8,5,11,15,17,19,20,20,20,20,20,19,1,2,5,5,7,10,14,17,17,19,19,19,19,19,18,3,4,5,5,9,12,19,19,20,20,19,20,16,13,13,17,18,19,19,19,18,16,15,1,1,3,4,8,9,12]},\"selected\":{\"id\":\"1344\"},\"selection_policy\":{\"id\":\"1343\"}},\"id\":\"1332\",\"type\":\"ColumnDataSource\"},{\"attributes\":{},\"id\":\"1352\",\"type\":\"SaveTool\"},{\"attributes\":{\"text\":\"density at 0.2\"},\"id\":\"1300\",\"type\":\"Title\"},{\"attributes\":{\"line_alpha\":0.1,\"line_color\":\"#1f77b4\",\"line_width\":2,\"x\":{\"field\":\"__x__values\"},\"y\":{\"field\":\"active_count\"}},\"id\":\"1335\",\"type\":\"Line\"},{\"attributes\":{\"ticks\":[0,100,200,300,400,500,600]},\"id\":\"1350\",\"type\":\"FixedTicker\"},{\"attributes\":{\"line_color\":\"#1f77b4\",\"line_width\":2,\"x\":{\"field\":\"__x__values\"},\"y\":{\"field\":\"active_count\"}},\"id\":\"1334\",\"type\":\"Line\"},{\"attributes\":{},\"id\":\"1302\",\"type\":\"DataRange1d\"},{\"attributes\":{},\"id\":\"1343\",\"type\":\"UnionRenderers\"},{\"attributes\":{\"click_policy\":\"hide\",\"items\":[{\"id\":\"1347\"}],\"visible\":false},\"id\":\"1346\",\"type\":\"Legend\"},{\"attributes\":{},\"id\":\"1344\",\"type\":\"Selection\"},{\"attributes\":{},\"id\":\"1306\",\"type\":\"LinearScale\"}],\"root_ids\":[\"1299\"]},\"title\":\"Bokeh Application\",\"version\":\"2.2.3\"}};\n",
       "  var render_items = [{\"docid\":\"fb78fc61-3073-472d-8b67-462faafdb7bd\",\"root_ids\":[\"1299\"],\"roots\":{\"1299\":\"103d549e-6659-47eb-9d29-15298dcf1f1d\"}}];\n",
       "  root.Bokeh.embed.embed_items_notebook(docs_json, render_items);\n",
       "\n",
       "  }\n",
       "  if (root.Bokeh !== undefined) {\n",
       "    embed_document(root);\n",
       "  } else {\n",
       "    var attempts = 0;\n",
       "    var timer = setInterval(function(root) {\n",
       "      if (root.Bokeh !== undefined) {\n",
       "        clearInterval(timer);\n",
       "        embed_document(root);\n",
       "      } else {\n",
       "        attempts++;\n",
       "        if (attempts > 100) {\n",
       "          clearInterval(timer);\n",
       "          console.log(\"Bokeh: ERROR: Unable to run BokehJS code because BokehJS library is missing\");\n",
       "        }\n",
       "      }\n",
       "    }, 10, root)\n",
       "  }\n",
       "})(window);"
      ],
      "application/vnd.bokehjs_exec.v0+json": ""
     },
     "metadata": {
      "application/vnd.bokehjs_exec.v0+json": {
       "id": "1299"
      }
     },
     "output_type": "display_data"
    },
    {
     "data": {
      "text/html": [
       "\n",
       "\n",
       "\n",
       "\n",
       "\n",
       "\n",
       "  <div class=\"bk-root\" id=\"18171612-7d65-4310-b7e2-c4e530c9eb13\" data-root-id=\"1409\"></div>\n"
      ]
     },
     "metadata": {},
     "output_type": "display_data"
    },
    {
     "data": {
      "application/javascript": [
       "(function(root) {\n",
       "  function embed_document(root) {\n",
       "    \n",
       "  var docs_json = {\"b30be5bd-7750-4803-83c8-0fa61dc205de\":{\"roots\":{\"references\":[{\"attributes\":{\"below\":[{\"id\":\"1420\"}],\"center\":[{\"id\":\"1423\"},{\"id\":\"1427\"},{\"id\":\"1456\"}],\"left\":[{\"id\":\"1424\"}],\"output_backend\":\"webgl\",\"plot_height\":150,\"plot_width\":800,\"renderers\":[{\"id\":\"1446\"}],\"sizing_mode\":\"fixed\",\"title\":{\"id\":\"1410\"},\"toolbar\":{\"id\":\"1435\"},\"x_range\":{\"id\":\"1412\"},\"x_scale\":{\"id\":\"1416\"},\"y_range\":{\"id\":\"1414\"},\"y_scale\":{\"id\":\"1418\"}},\"id\":\"1409\",\"subtype\":\"Figure\",\"type\":\"Plot\"},{\"attributes\":{},\"id\":\"1453\",\"type\":\"UnionRenderers\"},{\"attributes\":{\"text\":\"density at 0.3\"},\"id\":\"1410\",\"type\":\"Title\"},{\"attributes\":{\"axis\":{\"id\":\"1424\"},\"dimension\":1,\"ticker\":null},\"id\":\"1427\",\"type\":\"Grid\"},{\"attributes\":{},\"id\":\"1462\",\"type\":\"SaveTool\"},{\"attributes\":{},\"id\":\"1454\",\"type\":\"Selection\"},{\"attributes\":{},\"id\":\"1414\",\"type\":\"DataRange1d\"},{\"attributes\":{},\"id\":\"1452\",\"type\":\"BasicTickFormatter\"},{\"attributes\":{\"axis_label\":\"active ants\",\"formatter\":{\"id\":\"1452\"},\"ticker\":{\"id\":\"1425\"}},\"id\":\"1424\",\"type\":\"LinearAxis\"},{\"attributes\":{\"click_policy\":\"hide\",\"items\":[{\"id\":\"1457\"}],\"visible\":false},\"id\":\"1456\",\"type\":\"Legend\"},{\"attributes\":{\"axis\":{\"id\":\"1420\"},\"ticker\":null},\"id\":\"1423\",\"type\":\"Grid\"},{\"attributes\":{\"active_drag\":\"auto\",\"active_inspect\":\"auto\",\"active_multi\":null,\"active_scroll\":{\"id\":\"1429\"},\"active_tap\":\"auto\",\"tools\":[{\"id\":\"1462\"}]},\"id\":\"1435\",\"type\":\"Toolbar\"},{\"attributes\":{\"label\":{\"value\":\" active_count\"},\"renderers\":[{\"id\":\"1446\"}]},\"id\":\"1457\",\"type\":\"LegendItem\"},{\"attributes\":{\"ticks\":[0,100,200,300,400,500,600]},\"id\":\"1460\",\"type\":\"FixedTicker\"},{\"attributes\":{},\"id\":\"1412\",\"type\":\"DataRange1d\"},{\"attributes\":{},\"id\":\"1418\",\"type\":\"LinearScale\"},{\"attributes\":{\"source\":{\"id\":\"1442\"}},\"id\":\"1447\",\"type\":\"CDSView\"},{\"attributes\":{\"axis_label\":\"steps\",\"formatter\":{\"id\":\"1450\"},\"ticker\":{\"id\":\"1460\"}},\"id\":\"1420\",\"type\":\"LinearAxis\"},{\"attributes\":{\"data_source\":{\"id\":\"1442\"},\"glyph\":{\"id\":\"1444\"},\"hover_glyph\":null,\"muted_glyph\":null,\"nonselection_glyph\":{\"id\":\"1445\"},\"selection_glyph\":null,\"view\":{\"id\":\"1447\"}},\"id\":\"1446\",\"type\":\"GlyphRenderer\"},{\"attributes\":{},\"id\":\"1425\",\"type\":\"BasicTicker\"},{\"attributes\":{},\"id\":\"1450\",\"type\":\"BasicTickFormatter\"},{\"attributes\":{\"data\":{\"__x__values\":[0,1,2,3,4,5,6,7,8,9,10,11,12,13,14,15,16,17,18,19,20,21,22,23,24,25,26,27,28,29,30,31,32,33,34,35,36,37,38,39,40,41,42,43,44,45,46,47,48,49,50,51,52,53,54,55,56,57,58,59,60,61,62,63,64,65,66,67,68,69,70,71,72,73,74,75,76,77,78,79,80,81,82,83,84,85,86,87,88,89,90,91,92,93,94,95,96,97,98,99,100,101,102,103,104,105,106,107,108,109,110,111,112,113,114,115,116,117,118,119,120,121,122,123,124,125,126,127,128,129,130,131,132,133,134,135,136,137,138,139,140,141,142,143,144,145,146,147,148,149,150,151,152,153,154,155,156,157,158,159,160,161,162,163,164,165,166,167,168,169,170,171,172,173,174,175,176,177,178,179,180,181,182,183,184,185,186,187,188,189,190,191,192,193,194,195,196,197,198,199,200,201,202,203,204,205,206,207,208,209,210,211,212,213,214,215,216,217,218,219,220,221,222,223,224,225,226,227,228,229,230,231,232,233,234,235,236,237,238,239,240,241,242,243,244,245,246,247,248,249,250,251,252,253,254,255,256,257,258,259,260,261,262,263,264,265,266,267,268,269,270,271,272,273,274,275,276,277,278,279,280,281,282,283,284,285,286,287,288,289,290,291,292,293,294,295,296,297,298,299,300,301,302,303,304,305,306,307,308,309,310,311,312,313,314,315,316,317,318,319,320,321,322,323,324,325,326,327,328,329,330,331,332,333,334,335,336,337,338,339,340,341,342,343,344,345,346,347,348,349,350,351,352,353,354,355,356,357,358,359,360,361,362,363,364,365,366,367,368,369,370,371,372,373,374,375,376,377,378,379,380,381,382,383,384,385,386,387,388,389,390,391,392,393,394,395,396,397,398,399,400,401,402,403,404,405,406,407,408,409,410,411,412,413,414,415,416,417,418,419,420,421,422,423,424,425,426,427,428,429,430,431,432,433,434,435,436,437,438,439,440,441,442,443,444,445,446,447,448,449,450,451,452,453,454,455,456,457,458,459,460,461,462,463,464,465,466,467,468,469,470,471,472,473,474,475,476,477,478,479,480,481,482,483,484,485,486,487,488,489,490,491,492,493,494,495,496,497,498,499,500,501,502,503,504,505,506,507,508,509,510,511,512,513,514,515,516,517,518,519,520,521,522,523,524,525,526,527,528,529,530,531,532,533,534,535,536,537,538,539,540,541,542,543,544,545,546,547,548,549,550,551,552,553,554,555,556,557,558,559,560,561,562,563,564,565,566,567,568,569,570,571,572,573,574,575,576,577,578,579,580,581,582,583,584,585,586,587,588,589,590,591,592,593,594,595,596,597,598,599,600],\"__x__values_original\":[0,1,2,3,4,5,6,7,8,9,10,11,12,13,14,15,16,17,18,19,20,21,22,23,24,25,26,27,28,29,30,31,32,33,34,35,36,37,38,39,40,41,42,43,44,45,46,47,48,49,50,51,52,53,54,55,56,57,58,59,60,61,62,63,64,65,66,67,68,69,70,71,72,73,74,75,76,77,78,79,80,81,82,83,84,85,86,87,88,89,90,91,92,93,94,95,96,97,98,99,100,101,102,103,104,105,106,107,108,109,110,111,112,113,114,115,116,117,118,119,120,121,122,123,124,125,126,127,128,129,130,131,132,133,134,135,136,137,138,139,140,141,142,143,144,145,146,147,148,149,150,151,152,153,154,155,156,157,158,159,160,161,162,163,164,165,166,167,168,169,170,171,172,173,174,175,176,177,178,179,180,181,182,183,184,185,186,187,188,189,190,191,192,193,194,195,196,197,198,199,200,201,202,203,204,205,206,207,208,209,210,211,212,213,214,215,216,217,218,219,220,221,222,223,224,225,226,227,228,229,230,231,232,233,234,235,236,237,238,239,240,241,242,243,244,245,246,247,248,249,250,251,252,253,254,255,256,257,258,259,260,261,262,263,264,265,266,267,268,269,270,271,272,273,274,275,276,277,278,279,280,281,282,283,284,285,286,287,288,289,290,291,292,293,294,295,296,297,298,299,300,301,302,303,304,305,306,307,308,309,310,311,312,313,314,315,316,317,318,319,320,321,322,323,324,325,326,327,328,329,330,331,332,333,334,335,336,337,338,339,340,341,342,343,344,345,346,347,348,349,350,351,352,353,354,355,356,357,358,359,360,361,362,363,364,365,366,367,368,369,370,371,372,373,374,375,376,377,378,379,380,381,382,383,384,385,386,387,388,389,390,391,392,393,394,395,396,397,398,399,400,401,402,403,404,405,406,407,408,409,410,411,412,413,414,415,416,417,418,419,420,421,422,423,424,425,426,427,428,429,430,431,432,433,434,435,436,437,438,439,440,441,442,443,444,445,446,447,448,449,450,451,452,453,454,455,456,457,458,459,460,461,462,463,464,465,466,467,468,469,470,471,472,473,474,475,476,477,478,479,480,481,482,483,484,485,486,487,488,489,490,491,492,493,494,495,496,497,498,499,500,501,502,503,504,505,506,507,508,509,510,511,512,513,514,515,516,517,518,519,520,521,522,523,524,525,526,527,528,529,530,531,532,533,534,535,536,537,538,539,540,541,542,543,544,545,546,547,548,549,550,551,552,553,554,555,556,557,558,559,560,561,562,563,564,565,566,567,568,569,570,571,572,573,574,575,576,577,578,579,580,581,582,583,584,585,586,587,588,589,590,591,592,593,594,595,596,597,598,599,600],\"active_count\":[0,0,0,0,0,0,0,0,1,5,12,19,28,30,30,30,30,30,30,0,0,0,0,0,1,2,3,6,13,16,19,24,28,30,30,30,30,30,30,15,6,16,26,30,30,30,30,29,30,25,7,15,27,29,30,30,30,30,27,27,16,20,26,29,30,28,29,30,29,28,20,27,28,26,30,30,30,30,28,29,22,10,16,21,27,30,30,30,30,30,30,26,2,4,6,6,9,12,17,28,28,29,30,30,30,30,26,30,11,16,25,28,30,30,30,30,30,27,12,10,16,24,26,28,28,28,28,28,24,21,14,19,26,28,29,30,30,30,27,24,26,20,26,30,30,29,29,30,30,24,25,27,28,25,28,29,30,29,30,29,24,23,25,27,30,30,30,30,30,30,20,5,12,17,18,20,23,29,30,28,30,30,30,20,18,26,25,29,30,30,30,30,30,28,6,10,19,24,27,30,30,30,30,29,25,19,11,22,28,30,30,30,30,30,28,18,8,19,28,30,30,30,30,30,28,14,8,20,27,30,30,30,30,30,26,19,6,15,16,18,21,26,30,29,27,29,30,30,27,30,30,29,18,20,22,25,28,29,30,30,30,30,28,19,12,21,24,29,29,30,30,30,30,25,21,12,21,28,30,30,30,30,30,27,18,7,17,20,24,28,30,30,30,30,30,29,12,6,12,20,24,27,29,30,30,30,30,26,20,9,17,27,30,30,30,30,30,30,17,3,10,18,25,28,28,28,28,29,26,24,20,26,30,29,30,30,30,29,21,20,19,22,26,28,29,30,30,29,25,27,29,29,25,30,29,29,27,27,29,24,19,25,30,30,30,30,30,30,24,5,10,17,21,26,28,30,30,30,30,27,25,24,16,20,28,29,30,30,30,30,24,19,15,26,30,30,30,30,30,29,26,8,14,27,29,29,29,30,30,29,19,23,26,25,28,29,30,26,30,30,30,20,27,30,26,27,29,29,29,29,29,27,22,24,28,29,29,29,30,30,29,15,24,27,27,29,30,30,30,28,26,24,15,22,29,30,30,30,30,30,27,3,7,12,12,19,25,30,30,30,30,30,30,27,2,6,15,23,27,29,29,29,30,30,30,22,17,20,22,25,30,30,30,30,30,30,21,4,13,23,29,30,30,30,30,30,28,2,5,14,20,25,30,30,30,30,30,29,14,11,18,26,28,30,30,30,30,29,26,13,10,16,24,28,29,30,30,30,30,26,24,6,11,13,17,25,30,30,29,30,27,27,24,26,29,15,19,26,30,30,29,29,30,30,20,10,18,25,27,29,30,30,30,27,28,25,15,14,21,28,30,30,30,30,30,27,23,9,18,28,28,30,30,30,30,28,22,17,15,19,23]},\"selected\":{\"id\":\"1454\"},\"selection_policy\":{\"id\":\"1453\"}},\"id\":\"1442\",\"type\":\"ColumnDataSource\"},{\"attributes\":{\"line_alpha\":0.1,\"line_color\":\"#1f77b4\",\"line_width\":2,\"x\":{\"field\":\"__x__values\"},\"y\":{\"field\":\"active_count\"}},\"id\":\"1445\",\"type\":\"Line\"},{\"attributes\":{\"line_color\":\"#1f77b4\",\"line_width\":2,\"x\":{\"field\":\"__x__values\"},\"y\":{\"field\":\"active_count\"}},\"id\":\"1444\",\"type\":\"Line\"},{\"attributes\":{},\"id\":\"1429\",\"type\":\"WheelZoomTool\"},{\"attributes\":{},\"id\":\"1416\",\"type\":\"LinearScale\"}],\"root_ids\":[\"1409\"]},\"title\":\"Bokeh Application\",\"version\":\"2.2.3\"}};\n",
       "  var render_items = [{\"docid\":\"b30be5bd-7750-4803-83c8-0fa61dc205de\",\"root_ids\":[\"1409\"],\"roots\":{\"1409\":\"18171612-7d65-4310-b7e2-c4e530c9eb13\"}}];\n",
       "  root.Bokeh.embed.embed_items_notebook(docs_json, render_items);\n",
       "\n",
       "  }\n",
       "  if (root.Bokeh !== undefined) {\n",
       "    embed_document(root);\n",
       "  } else {\n",
       "    var attempts = 0;\n",
       "    var timer = setInterval(function(root) {\n",
       "      if (root.Bokeh !== undefined) {\n",
       "        clearInterval(timer);\n",
       "        embed_document(root);\n",
       "      } else {\n",
       "        attempts++;\n",
       "        if (attempts > 100) {\n",
       "          clearInterval(timer);\n",
       "          console.log(\"Bokeh: ERROR: Unable to run BokehJS code because BokehJS library is missing\");\n",
       "        }\n",
       "      }\n",
       "    }, 10, root)\n",
       "  }\n",
       "})(window);"
      ],
      "application/vnd.bokehjs_exec.v0+json": ""
     },
     "metadata": {
      "application/vnd.bokehjs_exec.v0+json": {
       "id": "1409"
      }
     },
     "output_type": "display_data"
    },
    {
     "data": {
      "text/html": [
       "\n",
       "\n",
       "\n",
       "\n",
       "\n",
       "\n",
       "  <div class=\"bk-root\" id=\"36b73ed6-6e51-4284-b5bb-76b9f1c6e08b\" data-root-id=\"1525\"></div>\n"
      ]
     },
     "metadata": {},
     "output_type": "display_data"
    },
    {
     "data": {
      "application/javascript": [
       "(function(root) {\n",
       "  function embed_document(root) {\n",
       "    \n",
       "  var docs_json = {\"f6c7893c-20f9-4cd7-9828-5a69a2520118\":{\"roots\":{\"references\":[{\"attributes\":{\"below\":[{\"id\":\"1536\"}],\"center\":[{\"id\":\"1539\"},{\"id\":\"1543\"},{\"id\":\"1572\"}],\"left\":[{\"id\":\"1540\"}],\"output_backend\":\"webgl\",\"plot_height\":150,\"plot_width\":800,\"renderers\":[{\"id\":\"1562\"}],\"sizing_mode\":\"fixed\",\"title\":{\"id\":\"1526\"},\"toolbar\":{\"id\":\"1551\"},\"x_range\":{\"id\":\"1528\"},\"x_scale\":{\"id\":\"1532\"},\"y_range\":{\"id\":\"1530\"},\"y_scale\":{\"id\":\"1534\"}},\"id\":\"1525\",\"subtype\":\"Figure\",\"type\":\"Plot\"},{\"attributes\":{\"axis_label\":\"active ants\",\"formatter\":{\"id\":\"1568\"},\"ticker\":{\"id\":\"1541\"}},\"id\":\"1540\",\"type\":\"LinearAxis\"},{\"attributes\":{},\"id\":\"1532\",\"type\":\"LinearScale\"},{\"attributes\":{},\"id\":\"1545\",\"type\":\"WheelZoomTool\"},{\"attributes\":{\"text\":\"density at 0.5\"},\"id\":\"1526\",\"type\":\"Title\"},{\"attributes\":{},\"id\":\"1541\",\"type\":\"BasicTicker\"},{\"attributes\":{\"axis\":{\"id\":\"1540\"},\"dimension\":1,\"ticker\":null},\"id\":\"1543\",\"type\":\"Grid\"},{\"attributes\":{\"ticks\":[0,100,200,300,400,500,600]},\"id\":\"1576\",\"type\":\"FixedTicker\"},{\"attributes\":{\"active_drag\":\"auto\",\"active_inspect\":\"auto\",\"active_multi\":null,\"active_scroll\":{\"id\":\"1545\"},\"active_tap\":\"auto\",\"tools\":[{\"id\":\"1578\"}]},\"id\":\"1551\",\"type\":\"Toolbar\"},{\"attributes\":{},\"id\":\"1534\",\"type\":\"LinearScale\"},{\"attributes\":{},\"id\":\"1578\",\"type\":\"SaveTool\"},{\"attributes\":{\"axis_label\":\"steps\",\"formatter\":{\"id\":\"1566\"},\"ticker\":{\"id\":\"1576\"}},\"id\":\"1536\",\"type\":\"LinearAxis\"},{\"attributes\":{},\"id\":\"1530\",\"type\":\"DataRange1d\"},{\"attributes\":{},\"id\":\"1528\",\"type\":\"DataRange1d\"},{\"attributes\":{},\"id\":\"1566\",\"type\":\"BasicTickFormatter\"},{\"attributes\":{},\"id\":\"1568\",\"type\":\"BasicTickFormatter\"},{\"attributes\":{\"label\":{\"value\":\" active_count\"},\"renderers\":[{\"id\":\"1562\"}]},\"id\":\"1573\",\"type\":\"LegendItem\"},{\"attributes\":{},\"id\":\"1569\",\"type\":\"UnionRenderers\"},{\"attributes\":{\"axis\":{\"id\":\"1536\"},\"ticker\":null},\"id\":\"1539\",\"type\":\"Grid\"},{\"attributes\":{\"click_policy\":\"hide\",\"items\":[{\"id\":\"1573\"}],\"visible\":false},\"id\":\"1572\",\"type\":\"Legend\"},{\"attributes\":{},\"id\":\"1570\",\"type\":\"Selection\"},{\"attributes\":{\"data_source\":{\"id\":\"1558\"},\"glyph\":{\"id\":\"1560\"},\"hover_glyph\":null,\"muted_glyph\":null,\"nonselection_glyph\":{\"id\":\"1561\"},\"selection_glyph\":null,\"view\":{\"id\":\"1563\"}},\"id\":\"1562\",\"type\":\"GlyphRenderer\"},{\"attributes\":{\"source\":{\"id\":\"1558\"}},\"id\":\"1563\",\"type\":\"CDSView\"},{\"attributes\":{\"data\":{\"__x__values\":[0,1,2,3,4,5,6,7,8,9,10,11,12,13,14,15,16,17,18,19,20,21,22,23,24,25,26,27,28,29,30,31,32,33,34,35,36,37,38,39,40,41,42,43,44,45,46,47,48,49,50,51,52,53,54,55,56,57,58,59,60,61,62,63,64,65,66,67,68,69,70,71,72,73,74,75,76,77,78,79,80,81,82,83,84,85,86,87,88,89,90,91,92,93,94,95,96,97,98,99,100,101,102,103,104,105,106,107,108,109,110,111,112,113,114,115,116,117,118,119,120,121,122,123,124,125,126,127,128,129,130,131,132,133,134,135,136,137,138,139,140,141,142,143,144,145,146,147,148,149,150,151,152,153,154,155,156,157,158,159,160,161,162,163,164,165,166,167,168,169,170,171,172,173,174,175,176,177,178,179,180,181,182,183,184,185,186,187,188,189,190,191,192,193,194,195,196,197,198,199,200,201,202,203,204,205,206,207,208,209,210,211,212,213,214,215,216,217,218,219,220,221,222,223,224,225,226,227,228,229,230,231,232,233,234,235,236,237,238,239,240,241,242,243,244,245,246,247,248,249,250,251,252,253,254,255,256,257,258,259,260,261,262,263,264,265,266,267,268,269,270,271,272,273,274,275,276,277,278,279,280,281,282,283,284,285,286,287,288,289,290,291,292,293,294,295,296,297,298,299,300,301,302,303,304,305,306,307,308,309,310,311,312,313,314,315,316,317,318,319,320,321,322,323,324,325,326,327,328,329,330,331,332,333,334,335,336,337,338,339,340,341,342,343,344,345,346,347,348,349,350,351,352,353,354,355,356,357,358,359,360,361,362,363,364,365,366,367,368,369,370,371,372,373,374,375,376,377,378,379,380,381,382,383,384,385,386,387,388,389,390,391,392,393,394,395,396,397,398,399,400,401,402,403,404,405,406,407,408,409,410,411,412,413,414,415,416,417,418,419,420,421,422,423,424,425,426,427,428,429,430,431,432,433,434,435,436,437,438,439,440,441,442,443,444,445,446,447,448,449,450,451,452,453,454,455,456,457,458,459,460,461,462,463,464,465,466,467,468,469,470,471,472,473,474,475,476,477,478,479,480,481,482,483,484,485,486,487,488,489,490,491,492,493,494,495,496,497,498,499,500,501,502,503,504,505,506,507,508,509,510,511,512,513,514,515,516,517,518,519,520,521,522,523,524,525,526,527,528,529,530,531,532,533,534,535,536,537,538,539,540,541,542,543,544,545,546,547,548,549,550,551,552,553,554,555,556,557,558,559,560,561,562,563,564,565,566,567,568,569,570,571,572,573,574,575,576,577,578,579,580,581,582,583,584,585,586,587,588,589,590,591,592,593,594,595,596,597,598,599,600],\"__x__values_original\":[0,1,2,3,4,5,6,7,8,9,10,11,12,13,14,15,16,17,18,19,20,21,22,23,24,25,26,27,28,29,30,31,32,33,34,35,36,37,38,39,40,41,42,43,44,45,46,47,48,49,50,51,52,53,54,55,56,57,58,59,60,61,62,63,64,65,66,67,68,69,70,71,72,73,74,75,76,77,78,79,80,81,82,83,84,85,86,87,88,89,90,91,92,93,94,95,96,97,98,99,100,101,102,103,104,105,106,107,108,109,110,111,112,113,114,115,116,117,118,119,120,121,122,123,124,125,126,127,128,129,130,131,132,133,134,135,136,137,138,139,140,141,142,143,144,145,146,147,148,149,150,151,152,153,154,155,156,157,158,159,160,161,162,163,164,165,166,167,168,169,170,171,172,173,174,175,176,177,178,179,180,181,182,183,184,185,186,187,188,189,190,191,192,193,194,195,196,197,198,199,200,201,202,203,204,205,206,207,208,209,210,211,212,213,214,215,216,217,218,219,220,221,222,223,224,225,226,227,228,229,230,231,232,233,234,235,236,237,238,239,240,241,242,243,244,245,246,247,248,249,250,251,252,253,254,255,256,257,258,259,260,261,262,263,264,265,266,267,268,269,270,271,272,273,274,275,276,277,278,279,280,281,282,283,284,285,286,287,288,289,290,291,292,293,294,295,296,297,298,299,300,301,302,303,304,305,306,307,308,309,310,311,312,313,314,315,316,317,318,319,320,321,322,323,324,325,326,327,328,329,330,331,332,333,334,335,336,337,338,339,340,341,342,343,344,345,346,347,348,349,350,351,352,353,354,355,356,357,358,359,360,361,362,363,364,365,366,367,368,369,370,371,372,373,374,375,376,377,378,379,380,381,382,383,384,385,386,387,388,389,390,391,392,393,394,395,396,397,398,399,400,401,402,403,404,405,406,407,408,409,410,411,412,413,414,415,416,417,418,419,420,421,422,423,424,425,426,427,428,429,430,431,432,433,434,435,436,437,438,439,440,441,442,443,444,445,446,447,448,449,450,451,452,453,454,455,456,457,458,459,460,461,462,463,464,465,466,467,468,469,470,471,472,473,474,475,476,477,478,479,480,481,482,483,484,485,486,487,488,489,490,491,492,493,494,495,496,497,498,499,500,501,502,503,504,505,506,507,508,509,510,511,512,513,514,515,516,517,518,519,520,521,522,523,524,525,526,527,528,529,530,531,532,533,534,535,536,537,538,539,540,541,542,543,544,545,546,547,548,549,550,551,552,553,554,555,556,557,558,559,560,561,562,563,564,565,566,567,568,569,570,571,572,573,574,575,576,577,578,579,580,581,582,583,584,585,586,587,588,589,590,591,592,593,594,595,596,597,598,599,600],\"active_count\":[0,0,0,0,1,4,6,12,19,33,44,49,50,50,50,50,50,49,49,6,22,39,49,50,50,50,50,50,49,49,3,16,32,45,50,50,50,50,50,50,50,15,8,28,43,48,50,50,50,50,50,50,50,4,13,26,40,48,50,50,50,50,50,50,44,6,20,33,45,50,50,50,50,50,50,50,36,5,18,37,47,50,50,50,50,50,50,49,11,13,37,45,50,50,50,50,50,50,47,24,19,31,44,50,50,50,50,50,50,50,18,19,44,50,50,50,50,50,50,49,34,17,40,49,50,50,50,50,50,50,44,5,12,22,33,46,50,50,50,50,50,50,50,30,13,40,50,50,50,50,50,50,50,38,10,33,45,50,50,50,50,50,50,48,28,22,43,49,50,50,50,50,50,48,50,19,24,38,48,50,50,50,50,50,50,47,4,12,27,43,49,50,50,50,50,50,50,41,8,20,32,45,50,50,50,50,50,50,50,5,7,14,27,41,48,50,50,50,50,50,50,42,24,35,45,50,50,50,50,50,50,50,14,15,34,41,46,48,50,50,50,50,50,45,38,20,36,46,50,50,50,50,50,50,50,10,8,22,38,46,50,50,50,50,50,50,50,2,6,23,44,50,50,50,50,50,50,50,32,11,27,39,50,50,50,50,50,50,48,35,9,22,34,47,49,50,50,49,50,50,49,48,43,50,50,50,50,50,50,50,34,7,23,45,50,50,50,50,50,50,50,28,15,41,50,50,50,50,50,50,49,29,13,34,43,49,50,50,50,50,50,50,26,20,39,49,50,50,50,50,50,50,49,4,15,32,43,48,50,50,50,50,50,49,41,8,17,41,50,50,50,50,50,50,50,27,17,37,50,50,50,50,50,50,50,41,6,17,32,49,50,50,50,50,50,50,49,9,11,23,33,43,50,50,50,50,50,50,50,28,13,34,47,50,50,50,50,50,50,50,3,5,19,34,46,50,50,50,50,50,50,50,18,18,38,50,50,50,50,50,50,50,36,7,12,24,35,46,50,50,50,50,50,50,49,34,14,33,49,50,50,50,50,50,50,50,0,0,2,9,30,44,50,50,50,50,50,50,50,17,16,34,46,50,50,50,50,50,50,47,22,18,36,43,50,50,50,50,50,50,49,24,18,41,47,49,50,50,50,50,50,50,35,13,36,46,50,50,50,50,50,50,49,10,25,43,50,50,50,50,50,50,50,31,9,29,45,50,50,50,50,50,50,49,32,18,34,46,50,50,50,50,50,50,50,34,10,28,43,50,50,50,50,50,50,50,34,13,36,50,50,50,50,50,50,50,36,9,17,28,38,49,50,50,50,50,50,50,48,9,20,41,50,50,50,50,50,50,50,27,13]},\"selected\":{\"id\":\"1570\"},\"selection_policy\":{\"id\":\"1569\"}},\"id\":\"1558\",\"type\":\"ColumnDataSource\"},{\"attributes\":{\"line_color\":\"#1f77b4\",\"line_width\":2,\"x\":{\"field\":\"__x__values\"},\"y\":{\"field\":\"active_count\"}},\"id\":\"1560\",\"type\":\"Line\"},{\"attributes\":{\"line_alpha\":0.1,\"line_color\":\"#1f77b4\",\"line_width\":2,\"x\":{\"field\":\"__x__values\"},\"y\":{\"field\":\"active_count\"}},\"id\":\"1561\",\"type\":\"Line\"}],\"root_ids\":[\"1525\"]},\"title\":\"Bokeh Application\",\"version\":\"2.2.3\"}};\n",
       "  var render_items = [{\"docid\":\"f6c7893c-20f9-4cd7-9828-5a69a2520118\",\"root_ids\":[\"1525\"],\"roots\":{\"1525\":\"36b73ed6-6e51-4284-b5bb-76b9f1c6e08b\"}}];\n",
       "  root.Bokeh.embed.embed_items_notebook(docs_json, render_items);\n",
       "\n",
       "  }\n",
       "  if (root.Bokeh !== undefined) {\n",
       "    embed_document(root);\n",
       "  } else {\n",
       "    var attempts = 0;\n",
       "    var timer = setInterval(function(root) {\n",
       "      if (root.Bokeh !== undefined) {\n",
       "        clearInterval(timer);\n",
       "        embed_document(root);\n",
       "      } else {\n",
       "        attempts++;\n",
       "        if (attempts > 100) {\n",
       "          clearInterval(timer);\n",
       "          console.log(\"Bokeh: ERROR: Unable to run BokehJS code because BokehJS library is missing\");\n",
       "        }\n",
       "      }\n",
       "    }, 10, root)\n",
       "  }\n",
       "})(window);"
      ],
      "application/vnd.bokehjs_exec.v0+json": ""
     },
     "metadata": {
      "application/vnd.bokehjs_exec.v0+json": {
       "id": "1525"
      }
     },
     "output_type": "display_data"
    },
    {
     "data": {
      "text/html": [
       "\n",
       "\n",
       "\n",
       "\n",
       "\n",
       "\n",
       "  <div class=\"bk-root\" id=\"ca8cf566-2797-46ab-a17e-18169d3024e9\" data-root-id=\"1647\"></div>\n"
      ]
     },
     "metadata": {},
     "output_type": "display_data"
    },
    {
     "data": {
      "application/javascript": [
       "(function(root) {\n",
       "  function embed_document(root) {\n",
       "    \n",
       "  var docs_json = {\"53a7ddfd-b7c4-47b1-ad5d-acc70482a538\":{\"roots\":{\"references\":[{\"attributes\":{\"below\":[{\"id\":\"1658\"}],\"center\":[{\"id\":\"1661\"},{\"id\":\"1665\"},{\"id\":\"1694\"}],\"left\":[{\"id\":\"1662\"}],\"output_backend\":\"webgl\",\"plot_height\":150,\"plot_width\":800,\"renderers\":[{\"id\":\"1684\"}],\"sizing_mode\":\"fixed\",\"title\":{\"id\":\"1648\"},\"toolbar\":{\"id\":\"1673\"},\"x_range\":{\"id\":\"1650\"},\"x_scale\":{\"id\":\"1654\"},\"y_range\":{\"id\":\"1652\"},\"y_scale\":{\"id\":\"1656\"}},\"id\":\"1647\",\"subtype\":\"Figure\",\"type\":\"Plot\"},{\"attributes\":{\"ticks\":[0,100,200,300,400,500,600]},\"id\":\"1698\",\"type\":\"FixedTicker\"},{\"attributes\":{},\"id\":\"1691\",\"type\":\"UnionRenderers\"},{\"attributes\":{\"click_policy\":\"hide\",\"items\":[{\"id\":\"1695\"}],\"visible\":false},\"id\":\"1694\",\"type\":\"Legend\"},{\"attributes\":{},\"id\":\"1692\",\"type\":\"Selection\"},{\"attributes\":{\"data\":{\"__x__values\":[0,1,2,3,4,5,6,7,8,9,10,11,12,13,14,15,16,17,18,19,20,21,22,23,24,25,26,27,28,29,30,31,32,33,34,35,36,37,38,39,40,41,42,43,44,45,46,47,48,49,50,51,52,53,54,55,56,57,58,59,60,61,62,63,64,65,66,67,68,69,70,71,72,73,74,75,76,77,78,79,80,81,82,83,84,85,86,87,88,89,90,91,92,93,94,95,96,97,98,99,100,101,102,103,104,105,106,107,108,109,110,111,112,113,114,115,116,117,118,119,120,121,122,123,124,125,126,127,128,129,130,131,132,133,134,135,136,137,138,139,140,141,142,143,144,145,146,147,148,149,150,151,152,153,154,155,156,157,158,159,160,161,162,163,164,165,166,167,168,169,170,171,172,173,174,175,176,177,178,179,180,181,182,183,184,185,186,187,188,189,190,191,192,193,194,195,196,197,198,199,200,201,202,203,204,205,206,207,208,209,210,211,212,213,214,215,216,217,218,219,220,221,222,223,224,225,226,227,228,229,230,231,232,233,234,235,236,237,238,239,240,241,242,243,244,245,246,247,248,249,250,251,252,253,254,255,256,257,258,259,260,261,262,263,264,265,266,267,268,269,270,271,272,273,274,275,276,277,278,279,280,281,282,283,284,285,286,287,288,289,290,291,292,293,294,295,296,297,298,299,300,301,302,303,304,305,306,307,308,309,310,311,312,313,314,315,316,317,318,319,320,321,322,323,324,325,326,327,328,329,330,331,332,333,334,335,336,337,338,339,340,341,342,343,344,345,346,347,348,349,350,351,352,353,354,355,356,357,358,359,360,361,362,363,364,365,366,367,368,369,370,371,372,373,374,375,376,377,378,379,380,381,382,383,384,385,386,387,388,389,390,391,392,393,394,395,396,397,398,399,400,401,402,403,404,405,406,407,408,409,410,411,412,413,414,415,416,417,418,419,420,421,422,423,424,425,426,427,428,429,430,431,432,433,434,435,436,437,438,439,440,441,442,443,444,445,446,447,448,449,450,451,452,453,454,455,456,457,458,459,460,461,462,463,464,465,466,467,468,469,470,471,472,473,474,475,476,477,478,479,480,481,482,483,484,485,486,487,488,489,490,491,492,493,494,495,496,497,498,499,500,501,502,503,504,505,506,507,508,509,510,511,512,513,514,515,516,517,518,519,520,521,522,523,524,525,526,527,528,529,530,531,532,533,534,535,536,537,538,539,540,541,542,543,544,545,546,547,548,549,550,551,552,553,554,555,556,557,558,559,560,561,562,563,564,565,566,567,568,569,570,571,572,573,574,575,576,577,578,579,580,581,582,583,584,585,586,587,588,589,590,591,592,593,594,595,596,597,598,599,600],\"__x__values_original\":[0,1,2,3,4,5,6,7,8,9,10,11,12,13,14,15,16,17,18,19,20,21,22,23,24,25,26,27,28,29,30,31,32,33,34,35,36,37,38,39,40,41,42,43,44,45,46,47,48,49,50,51,52,53,54,55,56,57,58,59,60,61,62,63,64,65,66,67,68,69,70,71,72,73,74,75,76,77,78,79,80,81,82,83,84,85,86,87,88,89,90,91,92,93,94,95,96,97,98,99,100,101,102,103,104,105,106,107,108,109,110,111,112,113,114,115,116,117,118,119,120,121,122,123,124,125,126,127,128,129,130,131,132,133,134,135,136,137,138,139,140,141,142,143,144,145,146,147,148,149,150,151,152,153,154,155,156,157,158,159,160,161,162,163,164,165,166,167,168,169,170,171,172,173,174,175,176,177,178,179,180,181,182,183,184,185,186,187,188,189,190,191,192,193,194,195,196,197,198,199,200,201,202,203,204,205,206,207,208,209,210,211,212,213,214,215,216,217,218,219,220,221,222,223,224,225,226,227,228,229,230,231,232,233,234,235,236,237,238,239,240,241,242,243,244,245,246,247,248,249,250,251,252,253,254,255,256,257,258,259,260,261,262,263,264,265,266,267,268,269,270,271,272,273,274,275,276,277,278,279,280,281,282,283,284,285,286,287,288,289,290,291,292,293,294,295,296,297,298,299,300,301,302,303,304,305,306,307,308,309,310,311,312,313,314,315,316,317,318,319,320,321,322,323,324,325,326,327,328,329,330,331,332,333,334,335,336,337,338,339,340,341,342,343,344,345,346,347,348,349,350,351,352,353,354,355,356,357,358,359,360,361,362,363,364,365,366,367,368,369,370,371,372,373,374,375,376,377,378,379,380,381,382,383,384,385,386,387,388,389,390,391,392,393,394,395,396,397,398,399,400,401,402,403,404,405,406,407,408,409,410,411,412,413,414,415,416,417,418,419,420,421,422,423,424,425,426,427,428,429,430,431,432,433,434,435,436,437,438,439,440,441,442,443,444,445,446,447,448,449,450,451,452,453,454,455,456,457,458,459,460,461,462,463,464,465,466,467,468,469,470,471,472,473,474,475,476,477,478,479,480,481,482,483,484,485,486,487,488,489,490,491,492,493,494,495,496,497,498,499,500,501,502,503,504,505,506,507,508,509,510,511,512,513,514,515,516,517,518,519,520,521,522,523,524,525,526,527,528,529,530,531,532,533,534,535,536,537,538,539,540,541,542,543,544,545,546,547,548,549,550,551,552,553,554,555,556,557,558,559,560,561,562,563,564,565,566,567,568,569,570,571,572,573,574,575,576,577,578,579,580,581,582,583,584,585,586,587,588,589,590,591,592,593,594,595,596,597,598,599,600],\"active_count\":[0,0,0,1,8,24,59,90,90,90,90,90,90,90,90,90,48,24,78,90,90,90,90,90,90,90,90,85,33,36,75,90,90,90,90,90,90,90,90,90,15,29,83,90,90,90,90,90,90,90,90,87,3,15,49,87,90,90,90,90,90,90,90,90,69,21,56,89,90,90,90,90,90,90,90,90,56,25,75,90,90,90,90,90,90,90,90,90,3,17,60,87,90,90,90,90,90,90,90,88,56,37,87,90,90,90,90,90,90,90,90,81,22,47,83,90,90,90,90,90,90,90,90,77,13,55,78,90,90,90,90,90,90,90,90,79,11,46,90,90,90,90,90,90,90,90,90,56,24,75,90,90,90,90,90,90,90,90,89,8,29,62,86,90,90,90,90,90,90,90,90,60,26,68,87,90,90,90,90,90,90,90,90,56,31,74,86,90,90,90,90,90,90,90,90,57,27,71,90,90,90,90,90,90,90,90,89,6,29,76,90,90,90,90,90,90,90,90,89,1,7,22,55,87,90,90,90,90,90,90,90,90,73,14,47,84,90,90,90,90,90,90,90,90,84,6,37,72,89,90,90,90,90,90,90,90,90,13,35,80,90,90,90,90,90,90,90,90,78,12,44,84,90,90,90,90,90,90,90,90,90,32,19,57,83,90,90,90,90,90,90,90,90,72,16,57,90,90,90,90,90,90,90,90,90,37,34,81,89,90,90,90,90,90,90,90,90,0,1,4,13,54,82,90,90,90,90,90,90,90,90,89,1,12,41,79,90,90,90,90,90,90,90,90,88,3,18,48,84,90,90,90,90,90,90,90,90,87,3,12,36,82,90,90,90,90,90,90,90,90,88,42,37,73,90,90,90,90,90,90,90,90,90,5,23,64,85,90,90,90,90,90,90,90,90,70,20,53,90,90,90,90,90,90,90,90,90,14,46,79,90,90,90,90,90,90,90,90,81,9,50,82,90,90,90,90,90,90,90,90,87,3,14,47,80,90,90,90,90,90,90,90,90,86,4,19,52,87,90,90,90,90,90,90,90,90,71,18,49,80,90,90,90,90,90,90,90,90,90,40,29,72,90,90,90,90,90,90,90,90,90,34,37,86,90,90,90,90,90,90,90,90,72,10,32,74,90,90,90,90,90,90,90,90,89,36,35,73,90,90,90,90,90,90,90,90,90,2,16,47,82,90,90,90,90,90,90,90,90,83,7,38,82,90,90,90,90,90,90,90,90,87,3,15,59,90,90,90,90,90,90,90,90,90,45,30,81,90,90,90,90,90,90,90,90,86,4,18,60,79,90,90,90,90,90,90,90,90,90,1,7,31,60,80,90,90,90,90,90,90,90,90,88,2,13,36,85,90,90,90,90]},\"selected\":{\"id\":\"1692\"},\"selection_policy\":{\"id\":\"1691\"}},\"id\":\"1680\",\"type\":\"ColumnDataSource\"},{\"attributes\":{\"text\":\"density at 0.9\"},\"id\":\"1648\",\"type\":\"Title\"},{\"attributes\":{\"axis\":{\"id\":\"1662\"},\"dimension\":1,\"ticker\":null},\"id\":\"1665\",\"type\":\"Grid\"},{\"attributes\":{\"active_drag\":\"auto\",\"active_inspect\":\"auto\",\"active_multi\":null,\"active_scroll\":{\"id\":\"1667\"},\"active_tap\":\"auto\",\"tools\":[{\"id\":\"1700\"}]},\"id\":\"1673\",\"type\":\"Toolbar\"},{\"attributes\":{\"line_alpha\":0.1,\"line_color\":\"#1f77b4\",\"line_width\":2,\"x\":{\"field\":\"__x__values\"},\"y\":{\"field\":\"active_count\"}},\"id\":\"1683\",\"type\":\"Line\"},{\"attributes\":{},\"id\":\"1650\",\"type\":\"DataRange1d\"},{\"attributes\":{\"source\":{\"id\":\"1680\"}},\"id\":\"1685\",\"type\":\"CDSView\"},{\"attributes\":{},\"id\":\"1652\",\"type\":\"DataRange1d\"},{\"attributes\":{},\"id\":\"1700\",\"type\":\"SaveTool\"},{\"attributes\":{\"axis_label\":\"steps\",\"formatter\":{\"id\":\"1688\"},\"ticker\":{\"id\":\"1698\"}},\"id\":\"1658\",\"type\":\"LinearAxis\"},{\"attributes\":{},\"id\":\"1654\",\"type\":\"LinearScale\"},{\"attributes\":{\"label\":{\"value\":\" active_count\"},\"renderers\":[{\"id\":\"1684\"}]},\"id\":\"1695\",\"type\":\"LegendItem\"},{\"attributes\":{},\"id\":\"1667\",\"type\":\"WheelZoomTool\"},{\"attributes\":{\"line_color\":\"#1f77b4\",\"line_width\":2,\"x\":{\"field\":\"__x__values\"},\"y\":{\"field\":\"active_count\"}},\"id\":\"1682\",\"type\":\"Line\"},{\"attributes\":{\"axis\":{\"id\":\"1658\"},\"ticker\":null},\"id\":\"1661\",\"type\":\"Grid\"},{\"attributes\":{},\"id\":\"1663\",\"type\":\"BasicTicker\"},{\"attributes\":{\"data_source\":{\"id\":\"1680\"},\"glyph\":{\"id\":\"1682\"},\"hover_glyph\":null,\"muted_glyph\":null,\"nonselection_glyph\":{\"id\":\"1683\"},\"selection_glyph\":null,\"view\":{\"id\":\"1685\"}},\"id\":\"1684\",\"type\":\"GlyphRenderer\"},{\"attributes\":{},\"id\":\"1656\",\"type\":\"LinearScale\"},{\"attributes\":{},\"id\":\"1688\",\"type\":\"BasicTickFormatter\"},{\"attributes\":{\"axis_label\":\"active ants\",\"formatter\":{\"id\":\"1690\"},\"ticker\":{\"id\":\"1663\"}},\"id\":\"1662\",\"type\":\"LinearAxis\"},{\"attributes\":{},\"id\":\"1690\",\"type\":\"BasicTickFormatter\"}],\"root_ids\":[\"1647\"]},\"title\":\"Bokeh Application\",\"version\":\"2.2.3\"}};\n",
       "  var render_items = [{\"docid\":\"53a7ddfd-b7c4-47b1-ad5d-acc70482a538\",\"root_ids\":[\"1647\"],\"roots\":{\"1647\":\"ca8cf566-2797-46ab-a17e-18169d3024e9\"}}];\n",
       "  root.Bokeh.embed.embed_items_notebook(docs_json, render_items);\n",
       "\n",
       "  }\n",
       "  if (root.Bokeh !== undefined) {\n",
       "    embed_document(root);\n",
       "  } else {\n",
       "    var attempts = 0;\n",
       "    var timer = setInterval(function(root) {\n",
       "      if (root.Bokeh !== undefined) {\n",
       "        clearInterval(timer);\n",
       "        embed_document(root);\n",
       "      } else {\n",
       "        attempts++;\n",
       "        if (attempts > 100) {\n",
       "          clearInterval(timer);\n",
       "          console.log(\"Bokeh: ERROR: Unable to run BokehJS code because BokehJS library is missing\");\n",
       "        }\n",
       "      }\n",
       "    }, 10, root)\n",
       "  }\n",
       "})(window);"
      ],
      "application/vnd.bokehjs_exec.v0+json": ""
     },
     "metadata": {
      "application/vnd.bokehjs_exec.v0+json": {
       "id": "1647"
      }
     },
     "output_type": "display_data"
    }
   ],
   "source": [
    "plot_runner(runner)"
   ]
  },
  {
   "cell_type": "markdown",
   "metadata": {},
   "source": [
    "## Transición orden/desorden\n",
    "\n",
    "Mostrar con varias series de tiempo que al rededor de $d=0.2$ el sistema exhibe una transición de fase. Explicar a detalle."
   ]
  },
  {
   "cell_type": "code",
   "execution_count": 9,
   "metadata": {},
   "outputs": [],
   "source": [
    "var_params2 = {\n",
    "    'density': [0.10, 0.15, 0.2, 0.25, 0.3]\n",
    "}\n",
    "\n",
    "runner2 = BatchRunner(\n",
    "    Colony,\n",
    "    var_params2,\n",
    "    fixed_params,\n",
    "    iterations=1,\n",
    "    max_steps=600,\n",
    "    model_reporters={\n",
    "        'activation_series': lambda m: m.datacollector.get_model_vars_dataframe()\n",
    "    }\n",
    ")"
   ]
  },
  {
   "cell_type": "code",
   "execution_count": 10,
   "metadata": {},
   "outputs": [
    {
     "name": "stderr",
     "output_type": "stream",
     "text": [
      "5it [00:02,  2.35it/s]\n"
     ]
    }
   ],
   "source": [
    "runner2.run_all()"
   ]
  },
  {
   "cell_type": "code",
   "execution_count": 11,
   "metadata": {},
   "outputs": [
    {
     "data": {
      "text/html": [
       "\n",
       "\n",
       "\n",
       "\n",
       "\n",
       "\n",
       "  <div class=\"bk-root\" id=\"61aa59eb-e67b-4ab2-a897-d0bf4a96c8ad\" data-root-id=\"1775\"></div>\n"
      ]
     },
     "metadata": {},
     "output_type": "display_data"
    },
    {
     "data": {
      "application/javascript": [
       "(function(root) {\n",
       "  function embed_document(root) {\n",
       "    \n",
       "  var docs_json = {\"97bb662f-c6b1-488c-9ff0-cfb6859215d8\":{\"roots\":{\"references\":[{\"attributes\":{\"below\":[{\"id\":\"1786\"}],\"center\":[{\"id\":\"1789\"},{\"id\":\"1793\"},{\"id\":\"1822\"}],\"left\":[{\"id\":\"1790\"}],\"output_backend\":\"webgl\",\"plot_height\":150,\"plot_width\":800,\"renderers\":[{\"id\":\"1812\"}],\"sizing_mode\":\"fixed\",\"title\":{\"id\":\"1776\"},\"toolbar\":{\"id\":\"1801\"},\"x_range\":{\"id\":\"1778\"},\"x_scale\":{\"id\":\"1782\"},\"y_range\":{\"id\":\"1780\"},\"y_scale\":{\"id\":\"1784\"}},\"id\":\"1775\",\"subtype\":\"Figure\",\"type\":\"Plot\"},{\"attributes\":{},\"id\":\"1828\",\"type\":\"SaveTool\"},{\"attributes\":{},\"id\":\"1780\",\"type\":\"DataRange1d\"},{\"attributes\":{\"axis_label\":\"active ants\",\"formatter\":{\"id\":\"1818\"},\"ticker\":{\"id\":\"1791\"}},\"id\":\"1790\",\"type\":\"LinearAxis\"},{\"attributes\":{},\"id\":\"1791\",\"type\":\"BasicTicker\"},{\"attributes\":{},\"id\":\"1816\",\"type\":\"BasicTickFormatter\"},{\"attributes\":{\"active_drag\":\"auto\",\"active_inspect\":\"auto\",\"active_multi\":null,\"active_scroll\":{\"id\":\"1795\"},\"active_tap\":\"auto\",\"tools\":[{\"id\":\"1828\"}]},\"id\":\"1801\",\"type\":\"Toolbar\"},{\"attributes\":{\"data_source\":{\"id\":\"1808\"},\"glyph\":{\"id\":\"1810\"},\"hover_glyph\":null,\"muted_glyph\":null,\"nonselection_glyph\":{\"id\":\"1811\"},\"selection_glyph\":null,\"view\":{\"id\":\"1813\"}},\"id\":\"1812\",\"type\":\"GlyphRenderer\"},{\"attributes\":{\"axis\":{\"id\":\"1790\"},\"dimension\":1,\"ticker\":null},\"id\":\"1793\",\"type\":\"Grid\"},{\"attributes\":{},\"id\":\"1820\",\"type\":\"Selection\"},{\"attributes\":{\"data\":{\"__x__values\":[0,1,2,3,4,5,6,7,8,9,10,11,12,13,14,15,16,17,18,19,20,21,22,23,24,25,26,27,28,29,30,31,32,33,34,35,36,37,38,39,40,41,42,43,44,45,46,47,48,49,50,51,52,53,54,55,56,57,58,59,60,61,62,63,64,65,66,67,68,69,70,71,72,73,74,75,76,77,78,79,80,81,82,83,84,85,86,87,88,89,90,91,92,93,94,95,96,97,98,99,100,101,102,103,104,105,106,107,108,109,110,111,112,113,114,115,116,117,118,119,120,121,122,123,124,125,126,127,128,129,130,131,132,133,134,135,136,137,138,139,140,141,142,143,144,145,146,147,148,149,150,151,152,153,154,155,156,157,158,159,160,161,162,163,164,165,166,167,168,169,170,171,172,173,174,175,176,177,178,179,180,181,182,183,184,185,186,187,188,189,190,191,192,193,194,195,196,197,198,199,200,201,202,203,204,205,206,207,208,209,210,211,212,213,214,215,216,217,218,219,220,221,222,223,224,225,226,227,228,229,230,231,232,233,234,235,236,237,238,239,240,241,242,243,244,245,246,247,248,249,250,251,252,253,254,255,256,257,258,259,260,261,262,263,264,265,266,267,268,269,270,271,272,273,274,275,276,277,278,279,280,281,282,283,284,285,286,287,288,289,290,291,292,293,294,295,296,297,298,299,300,301,302,303,304,305,306,307,308,309,310,311,312,313,314,315,316,317,318,319,320,321,322,323,324,325,326,327,328,329,330,331,332,333,334,335,336,337,338,339,340,341,342,343,344,345,346,347,348,349,350,351,352,353,354,355,356,357,358,359,360,361,362,363,364,365,366,367,368,369,370,371,372,373,374,375,376,377,378,379,380,381,382,383,384,385,386,387,388,389,390,391,392,393,394,395,396,397,398,399,400,401,402,403,404,405,406,407,408,409,410,411,412,413,414,415,416,417,418,419,420,421,422,423,424,425,426,427,428,429,430,431,432,433,434,435,436,437,438,439,440,441,442,443,444,445,446,447,448,449,450,451,452,453,454,455,456,457,458,459,460,461,462,463,464,465,466,467,468,469,470,471,472,473,474,475,476,477,478,479,480,481,482,483,484,485,486,487,488,489,490,491,492,493,494,495,496,497,498,499,500,501,502,503,504,505,506,507,508,509,510,511,512,513,514,515,516,517,518,519,520,521,522,523,524,525,526,527,528,529,530,531,532,533,534,535,536,537,538,539,540,541,542,543,544,545,546,547,548,549,550,551,552,553,554,555,556,557,558,559,560,561,562,563,564,565,566,567,568,569,570,571,572,573,574,575,576,577,578,579,580,581,582,583,584,585,586,587,588,589,590,591,592,593,594,595,596,597,598,599,600],\"__x__values_original\":[0,1,2,3,4,5,6,7,8,9,10,11,12,13,14,15,16,17,18,19,20,21,22,23,24,25,26,27,28,29,30,31,32,33,34,35,36,37,38,39,40,41,42,43,44,45,46,47,48,49,50,51,52,53,54,55,56,57,58,59,60,61,62,63,64,65,66,67,68,69,70,71,72,73,74,75,76,77,78,79,80,81,82,83,84,85,86,87,88,89,90,91,92,93,94,95,96,97,98,99,100,101,102,103,104,105,106,107,108,109,110,111,112,113,114,115,116,117,118,119,120,121,122,123,124,125,126,127,128,129,130,131,132,133,134,135,136,137,138,139,140,141,142,143,144,145,146,147,148,149,150,151,152,153,154,155,156,157,158,159,160,161,162,163,164,165,166,167,168,169,170,171,172,173,174,175,176,177,178,179,180,181,182,183,184,185,186,187,188,189,190,191,192,193,194,195,196,197,198,199,200,201,202,203,204,205,206,207,208,209,210,211,212,213,214,215,216,217,218,219,220,221,222,223,224,225,226,227,228,229,230,231,232,233,234,235,236,237,238,239,240,241,242,243,244,245,246,247,248,249,250,251,252,253,254,255,256,257,258,259,260,261,262,263,264,265,266,267,268,269,270,271,272,273,274,275,276,277,278,279,280,281,282,283,284,285,286,287,288,289,290,291,292,293,294,295,296,297,298,299,300,301,302,303,304,305,306,307,308,309,310,311,312,313,314,315,316,317,318,319,320,321,322,323,324,325,326,327,328,329,330,331,332,333,334,335,336,337,338,339,340,341,342,343,344,345,346,347,348,349,350,351,352,353,354,355,356,357,358,359,360,361,362,363,364,365,366,367,368,369,370,371,372,373,374,375,376,377,378,379,380,381,382,383,384,385,386,387,388,389,390,391,392,393,394,395,396,397,398,399,400,401,402,403,404,405,406,407,408,409,410,411,412,413,414,415,416,417,418,419,420,421,422,423,424,425,426,427,428,429,430,431,432,433,434,435,436,437,438,439,440,441,442,443,444,445,446,447,448,449,450,451,452,453,454,455,456,457,458,459,460,461,462,463,464,465,466,467,468,469,470,471,472,473,474,475,476,477,478,479,480,481,482,483,484,485,486,487,488,489,490,491,492,493,494,495,496,497,498,499,500,501,502,503,504,505,506,507,508,509,510,511,512,513,514,515,516,517,518,519,520,521,522,523,524,525,526,527,528,529,530,531,532,533,534,535,536,537,538,539,540,541,542,543,544,545,546,547,548,549,550,551,552,553,554,555,556,557,558,559,560,561,562,563,564,565,566,567,568,569,570,571,572,573,574,575,576,577,578,579,580,581,582,583,584,585,586,587,588,589,590,591,592,593,594,595,596,597,598,599,600],\"active_count\":[0,0,1,1,1,2,2,2,2,2,2,0,0,0,0,0,0,0,0,1,2,3,4,4,4,4,4,3,2,3,5,6,6,7,5,5,5,2,3,2,4,5,6,8,8,9,10,10,10,6,6,4,3,3,6,6,6,6,6,8,7,8,8,8,8,3,4,3,4,5,6,6,7,7,7,7,3,4,5,6,7,7,7,4,5,7,6,7,8,10,10,9,10,7,6,3,3,3,2,2,3,5,6,7,7,7,9,9,9,7,7,8,5,7,7,8,9,9,9,7,8,8,3,4,4,4,2,3,4,4,4,5,5,3,1,1,2,2,2,3,4,5,5,5,6,6,5,2,2,4,6,6,7,8,8,8,6,7,7,7,9,10,10,8,8,7,6,0,0,1,1,2,2,4,7,7,8,9,10,9,5,6,5,6,6,6,7,8,8,9,5,6,8,6,7,6,6,5,1,1,2,3,3,4,4,5,5,3,5,4,6,7,8,8,9,5,6,6,7,8,8,8,7,6,6,2,3,4,5,5,5,6,5,4,6,8,9,9,8,9,9,7,4,4,7,5,7,9,9,9,9,10,8,6,7,7,5,5,6,7,3,4,4,5,7,4,6,7,7,7,8,9,8,4,4,5,4,4,6,5,6,6,8,7,7,8,7,8,6,6,7,4,4,5,6,6,8,7,8,8,8,8,3,3,0,0,0,0,0,0,0,0,0,0,0,0,0,0,0,0,1,2,3,5,6,6,7,7,8,5,5,8,7,8,9,9,9,7,8,6,6,6,7,8,8,9,9,9,8,8,7,3,5,6,6,6,5,5,5,3,3,4,4,5,3,3,4,4,4,4,4,4,0,0,1,1,2,4,6,8,9,9,9,10,10,4,3,4,5,4,5,6,6,5,4,5,5,4,4,6,6,4,6,6,7,7,8,6,5,5,4,2,0,0,0,0,0,0,0,0,0,0,0,0,0,0,0,0,0,0,0,0,0,0,1,1,3,3,3,3,3,3,1,2,3,5,5,5,6,6,6,3,4,5,6,7,6,6,7,8,9,8,9,10,7,5,7,8,6,6,8,9,8,7,9,9,4,5,6,7,6,7,8,8,8,8,7,8,5,6,6,8,8,7,6,7,8,8,8,8,5,6,4,4,4,4,4,3,2,5,6,8,8,8,8,8,8,0,0,0,0,0,0,0,0,0,0,0,0,0,0,0,0,0,0,0,0,0,0,0,0,0,0,0,0,0,0,0,0,0,0,0,0,1,1,3,3,3,3,2,2,0,0,1,1,1,1,1,2,2,5,6,9,9,9,9,8,8,0,0,0,0,0,0,0,0,0,0,0,0,0,0,0,0,0,0,0,0,0,0,0]},\"selected\":{\"id\":\"1820\"},\"selection_policy\":{\"id\":\"1819\"}},\"id\":\"1808\",\"type\":\"ColumnDataSource\"},{\"attributes\":{\"text\":\"density at 0.1\"},\"id\":\"1776\",\"type\":\"Title\"},{\"attributes\":{\"ticks\":[0,100,200,300,400,500,600]},\"id\":\"1826\",\"type\":\"FixedTicker\"},{\"attributes\":{},\"id\":\"1819\",\"type\":\"UnionRenderers\"},{\"attributes\":{\"line_alpha\":0.1,\"line_color\":\"#1f77b4\",\"line_width\":2,\"x\":{\"field\":\"__x__values\"},\"y\":{\"field\":\"active_count\"}},\"id\":\"1811\",\"type\":\"Line\"},{\"attributes\":{\"line_color\":\"#1f77b4\",\"line_width\":2,\"x\":{\"field\":\"__x__values\"},\"y\":{\"field\":\"active_count\"}},\"id\":\"1810\",\"type\":\"Line\"},{\"attributes\":{\"source\":{\"id\":\"1808\"}},\"id\":\"1813\",\"type\":\"CDSView\"},{\"attributes\":{},\"id\":\"1818\",\"type\":\"BasicTickFormatter\"},{\"attributes\":{\"click_policy\":\"hide\",\"items\":[{\"id\":\"1823\"}],\"visible\":false},\"id\":\"1822\",\"type\":\"Legend\"},{\"attributes\":{\"label\":{\"value\":\" active_count\"},\"renderers\":[{\"id\":\"1812\"}]},\"id\":\"1823\",\"type\":\"LegendItem\"},{\"attributes\":{\"axis_label\":\"steps\",\"formatter\":{\"id\":\"1816\"},\"ticker\":{\"id\":\"1826\"}},\"id\":\"1786\",\"type\":\"LinearAxis\"},{\"attributes\":{\"axis\":{\"id\":\"1786\"},\"ticker\":null},\"id\":\"1789\",\"type\":\"Grid\"},{\"attributes\":{},\"id\":\"1795\",\"type\":\"WheelZoomTool\"},{\"attributes\":{},\"id\":\"1782\",\"type\":\"LinearScale\"},{\"attributes\":{},\"id\":\"1784\",\"type\":\"LinearScale\"},{\"attributes\":{},\"id\":\"1778\",\"type\":\"DataRange1d\"}],\"root_ids\":[\"1775\"]},\"title\":\"Bokeh Application\",\"version\":\"2.2.3\"}};\n",
       "  var render_items = [{\"docid\":\"97bb662f-c6b1-488c-9ff0-cfb6859215d8\",\"root_ids\":[\"1775\"],\"roots\":{\"1775\":\"61aa59eb-e67b-4ab2-a897-d0bf4a96c8ad\"}}];\n",
       "  root.Bokeh.embed.embed_items_notebook(docs_json, render_items);\n",
       "\n",
       "  }\n",
       "  if (root.Bokeh !== undefined) {\n",
       "    embed_document(root);\n",
       "  } else {\n",
       "    var attempts = 0;\n",
       "    var timer = setInterval(function(root) {\n",
       "      if (root.Bokeh !== undefined) {\n",
       "        clearInterval(timer);\n",
       "        embed_document(root);\n",
       "      } else {\n",
       "        attempts++;\n",
       "        if (attempts > 100) {\n",
       "          clearInterval(timer);\n",
       "          console.log(\"Bokeh: ERROR: Unable to run BokehJS code because BokehJS library is missing\");\n",
       "        }\n",
       "      }\n",
       "    }, 10, root)\n",
       "  }\n",
       "})(window);"
      ],
      "application/vnd.bokehjs_exec.v0+json": ""
     },
     "metadata": {
      "application/vnd.bokehjs_exec.v0+json": {
       "id": "1775"
      }
     },
     "output_type": "display_data"
    },
    {
     "data": {
      "text/html": [
       "\n",
       "\n",
       "\n",
       "\n",
       "\n",
       "\n",
       "  <div class=\"bk-root\" id=\"84e4d807-6ba7-4fc6-963b-1131f13d836c\" data-root-id=\"1909\"></div>\n"
      ]
     },
     "metadata": {},
     "output_type": "display_data"
    },
    {
     "data": {
      "application/javascript": [
       "(function(root) {\n",
       "  function embed_document(root) {\n",
       "    \n",
       "  var docs_json = {\"b704152b-6c01-42a9-99b8-3c9303ce4b25\":{\"roots\":{\"references\":[{\"attributes\":{\"below\":[{\"id\":\"1920\"}],\"center\":[{\"id\":\"1923\"},{\"id\":\"1927\"},{\"id\":\"1956\"}],\"left\":[{\"id\":\"1924\"}],\"output_backend\":\"webgl\",\"plot_height\":150,\"plot_width\":800,\"renderers\":[{\"id\":\"1946\"}],\"sizing_mode\":\"fixed\",\"title\":{\"id\":\"1910\"},\"toolbar\":{\"id\":\"1935\"},\"x_range\":{\"id\":\"1912\"},\"x_scale\":{\"id\":\"1916\"},\"y_range\":{\"id\":\"1914\"},\"y_scale\":{\"id\":\"1918\"}},\"id\":\"1909\",\"subtype\":\"Figure\",\"type\":\"Plot\"},{\"attributes\":{\"label\":{\"value\":\" active_count\"},\"renderers\":[{\"id\":\"1946\"}]},\"id\":\"1957\",\"type\":\"LegendItem\"},{\"attributes\":{\"text\":\"density at 0.15\"},\"id\":\"1910\",\"type\":\"Title\"},{\"attributes\":{\"source\":{\"id\":\"1942\"}},\"id\":\"1947\",\"type\":\"CDSView\"},{\"attributes\":{},\"id\":\"1953\",\"type\":\"UnionRenderers\"},{\"attributes\":{},\"id\":\"1912\",\"type\":\"DataRange1d\"},{\"attributes\":{},\"id\":\"1954\",\"type\":\"Selection\"},{\"attributes\":{},\"id\":\"1914\",\"type\":\"DataRange1d\"},{\"attributes\":{\"axis_label\":\"steps\",\"formatter\":{\"id\":\"1950\"},\"ticker\":{\"id\":\"1960\"}},\"id\":\"1920\",\"type\":\"LinearAxis\"},{\"attributes\":{},\"id\":\"1916\",\"type\":\"LinearScale\"},{\"attributes\":{},\"id\":\"1929\",\"type\":\"WheelZoomTool\"},{\"attributes\":{\"axis\":{\"id\":\"1920\"},\"ticker\":null},\"id\":\"1923\",\"type\":\"Grid\"},{\"attributes\":{},\"id\":\"1918\",\"type\":\"LinearScale\"},{\"attributes\":{\"axis_label\":\"active ants\",\"formatter\":{\"id\":\"1952\"},\"ticker\":{\"id\":\"1925\"}},\"id\":\"1924\",\"type\":\"LinearAxis\"},{\"attributes\":{\"axis\":{\"id\":\"1924\"},\"dimension\":1,\"ticker\":null},\"id\":\"1927\",\"type\":\"Grid\"},{\"attributes\":{},\"id\":\"1925\",\"type\":\"BasicTicker\"},{\"attributes\":{\"data_source\":{\"id\":\"1942\"},\"glyph\":{\"id\":\"1944\"},\"hover_glyph\":null,\"muted_glyph\":null,\"nonselection_glyph\":{\"id\":\"1945\"},\"selection_glyph\":null,\"view\":{\"id\":\"1947\"}},\"id\":\"1946\",\"type\":\"GlyphRenderer\"},{\"attributes\":{\"active_drag\":\"auto\",\"active_inspect\":\"auto\",\"active_multi\":null,\"active_scroll\":{\"id\":\"1929\"},\"active_tap\":\"auto\",\"tools\":[{\"id\":\"1962\"}]},\"id\":\"1935\",\"type\":\"Toolbar\"},{\"attributes\":{},\"id\":\"1950\",\"type\":\"BasicTickFormatter\"},{\"attributes\":{\"ticks\":[0,100,200,300,400,500,600]},\"id\":\"1960\",\"type\":\"FixedTicker\"},{\"attributes\":{\"data\":{\"__x__values\":[0,1,2,3,4,5,6,7,8,9,10,11,12,13,14,15,16,17,18,19,20,21,22,23,24,25,26,27,28,29,30,31,32,33,34,35,36,37,38,39,40,41,42,43,44,45,46,47,48,49,50,51,52,53,54,55,56,57,58,59,60,61,62,63,64,65,66,67,68,69,70,71,72,73,74,75,76,77,78,79,80,81,82,83,84,85,86,87,88,89,90,91,92,93,94,95,96,97,98,99,100,101,102,103,104,105,106,107,108,109,110,111,112,113,114,115,116,117,118,119,120,121,122,123,124,125,126,127,128,129,130,131,132,133,134,135,136,137,138,139,140,141,142,143,144,145,146,147,148,149,150,151,152,153,154,155,156,157,158,159,160,161,162,163,164,165,166,167,168,169,170,171,172,173,174,175,176,177,178,179,180,181,182,183,184,185,186,187,188,189,190,191,192,193,194,195,196,197,198,199,200,201,202,203,204,205,206,207,208,209,210,211,212,213,214,215,216,217,218,219,220,221,222,223,224,225,226,227,228,229,230,231,232,233,234,235,236,237,238,239,240,241,242,243,244,245,246,247,248,249,250,251,252,253,254,255,256,257,258,259,260,261,262,263,264,265,266,267,268,269,270,271,272,273,274,275,276,277,278,279,280,281,282,283,284,285,286,287,288,289,290,291,292,293,294,295,296,297,298,299,300,301,302,303,304,305,306,307,308,309,310,311,312,313,314,315,316,317,318,319,320,321,322,323,324,325,326,327,328,329,330,331,332,333,334,335,336,337,338,339,340,341,342,343,344,345,346,347,348,349,350,351,352,353,354,355,356,357,358,359,360,361,362,363,364,365,366,367,368,369,370,371,372,373,374,375,376,377,378,379,380,381,382,383,384,385,386,387,388,389,390,391,392,393,394,395,396,397,398,399,400,401,402,403,404,405,406,407,408,409,410,411,412,413,414,415,416,417,418,419,420,421,422,423,424,425,426,427,428,429,430,431,432,433,434,435,436,437,438,439,440,441,442,443,444,445,446,447,448,449,450,451,452,453,454,455,456,457,458,459,460,461,462,463,464,465,466,467,468,469,470,471,472,473,474,475,476,477,478,479,480,481,482,483,484,485,486,487,488,489,490,491,492,493,494,495,496,497,498,499,500,501,502,503,504,505,506,507,508,509,510,511,512,513,514,515,516,517,518,519,520,521,522,523,524,525,526,527,528,529,530,531,532,533,534,535,536,537,538,539,540,541,542,543,544,545,546,547,548,549,550,551,552,553,554,555,556,557,558,559,560,561,562,563,564,565,566,567,568,569,570,571,572,573,574,575,576,577,578,579,580,581,582,583,584,585,586,587,588,589,590,591,592,593,594,595,596,597,598,599,600],\"__x__values_original\":[0,1,2,3,4,5,6,7,8,9,10,11,12,13,14,15,16,17,18,19,20,21,22,23,24,25,26,27,28,29,30,31,32,33,34,35,36,37,38,39,40,41,42,43,44,45,46,47,48,49,50,51,52,53,54,55,56,57,58,59,60,61,62,63,64,65,66,67,68,69,70,71,72,73,74,75,76,77,78,79,80,81,82,83,84,85,86,87,88,89,90,91,92,93,94,95,96,97,98,99,100,101,102,103,104,105,106,107,108,109,110,111,112,113,114,115,116,117,118,119,120,121,122,123,124,125,126,127,128,129,130,131,132,133,134,135,136,137,138,139,140,141,142,143,144,145,146,147,148,149,150,151,152,153,154,155,156,157,158,159,160,161,162,163,164,165,166,167,168,169,170,171,172,173,174,175,176,177,178,179,180,181,182,183,184,185,186,187,188,189,190,191,192,193,194,195,196,197,198,199,200,201,202,203,204,205,206,207,208,209,210,211,212,213,214,215,216,217,218,219,220,221,222,223,224,225,226,227,228,229,230,231,232,233,234,235,236,237,238,239,240,241,242,243,244,245,246,247,248,249,250,251,252,253,254,255,256,257,258,259,260,261,262,263,264,265,266,267,268,269,270,271,272,273,274,275,276,277,278,279,280,281,282,283,284,285,286,287,288,289,290,291,292,293,294,295,296,297,298,299,300,301,302,303,304,305,306,307,308,309,310,311,312,313,314,315,316,317,318,319,320,321,322,323,324,325,326,327,328,329,330,331,332,333,334,335,336,337,338,339,340,341,342,343,344,345,346,347,348,349,350,351,352,353,354,355,356,357,358,359,360,361,362,363,364,365,366,367,368,369,370,371,372,373,374,375,376,377,378,379,380,381,382,383,384,385,386,387,388,389,390,391,392,393,394,395,396,397,398,399,400,401,402,403,404,405,406,407,408,409,410,411,412,413,414,415,416,417,418,419,420,421,422,423,424,425,426,427,428,429,430,431,432,433,434,435,436,437,438,439,440,441,442,443,444,445,446,447,448,449,450,451,452,453,454,455,456,457,458,459,460,461,462,463,464,465,466,467,468,469,470,471,472,473,474,475,476,477,478,479,480,481,482,483,484,485,486,487,488,489,490,491,492,493,494,495,496,497,498,499,500,501,502,503,504,505,506,507,508,509,510,511,512,513,514,515,516,517,518,519,520,521,522,523,524,525,526,527,528,529,530,531,532,533,534,535,536,537,538,539,540,541,542,543,544,545,546,547,548,549,550,551,552,553,554,555,556,557,558,559,560,561,562,563,564,565,566,567,568,569,570,571,572,573,574,575,576,577,578,579,580,581,582,583,584,585,586,587,588,589,590,591,592,593,594,595,596,597,598,599,600],\"active_count\":[0,0,0,0,1,3,5,7,8,11,14,15,15,15,15,11,6,2,3,4,4,4,5,6,6,9,10,14,13,14,15,15,15,11,13,9,5,8,10,13,15,15,15,13,13,11,2,2,5,5,7,7,9,9,10,12,9,11,10,12,12,12,12,10,11,11,11,11,12,12,13,14,12,14,14,15,13,7,10,8,11,12,13,14,13,13,8,8,6,8,8,10,12,14,15,13,15,14,13,13,10,12,5,6,4,6,8,7,9,10,11,14,9,11,13,14,15,13,15,14,11,12,7,11,13,15,15,14,14,12,9,6,10,14,15,13,15,15,15,9,7,9,5,5,6,6,6,3,4,4,4,7,8,9,7,8,9,9,9,6,7,9,8,10,10,14,14,14,14,13,13,10,10,7,10,10,11,11,10,14,13,14,13,13,14,5,6,5,7,8,11,11,11,13,14,12,5,6,6,6,6,7,8,6,6,8,8,9,11,11,12,10,7,8,9,11,10,11,12,11,11,13,12,12,14,14,13,12,14,15,10,12,13,14,10,10,12,13,13,10,11,13,13,12,6,7,7,6,9,10,12,12,13,14,15,14,5,6,6,6,4,6,8,9,12,13,14,15,15,15,15,13,3,5,7,10,11,13,15,15,15,12,13,11,6,11,12,12,10,11,12,11,9,9,12,12,13,14,13,13,7,8,8,8,8,9,7,4,4,5,8,5,5,6,6,6,7,8,10,13,13,13,14,14,15,3,7,10,11,11,12,13,13,12,12,13,9,12,12,15,15,15,15,15,12,3,4,6,8,10,12,13,14,15,13,12,13,12,8,3,4,5,5,6,8,9,10,10,14,13,10,12,10,13,9,10,11,11,11,12,13,13,10,10,13,11,12,13,13,13,13,13,8,6,9,11,12,10,10,12,12,10,13,13,13,13,14,15,7,6,9,12,11,12,14,14,15,15,15,15,3,3,3,3,3,4,6,9,11,14,14,15,14,14,15,5,8,10,12,12,10,11,12,12,6,8,10,11,12,13,12,8,9,10,11,9,11,10,5,6,9,10,8,11,12,13,11,12,12,9,10,6,7,5,5,5,5,7,6,6,9,10,13,13,11,11,10,12,5,6,7,8,9,8,10,13,13,14,14,14,15,6,4,8,9,9,9,9,10,10,7,10,11,13,12,12,12,12,12,4,4,4,4,5,4,6,6,7,9,10,13,14,14,14,8,8,3,3,4,5,6,6,7,8,9,11,13,13,13,11,13,11,7,9,12,13,11,13,14,14,15,15,15,10,8,13,10,10,11,12,12,9,12,14,15,14,15,15,12,11,8,8,0,0,0,0,1,1,1,1,1,1,1,3,4,7,8,9,12,11,10]},\"selected\":{\"id\":\"1954\"},\"selection_policy\":{\"id\":\"1953\"}},\"id\":\"1942\",\"type\":\"ColumnDataSource\"},{\"attributes\":{\"click_policy\":\"hide\",\"items\":[{\"id\":\"1957\"}],\"visible\":false},\"id\":\"1956\",\"type\":\"Legend\"},{\"attributes\":{},\"id\":\"1952\",\"type\":\"BasicTickFormatter\"},{\"attributes\":{},\"id\":\"1962\",\"type\":\"SaveTool\"},{\"attributes\":{\"line_color\":\"#1f77b4\",\"line_width\":2,\"x\":{\"field\":\"__x__values\"},\"y\":{\"field\":\"active_count\"}},\"id\":\"1944\",\"type\":\"Line\"},{\"attributes\":{\"line_alpha\":0.1,\"line_color\":\"#1f77b4\",\"line_width\":2,\"x\":{\"field\":\"__x__values\"},\"y\":{\"field\":\"active_count\"}},\"id\":\"1945\",\"type\":\"Line\"}],\"root_ids\":[\"1909\"]},\"title\":\"Bokeh Application\",\"version\":\"2.2.3\"}};\n",
       "  var render_items = [{\"docid\":\"b704152b-6c01-42a9-99b8-3c9303ce4b25\",\"root_ids\":[\"1909\"],\"roots\":{\"1909\":\"84e4d807-6ba7-4fc6-963b-1131f13d836c\"}}];\n",
       "  root.Bokeh.embed.embed_items_notebook(docs_json, render_items);\n",
       "\n",
       "  }\n",
       "  if (root.Bokeh !== undefined) {\n",
       "    embed_document(root);\n",
       "  } else {\n",
       "    var attempts = 0;\n",
       "    var timer = setInterval(function(root) {\n",
       "      if (root.Bokeh !== undefined) {\n",
       "        clearInterval(timer);\n",
       "        embed_document(root);\n",
       "      } else {\n",
       "        attempts++;\n",
       "        if (attempts > 100) {\n",
       "          clearInterval(timer);\n",
       "          console.log(\"Bokeh: ERROR: Unable to run BokehJS code because BokehJS library is missing\");\n",
       "        }\n",
       "      }\n",
       "    }, 10, root)\n",
       "  }\n",
       "})(window);"
      ],
      "application/vnd.bokehjs_exec.v0+json": ""
     },
     "metadata": {
      "application/vnd.bokehjs_exec.v0+json": {
       "id": "1909"
      }
     },
     "output_type": "display_data"
    },
    {
     "data": {
      "text/html": [
       "\n",
       "\n",
       "\n",
       "\n",
       "\n",
       "\n",
       "  <div class=\"bk-root\" id=\"64fb7a43-c8bb-4dd8-b142-7d54b19cedb2\" data-root-id=\"2049\"></div>\n"
      ]
     },
     "metadata": {},
     "output_type": "display_data"
    },
    {
     "data": {
      "application/javascript": [
       "(function(root) {\n",
       "  function embed_document(root) {\n",
       "    \n",
       "  var docs_json = {\"9e03e418-a486-4ae4-b6c2-a03e2810e7f8\":{\"roots\":{\"references\":[{\"attributes\":{\"below\":[{\"id\":\"2060\"}],\"center\":[{\"id\":\"2063\"},{\"id\":\"2067\"},{\"id\":\"2096\"}],\"left\":[{\"id\":\"2064\"}],\"output_backend\":\"webgl\",\"plot_height\":150,\"plot_width\":800,\"renderers\":[{\"id\":\"2086\"}],\"sizing_mode\":\"fixed\",\"title\":{\"id\":\"2050\"},\"toolbar\":{\"id\":\"2075\"},\"x_range\":{\"id\":\"2052\"},\"x_scale\":{\"id\":\"2056\"},\"y_range\":{\"id\":\"2054\"},\"y_scale\":{\"id\":\"2058\"}},\"id\":\"2049\",\"subtype\":\"Figure\",\"type\":\"Plot\"},{\"attributes\":{\"line_alpha\":0.1,\"line_color\":\"#1f77b4\",\"line_width\":2,\"x\":{\"field\":\"__x__values\"},\"y\":{\"field\":\"active_count\"}},\"id\":\"2085\",\"type\":\"Line\"},{\"attributes\":{\"text\":\"density at 0.2\"},\"id\":\"2050\",\"type\":\"Title\"},{\"attributes\":{\"line_color\":\"#1f77b4\",\"line_width\":2,\"x\":{\"field\":\"__x__values\"},\"y\":{\"field\":\"active_count\"}},\"id\":\"2084\",\"type\":\"Line\"},{\"attributes\":{},\"id\":\"2093\",\"type\":\"UnionRenderers\"},{\"attributes\":{\"click_policy\":\"hide\",\"items\":[{\"id\":\"2097\"}],\"visible\":false},\"id\":\"2096\",\"type\":\"Legend\"},{\"attributes\":{},\"id\":\"2102\",\"type\":\"SaveTool\"},{\"attributes\":{},\"id\":\"2094\",\"type\":\"Selection\"},{\"attributes\":{},\"id\":\"2052\",\"type\":\"DataRange1d\"},{\"attributes\":{},\"id\":\"2054\",\"type\":\"DataRange1d\"},{\"attributes\":{\"axis_label\":\"steps\",\"formatter\":{\"id\":\"2090\"},\"ticker\":{\"id\":\"2100\"}},\"id\":\"2060\",\"type\":\"LinearAxis\"},{\"attributes\":{},\"id\":\"2056\",\"type\":\"LinearScale\"},{\"attributes\":{},\"id\":\"2069\",\"type\":\"WheelZoomTool\"},{\"attributes\":{\"axis\":{\"id\":\"2060\"},\"ticker\":null},\"id\":\"2063\",\"type\":\"Grid\"},{\"attributes\":{},\"id\":\"2058\",\"type\":\"LinearScale\"},{\"attributes\":{\"axis_label\":\"active ants\",\"formatter\":{\"id\":\"2092\"},\"ticker\":{\"id\":\"2065\"}},\"id\":\"2064\",\"type\":\"LinearAxis\"},{\"attributes\":{\"axis\":{\"id\":\"2064\"},\"dimension\":1,\"ticker\":null},\"id\":\"2067\",\"type\":\"Grid\"},{\"attributes\":{},\"id\":\"2065\",\"type\":\"BasicTicker\"},{\"attributes\":{\"active_drag\":\"auto\",\"active_inspect\":\"auto\",\"active_multi\":null,\"active_scroll\":{\"id\":\"2069\"},\"active_tap\":\"auto\",\"tools\":[{\"id\":\"2102\"}]},\"id\":\"2075\",\"type\":\"Toolbar\"},{\"attributes\":{\"source\":{\"id\":\"2082\"}},\"id\":\"2087\",\"type\":\"CDSView\"},{\"attributes\":{},\"id\":\"2090\",\"type\":\"BasicTickFormatter\"},{\"attributes\":{},\"id\":\"2092\",\"type\":\"BasicTickFormatter\"},{\"attributes\":{\"data_source\":{\"id\":\"2082\"},\"glyph\":{\"id\":\"2084\"},\"hover_glyph\":null,\"muted_glyph\":null,\"nonselection_glyph\":{\"id\":\"2085\"},\"selection_glyph\":null,\"view\":{\"id\":\"2087\"}},\"id\":\"2086\",\"type\":\"GlyphRenderer\"},{\"attributes\":{\"ticks\":[0,100,200,300,400,500,600]},\"id\":\"2100\",\"type\":\"FixedTicker\"},{\"attributes\":{\"data\":{\"__x__values\":[0,1,2,3,4,5,6,7,8,9,10,11,12,13,14,15,16,17,18,19,20,21,22,23,24,25,26,27,28,29,30,31,32,33,34,35,36,37,38,39,40,41,42,43,44,45,46,47,48,49,50,51,52,53,54,55,56,57,58,59,60,61,62,63,64,65,66,67,68,69,70,71,72,73,74,75,76,77,78,79,80,81,82,83,84,85,86,87,88,89,90,91,92,93,94,95,96,97,98,99,100,101,102,103,104,105,106,107,108,109,110,111,112,113,114,115,116,117,118,119,120,121,122,123,124,125,126,127,128,129,130,131,132,133,134,135,136,137,138,139,140,141,142,143,144,145,146,147,148,149,150,151,152,153,154,155,156,157,158,159,160,161,162,163,164,165,166,167,168,169,170,171,172,173,174,175,176,177,178,179,180,181,182,183,184,185,186,187,188,189,190,191,192,193,194,195,196,197,198,199,200,201,202,203,204,205,206,207,208,209,210,211,212,213,214,215,216,217,218,219,220,221,222,223,224,225,226,227,228,229,230,231,232,233,234,235,236,237,238,239,240,241,242,243,244,245,246,247,248,249,250,251,252,253,254,255,256,257,258,259,260,261,262,263,264,265,266,267,268,269,270,271,272,273,274,275,276,277,278,279,280,281,282,283,284,285,286,287,288,289,290,291,292,293,294,295,296,297,298,299,300,301,302,303,304,305,306,307,308,309,310,311,312,313,314,315,316,317,318,319,320,321,322,323,324,325,326,327,328,329,330,331,332,333,334,335,336,337,338,339,340,341,342,343,344,345,346,347,348,349,350,351,352,353,354,355,356,357,358,359,360,361,362,363,364,365,366,367,368,369,370,371,372,373,374,375,376,377,378,379,380,381,382,383,384,385,386,387,388,389,390,391,392,393,394,395,396,397,398,399,400,401,402,403,404,405,406,407,408,409,410,411,412,413,414,415,416,417,418,419,420,421,422,423,424,425,426,427,428,429,430,431,432,433,434,435,436,437,438,439,440,441,442,443,444,445,446,447,448,449,450,451,452,453,454,455,456,457,458,459,460,461,462,463,464,465,466,467,468,469,470,471,472,473,474,475,476,477,478,479,480,481,482,483,484,485,486,487,488,489,490,491,492,493,494,495,496,497,498,499,500,501,502,503,504,505,506,507,508,509,510,511,512,513,514,515,516,517,518,519,520,521,522,523,524,525,526,527,528,529,530,531,532,533,534,535,536,537,538,539,540,541,542,543,544,545,546,547,548,549,550,551,552,553,554,555,556,557,558,559,560,561,562,563,564,565,566,567,568,569,570,571,572,573,574,575,576,577,578,579,580,581,582,583,584,585,586,587,588,589,590,591,592,593,594,595,596,597,598,599,600],\"__x__values_original\":[0,1,2,3,4,5,6,7,8,9,10,11,12,13,14,15,16,17,18,19,20,21,22,23,24,25,26,27,28,29,30,31,32,33,34,35,36,37,38,39,40,41,42,43,44,45,46,47,48,49,50,51,52,53,54,55,56,57,58,59,60,61,62,63,64,65,66,67,68,69,70,71,72,73,74,75,76,77,78,79,80,81,82,83,84,85,86,87,88,89,90,91,92,93,94,95,96,97,98,99,100,101,102,103,104,105,106,107,108,109,110,111,112,113,114,115,116,117,118,119,120,121,122,123,124,125,126,127,128,129,130,131,132,133,134,135,136,137,138,139,140,141,142,143,144,145,146,147,148,149,150,151,152,153,154,155,156,157,158,159,160,161,162,163,164,165,166,167,168,169,170,171,172,173,174,175,176,177,178,179,180,181,182,183,184,185,186,187,188,189,190,191,192,193,194,195,196,197,198,199,200,201,202,203,204,205,206,207,208,209,210,211,212,213,214,215,216,217,218,219,220,221,222,223,224,225,226,227,228,229,230,231,232,233,234,235,236,237,238,239,240,241,242,243,244,245,246,247,248,249,250,251,252,253,254,255,256,257,258,259,260,261,262,263,264,265,266,267,268,269,270,271,272,273,274,275,276,277,278,279,280,281,282,283,284,285,286,287,288,289,290,291,292,293,294,295,296,297,298,299,300,301,302,303,304,305,306,307,308,309,310,311,312,313,314,315,316,317,318,319,320,321,322,323,324,325,326,327,328,329,330,331,332,333,334,335,336,337,338,339,340,341,342,343,344,345,346,347,348,349,350,351,352,353,354,355,356,357,358,359,360,361,362,363,364,365,366,367,368,369,370,371,372,373,374,375,376,377,378,379,380,381,382,383,384,385,386,387,388,389,390,391,392,393,394,395,396,397,398,399,400,401,402,403,404,405,406,407,408,409,410,411,412,413,414,415,416,417,418,419,420,421,422,423,424,425,426,427,428,429,430,431,432,433,434,435,436,437,438,439,440,441,442,443,444,445,446,447,448,449,450,451,452,453,454,455,456,457,458,459,460,461,462,463,464,465,466,467,468,469,470,471,472,473,474,475,476,477,478,479,480,481,482,483,484,485,486,487,488,489,490,491,492,493,494,495,496,497,498,499,500,501,502,503,504,505,506,507,508,509,510,511,512,513,514,515,516,517,518,519,520,521,522,523,524,525,526,527,528,529,530,531,532,533,534,535,536,537,538,539,540,541,542,543,544,545,546,547,548,549,550,551,552,553,554,555,556,557,558,559,560,561,562,563,564,565,566,567,568,569,570,571,572,573,574,575,576,577,578,579,580,581,582,583,584,585,586,587,588,589,590,591,592,593,594,595,596,597,598,599,600],\"active_count\":[0,0,0,1,2,2,3,5,11,12,15,16,18,19,20,18,12,15,17,19,18,20,20,18,13,16,20,17,17,19,18,19,13,14,16,12,18,20,20,18,19,19,15,10,13,15,15,15,16,17,18,12,14,17,13,17,20,20,19,20,20,19,13,14,15,12,13,18,15,18,19,19,19,18,19,17,12,15,15,17,16,17,19,16,18,18,19,17,15,18,14,15,16,19,19,19,19,18,20,14,18,18,19,20,19,19,5,7,13,16,19,20,20,20,19,13,8,9,6,11,14,15,16,16,19,19,19,9,11,14,11,16,18,19,20,17,19,18,15,17,18,20,18,19,20,19,13,11,16,17,18,20,20,20,19,18,16,5,8,11,12,17,18,19,19,19,20,13,12,2,2,3,7,9,12,15,17,18,20,20,19,18,10,14,10,15,19,19,19,19,19,19,0,0,1,4,10,13,15,17,17,17,16,11,13,13,11,15,19,20,20,20,20,19,13,6,14,18,19,20,20,20,20,18,14,7,10,16,16,17,17,18,19,17,19,20,20,19,18,19,14,9,13,13,17,18,18,20,17,18,18,17,19,12,14,16,17,20,18,19,20,19,20,10,12,16,17,18,18,19,20,18,17,17,15,16,16,19,19,19,19,20,18,15,17,17,19,18,20,19,12,15,11,14,18,19,19,19,20,20,17,7,9,13,13,17,18,18,20,20,20,12,7,9,9,12,15,16,17,17,18,18,10,13,16,17,11,12,17,19,18,19,20,20,18,13,16,18,17,19,20,20,20,20,20,14,12,8,14,20,20,20,20,20,19,12,6,8,10,13,16,20,18,19,20,18,20,14,12,14,16,18,18,18,19,19,18,5,9,13,17,19,19,20,20,20,18,9,12,12,16,17,18,20,20,20,16,18,19,13,11,14,18,20,20,17,18,19,17,9,10,12,14,19,19,19,20,20,18,15,17,19,16,18,19,19,16,19,19,19,19,18,18,17,3,5,8,13,17,19,20,20,20,19,19,16,2,4,5,6,7,8,10,13,15,19,18,19,19,15,18,14,17,18,19,20,19,18,19,19,18,8,10,14,16,17,18,19,20,20,20,16,19,19,10,10,11,13,15,17,18,20,20,17,18,18,12,5,12,15,17,18,20,20,20,20,18,18,1,3,4,6,10,14,19,20,20,20,19,15,14,11,8,11,13,15,17,15,18,20,20,16,17,19,18,10,11,13,15,15,18,18,20,20,17,18,16,20,7,10,13,16,17,17,19,18,19,17,19,18,15,18,18,19,15,14,17,12,14,16,18,19,15,16,14,14,14,12,16,19,20,19,20,16,19,17,18,18,16,18,16,11,12,10,13,15,18,19,14,16,16]},\"selected\":{\"id\":\"2094\"},\"selection_policy\":{\"id\":\"2093\"}},\"id\":\"2082\",\"type\":\"ColumnDataSource\"},{\"attributes\":{\"label\":{\"value\":\" active_count\"},\"renderers\":[{\"id\":\"2086\"}]},\"id\":\"2097\",\"type\":\"LegendItem\"}],\"root_ids\":[\"2049\"]},\"title\":\"Bokeh Application\",\"version\":\"2.2.3\"}};\n",
       "  var render_items = [{\"docid\":\"9e03e418-a486-4ae4-b6c2-a03e2810e7f8\",\"root_ids\":[\"2049\"],\"roots\":{\"2049\":\"64fb7a43-c8bb-4dd8-b142-7d54b19cedb2\"}}];\n",
       "  root.Bokeh.embed.embed_items_notebook(docs_json, render_items);\n",
       "\n",
       "  }\n",
       "  if (root.Bokeh !== undefined) {\n",
       "    embed_document(root);\n",
       "  } else {\n",
       "    var attempts = 0;\n",
       "    var timer = setInterval(function(root) {\n",
       "      if (root.Bokeh !== undefined) {\n",
       "        clearInterval(timer);\n",
       "        embed_document(root);\n",
       "      } else {\n",
       "        attempts++;\n",
       "        if (attempts > 100) {\n",
       "          clearInterval(timer);\n",
       "          console.log(\"Bokeh: ERROR: Unable to run BokehJS code because BokehJS library is missing\");\n",
       "        }\n",
       "      }\n",
       "    }, 10, root)\n",
       "  }\n",
       "})(window);"
      ],
      "application/vnd.bokehjs_exec.v0+json": ""
     },
     "metadata": {
      "application/vnd.bokehjs_exec.v0+json": {
       "id": "2049"
      }
     },
     "output_type": "display_data"
    },
    {
     "data": {
      "text/html": [
       "\n",
       "\n",
       "\n",
       "\n",
       "\n",
       "\n",
       "  <div class=\"bk-root\" id=\"8ef802f3-8b7c-4560-9eb0-b98e19b3b27d\" data-root-id=\"2195\"></div>\n"
      ]
     },
     "metadata": {},
     "output_type": "display_data"
    },
    {
     "data": {
      "application/javascript": [
       "(function(root) {\n",
       "  function embed_document(root) {\n",
       "    \n",
       "  var docs_json = {\"73235f61-2900-4dc2-bde7-d02b4d2fbd49\":{\"roots\":{\"references\":[{\"attributes\":{\"below\":[{\"id\":\"2206\"}],\"center\":[{\"id\":\"2209\"},{\"id\":\"2213\"},{\"id\":\"2242\"}],\"left\":[{\"id\":\"2210\"}],\"output_backend\":\"webgl\",\"plot_height\":150,\"plot_width\":800,\"renderers\":[{\"id\":\"2232\"}],\"sizing_mode\":\"fixed\",\"title\":{\"id\":\"2196\"},\"toolbar\":{\"id\":\"2221\"},\"x_range\":{\"id\":\"2198\"},\"x_scale\":{\"id\":\"2202\"},\"y_range\":{\"id\":\"2200\"},\"y_scale\":{\"id\":\"2204\"}},\"id\":\"2195\",\"subtype\":\"Figure\",\"type\":\"Plot\"},{\"attributes\":{\"label\":{\"value\":\" active_count\"},\"renderers\":[{\"id\":\"2232\"}]},\"id\":\"2243\",\"type\":\"LegendItem\"},{\"attributes\":{\"text\":\"density at 0.25\"},\"id\":\"2196\",\"type\":\"Title\"},{\"attributes\":{\"line_alpha\":0.1,\"line_color\":\"#1f77b4\",\"line_width\":2,\"x\":{\"field\":\"__x__values\"},\"y\":{\"field\":\"active_count\"}},\"id\":\"2231\",\"type\":\"Line\"},{\"attributes\":{\"line_color\":\"#1f77b4\",\"line_width\":2,\"x\":{\"field\":\"__x__values\"},\"y\":{\"field\":\"active_count\"}},\"id\":\"2230\",\"type\":\"Line\"},{\"attributes\":{\"source\":{\"id\":\"2228\"}},\"id\":\"2233\",\"type\":\"CDSView\"},{\"attributes\":{\"click_policy\":\"hide\",\"items\":[{\"id\":\"2243\"}],\"visible\":false},\"id\":\"2242\",\"type\":\"Legend\"},{\"attributes\":{},\"id\":\"2204\",\"type\":\"LinearScale\"},{\"attributes\":{\"ticks\":[0,100,200,300,400,500,600]},\"id\":\"2246\",\"type\":\"FixedTicker\"},{\"attributes\":{},\"id\":\"2239\",\"type\":\"UnionRenderers\"},{\"attributes\":{},\"id\":\"2240\",\"type\":\"Selection\"},{\"attributes\":{\"axis_label\":\"steps\",\"formatter\":{\"id\":\"2236\"},\"ticker\":{\"id\":\"2246\"}},\"id\":\"2206\",\"type\":\"LinearAxis\"},{\"attributes\":{},\"id\":\"2215\",\"type\":\"WheelZoomTool\"},{\"attributes\":{\"axis\":{\"id\":\"2206\"},\"ticker\":null},\"id\":\"2209\",\"type\":\"Grid\"},{\"attributes\":{\"axis_label\":\"active ants\",\"formatter\":{\"id\":\"2238\"},\"ticker\":{\"id\":\"2211\"}},\"id\":\"2210\",\"type\":\"LinearAxis\"},{\"attributes\":{},\"id\":\"2200\",\"type\":\"DataRange1d\"},{\"attributes\":{\"axis\":{\"id\":\"2210\"},\"dimension\":1,\"ticker\":null},\"id\":\"2213\",\"type\":\"Grid\"},{\"attributes\":{},\"id\":\"2198\",\"type\":\"DataRange1d\"},{\"attributes\":{},\"id\":\"2211\",\"type\":\"BasicTicker\"},{\"attributes\":{},\"id\":\"2248\",\"type\":\"SaveTool\"},{\"attributes\":{},\"id\":\"2236\",\"type\":\"BasicTickFormatter\"},{\"attributes\":{},\"id\":\"2202\",\"type\":\"LinearScale\"},{\"attributes\":{\"active_drag\":\"auto\",\"active_inspect\":\"auto\",\"active_multi\":null,\"active_scroll\":{\"id\":\"2215\"},\"active_tap\":\"auto\",\"tools\":[{\"id\":\"2248\"}]},\"id\":\"2221\",\"type\":\"Toolbar\"},{\"attributes\":{\"data\":{\"__x__values\":[0,1,2,3,4,5,6,7,8,9,10,11,12,13,14,15,16,17,18,19,20,21,22,23,24,25,26,27,28,29,30,31,32,33,34,35,36,37,38,39,40,41,42,43,44,45,46,47,48,49,50,51,52,53,54,55,56,57,58,59,60,61,62,63,64,65,66,67,68,69,70,71,72,73,74,75,76,77,78,79,80,81,82,83,84,85,86,87,88,89,90,91,92,93,94,95,96,97,98,99,100,101,102,103,104,105,106,107,108,109,110,111,112,113,114,115,116,117,118,119,120,121,122,123,124,125,126,127,128,129,130,131,132,133,134,135,136,137,138,139,140,141,142,143,144,145,146,147,148,149,150,151,152,153,154,155,156,157,158,159,160,161,162,163,164,165,166,167,168,169,170,171,172,173,174,175,176,177,178,179,180,181,182,183,184,185,186,187,188,189,190,191,192,193,194,195,196,197,198,199,200,201,202,203,204,205,206,207,208,209,210,211,212,213,214,215,216,217,218,219,220,221,222,223,224,225,226,227,228,229,230,231,232,233,234,235,236,237,238,239,240,241,242,243,244,245,246,247,248,249,250,251,252,253,254,255,256,257,258,259,260,261,262,263,264,265,266,267,268,269,270,271,272,273,274,275,276,277,278,279,280,281,282,283,284,285,286,287,288,289,290,291,292,293,294,295,296,297,298,299,300,301,302,303,304,305,306,307,308,309,310,311,312,313,314,315,316,317,318,319,320,321,322,323,324,325,326,327,328,329,330,331,332,333,334,335,336,337,338,339,340,341,342,343,344,345,346,347,348,349,350,351,352,353,354,355,356,357,358,359,360,361,362,363,364,365,366,367,368,369,370,371,372,373,374,375,376,377,378,379,380,381,382,383,384,385,386,387,388,389,390,391,392,393,394,395,396,397,398,399,400,401,402,403,404,405,406,407,408,409,410,411,412,413,414,415,416,417,418,419,420,421,422,423,424,425,426,427,428,429,430,431,432,433,434,435,436,437,438,439,440,441,442,443,444,445,446,447,448,449,450,451,452,453,454,455,456,457,458,459,460,461,462,463,464,465,466,467,468,469,470,471,472,473,474,475,476,477,478,479,480,481,482,483,484,485,486,487,488,489,490,491,492,493,494,495,496,497,498,499,500,501,502,503,504,505,506,507,508,509,510,511,512,513,514,515,516,517,518,519,520,521,522,523,524,525,526,527,528,529,530,531,532,533,534,535,536,537,538,539,540,541,542,543,544,545,546,547,548,549,550,551,552,553,554,555,556,557,558,559,560,561,562,563,564,565,566,567,568,569,570,571,572,573,574,575,576,577,578,579,580,581,582,583,584,585,586,587,588,589,590,591,592,593,594,595,596,597,598,599,600],\"__x__values_original\":[0,1,2,3,4,5,6,7,8,9,10,11,12,13,14,15,16,17,18,19,20,21,22,23,24,25,26,27,28,29,30,31,32,33,34,35,36,37,38,39,40,41,42,43,44,45,46,47,48,49,50,51,52,53,54,55,56,57,58,59,60,61,62,63,64,65,66,67,68,69,70,71,72,73,74,75,76,77,78,79,80,81,82,83,84,85,86,87,88,89,90,91,92,93,94,95,96,97,98,99,100,101,102,103,104,105,106,107,108,109,110,111,112,113,114,115,116,117,118,119,120,121,122,123,124,125,126,127,128,129,130,131,132,133,134,135,136,137,138,139,140,141,142,143,144,145,146,147,148,149,150,151,152,153,154,155,156,157,158,159,160,161,162,163,164,165,166,167,168,169,170,171,172,173,174,175,176,177,178,179,180,181,182,183,184,185,186,187,188,189,190,191,192,193,194,195,196,197,198,199,200,201,202,203,204,205,206,207,208,209,210,211,212,213,214,215,216,217,218,219,220,221,222,223,224,225,226,227,228,229,230,231,232,233,234,235,236,237,238,239,240,241,242,243,244,245,246,247,248,249,250,251,252,253,254,255,256,257,258,259,260,261,262,263,264,265,266,267,268,269,270,271,272,273,274,275,276,277,278,279,280,281,282,283,284,285,286,287,288,289,290,291,292,293,294,295,296,297,298,299,300,301,302,303,304,305,306,307,308,309,310,311,312,313,314,315,316,317,318,319,320,321,322,323,324,325,326,327,328,329,330,331,332,333,334,335,336,337,338,339,340,341,342,343,344,345,346,347,348,349,350,351,352,353,354,355,356,357,358,359,360,361,362,363,364,365,366,367,368,369,370,371,372,373,374,375,376,377,378,379,380,381,382,383,384,385,386,387,388,389,390,391,392,393,394,395,396,397,398,399,400,401,402,403,404,405,406,407,408,409,410,411,412,413,414,415,416,417,418,419,420,421,422,423,424,425,426,427,428,429,430,431,432,433,434,435,436,437,438,439,440,441,442,443,444,445,446,447,448,449,450,451,452,453,454,455,456,457,458,459,460,461,462,463,464,465,466,467,468,469,470,471,472,473,474,475,476,477,478,479,480,481,482,483,484,485,486,487,488,489,490,491,492,493,494,495,496,497,498,499,500,501,502,503,504,505,506,507,508,509,510,511,512,513,514,515,516,517,518,519,520,521,522,523,524,525,526,527,528,529,530,531,532,533,534,535,536,537,538,539,540,541,542,543,544,545,546,547,548,549,550,551,552,553,554,555,556,557,558,559,560,561,562,563,564,565,566,567,568,569,570,571,572,573,574,575,576,577,578,579,580,581,582,583,584,585,586,587,588,589,590,591,592,593,594,595,596,597,598,599,600],\"active_count\":[0,0,1,2,8,10,13,18,21,23,24,23,24,25,24,22,20,23,21,23,23,23,23,25,24,18,17,22,25,24,22,25,25,24,22,25,24,19,22,23,24,25,22,22,18,12,15,18,23,24,25,25,25,25,23,11,13,18,22,23,25,25,24,24,24,21,13,5,12,15,19,23,25,25,25,25,23,18,14,13,16,20,21,23,23,23,23,25,25,16,14,20,24,19,21,24,25,25,25,24,21,20,10,12,18,21,22,25,25,25,24,21,20,20,13,16,21,22,22,24,25,24,24,24,24,22,22,25,13,19,22,25,25,25,25,25,18,16,11,16,18,21,24,25,25,22,24,24,23,14,19,23,24,23,25,23,25,18,19,21,20,22,21,22,20,22,15,14,17,18,22,22,22,25,20,20,17,21,23,24,25,25,25,25,25,20,2,2,4,7,10,13,17,24,24,24,25,25,25,24,2,3,4,13,18,21,22,25,25,25,23,17,20,18,22,23,24,25,25,25,20,18,14,14,19,20,23,24,25,24,24,22,18,22,15,22,23,25,25,25,25,25,25,2,6,15,21,25,25,25,25,24,21,20,6,6,7,9,15,18,23,23,25,25,25,25,24,24,4,10,16,18,19,20,20,18,18,16,15,13,21,22,25,25,25,25,18,20,13,15,23,24,25,25,25,25,18,16,15,23,25,25,25,25,25,25,9,8,18,22,23,23,23,23,23,15,15,17,21,25,25,25,25,25,25,11,4,8,13,19,22,24,25,25,25,25,24,17,4,10,16,19,22,24,25,25,25,23,24,16,13,17,22,25,25,25,25,25,17,8,12,17,21,25,25,25,25,25,21,15,5,13,17,22,25,24,23,24,25,25,15,16,17,20,22,25,25,25,24,25,25,7,7,13,17,22,25,25,25,25,25,19,19,7,17,23,25,25,25,25,25,24,5,6,14,22,24,25,25,25,25,22,24,18,16,20,23,25,23,25,22,23,23,18,17,18,23,21,25,25,25,24,24,25,22,3,5,6,11,16,17,18,21,25,25,25,20,25,25,17,20,23,24,23,24,25,22,24,21,23,21,20,22,25,25,25,14,14,14,2,5,10,11,13,18,21,24,24,24,25,25,19,22,13,18,21,23,23,25,25,22,22,16,21,21,22,24,24,25,25,21,20,10,15,20,24,25,25,23,24,24,13,9,12,15,23,24,25,25,21,21,21,19,6,8,15,22,24,25,25,25,25,25,19,4,8,13,15,19,19,19,21,24,25,21,25,25,25,25,24,25,19,8,17,24,25,25,25,25,25,24,1,3,6,8,10,16,22,25,25,25,25,25,24,11,8,15,19,23,24,25,25,24,25,23,24,11,16,19,21,24]},\"selected\":{\"id\":\"2240\"},\"selection_policy\":{\"id\":\"2239\"}},\"id\":\"2228\",\"type\":\"ColumnDataSource\"},{\"attributes\":{},\"id\":\"2238\",\"type\":\"BasicTickFormatter\"},{\"attributes\":{\"data_source\":{\"id\":\"2228\"},\"glyph\":{\"id\":\"2230\"},\"hover_glyph\":null,\"muted_glyph\":null,\"nonselection_glyph\":{\"id\":\"2231\"},\"selection_glyph\":null,\"view\":{\"id\":\"2233\"}},\"id\":\"2232\",\"type\":\"GlyphRenderer\"}],\"root_ids\":[\"2195\"]},\"title\":\"Bokeh Application\",\"version\":\"2.2.3\"}};\n",
       "  var render_items = [{\"docid\":\"73235f61-2900-4dc2-bde7-d02b4d2fbd49\",\"root_ids\":[\"2195\"],\"roots\":{\"2195\":\"8ef802f3-8b7c-4560-9eb0-b98e19b3b27d\"}}];\n",
       "  root.Bokeh.embed.embed_items_notebook(docs_json, render_items);\n",
       "\n",
       "  }\n",
       "  if (root.Bokeh !== undefined) {\n",
       "    embed_document(root);\n",
       "  } else {\n",
       "    var attempts = 0;\n",
       "    var timer = setInterval(function(root) {\n",
       "      if (root.Bokeh !== undefined) {\n",
       "        clearInterval(timer);\n",
       "        embed_document(root);\n",
       "      } else {\n",
       "        attempts++;\n",
       "        if (attempts > 100) {\n",
       "          clearInterval(timer);\n",
       "          console.log(\"Bokeh: ERROR: Unable to run BokehJS code because BokehJS library is missing\");\n",
       "        }\n",
       "      }\n",
       "    }, 10, root)\n",
       "  }\n",
       "})(window);"
      ],
      "application/vnd.bokehjs_exec.v0+json": ""
     },
     "metadata": {
      "application/vnd.bokehjs_exec.v0+json": {
       "id": "2195"
      }
     },
     "output_type": "display_data"
    },
    {
     "data": {
      "text/html": [
       "\n",
       "\n",
       "\n",
       "\n",
       "\n",
       "\n",
       "  <div class=\"bk-root\" id=\"a8cbc230-8672-4bcf-b9f1-fe190ad2dbad\" data-root-id=\"2347\"></div>\n"
      ]
     },
     "metadata": {},
     "output_type": "display_data"
    },
    {
     "data": {
      "application/javascript": [
       "(function(root) {\n",
       "  function embed_document(root) {\n",
       "    \n",
       "  var docs_json = {\"47d3225d-264d-4d34-8a1d-1b7761e5f588\":{\"roots\":{\"references\":[{\"attributes\":{\"below\":[{\"id\":\"2358\"}],\"center\":[{\"id\":\"2361\"},{\"id\":\"2365\"},{\"id\":\"2394\"}],\"left\":[{\"id\":\"2362\"}],\"output_backend\":\"webgl\",\"plot_height\":150,\"plot_width\":800,\"renderers\":[{\"id\":\"2384\"}],\"sizing_mode\":\"fixed\",\"title\":{\"id\":\"2348\"},\"toolbar\":{\"id\":\"2373\"},\"x_range\":{\"id\":\"2350\"},\"x_scale\":{\"id\":\"2354\"},\"y_range\":{\"id\":\"2352\"},\"y_scale\":{\"id\":\"2356\"}},\"id\":\"2347\",\"subtype\":\"Figure\",\"type\":\"Plot\"},{\"attributes\":{\"text\":\"density at 0.3\"},\"id\":\"2348\",\"type\":\"Title\"},{\"attributes\":{},\"id\":\"2367\",\"type\":\"WheelZoomTool\"},{\"attributes\":{\"active_drag\":\"auto\",\"active_inspect\":\"auto\",\"active_multi\":null,\"active_scroll\":{\"id\":\"2367\"},\"active_tap\":\"auto\",\"tools\":[{\"id\":\"2400\"}]},\"id\":\"2373\",\"type\":\"Toolbar\"},{\"attributes\":{},\"id\":\"2388\",\"type\":\"BasicTickFormatter\"},{\"attributes\":{\"label\":{\"value\":\" active_count\"},\"renderers\":[{\"id\":\"2384\"}]},\"id\":\"2395\",\"type\":\"LegendItem\"},{\"attributes\":{},\"id\":\"2390\",\"type\":\"BasicTickFormatter\"},{\"attributes\":{\"data_source\":{\"id\":\"2380\"},\"glyph\":{\"id\":\"2382\"},\"hover_glyph\":null,\"muted_glyph\":null,\"nonselection_glyph\":{\"id\":\"2383\"},\"selection_glyph\":null,\"view\":{\"id\":\"2385\"}},\"id\":\"2384\",\"type\":\"GlyphRenderer\"},{\"attributes\":{\"data\":{\"__x__values\":[0,1,2,3,4,5,6,7,8,9,10,11,12,13,14,15,16,17,18,19,20,21,22,23,24,25,26,27,28,29,30,31,32,33,34,35,36,37,38,39,40,41,42,43,44,45,46,47,48,49,50,51,52,53,54,55,56,57,58,59,60,61,62,63,64,65,66,67,68,69,70,71,72,73,74,75,76,77,78,79,80,81,82,83,84,85,86,87,88,89,90,91,92,93,94,95,96,97,98,99,100,101,102,103,104,105,106,107,108,109,110,111,112,113,114,115,116,117,118,119,120,121,122,123,124,125,126,127,128,129,130,131,132,133,134,135,136,137,138,139,140,141,142,143,144,145,146,147,148,149,150,151,152,153,154,155,156,157,158,159,160,161,162,163,164,165,166,167,168,169,170,171,172,173,174,175,176,177,178,179,180,181,182,183,184,185,186,187,188,189,190,191,192,193,194,195,196,197,198,199,200,201,202,203,204,205,206,207,208,209,210,211,212,213,214,215,216,217,218,219,220,221,222,223,224,225,226,227,228,229,230,231,232,233,234,235,236,237,238,239,240,241,242,243,244,245,246,247,248,249,250,251,252,253,254,255,256,257,258,259,260,261,262,263,264,265,266,267,268,269,270,271,272,273,274,275,276,277,278,279,280,281,282,283,284,285,286,287,288,289,290,291,292,293,294,295,296,297,298,299,300,301,302,303,304,305,306,307,308,309,310,311,312,313,314,315,316,317,318,319,320,321,322,323,324,325,326,327,328,329,330,331,332,333,334,335,336,337,338,339,340,341,342,343,344,345,346,347,348,349,350,351,352,353,354,355,356,357,358,359,360,361,362,363,364,365,366,367,368,369,370,371,372,373,374,375,376,377,378,379,380,381,382,383,384,385,386,387,388,389,390,391,392,393,394,395,396,397,398,399,400,401,402,403,404,405,406,407,408,409,410,411,412,413,414,415,416,417,418,419,420,421,422,423,424,425,426,427,428,429,430,431,432,433,434,435,436,437,438,439,440,441,442,443,444,445,446,447,448,449,450,451,452,453,454,455,456,457,458,459,460,461,462,463,464,465,466,467,468,469,470,471,472,473,474,475,476,477,478,479,480,481,482,483,484,485,486,487,488,489,490,491,492,493,494,495,496,497,498,499,500,501,502,503,504,505,506,507,508,509,510,511,512,513,514,515,516,517,518,519,520,521,522,523,524,525,526,527,528,529,530,531,532,533,534,535,536,537,538,539,540,541,542,543,544,545,546,547,548,549,550,551,552,553,554,555,556,557,558,559,560,561,562,563,564,565,566,567,568,569,570,571,572,573,574,575,576,577,578,579,580,581,582,583,584,585,586,587,588,589,590,591,592,593,594,595,596,597,598,599,600],\"__x__values_original\":[0,1,2,3,4,5,6,7,8,9,10,11,12,13,14,15,16,17,18,19,20,21,22,23,24,25,26,27,28,29,30,31,32,33,34,35,36,37,38,39,40,41,42,43,44,45,46,47,48,49,50,51,52,53,54,55,56,57,58,59,60,61,62,63,64,65,66,67,68,69,70,71,72,73,74,75,76,77,78,79,80,81,82,83,84,85,86,87,88,89,90,91,92,93,94,95,96,97,98,99,100,101,102,103,104,105,106,107,108,109,110,111,112,113,114,115,116,117,118,119,120,121,122,123,124,125,126,127,128,129,130,131,132,133,134,135,136,137,138,139,140,141,142,143,144,145,146,147,148,149,150,151,152,153,154,155,156,157,158,159,160,161,162,163,164,165,166,167,168,169,170,171,172,173,174,175,176,177,178,179,180,181,182,183,184,185,186,187,188,189,190,191,192,193,194,195,196,197,198,199,200,201,202,203,204,205,206,207,208,209,210,211,212,213,214,215,216,217,218,219,220,221,222,223,224,225,226,227,228,229,230,231,232,233,234,235,236,237,238,239,240,241,242,243,244,245,246,247,248,249,250,251,252,253,254,255,256,257,258,259,260,261,262,263,264,265,266,267,268,269,270,271,272,273,274,275,276,277,278,279,280,281,282,283,284,285,286,287,288,289,290,291,292,293,294,295,296,297,298,299,300,301,302,303,304,305,306,307,308,309,310,311,312,313,314,315,316,317,318,319,320,321,322,323,324,325,326,327,328,329,330,331,332,333,334,335,336,337,338,339,340,341,342,343,344,345,346,347,348,349,350,351,352,353,354,355,356,357,358,359,360,361,362,363,364,365,366,367,368,369,370,371,372,373,374,375,376,377,378,379,380,381,382,383,384,385,386,387,388,389,390,391,392,393,394,395,396,397,398,399,400,401,402,403,404,405,406,407,408,409,410,411,412,413,414,415,416,417,418,419,420,421,422,423,424,425,426,427,428,429,430,431,432,433,434,435,436,437,438,439,440,441,442,443,444,445,446,447,448,449,450,451,452,453,454,455,456,457,458,459,460,461,462,463,464,465,466,467,468,469,470,471,472,473,474,475,476,477,478,479,480,481,482,483,484,485,486,487,488,489,490,491,492,493,494,495,496,497,498,499,500,501,502,503,504,505,506,507,508,509,510,511,512,513,514,515,516,517,518,519,520,521,522,523,524,525,526,527,528,529,530,531,532,533,534,535,536,537,538,539,540,541,542,543,544,545,546,547,548,549,550,551,552,553,554,555,556,557,558,559,560,561,562,563,564,565,566,567,568,569,570,571,572,573,574,575,576,577,578,579,580,581,582,583,584,585,586,587,588,589,590,591,592,593,594,595,596,597,598,599,600],\"active_count\":[0,0,1,2,4,7,10,18,22,28,30,30,30,30,29,28,16,9,16,24,28,29,30,30,30,30,29,25,2,3,3,7,11,19,24,29,30,30,30,30,30,28,11,8,17,23,27,30,30,30,30,25,28,17,22,27,30,30,30,30,30,30,9,6,15,20,23,26,29,30,30,30,30,29,26,21,6,18,24,28,30,30,30,30,28,28,21,5,11,25,29,30,30,30,30,30,27,14,12,22,28,30,30,30,30,30,28,10,9,13,19,27,28,29,30,30,30,29,25,26,16,20,26,30,30,30,30,30,30,24,3,8,18,27,28,28,30,30,30,28,27,29,19,21,28,30,30,30,30,29,29,16,14,26,30,30,30,30,30,30,29,0,0,2,5,12,20,25,28,30,30,30,30,30,23,7,14,20,27,30,30,30,30,30,27,0,0,0,0,0,1,4,10,19,22,29,30,30,30,30,30,26,5,9,19,26,29,29,29,30,30,29,17,20,27,30,30,30,30,30,29,21,6,13,21,28,30,30,30,30,29,24,24,11,16,24,29,30,30,30,30,30,28,16,8,14,23,26,30,30,30,30,30,30,16,6,11,22,27,30,30,30,30,30,30,25,2,5,7,11,20,26,29,30,30,30,30,28,29,12,13,19,23,25,28,30,30,30,30,28,30,23,7,13,18,23,28,30,30,29,29,30,28,22,24,30,30,30,30,30,30,20,7,18,26,30,30,30,30,30,28,24,6,15,23,28,30,30,30,30,30,25,14,14,23,29,30,30,30,30,30,25,14,13,21,29,30,30,30,30,30,28,1,1,3,4,6,15,18,25,28,28,30,30,30,28,20,26,17,25,29,30,30,30,30,30,26,6,13,24,26,27,30,30,30,30,28,30,14,14,18,26,27,28,30,30,30,30,24,29,14,20,26,28,29,30,30,30,28,30,19,19,23,28,30,30,30,30,30,28,14,12,27,29,30,30,30,30,30,22,7,15,21,27,29,29,29,29,29,25,12,9,15,27,30,30,30,30,30,30,14,9,20,24,26,28,28,30,30,30,26,19,26,26,28,30,30,30,30,30,28,15,10,19,25,29,30,30,30,30,30,21,6,12,19,23,25,29,30,29,30,30,28,24,15,18,24,29,30,30,28,30,30,29,22,25,27,28,24,30,30,26,27,29,27,24,23,25,28,29,30,30,30,28,24,20,17,26,29,30,30,30,30,30,23,4,9,16,21,23,26,29,30,30,25,28,29,26,26,30,30,29,30,30,30,26,16,17,16,26,30,30,30,30,30,30,28,2,5,10,17,24,27,30,30,30,30,30,27,5,9,19,28,30,30,30,30,30,30,9,7,14,20,25,27,30,30,30,30,27,29]},\"selected\":{\"id\":\"2392\"},\"selection_policy\":{\"id\":\"2391\"}},\"id\":\"2380\",\"type\":\"ColumnDataSource\"},{\"attributes\":{\"ticks\":[0,100,200,300,400,500,600]},\"id\":\"2398\",\"type\":\"FixedTicker\"},{\"attributes\":{\"line_alpha\":0.1,\"line_color\":\"#1f77b4\",\"line_width\":2,\"x\":{\"field\":\"__x__values\"},\"y\":{\"field\":\"active_count\"}},\"id\":\"2383\",\"type\":\"Line\"},{\"attributes\":{\"line_color\":\"#1f77b4\",\"line_width\":2,\"x\":{\"field\":\"__x__values\"},\"y\":{\"field\":\"active_count\"}},\"id\":\"2382\",\"type\":\"Line\"},{\"attributes\":{\"source\":{\"id\":\"2380\"}},\"id\":\"2385\",\"type\":\"CDSView\"},{\"attributes\":{},\"id\":\"2391\",\"type\":\"UnionRenderers\"},{\"attributes\":{\"click_policy\":\"hide\",\"items\":[{\"id\":\"2395\"}],\"visible\":false},\"id\":\"2394\",\"type\":\"Legend\"},{\"attributes\":{},\"id\":\"2392\",\"type\":\"Selection\"},{\"attributes\":{},\"id\":\"2350\",\"type\":\"DataRange1d\"},{\"attributes\":{},\"id\":\"2352\",\"type\":\"DataRange1d\"},{\"attributes\":{},\"id\":\"2363\",\"type\":\"BasicTicker\"},{\"attributes\":{\"axis_label\":\"steps\",\"formatter\":{\"id\":\"2388\"},\"ticker\":{\"id\":\"2398\"}},\"id\":\"2358\",\"type\":\"LinearAxis\"},{\"attributes\":{},\"id\":\"2354\",\"type\":\"LinearScale\"},{\"attributes\":{},\"id\":\"2400\",\"type\":\"SaveTool\"},{\"attributes\":{\"axis\":{\"id\":\"2358\"},\"ticker\":null},\"id\":\"2361\",\"type\":\"Grid\"},{\"attributes\":{},\"id\":\"2356\",\"type\":\"LinearScale\"},{\"attributes\":{\"axis_label\":\"active ants\",\"formatter\":{\"id\":\"2390\"},\"ticker\":{\"id\":\"2363\"}},\"id\":\"2362\",\"type\":\"LinearAxis\"},{\"attributes\":{\"axis\":{\"id\":\"2362\"},\"dimension\":1,\"ticker\":null},\"id\":\"2365\",\"type\":\"Grid\"}],\"root_ids\":[\"2347\"]},\"title\":\"Bokeh Application\",\"version\":\"2.2.3\"}};\n",
       "  var render_items = [{\"docid\":\"47d3225d-264d-4d34-8a1d-1b7761e5f588\",\"root_ids\":[\"2347\"],\"roots\":{\"2347\":\"a8cbc230-8672-4bcf-b9f1-fe190ad2dbad\"}}];\n",
       "  root.Bokeh.embed.embed_items_notebook(docs_json, render_items);\n",
       "\n",
       "  }\n",
       "  if (root.Bokeh !== undefined) {\n",
       "    embed_document(root);\n",
       "  } else {\n",
       "    var attempts = 0;\n",
       "    var timer = setInterval(function(root) {\n",
       "      if (root.Bokeh !== undefined) {\n",
       "        clearInterval(timer);\n",
       "        embed_document(root);\n",
       "      } else {\n",
       "        attempts++;\n",
       "        if (attempts > 100) {\n",
       "          clearInterval(timer);\n",
       "          console.log(\"Bokeh: ERROR: Unable to run BokehJS code because BokehJS library is missing\");\n",
       "        }\n",
       "      }\n",
       "    }, 10, root)\n",
       "  }\n",
       "})(window);"
      ],
      "application/vnd.bokehjs_exec.v0+json": ""
     },
     "metadata": {
      "application/vnd.bokehjs_exec.v0+json": {
       "id": "2347"
      }
     },
     "output_type": "display_data"
    }
   ],
   "source": [
    "plot_runner(runner2)"
   ]
  },
  {
   "cell_type": "markdown",
   "metadata": {},
   "source": [
    "## Compresión\n",
    "\n",
    "Usar algún algoritmo de compresión (tar, gzip, bzi, tgz, rar, etc.) para compactar algunas de las series de tiempo. Medir la tasa de compresión para cada una de las series, variando densidades entre $0.01$ y $1$. Graficar los resultados.\n"
   ]
  },
  {
   "cell_type": "markdown",
   "metadata": {},
   "source": [
    "Se usó `gzip` como algoritmo de compresión."
   ]
  },
  {
   "cell_type": "code",
   "execution_count": 60,
   "metadata": {},
   "outputs": [],
   "source": [
    "def encode_runner(runner):\n",
    "    res = []\n",
    "    from gzip import compress\n",
    "    raw_data = runner.get_model_vars_dataframe()[['density', 'activation_series']].to_dict()\n",
    "\n",
    "    dfs = zip(\n",
    "            raw_data['density'].values(),\n",
    "            raw_data['activation_series'].values()\n",
    "        )\n",
    "\n",
    "    for d, df in dfs:\n",
    "        series = list(df['active_count'])\n",
    "        s_in = ' '.join([str(s) for s in series])\n",
    "        s_out = compress(s_in.encode())\n",
    "        res.append((d, {'pre': len(s_in), 'pos': len(s_out)}))\n",
    "        \n",
    "    return res\n",
    "\n",
    "def compute_compression_rate(runner):\n",
    "    vals = encode_runner(runner)\n",
    "    res = {'density':[], 'compression_rate': []}\n",
    "    \n",
    "    for d, vs in vals:\n",
    "        res['density'].append(d)\n",
    "        rate = vs['pos']\n",
    "        res['compression_rate'].append(rate)\n",
    "        \n",
    "    return res"
   ]
  },
  {
   "cell_type": "code",
   "execution_count": 13,
   "metadata": {},
   "outputs": [],
   "source": [
    "import numpy as np\n",
    "\n",
    "var_params3 = {\n",
    "    'density': np.linspace(0, 1, 101)\n",
    "}\n",
    "\n",
    "runner3 = BatchRunner(\n",
    "    Colony,\n",
    "    var_params3,\n",
    "    fixed_params,\n",
    "    iterations=2,\n",
    "    max_steps=600,\n",
    "    model_reporters={\n",
    "        'activation_series': lambda m: m.datacollector.get_model_vars_dataframe()\n",
    "    }\n",
    ")"
   ]
  },
  {
   "cell_type": "code",
   "execution_count": 14,
   "metadata": {},
   "outputs": [
    {
     "name": "stderr",
     "output_type": "stream",
     "text": [
      "202it [04:31,  1.35s/it]\n"
     ]
    }
   ],
   "source": [
    "runner3.run_all()"
   ]
  },
  {
   "cell_type": "code",
   "execution_count": 61,
   "metadata": {},
   "outputs": [
    {
     "data": {
      "text/html": [
       "\n",
       "\n",
       "\n",
       "\n",
       "\n",
       "\n",
       "  <div class=\"bk-root\" id=\"1577667a-0b4c-4c1b-8944-b9b8cc19b733\" data-root-id=\"7884\"></div>\n"
      ]
     },
     "metadata": {},
     "output_type": "display_data"
    },
    {
     "data": {
      "application/javascript": [
       "(function(root) {\n",
       "  function embed_document(root) {\n",
       "    \n",
       "  var docs_json = {\"a913a6e1-d0c3-4cb9-9eae-d53592f5fea7\":{\"roots\":{\"references\":[{\"attributes\":{\"below\":[{\"id\":\"7895\"}],\"center\":[{\"id\":\"7898\"},{\"id\":\"7902\"},{\"id\":\"7931\"}],\"left\":[{\"id\":\"7899\"}],\"output_backend\":\"webgl\",\"plot_height\":400,\"renderers\":[{\"id\":\"7921\"}],\"sizing_mode\":\"fixed\",\"title\":{\"id\":\"7885\"},\"toolbar\":{\"id\":\"7910\"},\"x_range\":{\"id\":\"7887\"},\"x_scale\":{\"id\":\"7891\"},\"y_range\":{\"id\":\"7889\"},\"y_scale\":{\"id\":\"7893\"}},\"id\":\"7884\",\"subtype\":\"Figure\",\"type\":\"Plot\"},{\"attributes\":{\"click_policy\":\"hide\",\"items\":[{\"id\":\"7932\"}],\"visible\":false},\"id\":\"7931\",\"type\":\"Legend\"},{\"attributes\":{},\"id\":\"7927\",\"type\":\"BasicTickFormatter\"},{\"attributes\":{},\"id\":\"7891\",\"type\":\"LinearScale\"},{\"attributes\":{},\"id\":\"7906\",\"type\":\"SaveTool\"},{\"attributes\":{},\"id\":\"7904\",\"type\":\"WheelZoomTool\"},{\"attributes\":{\"active_drag\":\"auto\",\"active_inspect\":\"auto\",\"active_multi\":null,\"active_scroll\":{\"id\":\"7904\"},\"active_tap\":\"auto\",\"tools\":[{\"id\":\"7903\"},{\"id\":\"7904\"},{\"id\":\"7905\"},{\"id\":\"7906\"},{\"id\":\"7907\"},{\"id\":\"7908\"},{\"id\":\"7933\"}]},\"id\":\"7910\",\"type\":\"Toolbar\"},{\"attributes\":{},\"id\":\"7928\",\"type\":\"UnionRenderers\"},{\"attributes\":{\"overlay\":{\"id\":\"7909\"}},\"id\":\"7905\",\"type\":\"BoxZoomTool\"},{\"attributes\":{\"source\":{\"id\":\"7917\"}},\"id\":\"7922\",\"type\":\"CDSView\"},{\"attributes\":{\"fill_alpha\":{\"value\":0.1},\"fill_color\":{\"value\":\"#1f77b4\"},\"line_alpha\":{\"value\":0.1},\"line_width\":{\"value\":2},\"size\":{\"units\":\"screen\",\"value\":10},\"x\":{\"field\":\"__x__values\"},\"y\":{\"field\":\"y\"}},\"id\":\"7920\",\"type\":\"Scatter\"},{\"attributes\":{},\"id\":\"7929\",\"type\":\"Selection\"},{\"attributes\":{},\"id\":\"7887\",\"type\":\"DataRange1d\"},{\"attributes\":{},\"id\":\"7925\",\"type\":\"BasicTickFormatter\"},{\"attributes\":{\"fill_color\":{\"value\":\"#1f77b4\"},\"line_width\":{\"value\":2},\"size\":{\"units\":\"screen\",\"value\":10},\"x\":{\"field\":\"__x__values\"},\"y\":{\"field\":\"y\"}},\"id\":\"7919\",\"type\":\"Scatter\"},{\"attributes\":{\"data_source\":{\"id\":\"7917\"},\"glyph\":{\"id\":\"7919\"},\"hover_glyph\":null,\"muted_glyph\":null,\"nonselection_glyph\":{\"id\":\"7920\"},\"selection_glyph\":null,\"view\":{\"id\":\"7922\"}},\"id\":\"7921\",\"type\":\"GlyphRenderer\"},{\"attributes\":{},\"id\":\"7900\",\"type\":\"BasicTicker\"},{\"attributes\":{\"text\":\"\"},\"id\":\"7885\",\"type\":\"Title\"},{\"attributes\":{},\"id\":\"7907\",\"type\":\"ResetTool\"},{\"attributes\":{},\"id\":\"7903\",\"type\":\"PanTool\"},{\"attributes\":{\"axis\":{\"id\":\"7895\"},\"ticker\":null},\"id\":\"7898\",\"type\":\"Grid\"},{\"attributes\":{\"bottom_units\":\"screen\",\"fill_alpha\":0.5,\"fill_color\":\"lightgrey\",\"left_units\":\"screen\",\"level\":\"overlay\",\"line_alpha\":1.0,\"line_color\":\"black\",\"line_dash\":[4,4],\"line_width\":2,\"right_units\":\"screen\",\"top_units\":\"screen\"},\"id\":\"7909\",\"type\":\"BoxAnnotation\"},{\"attributes\":{},\"id\":\"7893\",\"type\":\"LinearScale\"},{\"attributes\":{\"data\":{\"__x__values\":{\"__ndarray__\":\"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\",\"dtype\":\"float64\",\"order\":\"little\",\"shape\":[202]},\"__x__values_original\":{\"__ndarray__\":\"AAAAAAAAAAAAAAAAAAAAAHsUrkfheoQ/exSuR+F6hD97FK5H4XqUP3sUrkfhepQ/uB6F61G4nj+4HoXrUbieP3sUrkfheqQ/exSuR+F6pD+amZmZmZmpP5qZmZmZmak/uB6F61G4rj+4HoXrUbiuP+xRuB6F67E/7FG4HoXrsT97FK5H4Xq0P3sUrkfherQ/CtejcD0Ktz8K16NwPQq3P5qZmZmZmbk/mpmZmZmZuT8pXI/C9Si8Pylcj8L1KLw/uB6F61G4vj+4HoXrUbi+P6RwPQrXo8A/pHA9CtejwD/sUbgehevBP+xRuB6F68E/MzMzMzMzwz8zMzMzMzPDP3sUrkfhesQ/exSuR+F6xD/D9Shcj8LFP8P1KFyPwsU/CtejcD0Kxz8K16NwPQrHP1K4HoXrUcg/UrgehetRyD+amZmZmZnJP5qZmZmZmck/4XoUrkfhyj/hehSuR+HKPylcj8L1KMw/KVyPwvUozD9xPQrXo3DNP3E9CtejcM0/uB6F61G4zj+4HoXrUbjOPwAAAAAAANA/AAAAAAAA0D+kcD0K16PQP6RwPQrXo9A/SOF6FK5H0T9I4XoUrkfRP+xRuB6F69E/7FG4HoXr0T+PwvUoXI/SP4/C9Shcj9I/MzMzMzMz0z8zMzMzMzPTP9ejcD0K19M/16NwPQrX0z97FK5H4XrUP3sUrkfhetQ/H4XrUbge1T8fhetRuB7VP8P1KFyPwtU/w/UoXI/C1T9nZmZmZmbWP2dmZmZmZtY/CtejcD0K1z8K16NwPQrXP65H4XoUrtc/rkfhehSu1z9SuB6F61HYP1K4HoXrUdg/9ihcj8L12D/2KFyPwvXYP5qZmZmZmdk/mpmZmZmZ2T8+CtejcD3aPz4K16NwPdo/4XoUrkfh2j/hehSuR+HaP4XrUbgehds/hetRuB6F2z8pXI/C9SjcPylcj8L1KNw/zczMzMzM3D/NzMzMzMzcP3E9CtejcN0/cT0K16Nw3T8VrkfhehTePxWuR+F6FN4/uB6F61G43j+4HoXrUbjeP1yPwvUoXN8/XI/C9Shc3z8AAAAAAADgPwAAAAAAAOA/UrgehetR4D9SuB6F61HgP6RwPQrXo+A/pHA9Ctej4D/2KFyPwvXgP/YoXI/C9eA/SOF6FK5H4T9I4XoUrkfhP5qZmZmZmeE/mpmZmZmZ4T/sUbgehevhP+xRuB6F6+E/PgrXo3A94j8+CtejcD3iP4/C9Shcj+I/j8L1KFyP4j/hehSuR+HiP+F6FK5H4eI/MzMzMzMz4z8zMzMzMzPjP4XrUbgeheM/hetRuB6F4z/Xo3A9CtfjP9ejcD0K1+M/KVyPwvUo5D8pXI/C9SjkP3sUrkfheuQ/exSuR+F65D/NzMzMzMzkP83MzMzMzOQ/H4XrUbge5T8fhetRuB7lP3E9CtejcOU/cT0K16Nw5T/D9Shcj8LlP8P1KFyPwuU/Fa5H4XoU5j8VrkfhehTmP2dmZmZmZuY/Z2ZmZmZm5j+4HoXrUbjmP7gehetRuOY/CtejcD0K5z8K16NwPQrnP1yPwvUoXOc/XI/C9Shc5z+uR+F6FK7nP65H4XoUruc/AAAAAAAA6D8AAAAAAADoP1K4HoXrUeg/UrgehetR6D+kcD0K16PoP6RwPQrXo+g/9ihcj8L16D/2KFyPwvXoP0jhehSuR+k/SOF6FK5H6T+amZmZmZnpP5qZmZmZmek/7FG4HoXr6T/sUbgehevpPz4K16NwPeo/PgrXo3A96j+QwvUoXI/qP5DC9Shcj+o/4XoUrkfh6j/hehSuR+HqPzMzMzMzM+s/MzMzMzMz6z+F61G4HoXrP4XrUbgehes/16NwPQrX6z/Xo3A9CtfrPylcj8L1KOw/KVyPwvUo7D97FK5H4XrsP3sUrkfheuw/zczMzMzM7D/NzMzMzMzsPx+F61G4Hu0/H4XrUbge7T9xPQrXo3DtP3E9CtejcO0/w/UoXI/C7T/D9Shcj8LtPxWuR+F6FO4/Fa5H4XoU7j9nZmZmZmbuP2dmZmZmZu4/uB6F61G47j+4HoXrUbjuPwrXo3A9Cu8/CtejcD0K7z9cj8L1KFzvP1yPwvUoXO8/rkfhehSu7z+uR+F6FK7vPwAAAAAAAPA/AAAAAAAA8D8=\",\"dtype\":\"float64\",\"order\":\"little\",\"shape\":[202]},\"y\":[31,31,47,47,55,68,93,79,110,141,125,126,191,169,217,222,271,226,304,319,341,291,364,363,387,393,396,387,413,429,408,417,442,426,436,441,435,435,453,432,459,462,471,462,468,466,467,465,463,477,467,460,460,462,458,462,449,455,456,461,459,434,469,445,431,460,436,447,432,436,424,456,432,440,419,436,418,437,429,435,417,423,418,407,423,409,393,422,413,389,411,404,395,393,402,381,388,404,400,392,393,394,393,400,385,375,384,395,380,382,385,387,370,377,370,396,378,384,375,374,375,386,377,381,364,365,358,359,360,368,364,362,365,363,356,357,375,353,362,362,357,353,366,361,360,358,359,348,352,353,360,360,355,342,352,344,351,351,346,366,348,351,351,352,357,352,356,351,340,356,355,340,343,339,350,339,344,340,342,349,336,333,340,336,335,329,334,340,325,328,339,328,335,333,340,307,324,342,324,338,336,337]},\"selected\":{\"id\":\"7929\"},\"selection_policy\":{\"id\":\"7928\"}},\"id\":\"7917\",\"type\":\"ColumnDataSource\"},{\"attributes\":{},\"id\":\"7889\",\"type\":\"DataRange1d\"},{\"attributes\":{\"label\":{\"value\":\"Hide/Show\"},\"renderers\":[{\"id\":\"7921\"}]},\"id\":\"7932\",\"type\":\"LegendItem\"},{\"attributes\":{},\"id\":\"7908\",\"type\":\"HelpTool\"},{\"attributes\":{\"axis_label\":\"compresion rate\",\"formatter\":{\"id\":\"7927\"},\"ticker\":{\"id\":\"7900\"}},\"id\":\"7899\",\"type\":\"LinearAxis\"},{\"attributes\":{\"callback\":null,\"renderers\":[{\"id\":\"7921\"}],\"tooltips\":[[\"density\",\"@__x__values_original\"],[\"compression_rate\",\"@y\"]]},\"id\":\"7933\",\"type\":\"HoverTool\"},{\"attributes\":{\"axis_label\":\"density\",\"formatter\":{\"id\":\"7925\"},\"ticker\":{\"id\":\"7935\"}},\"id\":\"7895\",\"type\":\"LinearAxis\"},{\"attributes\":{\"axis\":{\"id\":\"7899\"},\"dimension\":1,\"ticker\":null},\"id\":\"7902\",\"type\":\"Grid\"},{\"attributes\":{\"ticks\":[0.0,0.1,0.2,0.30000000000000004,0.4,0.5,0.6000000000000001,0.7000000000000001,0.8,0.9,1.0]},\"id\":\"7935\",\"type\":\"FixedTicker\"}],\"root_ids\":[\"7884\"]},\"title\":\"Bokeh Application\",\"version\":\"2.2.3\"}};\n",
       "  var render_items = [{\"docid\":\"a913a6e1-d0c3-4cb9-9eae-d53592f5fea7\",\"root_ids\":[\"7884\"],\"roots\":{\"7884\":\"1577667a-0b4c-4c1b-8944-b9b8cc19b733\"}}];\n",
       "  root.Bokeh.embed.embed_items_notebook(docs_json, render_items);\n",
       "\n",
       "  }\n",
       "  if (root.Bokeh !== undefined) {\n",
       "    embed_document(root);\n",
       "  } else {\n",
       "    var attempts = 0;\n",
       "    var timer = setInterval(function(root) {\n",
       "      if (root.Bokeh !== undefined) {\n",
       "        clearInterval(timer);\n",
       "        embed_document(root);\n",
       "      } else {\n",
       "        attempts++;\n",
       "        if (attempts > 100) {\n",
       "          clearInterval(timer);\n",
       "          console.log(\"Bokeh: ERROR: Unable to run BokehJS code because BokehJS library is missing\");\n",
       "        }\n",
       "      }\n",
       "    }, 10, root)\n",
       "  }\n",
       "})(window);"
      ],
      "application/vnd.bokehjs_exec.v0+json": ""
     },
     "metadata": {
      "application/vnd.bokehjs_exec.v0+json": {
       "id": "7884"
      }
     },
     "output_type": "display_data"
    },
    {
     "data": {
      "text/html": [
       "<div style=\"display: table;\"><div style=\"display: table-row;\"><div style=\"display: table-cell;\"><b title=\"bokeh.plotting.figure.Figure\">Figure</b>(</div><div style=\"display: table-cell;\">id&nbsp;=&nbsp;'7884', <span id=\"8207\" style=\"cursor: pointer;\">&hellip;)</span></div></div><div class=\"8206\" style=\"display: none;\"><div style=\"display: table-cell;\"></div><div style=\"display: table-cell;\">above&nbsp;=&nbsp;[],</div></div><div class=\"8206\" style=\"display: none;\"><div style=\"display: table-cell;\"></div><div style=\"display: table-cell;\">align&nbsp;=&nbsp;'start',</div></div><div class=\"8206\" style=\"display: none;\"><div style=\"display: table-cell;\"></div><div style=\"display: table-cell;\">aspect_ratio&nbsp;=&nbsp;None,</div></div><div class=\"8206\" style=\"display: none;\"><div style=\"display: table-cell;\"></div><div style=\"display: table-cell;\">aspect_scale&nbsp;=&nbsp;1,</div></div><div class=\"8206\" style=\"display: none;\"><div style=\"display: table-cell;\"></div><div style=\"display: table-cell;\">background&nbsp;=&nbsp;None,</div></div><div class=\"8206\" style=\"display: none;\"><div style=\"display: table-cell;\"></div><div style=\"display: table-cell;\">background_fill_alpha&nbsp;=&nbsp;1.0,</div></div><div class=\"8206\" style=\"display: none;\"><div style=\"display: table-cell;\"></div><div style=\"display: table-cell;\">background_fill_color&nbsp;=&nbsp;'#ffffff',</div></div><div class=\"8206\" style=\"display: none;\"><div style=\"display: table-cell;\"></div><div style=\"display: table-cell;\">below&nbsp;=&nbsp;[LinearAxis(id='7895', ...)],</div></div><div class=\"8206\" style=\"display: none;\"><div style=\"display: table-cell;\"></div><div style=\"display: table-cell;\">border_fill_alpha&nbsp;=&nbsp;1.0,</div></div><div class=\"8206\" style=\"display: none;\"><div style=\"display: table-cell;\"></div><div style=\"display: table-cell;\">border_fill_color&nbsp;=&nbsp;'#ffffff',</div></div><div class=\"8206\" style=\"display: none;\"><div style=\"display: table-cell;\"></div><div style=\"display: table-cell;\">center&nbsp;=&nbsp;[Grid(id='7898', ...), Grid(id='7902', ...), Legend(id='7931', ...)],</div></div><div class=\"8206\" style=\"display: none;\"><div style=\"display: table-cell;\"></div><div style=\"display: table-cell;\">css_classes&nbsp;=&nbsp;[],</div></div><div class=\"8206\" style=\"display: none;\"><div style=\"display: table-cell;\"></div><div style=\"display: table-cell;\">disabled&nbsp;=&nbsp;False,</div></div><div class=\"8206\" style=\"display: none;\"><div style=\"display: table-cell;\"></div><div style=\"display: table-cell;\">extra_x_ranges&nbsp;=&nbsp;{},</div></div><div class=\"8206\" style=\"display: none;\"><div style=\"display: table-cell;\"></div><div style=\"display: table-cell;\">extra_y_ranges&nbsp;=&nbsp;{},</div></div><div class=\"8206\" style=\"display: none;\"><div style=\"display: table-cell;\"></div><div style=\"display: table-cell;\">frame_height&nbsp;=&nbsp;None,</div></div><div class=\"8206\" style=\"display: none;\"><div style=\"display: table-cell;\"></div><div style=\"display: table-cell;\">frame_width&nbsp;=&nbsp;None,</div></div><div class=\"8206\" style=\"display: none;\"><div style=\"display: table-cell;\"></div><div style=\"display: table-cell;\">height&nbsp;=&nbsp;None,</div></div><div class=\"8206\" style=\"display: none;\"><div style=\"display: table-cell;\"></div><div style=\"display: table-cell;\">height_policy&nbsp;=&nbsp;'auto',</div></div><div class=\"8206\" style=\"display: none;\"><div style=\"display: table-cell;\"></div><div style=\"display: table-cell;\">hidpi&nbsp;=&nbsp;True,</div></div><div class=\"8206\" style=\"display: none;\"><div style=\"display: table-cell;\"></div><div style=\"display: table-cell;\">js_event_callbacks&nbsp;=&nbsp;{},</div></div><div class=\"8206\" style=\"display: none;\"><div style=\"display: table-cell;\"></div><div style=\"display: table-cell;\">js_property_callbacks&nbsp;=&nbsp;{},</div></div><div class=\"8206\" style=\"display: none;\"><div style=\"display: table-cell;\"></div><div style=\"display: table-cell;\">left&nbsp;=&nbsp;[LinearAxis(id='7899', ...)],</div></div><div class=\"8206\" style=\"display: none;\"><div style=\"display: table-cell;\"></div><div style=\"display: table-cell;\">lod_factor&nbsp;=&nbsp;10,</div></div><div class=\"8206\" style=\"display: none;\"><div style=\"display: table-cell;\"></div><div style=\"display: table-cell;\">lod_interval&nbsp;=&nbsp;300,</div></div><div class=\"8206\" style=\"display: none;\"><div style=\"display: table-cell;\"></div><div style=\"display: table-cell;\">lod_threshold&nbsp;=&nbsp;2000,</div></div><div class=\"8206\" style=\"display: none;\"><div style=\"display: table-cell;\"></div><div style=\"display: table-cell;\">lod_timeout&nbsp;=&nbsp;500,</div></div><div class=\"8206\" style=\"display: none;\"><div style=\"display: table-cell;\"></div><div style=\"display: table-cell;\">margin&nbsp;=&nbsp;(0, 0, 0, 0),</div></div><div class=\"8206\" style=\"display: none;\"><div style=\"display: table-cell;\"></div><div style=\"display: table-cell;\">match_aspect&nbsp;=&nbsp;False,</div></div><div class=\"8206\" style=\"display: none;\"><div style=\"display: table-cell;\"></div><div style=\"display: table-cell;\">max_height&nbsp;=&nbsp;None,</div></div><div class=\"8206\" style=\"display: none;\"><div style=\"display: table-cell;\"></div><div style=\"display: table-cell;\">max_width&nbsp;=&nbsp;None,</div></div><div class=\"8206\" style=\"display: none;\"><div style=\"display: table-cell;\"></div><div style=\"display: table-cell;\">min_border&nbsp;=&nbsp;5,</div></div><div class=\"8206\" style=\"display: none;\"><div style=\"display: table-cell;\"></div><div style=\"display: table-cell;\">min_border_bottom&nbsp;=&nbsp;None,</div></div><div class=\"8206\" style=\"display: none;\"><div style=\"display: table-cell;\"></div><div style=\"display: table-cell;\">min_border_left&nbsp;=&nbsp;None,</div></div><div class=\"8206\" style=\"display: none;\"><div style=\"display: table-cell;\"></div><div style=\"display: table-cell;\">min_border_right&nbsp;=&nbsp;None,</div></div><div class=\"8206\" style=\"display: none;\"><div style=\"display: table-cell;\"></div><div style=\"display: table-cell;\">min_border_top&nbsp;=&nbsp;None,</div></div><div class=\"8206\" style=\"display: none;\"><div style=\"display: table-cell;\"></div><div style=\"display: table-cell;\">min_height&nbsp;=&nbsp;None,</div></div><div class=\"8206\" style=\"display: none;\"><div style=\"display: table-cell;\"></div><div style=\"display: table-cell;\">min_width&nbsp;=&nbsp;None,</div></div><div class=\"8206\" style=\"display: none;\"><div style=\"display: table-cell;\"></div><div style=\"display: table-cell;\">name&nbsp;=&nbsp;None,</div></div><div class=\"8206\" style=\"display: none;\"><div style=\"display: table-cell;\"></div><div style=\"display: table-cell;\">outline_line_alpha&nbsp;=&nbsp;1.0,</div></div><div class=\"8206\" style=\"display: none;\"><div style=\"display: table-cell;\"></div><div style=\"display: table-cell;\">outline_line_cap&nbsp;=&nbsp;'butt',</div></div><div class=\"8206\" style=\"display: none;\"><div style=\"display: table-cell;\"></div><div style=\"display: table-cell;\">outline_line_color&nbsp;=&nbsp;'#e5e5e5',</div></div><div class=\"8206\" style=\"display: none;\"><div style=\"display: table-cell;\"></div><div style=\"display: table-cell;\">outline_line_dash&nbsp;=&nbsp;[],</div></div><div class=\"8206\" style=\"display: none;\"><div style=\"display: table-cell;\"></div><div style=\"display: table-cell;\">outline_line_dash_offset&nbsp;=&nbsp;0,</div></div><div class=\"8206\" style=\"display: none;\"><div style=\"display: table-cell;\"></div><div style=\"display: table-cell;\">outline_line_join&nbsp;=&nbsp;'bevel',</div></div><div class=\"8206\" style=\"display: none;\"><div style=\"display: table-cell;\"></div><div style=\"display: table-cell;\">outline_line_width&nbsp;=&nbsp;1,</div></div><div class=\"8206\" style=\"display: none;\"><div style=\"display: table-cell;\"></div><div style=\"display: table-cell;\">output_backend&nbsp;=&nbsp;'webgl',</div></div><div class=\"8206\" style=\"display: none;\"><div style=\"display: table-cell;\"></div><div style=\"display: table-cell;\">plot_height&nbsp;=&nbsp;400,</div></div><div class=\"8206\" style=\"display: none;\"><div style=\"display: table-cell;\"></div><div style=\"display: table-cell;\">plot_width&nbsp;=&nbsp;600,</div></div><div class=\"8206\" style=\"display: none;\"><div style=\"display: table-cell;\"></div><div style=\"display: table-cell;\">renderers&nbsp;=&nbsp;[GlyphRenderer(id='7921', ...)],</div></div><div class=\"8206\" style=\"display: none;\"><div style=\"display: table-cell;\"></div><div style=\"display: table-cell;\">reset_policy&nbsp;=&nbsp;'standard',</div></div><div class=\"8206\" style=\"display: none;\"><div style=\"display: table-cell;\"></div><div style=\"display: table-cell;\">right&nbsp;=&nbsp;[],</div></div><div class=\"8206\" style=\"display: none;\"><div style=\"display: table-cell;\"></div><div style=\"display: table-cell;\">sizing_mode&nbsp;=&nbsp;'fixed',</div></div><div class=\"8206\" style=\"display: none;\"><div style=\"display: table-cell;\"></div><div style=\"display: table-cell;\">subscribed_events&nbsp;=&nbsp;[],</div></div><div class=\"8206\" style=\"display: none;\"><div style=\"display: table-cell;\"></div><div style=\"display: table-cell;\">tags&nbsp;=&nbsp;[],</div></div><div class=\"8206\" style=\"display: none;\"><div style=\"display: table-cell;\"></div><div style=\"display: table-cell;\">title&nbsp;=&nbsp;Title(id='7885', ...),</div></div><div class=\"8206\" style=\"display: none;\"><div style=\"display: table-cell;\"></div><div style=\"display: table-cell;\">title_location&nbsp;=&nbsp;'above',</div></div><div class=\"8206\" style=\"display: none;\"><div style=\"display: table-cell;\"></div><div style=\"display: table-cell;\">toolbar&nbsp;=&nbsp;Toolbar(id='7910', ...),</div></div><div class=\"8206\" style=\"display: none;\"><div style=\"display: table-cell;\"></div><div style=\"display: table-cell;\">toolbar_location&nbsp;=&nbsp;'right',</div></div><div class=\"8206\" style=\"display: none;\"><div style=\"display: table-cell;\"></div><div style=\"display: table-cell;\">toolbar_sticky&nbsp;=&nbsp;True,</div></div><div class=\"8206\" style=\"display: none;\"><div style=\"display: table-cell;\"></div><div style=\"display: table-cell;\">visible&nbsp;=&nbsp;True,</div></div><div class=\"8206\" style=\"display: none;\"><div style=\"display: table-cell;\"></div><div style=\"display: table-cell;\">width&nbsp;=&nbsp;None,</div></div><div class=\"8206\" style=\"display: none;\"><div style=\"display: table-cell;\"></div><div style=\"display: table-cell;\">width_policy&nbsp;=&nbsp;'auto',</div></div><div class=\"8206\" style=\"display: none;\"><div style=\"display: table-cell;\"></div><div style=\"display: table-cell;\">x_range&nbsp;=&nbsp;DataRange1d(id='7887', ...),</div></div><div class=\"8206\" style=\"display: none;\"><div style=\"display: table-cell;\"></div><div style=\"display: table-cell;\">x_scale&nbsp;=&nbsp;LinearScale(id='7891', ...),</div></div><div class=\"8206\" style=\"display: none;\"><div style=\"display: table-cell;\"></div><div style=\"display: table-cell;\">y_range&nbsp;=&nbsp;DataRange1d(id='7889', ...),</div></div><div class=\"8206\" style=\"display: none;\"><div style=\"display: table-cell;\"></div><div style=\"display: table-cell;\">y_scale&nbsp;=&nbsp;LinearScale(id='7893', ...))</div></div></div>\n",
       "<script>\n",
       "(function() {\n",
       "  var expanded = false;\n",
       "  var ellipsis = document.getElementById(\"8207\");\n",
       "  ellipsis.addEventListener(\"click\", function() {\n",
       "    var rows = document.getElementsByClassName(\"8206\");\n",
       "    for (var i = 0; i < rows.length; i++) {\n",
       "      var el = rows[i];\n",
       "      el.style.display = expanded ? \"none\" : \"table-row\";\n",
       "    }\n",
       "    ellipsis.innerHTML = expanded ? \"&hellip;)\" : \"&lsaquo;&lsaquo;&lsaquo;\";\n",
       "    expanded = !expanded;\n",
       "  });\n",
       "})();\n",
       "</script>\n"
      ],
      "text/plain": [
       "Figure(id='7884', ...)"
      ]
     },
     "execution_count": 61,
     "metadata": {},
     "output_type": "execute_result"
    }
   ],
   "source": [
    "rates = pd.DataFrame.from_dict(compute_compression_rate(runner3))\n",
    "rates.plot.scatter(\n",
    "    legend=False,\n",
    "    x='density', y='compression_rate',\n",
    "    xlabel='density',\n",
    "    ylabel='compresion rate',\n",
    "    xticks=np.linspace(0, 1, 11)\n",
    ")"
   ]
  }
 ],
 "metadata": {
  "kernelspec": {
   "display_name": "Python 3",
   "language": "python",
   "name": "python3"
  },
  "language_info": {
   "codemirror_mode": {
    "name": "ipython",
    "version": 3
   },
   "file_extension": ".py",
   "mimetype": "text/x-python",
   "name": "python",
   "nbconvert_exporter": "python",
   "pygments_lexer": "ipython3",
   "version": "3.8.6"
  }
 },
 "nbformat": 4,
 "nbformat_minor": 4
}
