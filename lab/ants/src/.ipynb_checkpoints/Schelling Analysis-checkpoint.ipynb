{
 "cells": [
  {
   "cell_type": "markdown",
   "metadata": {},
   "source": [
    "# Segregación de Schelling"
   ]
  },
  {
   "cell_type": "code",
   "execution_count": 1,
   "metadata": {},
   "outputs": [
    {
     "data": {
      "text/html": [
       "\n",
       "    <div class=\"bk-root\">\n",
       "        <a href=\"https://bokeh.org\" target=\"_blank\" class=\"bk-logo bk-logo-small bk-logo-notebook\"></a>\n",
       "        <span id=\"1001\">Loading BokehJS ...</span>\n",
       "    </div>"
      ]
     },
     "metadata": {},
     "output_type": "display_data"
    },
    {
     "data": {
      "application/javascript": [
       "\n",
       "(function(root) {\n",
       "  function now() {\n",
       "    return new Date();\n",
       "  }\n",
       "\n",
       "  var force = true;\n",
       "\n",
       "  if (typeof root._bokeh_onload_callbacks === \"undefined\" || force === true) {\n",
       "    root._bokeh_onload_callbacks = [];\n",
       "    root._bokeh_is_loading = undefined;\n",
       "  }\n",
       "\n",
       "  var JS_MIME_TYPE = 'application/javascript';\n",
       "  var HTML_MIME_TYPE = 'text/html';\n",
       "  var EXEC_MIME_TYPE = 'application/vnd.bokehjs_exec.v0+json';\n",
       "  var CLASS_NAME = 'output_bokeh rendered_html';\n",
       "\n",
       "  /**\n",
       "   * Render data to the DOM node\n",
       "   */\n",
       "  function render(props, node) {\n",
       "    var script = document.createElement(\"script\");\n",
       "    node.appendChild(script);\n",
       "  }\n",
       "\n",
       "  /**\n",
       "   * Handle when an output is cleared or removed\n",
       "   */\n",
       "  function handleClearOutput(event, handle) {\n",
       "    var cell = handle.cell;\n",
       "\n",
       "    var id = cell.output_area._bokeh_element_id;\n",
       "    var server_id = cell.output_area._bokeh_server_id;\n",
       "    // Clean up Bokeh references\n",
       "    if (id != null && id in Bokeh.index) {\n",
       "      Bokeh.index[id].model.document.clear();\n",
       "      delete Bokeh.index[id];\n",
       "    }\n",
       "\n",
       "    if (server_id !== undefined) {\n",
       "      // Clean up Bokeh references\n",
       "      var cmd = \"from bokeh.io.state import curstate; print(curstate().uuid_to_server['\" + server_id + \"'].get_sessions()[0].document.roots[0]._id)\";\n",
       "      cell.notebook.kernel.execute(cmd, {\n",
       "        iopub: {\n",
       "          output: function(msg) {\n",
       "            var id = msg.content.text.trim();\n",
       "            if (id in Bokeh.index) {\n",
       "              Bokeh.index[id].model.document.clear();\n",
       "              delete Bokeh.index[id];\n",
       "            }\n",
       "          }\n",
       "        }\n",
       "      });\n",
       "      // Destroy server and session\n",
       "      var cmd = \"import bokeh.io.notebook as ion; ion.destroy_server('\" + server_id + \"')\";\n",
       "      cell.notebook.kernel.execute(cmd);\n",
       "    }\n",
       "  }\n",
       "\n",
       "  /**\n",
       "   * Handle when a new output is added\n",
       "   */\n",
       "  function handleAddOutput(event, handle) {\n",
       "    var output_area = handle.output_area;\n",
       "    var output = handle.output;\n",
       "\n",
       "    // limit handleAddOutput to display_data with EXEC_MIME_TYPE content only\n",
       "    if ((output.output_type != \"display_data\") || (!output.data.hasOwnProperty(EXEC_MIME_TYPE))) {\n",
       "      return\n",
       "    }\n",
       "\n",
       "    var toinsert = output_area.element.find(\".\" + CLASS_NAME.split(' ')[0]);\n",
       "\n",
       "    if (output.metadata[EXEC_MIME_TYPE][\"id\"] !== undefined) {\n",
       "      toinsert[toinsert.length - 1].firstChild.textContent = output.data[JS_MIME_TYPE];\n",
       "      // store reference to embed id on output_area\n",
       "      output_area._bokeh_element_id = output.metadata[EXEC_MIME_TYPE][\"id\"];\n",
       "    }\n",
       "    if (output.metadata[EXEC_MIME_TYPE][\"server_id\"] !== undefined) {\n",
       "      var bk_div = document.createElement(\"div\");\n",
       "      bk_div.innerHTML = output.data[HTML_MIME_TYPE];\n",
       "      var script_attrs = bk_div.children[0].attributes;\n",
       "      for (var i = 0; i < script_attrs.length; i++) {\n",
       "        toinsert[toinsert.length - 1].firstChild.setAttribute(script_attrs[i].name, script_attrs[i].value);\n",
       "        toinsert[toinsert.length - 1].firstChild.textContent = bk_div.children[0].textContent\n",
       "      }\n",
       "      // store reference to server id on output_area\n",
       "      output_area._bokeh_server_id = output.metadata[EXEC_MIME_TYPE][\"server_id\"];\n",
       "    }\n",
       "  }\n",
       "\n",
       "  function register_renderer(events, OutputArea) {\n",
       "\n",
       "    function append_mime(data, metadata, element) {\n",
       "      // create a DOM node to render to\n",
       "      var toinsert = this.create_output_subarea(\n",
       "        metadata,\n",
       "        CLASS_NAME,\n",
       "        EXEC_MIME_TYPE\n",
       "      );\n",
       "      this.keyboard_manager.register_events(toinsert);\n",
       "      // Render to node\n",
       "      var props = {data: data, metadata: metadata[EXEC_MIME_TYPE]};\n",
       "      render(props, toinsert[toinsert.length - 1]);\n",
       "      element.append(toinsert);\n",
       "      return toinsert\n",
       "    }\n",
       "\n",
       "    /* Handle when an output is cleared or removed */\n",
       "    events.on('clear_output.CodeCell', handleClearOutput);\n",
       "    events.on('delete.Cell', handleClearOutput);\n",
       "\n",
       "    /* Handle when a new output is added */\n",
       "    events.on('output_added.OutputArea', handleAddOutput);\n",
       "\n",
       "    /**\n",
       "     * Register the mime type and append_mime function with output_area\n",
       "     */\n",
       "    OutputArea.prototype.register_mime_type(EXEC_MIME_TYPE, append_mime, {\n",
       "      /* Is output safe? */\n",
       "      safe: true,\n",
       "      /* Index of renderer in `output_area.display_order` */\n",
       "      index: 0\n",
       "    });\n",
       "  }\n",
       "\n",
       "  // register the mime type if in Jupyter Notebook environment and previously unregistered\n",
       "  if (root.Jupyter !== undefined) {\n",
       "    var events = require('base/js/events');\n",
       "    var OutputArea = require('notebook/js/outputarea').OutputArea;\n",
       "\n",
       "    if (OutputArea.prototype.mime_types().indexOf(EXEC_MIME_TYPE) == -1) {\n",
       "      register_renderer(events, OutputArea);\n",
       "    }\n",
       "  }\n",
       "\n",
       "  \n",
       "  if (typeof (root._bokeh_timeout) === \"undefined\" || force === true) {\n",
       "    root._bokeh_timeout = Date.now() + 5000;\n",
       "    root._bokeh_failed_load = false;\n",
       "  }\n",
       "\n",
       "  var NB_LOAD_WARNING = {'data': {'text/html':\n",
       "     \"<div style='background-color: #fdd'>\\n\"+\n",
       "     \"<p>\\n\"+\n",
       "     \"BokehJS does not appear to have successfully loaded. If loading BokehJS from CDN, this \\n\"+\n",
       "     \"may be due to a slow or bad network connection. Possible fixes:\\n\"+\n",
       "     \"</p>\\n\"+\n",
       "     \"<ul>\\n\"+\n",
       "     \"<li>re-rerun `output_notebook()` to attempt to load from CDN again, or</li>\\n\"+\n",
       "     \"<li>use INLINE resources instead, as so:</li>\\n\"+\n",
       "     \"</ul>\\n\"+\n",
       "     \"<code>\\n\"+\n",
       "     \"from bokeh.resources import INLINE\\n\"+\n",
       "     \"output_notebook(resources=INLINE)\\n\"+\n",
       "     \"</code>\\n\"+\n",
       "     \"</div>\"}};\n",
       "\n",
       "  function display_loaded() {\n",
       "    var el = document.getElementById(\"1001\");\n",
       "    if (el != null) {\n",
       "      el.textContent = \"BokehJS is loading...\";\n",
       "    }\n",
       "    if (root.Bokeh !== undefined) {\n",
       "      if (el != null) {\n",
       "        el.textContent = \"BokehJS \" + root.Bokeh.version + \" successfully loaded.\";\n",
       "      }\n",
       "    } else if (Date.now() < root._bokeh_timeout) {\n",
       "      setTimeout(display_loaded, 100)\n",
       "    }\n",
       "  }\n",
       "\n",
       "\n",
       "  function run_callbacks() {\n",
       "    try {\n",
       "      root._bokeh_onload_callbacks.forEach(function(callback) {\n",
       "        if (callback != null)\n",
       "          callback();\n",
       "      });\n",
       "    } finally {\n",
       "      delete root._bokeh_onload_callbacks\n",
       "    }\n",
       "    console.debug(\"Bokeh: all callbacks have finished\");\n",
       "  }\n",
       "\n",
       "  function load_libs(css_urls, js_urls, callback) {\n",
       "    if (css_urls == null) css_urls = [];\n",
       "    if (js_urls == null) js_urls = [];\n",
       "\n",
       "    root._bokeh_onload_callbacks.push(callback);\n",
       "    if (root._bokeh_is_loading > 0) {\n",
       "      console.debug(\"Bokeh: BokehJS is being loaded, scheduling callback at\", now());\n",
       "      return null;\n",
       "    }\n",
       "    if (js_urls == null || js_urls.length === 0) {\n",
       "      run_callbacks();\n",
       "      return null;\n",
       "    }\n",
       "    console.debug(\"Bokeh: BokehJS not loaded, scheduling load and callback at\", now());\n",
       "    root._bokeh_is_loading = css_urls.length + js_urls.length;\n",
       "\n",
       "    function on_load() {\n",
       "      root._bokeh_is_loading--;\n",
       "      if (root._bokeh_is_loading === 0) {\n",
       "        console.debug(\"Bokeh: all BokehJS libraries/stylesheets loaded\");\n",
       "        run_callbacks()\n",
       "      }\n",
       "    }\n",
       "\n",
       "    function on_error() {\n",
       "      console.error(\"failed to load \" + url);\n",
       "    }\n",
       "\n",
       "    for (var i = 0; i < css_urls.length; i++) {\n",
       "      var url = css_urls[i];\n",
       "      const element = document.createElement(\"link\");\n",
       "      element.onload = on_load;\n",
       "      element.onerror = on_error;\n",
       "      element.rel = \"stylesheet\";\n",
       "      element.type = \"text/css\";\n",
       "      element.href = url;\n",
       "      console.debug(\"Bokeh: injecting link tag for BokehJS stylesheet: \", url);\n",
       "      document.body.appendChild(element);\n",
       "    }\n",
       "\n",
       "    const hashes = {\"https://cdn.bokeh.org/bokeh/release/bokeh-2.2.3.min.js\": \"T2yuo9Oe71Cz/I4X9Ac5+gpEa5a8PpJCDlqKYO0CfAuEszu1JrXLl8YugMqYe3sM\", \"https://cdn.bokeh.org/bokeh/release/bokeh-widgets-2.2.3.min.js\": \"98GDGJ0kOMCUMUePhksaQ/GYgB3+NH9h996V88sh3aOiUNX3N+fLXAtry6xctSZ6\", \"https://cdn.bokeh.org/bokeh/release/bokeh-tables-2.2.3.min.js\": \"89bArO+nlbP3sgakeHjCo1JYxYR5wufVgA3IbUvDY+K7w4zyxJqssu7wVnfeKCq8\"};\n",
       "\n",
       "    for (var i = 0; i < js_urls.length; i++) {\n",
       "      var url = js_urls[i];\n",
       "      var element = document.createElement('script');\n",
       "      element.onload = on_load;\n",
       "      element.onerror = on_error;\n",
       "      element.async = false;\n",
       "      element.src = url;\n",
       "      if (url in hashes) {\n",
       "        element.crossOrigin = \"anonymous\";\n",
       "        element.integrity = \"sha384-\" + hashes[url];\n",
       "      }\n",
       "      console.debug(\"Bokeh: injecting script tag for BokehJS library: \", url);\n",
       "      document.head.appendChild(element);\n",
       "    }\n",
       "  };\n",
       "\n",
       "  function inject_raw_css(css) {\n",
       "    const element = document.createElement(\"style\");\n",
       "    element.appendChild(document.createTextNode(css));\n",
       "    document.body.appendChild(element);\n",
       "  }\n",
       "\n",
       "  \n",
       "  var js_urls = [\"https://cdn.bokeh.org/bokeh/release/bokeh-2.2.3.min.js\", \"https://cdn.bokeh.org/bokeh/release/bokeh-widgets-2.2.3.min.js\", \"https://cdn.bokeh.org/bokeh/release/bokeh-tables-2.2.3.min.js\"];\n",
       "  var css_urls = [];\n",
       "  \n",
       "\n",
       "  var inline_js = [\n",
       "    function(Bokeh) {\n",
       "      Bokeh.set_log_level(\"info\");\n",
       "    },\n",
       "    function(Bokeh) {\n",
       "    \n",
       "    \n",
       "    }\n",
       "  ];\n",
       "\n",
       "  function run_inline_js() {\n",
       "    \n",
       "    if (root.Bokeh !== undefined || force === true) {\n",
       "      \n",
       "    for (var i = 0; i < inline_js.length; i++) {\n",
       "      inline_js[i].call(root, root.Bokeh);\n",
       "    }\n",
       "    if (force === true) {\n",
       "        display_loaded();\n",
       "      }} else if (Date.now() < root._bokeh_timeout) {\n",
       "      setTimeout(run_inline_js, 100);\n",
       "    } else if (!root._bokeh_failed_load) {\n",
       "      console.log(\"Bokeh: BokehJS failed to load within specified timeout.\");\n",
       "      root._bokeh_failed_load = true;\n",
       "    } else if (force !== true) {\n",
       "      var cell = $(document.getElementById(\"1001\")).parents('.cell').data().cell;\n",
       "      cell.output_area.append_execute_result(NB_LOAD_WARNING)\n",
       "    }\n",
       "\n",
       "  }\n",
       "\n",
       "  if (root._bokeh_is_loading === 0) {\n",
       "    console.debug(\"Bokeh: BokehJS loaded, going straight to plotting\");\n",
       "    run_inline_js();\n",
       "  } else {\n",
       "    load_libs(css_urls, js_urls, function() {\n",
       "      console.debug(\"Bokeh: BokehJS plotting callback run at\", now());\n",
       "      run_inline_js();\n",
       "    });\n",
       "  }\n",
       "}(window));"
      ],
      "application/vnd.bokehjs_load.v0+json": "\n(function(root) {\n  function now() {\n    return new Date();\n  }\n\n  var force = true;\n\n  if (typeof root._bokeh_onload_callbacks === \"undefined\" || force === true) {\n    root._bokeh_onload_callbacks = [];\n    root._bokeh_is_loading = undefined;\n  }\n\n  \n\n  \n  if (typeof (root._bokeh_timeout) === \"undefined\" || force === true) {\n    root._bokeh_timeout = Date.now() + 5000;\n    root._bokeh_failed_load = false;\n  }\n\n  var NB_LOAD_WARNING = {'data': {'text/html':\n     \"<div style='background-color: #fdd'>\\n\"+\n     \"<p>\\n\"+\n     \"BokehJS does not appear to have successfully loaded. If loading BokehJS from CDN, this \\n\"+\n     \"may be due to a slow or bad network connection. Possible fixes:\\n\"+\n     \"</p>\\n\"+\n     \"<ul>\\n\"+\n     \"<li>re-rerun `output_notebook()` to attempt to load from CDN again, or</li>\\n\"+\n     \"<li>use INLINE resources instead, as so:</li>\\n\"+\n     \"</ul>\\n\"+\n     \"<code>\\n\"+\n     \"from bokeh.resources import INLINE\\n\"+\n     \"output_notebook(resources=INLINE)\\n\"+\n     \"</code>\\n\"+\n     \"</div>\"}};\n\n  function display_loaded() {\n    var el = document.getElementById(\"1001\");\n    if (el != null) {\n      el.textContent = \"BokehJS is loading...\";\n    }\n    if (root.Bokeh !== undefined) {\n      if (el != null) {\n        el.textContent = \"BokehJS \" + root.Bokeh.version + \" successfully loaded.\";\n      }\n    } else if (Date.now() < root._bokeh_timeout) {\n      setTimeout(display_loaded, 100)\n    }\n  }\n\n\n  function run_callbacks() {\n    try {\n      root._bokeh_onload_callbacks.forEach(function(callback) {\n        if (callback != null)\n          callback();\n      });\n    } finally {\n      delete root._bokeh_onload_callbacks\n    }\n    console.debug(\"Bokeh: all callbacks have finished\");\n  }\n\n  function load_libs(css_urls, js_urls, callback) {\n    if (css_urls == null) css_urls = [];\n    if (js_urls == null) js_urls = [];\n\n    root._bokeh_onload_callbacks.push(callback);\n    if (root._bokeh_is_loading > 0) {\n      console.debug(\"Bokeh: BokehJS is being loaded, scheduling callback at\", now());\n      return null;\n    }\n    if (js_urls == null || js_urls.length === 0) {\n      run_callbacks();\n      return null;\n    }\n    console.debug(\"Bokeh: BokehJS not loaded, scheduling load and callback at\", now());\n    root._bokeh_is_loading = css_urls.length + js_urls.length;\n\n    function on_load() {\n      root._bokeh_is_loading--;\n      if (root._bokeh_is_loading === 0) {\n        console.debug(\"Bokeh: all BokehJS libraries/stylesheets loaded\");\n        run_callbacks()\n      }\n    }\n\n    function on_error() {\n      console.error(\"failed to load \" + url);\n    }\n\n    for (var i = 0; i < css_urls.length; i++) {\n      var url = css_urls[i];\n      const element = document.createElement(\"link\");\n      element.onload = on_load;\n      element.onerror = on_error;\n      element.rel = \"stylesheet\";\n      element.type = \"text/css\";\n      element.href = url;\n      console.debug(\"Bokeh: injecting link tag for BokehJS stylesheet: \", url);\n      document.body.appendChild(element);\n    }\n\n    const hashes = {\"https://cdn.bokeh.org/bokeh/release/bokeh-2.2.3.min.js\": \"T2yuo9Oe71Cz/I4X9Ac5+gpEa5a8PpJCDlqKYO0CfAuEszu1JrXLl8YugMqYe3sM\", \"https://cdn.bokeh.org/bokeh/release/bokeh-widgets-2.2.3.min.js\": \"98GDGJ0kOMCUMUePhksaQ/GYgB3+NH9h996V88sh3aOiUNX3N+fLXAtry6xctSZ6\", \"https://cdn.bokeh.org/bokeh/release/bokeh-tables-2.2.3.min.js\": \"89bArO+nlbP3sgakeHjCo1JYxYR5wufVgA3IbUvDY+K7w4zyxJqssu7wVnfeKCq8\"};\n\n    for (var i = 0; i < js_urls.length; i++) {\n      var url = js_urls[i];\n      var element = document.createElement('script');\n      element.onload = on_load;\n      element.onerror = on_error;\n      element.async = false;\n      element.src = url;\n      if (url in hashes) {\n        element.crossOrigin = \"anonymous\";\n        element.integrity = \"sha384-\" + hashes[url];\n      }\n      console.debug(\"Bokeh: injecting script tag for BokehJS library: \", url);\n      document.head.appendChild(element);\n    }\n  };\n\n  function inject_raw_css(css) {\n    const element = document.createElement(\"style\");\n    element.appendChild(document.createTextNode(css));\n    document.body.appendChild(element);\n  }\n\n  \n  var js_urls = [\"https://cdn.bokeh.org/bokeh/release/bokeh-2.2.3.min.js\", \"https://cdn.bokeh.org/bokeh/release/bokeh-widgets-2.2.3.min.js\", \"https://cdn.bokeh.org/bokeh/release/bokeh-tables-2.2.3.min.js\"];\n  var css_urls = [];\n  \n\n  var inline_js = [\n    function(Bokeh) {\n      Bokeh.set_log_level(\"info\");\n    },\n    function(Bokeh) {\n    \n    \n    }\n  ];\n\n  function run_inline_js() {\n    \n    if (root.Bokeh !== undefined || force === true) {\n      \n    for (var i = 0; i < inline_js.length; i++) {\n      inline_js[i].call(root, root.Bokeh);\n    }\n    if (force === true) {\n        display_loaded();\n      }} else if (Date.now() < root._bokeh_timeout) {\n      setTimeout(run_inline_js, 100);\n    } else if (!root._bokeh_failed_load) {\n      console.log(\"Bokeh: BokehJS failed to load within specified timeout.\");\n      root._bokeh_failed_load = true;\n    } else if (force !== true) {\n      var cell = $(document.getElementById(\"1001\")).parents('.cell').data().cell;\n      cell.output_area.append_execute_result(NB_LOAD_WARNING)\n    }\n\n  }\n\n  if (root._bokeh_is_loading === 0) {\n    console.debug(\"Bokeh: BokehJS loaded, going straight to plotting\");\n    run_inline_js();\n  } else {\n    load_libs(css_urls, js_urls, function() {\n      console.debug(\"Bokeh: BokehJS plotting callback run at\", now());\n      run_inline_js();\n    });\n  }\n}(window));"
     },
     "metadata": {},
     "output_type": "display_data"
    }
   ],
   "source": [
    "import pandas as pd\n",
    "pd.set_option('plotting.backend', 'pandas_bokeh')\n",
    "pd.plotting.output_notebook()\n",
    "\n",
    "from shelling.model import City"
   ]
  },
  {
   "cell_type": "markdown",
   "metadata": {},
   "source": [
    "El modelo propuesto originalmente por Thomas Schelling consiste en dos grupos de agentes, por ejemplo, rojos y verdes, que localmente tratan de satisfacer la necesidad de estar con los de su mismo grupo.\n",
    "\n",
    "De manera general este comportamiento es establecido con un parámetro conocido como porcentaje de similitud-requerida o nivel de tolerancia.\n",
    "\n",
    "Los agentes toman una decisión a partir de la información que tienen en su vecindad. Si el agente satisface las condiciones del entorno entonces se queda en su posición actual, de lo contrario, se mueve a una posición vacía.\n",
    "\n",
    "Esta dinámica local genera como resultado la formación de cúmulos de agentes del mismo tipo, es decir, hay segregación."
   ]
  },
  {
   "cell_type": "markdown",
   "metadata": {},
   "source": [
    "**Definición del sistema (entorno)**: El sistema se compone de una retícula de $n\\times n$ donde n se establece usualmente entre 50 y 100. Cada celda con posición $(i,j)$ alberga a un agente rojo o verde. El sistema tiene un parámetro de densidad poblacional, usualmente se establece en 90% (es decir, 10% de las celdas quedan vacías). La mitad de la población se inicializa como rojos y la otra como verdes. Cada agente toma una celda de manera aleatoria."
   ]
  },
  {
   "cell_type": "markdown",
   "metadata": {},
   "source": [
    "**Dinámica (reglas)**: cada agente en la posición $(i,j)$ se “muda” a un lugar vacío si en su vecindad de Moore (8-vecinos) no cumple con el porcentaje de similitud requerida."
   ]
  },
  {
   "cell_type": "code",
   "execution_count": 2,
   "metadata": {},
   "outputs": [],
   "source": [
    "def run_and_plot(city, steps=100):\n",
    "    for _ in range(steps):\n",
    "        if city.running:\n",
    "            city.step()\n",
    "            \n",
    "    df = city.datacollector.get_model_vars_dataframe()\n",
    "    df.plot(\n",
    "        legend=False,\n",
    "        xlabel='steps',\n",
    "        ylabel='satisfied citizens',\n",
    "        xticks=range(0, df.size+1, 10)\n",
    "    )\n",
    "    \n",
    "def build_city(sim):\n",
    "    return City(\n",
    "        density = 0.9, \n",
    "        width= 50,\n",
    "        height= 50,\n",
    "        sim_type='constant',\n",
    "        sim_percentage = sim\n",
    "    )"
   ]
  },
  {
   "cell_type": "code",
   "execution_count": 3,
   "metadata": {},
   "outputs": [],
   "source": [
    "city_example= build_city(0.75)"
   ]
  },
  {
   "cell_type": "code",
   "execution_count": 4,
   "metadata": {},
   "outputs": [
    {
     "data": {
      "text/html": [
       "\n",
       "\n",
       "\n",
       "\n",
       "\n",
       "\n",
       "  <div class=\"bk-root\" id=\"1cbb61c6-fed7-4824-9c1d-55793b93e198\" data-root-id=\"1002\"></div>\n"
      ]
     },
     "metadata": {},
     "output_type": "display_data"
    },
    {
     "data": {
      "application/javascript": [
       "(function(root) {\n",
       "  function embed_document(root) {\n",
       "    \n",
       "  var docs_json = {\"cce15663-444f-4b78-b376-35f8eeb28226\":{\"roots\":{\"references\":[{\"attributes\":{\"below\":[{\"id\":\"1013\"}],\"center\":[{\"id\":\"1016\"},{\"id\":\"1020\"},{\"id\":\"1049\"}],\"left\":[{\"id\":\"1017\"}],\"output_backend\":\"webgl\",\"plot_height\":400,\"renderers\":[{\"id\":\"1039\"}],\"sizing_mode\":\"fixed\",\"title\":{\"id\":\"1003\"},\"toolbar\":{\"id\":\"1028\"},\"x_range\":{\"id\":\"1005\"},\"x_scale\":{\"id\":\"1009\"},\"y_range\":{\"id\":\"1007\"},\"y_scale\":{\"id\":\"1011\"}},\"id\":\"1002\",\"subtype\":\"Figure\",\"type\":\"Plot\"},{\"attributes\":{\"click_policy\":\"hide\",\"items\":[{\"id\":\"1050\"}],\"visible\":false},\"id\":\"1049\",\"type\":\"Legend\"},{\"attributes\":{\"data\":{\"__x__values\":[0,1,2,3,4,5,6,7,8,9,10,11,12,13,14,15,16,17,18,19,20,21,22,23,24,25,26,27,28,29,30,31,32,33,34,35,36,37,38,39,40,41,42,43,44,45,46,47,48,49,50,51,52,53,54,55,56,57,58,59,60,61,62,63,64,65,66,67,68,69,70,71,72,73,74,75,76,77,78,79,80,81,82,83,84,85,86,87,88,89,90,91,92,93,94,95,96,97,98,99,100,101,102,103,104,105,106,107,108],\"__x__values_original\":[0,1,2,3,4,5,6,7,8,9,10,11,12,13,14,15,16,17,18,19,20,21,22,23,24,25,26,27,28,29,30,31,32,33,34,35,36,37,38,39,40,41,42,43,44,45,46,47,48,49,50,51,52,53,54,55,56,57,58,59,60,61,62,63,64,65,66,67,68,69,70,71,72,73,74,75,76,77,78,79,80,81,82,83,84,85,86,87,88,89,90,91,92,93,94,95,96,97,98,99,100,101,102,103,104,105,106,107,108],\"satisfied_citizens\":[475,475,521,589,749,847,933,998,1070,1078,1094,1204,1265,1241,1300,1283,1307,1349,1363,1413,1402,1396,1431,1468,1467,1486,1491,1490,1545,1552,1586,1643,1650,1649,1679,1709,1712,1723,1759,1821,1899,1880,1873,1923,1938,1923,1945,1993,2006,2013,2067,2083,2074,2077,2080,2089,2077,2105,2107,2108,2136,2159,2160,2163,2172,2161,2175,2181,2183,2178,2182,2192,2193,2207,2206,2209,2212,2211,2216,2213,2218,2226,2223,2231,2228,2233,2234,2236,2230,2242,2243,2245,2244,2247,2248,2249,2249,2249,2249,2250,2250,2250,2250,2250,2250,2250,2250,2250,2250]},\"selected\":{\"id\":\"1047\"},\"selection_policy\":{\"id\":\"1046\"}},\"id\":\"1035\",\"type\":\"ColumnDataSource\"},{\"attributes\":{},\"id\":\"1045\",\"type\":\"BasicTickFormatter\"},{\"attributes\":{\"callback\":null,\"mode\":\"vline\",\"renderers\":[{\"id\":\"1039\"}],\"tooltips\":[[\"steps\",\"@__x__values_original\"],[\"satisfied_citizens\",\"@{satisfied_citizens}\"]]},\"id\":\"1051\",\"type\":\"HoverTool\"},{\"attributes\":{\"label\":{\"value\":\" satisfied_citizens\"},\"renderers\":[{\"id\":\"1039\"}]},\"id\":\"1050\",\"type\":\"LegendItem\"},{\"attributes\":{\"ticks\":[0,10,20,30,40,50,60,70,80,90,100]},\"id\":\"1053\",\"type\":\"FixedTicker\"},{\"attributes\":{\"data_source\":{\"id\":\"1035\"},\"glyph\":{\"id\":\"1037\"},\"hover_glyph\":null,\"muted_glyph\":null,\"nonselection_glyph\":{\"id\":\"1038\"},\"selection_glyph\":null,\"view\":{\"id\":\"1040\"}},\"id\":\"1039\",\"type\":\"GlyphRenderer\"},{\"attributes\":{\"text\":\"\"},\"id\":\"1003\",\"type\":\"Title\"},{\"attributes\":{\"line_alpha\":0.1,\"line_color\":\"#1f77b4\",\"line_width\":2,\"x\":{\"field\":\"__x__values\"},\"y\":{\"field\":\"satisfied_citizens\"}},\"id\":\"1038\",\"type\":\"Line\"},{\"attributes\":{\"line_color\":\"#1f77b4\",\"line_width\":2,\"x\":{\"field\":\"__x__values\"},\"y\":{\"field\":\"satisfied_citizens\"}},\"id\":\"1037\",\"type\":\"Line\"},{\"attributes\":{\"axis_label\":\"steps\",\"formatter\":{\"id\":\"1045\"},\"ticker\":{\"id\":\"1053\"}},\"id\":\"1013\",\"type\":\"LinearAxis\"},{\"attributes\":{\"bottom_units\":\"screen\",\"fill_alpha\":0.5,\"fill_color\":\"lightgrey\",\"left_units\":\"screen\",\"level\":\"overlay\",\"line_alpha\":1.0,\"line_color\":\"black\",\"line_dash\":[4,4],\"line_width\":2,\"right_units\":\"screen\",\"top_units\":\"screen\"},\"id\":\"1027\",\"type\":\"BoxAnnotation\"},{\"attributes\":{\"source\":{\"id\":\"1035\"}},\"id\":\"1040\",\"type\":\"CDSView\"},{\"attributes\":{},\"id\":\"1022\",\"type\":\"WheelZoomTool\"},{\"attributes\":{},\"id\":\"1046\",\"type\":\"UnionRenderers\"},{\"attributes\":{},\"id\":\"1005\",\"type\":\"DataRange1d\"},{\"attributes\":{},\"id\":\"1047\",\"type\":\"Selection\"},{\"attributes\":{},\"id\":\"1011\",\"type\":\"LinearScale\"},{\"attributes\":{},\"id\":\"1007\",\"type\":\"DataRange1d\"},{\"attributes\":{},\"id\":\"1009\",\"type\":\"LinearScale\"},{\"attributes\":{\"axis\":{\"id\":\"1013\"},\"ticker\":null},\"id\":\"1016\",\"type\":\"Grid\"},{\"attributes\":{\"axis_label\":\"satisfied citizens\",\"formatter\":{\"id\":\"1043\"},\"ticker\":{\"id\":\"1018\"}},\"id\":\"1017\",\"type\":\"LinearAxis\"},{\"attributes\":{\"axis\":{\"id\":\"1017\"},\"dimension\":1,\"ticker\":null},\"id\":\"1020\",\"type\":\"Grid\"},{\"attributes\":{},\"id\":\"1043\",\"type\":\"BasicTickFormatter\"},{\"attributes\":{},\"id\":\"1018\",\"type\":\"BasicTicker\"},{\"attributes\":{},\"id\":\"1026\",\"type\":\"HelpTool\"},{\"attributes\":{\"active_drag\":\"auto\",\"active_inspect\":\"auto\",\"active_multi\":null,\"active_scroll\":{\"id\":\"1022\"},\"active_tap\":\"auto\",\"tools\":[{\"id\":\"1021\"},{\"id\":\"1022\"},{\"id\":\"1023\"},{\"id\":\"1024\"},{\"id\":\"1025\"},{\"id\":\"1026\"},{\"id\":\"1051\"}]},\"id\":\"1028\",\"type\":\"Toolbar\"},{\"attributes\":{},\"id\":\"1021\",\"type\":\"PanTool\"},{\"attributes\":{\"overlay\":{\"id\":\"1027\"}},\"id\":\"1023\",\"type\":\"BoxZoomTool\"},{\"attributes\":{},\"id\":\"1024\",\"type\":\"SaveTool\"},{\"attributes\":{},\"id\":\"1025\",\"type\":\"ResetTool\"}],\"root_ids\":[\"1002\"]},\"title\":\"Bokeh Application\",\"version\":\"2.2.3\"}};\n",
       "  var render_items = [{\"docid\":\"cce15663-444f-4b78-b376-35f8eeb28226\",\"root_ids\":[\"1002\"],\"roots\":{\"1002\":\"1cbb61c6-fed7-4824-9c1d-55793b93e198\"}}];\n",
       "  root.Bokeh.embed.embed_items_notebook(docs_json, render_items);\n",
       "\n",
       "  }\n",
       "  if (root.Bokeh !== undefined) {\n",
       "    embed_document(root);\n",
       "  } else {\n",
       "    var attempts = 0;\n",
       "    var timer = setInterval(function(root) {\n",
       "      if (root.Bokeh !== undefined) {\n",
       "        clearInterval(timer);\n",
       "        embed_document(root);\n",
       "      } else {\n",
       "        attempts++;\n",
       "        if (attempts > 100) {\n",
       "          clearInterval(timer);\n",
       "          console.log(\"Bokeh: ERROR: Unable to run BokehJS code because BokehJS library is missing\");\n",
       "        }\n",
       "      }\n",
       "    }, 10, root)\n",
       "  }\n",
       "})(window);"
      ],
      "application/vnd.bokehjs_exec.v0+json": ""
     },
     "metadata": {
      "application/vnd.bokehjs_exec.v0+json": {
       "id": "1002"
      }
     },
     "output_type": "display_data"
    }
   ],
   "source": [
    "run_and_plot(city_example, steps=120)"
   ]
  },
  {
   "cell_type": "markdown",
   "metadata": {},
   "source": [
    "## Límite de similitud"
   ]
  },
  {
   "cell_type": "markdown",
   "metadata": {},
   "source": [
    "Establezca el tamaño de retícula como $n=50$, con densidad poblacional del 90% ¿Qué valor del parámetro de similitud es el límite máximo para formar dinámicas de segregación? A este valor le llamaremos $S_{max}$."
   ]
  },
  {
   "cell_type": "markdown",
   "metadata": {},
   "source": [
    "## Convergencia"
   ]
  },
  {
   "cell_type": "markdown",
   "metadata": {},
   "source": [
    "Una propuesta de medida para detectar convergencia es cuando los agentes ya no cambian de posición.\n",
    "Cuándo el parámetro de similitud es igual a $S_{max}$, ¿cuál es el tiempo en el que el sistema converge?\n",
    "\n",
    "De manera general, forme una gráfica parámetro-similitud vs tiempo-de-convergencia.\n",
    "\n",
    "¿Cómo crece/decrece el tiempo de convergencia en función del parámetro de similitud? ¿lineal, logarítmico, exponencial?\n",
    "\n",
    "Cuando el sistema no converja (probar un tiempo suficientemente grande) dejar de graficar."
   ]
  },
  {
   "cell_type": "code",
   "execution_count": 5,
   "metadata": {},
   "outputs": [],
   "source": [
    "from mesa.batchrunner import BatchRunner"
   ]
  },
  {
   "cell_type": "code",
   "execution_count": 6,
   "metadata": {},
   "outputs": [],
   "source": [
    "import numpy as np"
   ]
  },
  {
   "cell_type": "code",
   "execution_count": 7,
   "metadata": {},
   "outputs": [],
   "source": [
    "fixed_params = {\n",
    "    'density': 0.9,\n",
    "    'width': 50,\n",
    "    'height': 50,\n",
    "    'sim_type': 'constant'\n",
    "}\n",
    "\n",
    "var_params = {\n",
    "    'sim_percentage': np.linspace(0, 0.75, 76)\n",
    "}\n",
    "\n",
    "runner = BatchRunner(\n",
    "    City,\n",
    "    var_params,\n",
    "    fixed_params,\n",
    "    iterations=1,\n",
    "    max_steps=400,\n",
    "    model_reporters={\n",
    "        'convergence_time': lambda m: m.steps\n",
    "    }\n",
    ")"
   ]
  },
  {
   "cell_type": "code",
   "execution_count": 8,
   "metadata": {},
   "outputs": [],
   "source": [
    "#runner.run_all()"
   ]
  },
  {
   "cell_type": "code",
   "execution_count": 9,
   "metadata": {},
   "outputs": [],
   "source": [
    "#conv_time_df = runner.get_model_vars_dataframe()\n",
    "#conv_time_df.plot.scatter(\n",
    "#    legend=False,\n",
    "#    x='sim_percentage', y='convergence_time',\n",
    "#    xlabel='similitud percentage',\n",
    " #   ylabel='convergence steps',\n",
    " #   xticks=np.linspace(0, 0.75, 16)\n",
    "#)"
   ]
  },
  {
   "cell_type": "markdown",
   "metadata": {},
   "source": [
    "## Similitud normal"
   ]
  },
  {
   "cell_type": "markdown",
   "metadata": {},
   "source": [
    "Establezca el parámetro de similitud como un atributo de los agentes. Inicialice la similitud requerida del agente $i$-ésimo a partir de una distribución normal con media 50 y desviación estándar 10.\n",
    "\n",
    "¿Cómo cambian los patrones de segregación? "
   ]
  },
  {
   "cell_type": "code",
   "execution_count": 10,
   "metadata": {},
   "outputs": [],
   "source": [
    "def build_normal_city(m, s):\n",
    "    return City(\n",
    "        density = 0.9, \n",
    "        width= 50,\n",
    "        height= 50,\n",
    "        sim_type='normal',\n",
    "        mean = m,\n",
    "        deviation = s\n",
    "    )"
   ]
  },
  {
   "cell_type": "code",
   "execution_count": 11,
   "metadata": {},
   "outputs": [],
   "source": [
    "normal_city = build_normal_city(0.5, 0.1)"
   ]
  },
  {
   "cell_type": "code",
   "execution_count": 12,
   "metadata": {},
   "outputs": [
    {
     "data": {
      "text/html": [
       "\n",
       "\n",
       "\n",
       "\n",
       "\n",
       "\n",
       "  <div class=\"bk-root\" id=\"db386e8c-7134-4f45-b201-96471b4cb394\" data-root-id=\"1097\"></div>\n"
      ]
     },
     "metadata": {},
     "output_type": "display_data"
    },
    {
     "data": {
      "application/javascript": [
       "(function(root) {\n",
       "  function embed_document(root) {\n",
       "    \n",
       "  var docs_json = {\"d5742dd7-f19f-4382-8788-56769f51c2fe\":{\"roots\":{\"references\":[{\"attributes\":{\"below\":[{\"id\":\"1108\"}],\"center\":[{\"id\":\"1111\"},{\"id\":\"1115\"},{\"id\":\"1144\"}],\"left\":[{\"id\":\"1112\"}],\"output_backend\":\"webgl\",\"plot_height\":400,\"renderers\":[{\"id\":\"1134\"}],\"sizing_mode\":\"fixed\",\"title\":{\"id\":\"1098\"},\"toolbar\":{\"id\":\"1123\"},\"x_range\":{\"id\":\"1100\"},\"x_scale\":{\"id\":\"1104\"},\"y_range\":{\"id\":\"1102\"},\"y_scale\":{\"id\":\"1106\"}},\"id\":\"1097\",\"subtype\":\"Figure\",\"type\":\"Plot\"},{\"attributes\":{},\"id\":\"1102\",\"type\":\"DataRange1d\"},{\"attributes\":{},\"id\":\"1142\",\"type\":\"Selection\"},{\"attributes\":{},\"id\":\"1100\",\"type\":\"DataRange1d\"},{\"attributes\":{},\"id\":\"1106\",\"type\":\"LinearScale\"},{\"attributes\":{},\"id\":\"1104\",\"type\":\"LinearScale\"},{\"attributes\":{\"active_drag\":\"auto\",\"active_inspect\":\"auto\",\"active_multi\":null,\"active_scroll\":{\"id\":\"1117\"},\"active_tap\":\"auto\",\"tools\":[{\"id\":\"1116\"},{\"id\":\"1117\"},{\"id\":\"1118\"},{\"id\":\"1119\"},{\"id\":\"1120\"},{\"id\":\"1121\"},{\"id\":\"1146\"}]},\"id\":\"1123\",\"type\":\"Toolbar\"},{\"attributes\":{\"axis\":{\"id\":\"1108\"},\"ticker\":null},\"id\":\"1111\",\"type\":\"Grid\"},{\"attributes\":{},\"id\":\"1117\",\"type\":\"WheelZoomTool\"},{\"attributes\":{\"axis_label\":\"satisfied citizens\",\"formatter\":{\"id\":\"1138\"},\"ticker\":{\"id\":\"1113\"}},\"id\":\"1112\",\"type\":\"LinearAxis\"},{\"attributes\":{},\"id\":\"1138\",\"type\":\"BasicTickFormatter\"},{\"attributes\":{\"ticks\":[0,10,20,30,40,50,60,70,80,90,100]},\"id\":\"1148\",\"type\":\"FixedTicker\"},{\"attributes\":{},\"id\":\"1113\",\"type\":\"BasicTicker\"},{\"attributes\":{\"axis\":{\"id\":\"1112\"},\"dimension\":1,\"ticker\":null},\"id\":\"1115\",\"type\":\"Grid\"},{\"attributes\":{\"axis_label\":\"steps\",\"formatter\":{\"id\":\"1140\"},\"ticker\":{\"id\":\"1148\"}},\"id\":\"1108\",\"type\":\"LinearAxis\"},{\"attributes\":{},\"id\":\"1121\",\"type\":\"HelpTool\"},{\"attributes\":{},\"id\":\"1116\",\"type\":\"PanTool\"},{\"attributes\":{\"overlay\":{\"id\":\"1122\"}},\"id\":\"1118\",\"type\":\"BoxZoomTool\"},{\"attributes\":{},\"id\":\"1119\",\"type\":\"SaveTool\"},{\"attributes\":{},\"id\":\"1120\",\"type\":\"ResetTool\"},{\"attributes\":{\"data\":{\"__x__values\":[0,1,2,3,4,5,6,7,8,9,10,11,12,13,14,15,16,17,18,19,20,21,22,23,24,25,26,27,28,29,30,31,32,33,34,35,36,37,38,39,40,41,42,43,44,45,46,47,48,49,50,51,52,53,54,55,56,57,58,59,60,61,62,63,64,65,66,67,68,69,70,71,72,73,74,75,76,77,78,79,80,81,82,83,84,85,86,87,88,89,90,91,92,93,94,95,96,97,98,99,100],\"__x__values_original\":[0,1,2,3,4,5,6,7,8,9,10,11,12,13,14,15,16,17,18,19,20,21,22,23,24,25,26,27,28,29,30,31,32,33,34,35,36,37,38,39,40,41,42,43,44,45,46,47,48,49,50,51,52,53,54,55,56,57,58,59,60,61,62,63,64,65,66,67,68,69,70,71,72,73,74,75,76,77,78,79,80,81,82,83,84,85,86,87,88,89,90,91,92,93,94,95,96,97,98,99,100],\"satisfied_citizens\":[1163,1119,1567,1743,1861,1946,2015,2075,2092,2128,2138,2169,2183,2192,2198,2189,2218,2221,2220,2222,2221,2220,2226,2231,2225,2225,2232,2233,2235,2231,2235,2235,2238,2239,2240,2241,2237,2241,2242,2240,2237,2232,2241,2244,2243,2238,2239,2244,2247,2243,2241,2247,2246,2243,2246,2248,2246,2248,2246,2246,2242,2248,2249,2245,2247,2245,2249,2249,2247,2247,2248,2249,2247,2246,2245,2247,2247,2248,2249,2246,2245,2248,2247,2247,2247,2244,2246,2245,2246,2248,2245,2244,2245,2247,2247,2247,2246,2247,2248,2248,2246]},\"selected\":{\"id\":\"1142\"},\"selection_policy\":{\"id\":\"1141\"}},\"id\":\"1130\",\"type\":\"ColumnDataSource\"},{\"attributes\":{},\"id\":\"1140\",\"type\":\"BasicTickFormatter\"},{\"attributes\":{\"callback\":null,\"mode\":\"vline\",\"renderers\":[{\"id\":\"1134\"}],\"tooltips\":[[\"steps\",\"@__x__values_original\"],[\"satisfied_citizens\",\"@{satisfied_citizens}\"]]},\"id\":\"1146\",\"type\":\"HoverTool\"},{\"attributes\":{\"data_source\":{\"id\":\"1130\"},\"glyph\":{\"id\":\"1132\"},\"hover_glyph\":null,\"muted_glyph\":null,\"nonselection_glyph\":{\"id\":\"1133\"},\"selection_glyph\":null,\"view\":{\"id\":\"1135\"}},\"id\":\"1134\",\"type\":\"GlyphRenderer\"},{\"attributes\":{\"text\":\"\"},\"id\":\"1098\",\"type\":\"Title\"},{\"attributes\":{\"line_alpha\":0.1,\"line_color\":\"#1f77b4\",\"line_width\":2,\"x\":{\"field\":\"__x__values\"},\"y\":{\"field\":\"satisfied_citizens\"}},\"id\":\"1133\",\"type\":\"Line\"},{\"attributes\":{\"line_color\":\"#1f77b4\",\"line_width\":2,\"x\":{\"field\":\"__x__values\"},\"y\":{\"field\":\"satisfied_citizens\"}},\"id\":\"1132\",\"type\":\"Line\"},{\"attributes\":{\"source\":{\"id\":\"1130\"}},\"id\":\"1135\",\"type\":\"CDSView\"},{\"attributes\":{\"bottom_units\":\"screen\",\"fill_alpha\":0.5,\"fill_color\":\"lightgrey\",\"left_units\":\"screen\",\"level\":\"overlay\",\"line_alpha\":1.0,\"line_color\":\"black\",\"line_dash\":[4,4],\"line_width\":2,\"right_units\":\"screen\",\"top_units\":\"screen\"},\"id\":\"1122\",\"type\":\"BoxAnnotation\"},{\"attributes\":{\"click_policy\":\"hide\",\"items\":[{\"id\":\"1145\"}],\"visible\":false},\"id\":\"1144\",\"type\":\"Legend\"},{\"attributes\":{\"label\":{\"value\":\" satisfied_citizens\"},\"renderers\":[{\"id\":\"1134\"}]},\"id\":\"1145\",\"type\":\"LegendItem\"},{\"attributes\":{},\"id\":\"1141\",\"type\":\"UnionRenderers\"}],\"root_ids\":[\"1097\"]},\"title\":\"Bokeh Application\",\"version\":\"2.2.3\"}};\n",
       "  var render_items = [{\"docid\":\"d5742dd7-f19f-4382-8788-56769f51c2fe\",\"root_ids\":[\"1097\"],\"roots\":{\"1097\":\"db386e8c-7134-4f45-b201-96471b4cb394\"}}];\n",
       "  root.Bokeh.embed.embed_items_notebook(docs_json, render_items);\n",
       "\n",
       "  }\n",
       "  if (root.Bokeh !== undefined) {\n",
       "    embed_document(root);\n",
       "  } else {\n",
       "    var attempts = 0;\n",
       "    var timer = setInterval(function(root) {\n",
       "      if (root.Bokeh !== undefined) {\n",
       "        clearInterval(timer);\n",
       "        embed_document(root);\n",
       "      } else {\n",
       "        attempts++;\n",
       "        if (attempts > 100) {\n",
       "          clearInterval(timer);\n",
       "          console.log(\"Bokeh: ERROR: Unable to run BokehJS code because BokehJS library is missing\");\n",
       "        }\n",
       "      }\n",
       "    }, 10, root)\n",
       "  }\n",
       "})(window);"
      ],
      "application/vnd.bokehjs_exec.v0+json": ""
     },
     "metadata": {
      "application/vnd.bokehjs_exec.v0+json": {
       "id": "1097"
      }
     },
     "output_type": "display_data"
    }
   ],
   "source": [
    "run_and_plot(normal_city)"
   ]
  },
  {
   "cell_type": "code",
   "execution_count": 13,
   "metadata": {},
   "outputs": [],
   "source": [
    "city_const= build_city(0.5)"
   ]
  },
  {
   "cell_type": "code",
   "execution_count": 14,
   "metadata": {},
   "outputs": [
    {
     "data": {
      "text/html": [
       "\n",
       "\n",
       "\n",
       "\n",
       "\n",
       "\n",
       "  <div class=\"bk-root\" id=\"e37fdd35-1b2b-4527-8a97-6aed6042bb05\" data-root-id=\"1199\"></div>\n"
      ]
     },
     "metadata": {},
     "output_type": "display_data"
    },
    {
     "data": {
      "application/javascript": [
       "(function(root) {\n",
       "  function embed_document(root) {\n",
       "    \n",
       "  var docs_json = {\"0f02cc2b-71ac-4c52-91b1-8e155f0afd53\":{\"roots\":{\"references\":[{\"attributes\":{\"below\":[{\"id\":\"1210\"}],\"center\":[{\"id\":\"1213\"},{\"id\":\"1217\"},{\"id\":\"1246\"}],\"left\":[{\"id\":\"1214\"}],\"output_backend\":\"webgl\",\"plot_height\":400,\"renderers\":[{\"id\":\"1236\"}],\"sizing_mode\":\"fixed\",\"title\":{\"id\":\"1200\"},\"toolbar\":{\"id\":\"1225\"},\"x_range\":{\"id\":\"1202\"},\"x_scale\":{\"id\":\"1206\"},\"y_range\":{\"id\":\"1204\"},\"y_scale\":{\"id\":\"1208\"}},\"id\":\"1199\",\"subtype\":\"Figure\",\"type\":\"Plot\"},{\"attributes\":{\"data_source\":{\"id\":\"1232\"},\"glyph\":{\"id\":\"1234\"},\"hover_glyph\":null,\"muted_glyph\":null,\"nonselection_glyph\":{\"id\":\"1235\"},\"selection_glyph\":null,\"view\":{\"id\":\"1237\"}},\"id\":\"1236\",\"type\":\"GlyphRenderer\"},{\"attributes\":{\"text\":\"\"},\"id\":\"1200\",\"type\":\"Title\"},{\"attributes\":{\"line_alpha\":0.1,\"line_color\":\"#1f77b4\",\"line_width\":2,\"x\":{\"field\":\"__x__values\"},\"y\":{\"field\":\"satisfied_citizens\"}},\"id\":\"1235\",\"type\":\"Line\"},{\"attributes\":{\"line_color\":\"#1f77b4\",\"line_width\":2,\"x\":{\"field\":\"__x__values\"},\"y\":{\"field\":\"satisfied_citizens\"}},\"id\":\"1234\",\"type\":\"Line\"},{\"attributes\":{},\"id\":\"1219\",\"type\":\"WheelZoomTool\"},{\"attributes\":{\"source\":{\"id\":\"1232\"}},\"id\":\"1237\",\"type\":\"CDSView\"},{\"attributes\":{\"bottom_units\":\"screen\",\"fill_alpha\":0.5,\"fill_color\":\"lightgrey\",\"left_units\":\"screen\",\"level\":\"overlay\",\"line_alpha\":1.0,\"line_color\":\"black\",\"line_dash\":[4,4],\"line_width\":2,\"right_units\":\"screen\",\"top_units\":\"screen\"},\"id\":\"1224\",\"type\":\"BoxAnnotation\"},{\"attributes\":{},\"id\":\"1204\",\"type\":\"DataRange1d\"},{\"attributes\":{\"label\":{\"value\":\" satisfied_citizens\"},\"renderers\":[{\"id\":\"1236\"}]},\"id\":\"1247\",\"type\":\"LegendItem\"},{\"attributes\":{},\"id\":\"1243\",\"type\":\"UnionRenderers\"},{\"attributes\":{},\"id\":\"1202\",\"type\":\"DataRange1d\"},{\"attributes\":{},\"id\":\"1244\",\"type\":\"Selection\"},{\"attributes\":{},\"id\":\"1208\",\"type\":\"LinearScale\"},{\"attributes\":{\"axis_label\":\"steps\",\"formatter\":{\"id\":\"1242\"},\"ticker\":{\"id\":\"1250\"}},\"id\":\"1210\",\"type\":\"LinearAxis\"},{\"attributes\":{},\"id\":\"1206\",\"type\":\"LinearScale\"},{\"attributes\":{\"overlay\":{\"id\":\"1224\"}},\"id\":\"1220\",\"type\":\"BoxZoomTool\"},{\"attributes\":{\"axis\":{\"id\":\"1210\"},\"ticker\":null},\"id\":\"1213\",\"type\":\"Grid\"},{\"attributes\":{\"ticks\":[0,10,20]},\"id\":\"1250\",\"type\":\"FixedTicker\"},{\"attributes\":{\"axis_label\":\"satisfied citizens\",\"formatter\":{\"id\":\"1240\"},\"ticker\":{\"id\":\"1215\"}},\"id\":\"1214\",\"type\":\"LinearAxis\"},{\"attributes\":{\"axis\":{\"id\":\"1214\"},\"dimension\":1,\"ticker\":null},\"id\":\"1217\",\"type\":\"Grid\"},{\"attributes\":{},\"id\":\"1215\",\"type\":\"BasicTicker\"},{\"attributes\":{},\"id\":\"1240\",\"type\":\"BasicTickFormatter\"},{\"attributes\":{\"click_policy\":\"hide\",\"items\":[{\"id\":\"1247\"}],\"visible\":false},\"id\":\"1246\",\"type\":\"Legend\"},{\"attributes\":{},\"id\":\"1221\",\"type\":\"SaveTool\"},{\"attributes\":{\"active_drag\":\"auto\",\"active_inspect\":\"auto\",\"active_multi\":null,\"active_scroll\":{\"id\":\"1219\"},\"active_tap\":\"auto\",\"tools\":[{\"id\":\"1218\"},{\"id\":\"1219\"},{\"id\":\"1220\"},{\"id\":\"1221\"},{\"id\":\"1222\"},{\"id\":\"1223\"},{\"id\":\"1248\"}]},\"id\":\"1225\",\"type\":\"Toolbar\"},{\"attributes\":{},\"id\":\"1218\",\"type\":\"PanTool\"},{\"attributes\":{},\"id\":\"1223\",\"type\":\"HelpTool\"},{\"attributes\":{},\"id\":\"1222\",\"type\":\"ResetTool\"},{\"attributes\":{\"data\":{\"__x__values\":[0,1,2,3,4,5,6,7,8,9,10,11,12,13,14,15,16,17,18,19,20,21,22,23,24,25,26],\"__x__values_original\":[0,1,2,3,4,5,6,7,8,9,10,11,12,13,14,15,16,17,18,19,20,21,22,23,24,25,26],\"satisfied_citizens\":[1312,1312,1720,1929,2028,2113,2159,2193,2218,2220,2235,2238,2240,2244,2247,2248,2249,2250,2250,2250,2250,2250,2250,2250,2250,2250,2250]},\"selected\":{\"id\":\"1244\"},\"selection_policy\":{\"id\":\"1243\"}},\"id\":\"1232\",\"type\":\"ColumnDataSource\"},{\"attributes\":{},\"id\":\"1242\",\"type\":\"BasicTickFormatter\"},{\"attributes\":{\"callback\":null,\"mode\":\"vline\",\"renderers\":[{\"id\":\"1236\"}],\"tooltips\":[[\"steps\",\"@__x__values_original\"],[\"satisfied_citizens\",\"@{satisfied_citizens}\"]]},\"id\":\"1248\",\"type\":\"HoverTool\"}],\"root_ids\":[\"1199\"]},\"title\":\"Bokeh Application\",\"version\":\"2.2.3\"}};\n",
       "  var render_items = [{\"docid\":\"0f02cc2b-71ac-4c52-91b1-8e155f0afd53\",\"root_ids\":[\"1199\"],\"roots\":{\"1199\":\"e37fdd35-1b2b-4527-8a97-6aed6042bb05\"}}];\n",
       "  root.Bokeh.embed.embed_items_notebook(docs_json, render_items);\n",
       "\n",
       "  }\n",
       "  if (root.Bokeh !== undefined) {\n",
       "    embed_document(root);\n",
       "  } else {\n",
       "    var attempts = 0;\n",
       "    var timer = setInterval(function(root) {\n",
       "      if (root.Bokeh !== undefined) {\n",
       "        clearInterval(timer);\n",
       "        embed_document(root);\n",
       "      } else {\n",
       "        attempts++;\n",
       "        if (attempts > 100) {\n",
       "          clearInterval(timer);\n",
       "          console.log(\"Bokeh: ERROR: Unable to run BokehJS code because BokehJS library is missing\");\n",
       "        }\n",
       "      }\n",
       "    }, 10, root)\n",
       "  }\n",
       "})(window);"
      ],
      "application/vnd.bokehjs_exec.v0+json": ""
     },
     "metadata": {
      "application/vnd.bokehjs_exec.v0+json": {
       "id": "1199"
      }
     },
     "output_type": "display_data"
    }
   ],
   "source": [
    "run_and_plot(city_const)"
   ]
  },
  {
   "cell_type": "markdown",
   "metadata": {},
   "source": [
    "¿Y con $media = S_{max}$ y desviación estándar pequeña y grande?"
   ]
  },
  {
   "cell_type": "code",
   "execution_count": 15,
   "metadata": {},
   "outputs": [],
   "source": [
    "city0_n_smax = build_normal_city(0.75, 0.0001)"
   ]
  },
  {
   "cell_type": "code",
   "execution_count": 16,
   "metadata": {},
   "outputs": [
    {
     "data": {
      "text/html": [
       "\n",
       "\n",
       "\n",
       "\n",
       "\n",
       "\n",
       "  <div class=\"bk-root\" id=\"eb586743-9fec-4e7a-b3aa-b6b85ffd46aa\" data-root-id=\"1308\"></div>\n"
      ]
     },
     "metadata": {},
     "output_type": "display_data"
    },
    {
     "data": {
      "application/javascript": [
       "(function(root) {\n",
       "  function embed_document(root) {\n",
       "    \n",
       "  var docs_json = {\"532c138c-715d-4066-b18c-623bf4659ed0\":{\"roots\":{\"references\":[{\"attributes\":{\"below\":[{\"id\":\"1319\"}],\"center\":[{\"id\":\"1322\"},{\"id\":\"1326\"},{\"id\":\"1355\"}],\"left\":[{\"id\":\"1323\"}],\"output_backend\":\"webgl\",\"plot_height\":400,\"renderers\":[{\"id\":\"1345\"}],\"sizing_mode\":\"fixed\",\"title\":{\"id\":\"1309\"},\"toolbar\":{\"id\":\"1334\"},\"x_range\":{\"id\":\"1311\"},\"x_scale\":{\"id\":\"1315\"},\"y_range\":{\"id\":\"1313\"},\"y_scale\":{\"id\":\"1317\"}},\"id\":\"1308\",\"subtype\":\"Figure\",\"type\":\"Plot\"},{\"attributes\":{\"axis_label\":\"satisfied citizens\",\"formatter\":{\"id\":\"1349\"},\"ticker\":{\"id\":\"1324\"}},\"id\":\"1323\",\"type\":\"LinearAxis\"},{\"attributes\":{\"data_source\":{\"id\":\"1341\"},\"glyph\":{\"id\":\"1343\"},\"hover_glyph\":null,\"muted_glyph\":null,\"nonselection_glyph\":{\"id\":\"1344\"},\"selection_glyph\":null,\"view\":{\"id\":\"1346\"}},\"id\":\"1345\",\"type\":\"GlyphRenderer\"},{\"attributes\":{\"line_alpha\":0.1,\"line_color\":\"#1f77b4\",\"line_width\":2,\"x\":{\"field\":\"__x__values\"},\"y\":{\"field\":\"satisfied_citizens\"}},\"id\":\"1344\",\"type\":\"Line\"},{\"attributes\":{\"line_color\":\"#1f77b4\",\"line_width\":2,\"x\":{\"field\":\"__x__values\"},\"y\":{\"field\":\"satisfied_citizens\"}},\"id\":\"1343\",\"type\":\"Line\"},{\"attributes\":{\"text\":\"\"},\"id\":\"1309\",\"type\":\"Title\"},{\"attributes\":{\"source\":{\"id\":\"1341\"}},\"id\":\"1346\",\"type\":\"CDSView\"},{\"attributes\":{},\"id\":\"1330\",\"type\":\"SaveTool\"},{\"attributes\":{\"bottom_units\":\"screen\",\"fill_alpha\":0.5,\"fill_color\":\"lightgrey\",\"left_units\":\"screen\",\"level\":\"overlay\",\"line_alpha\":1.0,\"line_color\":\"black\",\"line_dash\":[4,4],\"line_width\":2,\"right_units\":\"screen\",\"top_units\":\"screen\"},\"id\":\"1333\",\"type\":\"BoxAnnotation\"},{\"attributes\":{\"click_policy\":\"hide\",\"items\":[{\"id\":\"1356\"}],\"visible\":false},\"id\":\"1355\",\"type\":\"Legend\"},{\"attributes\":{\"label\":{\"value\":\" satisfied_citizens\"},\"renderers\":[{\"id\":\"1345\"}]},\"id\":\"1356\",\"type\":\"LegendItem\"},{\"attributes\":{},\"id\":\"1352\",\"type\":\"UnionRenderers\"},{\"attributes\":{},\"id\":\"1353\",\"type\":\"Selection\"},{\"attributes\":{},\"id\":\"1315\",\"type\":\"LinearScale\"},{\"attributes\":{},\"id\":\"1313\",\"type\":\"DataRange1d\"},{\"attributes\":{\"ticks\":[0,10,20,30,40,50,60,70,80,90,100,110,120,130,140,150]},\"id\":\"1359\",\"type\":\"FixedTicker\"},{\"attributes\":{},\"id\":\"1311\",\"type\":\"DataRange1d\"},{\"attributes\":{\"axis_label\":\"steps\",\"formatter\":{\"id\":\"1351\"},\"ticker\":{\"id\":\"1359\"}},\"id\":\"1319\",\"type\":\"LinearAxis\"},{\"attributes\":{},\"id\":\"1349\",\"type\":\"BasicTickFormatter\"},{\"attributes\":{},\"id\":\"1317\",\"type\":\"LinearScale\"},{\"attributes\":{},\"id\":\"1328\",\"type\":\"WheelZoomTool\"},{\"attributes\":{\"axis\":{\"id\":\"1323\"},\"dimension\":1,\"ticker\":null},\"id\":\"1326\",\"type\":\"Grid\"},{\"attributes\":{},\"id\":\"1324\",\"type\":\"BasicTicker\"},{\"attributes\":{\"active_drag\":\"auto\",\"active_inspect\":\"auto\",\"active_multi\":null,\"active_scroll\":{\"id\":\"1328\"},\"active_tap\":\"auto\",\"tools\":[{\"id\":\"1327\"},{\"id\":\"1328\"},{\"id\":\"1329\"},{\"id\":\"1330\"},{\"id\":\"1331\"},{\"id\":\"1332\"},{\"id\":\"1357\"}]},\"id\":\"1334\",\"type\":\"Toolbar\"},{\"attributes\":{},\"id\":\"1351\",\"type\":\"BasicTickFormatter\"},{\"attributes\":{},\"id\":\"1332\",\"type\":\"HelpTool\"},{\"attributes\":{\"axis\":{\"id\":\"1319\"},\"ticker\":null},\"id\":\"1322\",\"type\":\"Grid\"},{\"attributes\":{\"data\":{\"__x__values\":[0,1,2,3,4,5,6,7,8,9,10,11,12,13,14,15,16,17,18,19,20,21,22,23,24,25,26,27,28,29,30,31,32,33,34,35,36,37,38,39,40,41,42,43,44,45,46,47,48,49,50,51,52,53,54,55,56,57,58,59,60,61,62,63,64,65,66,67,68,69,70,71,72,73,74,75,76,77,78,79,80,81,82,83,84,85,86,87,88,89,90,91,92,93,94,95,96,97,98,99,100,101,102,103,104,105,106,107,108,109,110,111,112,113,114,115,116,117,118,119,120,121,122,123,124,125,126,127,128,129,130,131,132,133,134,135,136,137,138,139,140,141,142,143,144,145,146,147,148,149,150],\"__x__values_original\":[0,1,2,3,4,5,6,7,8,9,10,11,12,13,14,15,16,17,18,19,20,21,22,23,24,25,26,27,28,29,30,31,32,33,34,35,36,37,38,39,40,41,42,43,44,45,46,47,48,49,50,51,52,53,54,55,56,57,58,59,60,61,62,63,64,65,66,67,68,69,70,71,72,73,74,75,76,77,78,79,80,81,82,83,84,85,86,87,88,89,90,91,92,93,94,95,96,97,98,99,100,101,102,103,104,105,106,107,108,109,110,111,112,113,114,115,116,117,118,119,120,121,122,123,124,125,126,127,128,129,130,131,132,133,134,135,136,137,138,139,140,141,142,143,144,145,146,147,148,149,150],\"satisfied_citizens\":[408,400,457,509,542,624,659,610,667,627,617,638,659,710,677,699,738,643,671,648,664,688,720,715,661,680,685,653,662,684,642,672,647,661,750,817,806,734,740,676,709,704,688,746,742,726,798,803,766,754,800,794,774,872,807,771,732,707,696,772,763,810,860,891,884,901,902,894,870,830,768,828,745,658,657,674,715,717,699,745,753,747,734,744,798,774,678,609,651,722,689,744,816,812,823,847,901,854,851,894,838,882,853,774,839,870,803,754,805,704,656,765,769,788,739,785,830,862,791,833,716,755,750,760,738,754,731,712,746,760,724,677,692,635,657,613,602,640,647,691,692,696,713,679,638,624,582,610,608,595,616]},\"selected\":{\"id\":\"1353\"},\"selection_policy\":{\"id\":\"1352\"}},\"id\":\"1341\",\"type\":\"ColumnDataSource\"},{\"attributes\":{},\"id\":\"1327\",\"type\":\"PanTool\"},{\"attributes\":{\"overlay\":{\"id\":\"1333\"}},\"id\":\"1329\",\"type\":\"BoxZoomTool\"},{\"attributes\":{},\"id\":\"1331\",\"type\":\"ResetTool\"},{\"attributes\":{\"callback\":null,\"mode\":\"vline\",\"renderers\":[{\"id\":\"1345\"}],\"tooltips\":[[\"steps\",\"@__x__values_original\"],[\"satisfied_citizens\",\"@{satisfied_citizens}\"]]},\"id\":\"1357\",\"type\":\"HoverTool\"}],\"root_ids\":[\"1308\"]},\"title\":\"Bokeh Application\",\"version\":\"2.2.3\"}};\n",
       "  var render_items = [{\"docid\":\"532c138c-715d-4066-b18c-623bf4659ed0\",\"root_ids\":[\"1308\"],\"roots\":{\"1308\":\"eb586743-9fec-4e7a-b3aa-b6b85ffd46aa\"}}];\n",
       "  root.Bokeh.embed.embed_items_notebook(docs_json, render_items);\n",
       "\n",
       "  }\n",
       "  if (root.Bokeh !== undefined) {\n",
       "    embed_document(root);\n",
       "  } else {\n",
       "    var attempts = 0;\n",
       "    var timer = setInterval(function(root) {\n",
       "      if (root.Bokeh !== undefined) {\n",
       "        clearInterval(timer);\n",
       "        embed_document(root);\n",
       "      } else {\n",
       "        attempts++;\n",
       "        if (attempts > 100) {\n",
       "          clearInterval(timer);\n",
       "          console.log(\"Bokeh: ERROR: Unable to run BokehJS code because BokehJS library is missing\");\n",
       "        }\n",
       "      }\n",
       "    }, 10, root)\n",
       "  }\n",
       "})(window);"
      ],
      "application/vnd.bokehjs_exec.v0+json": ""
     },
     "metadata": {
      "application/vnd.bokehjs_exec.v0+json": {
       "id": "1308"
      }
     },
     "output_type": "display_data"
    }
   ],
   "source": [
    "run_and_plot(city0_n_smax, steps=150)"
   ]
  },
  {
   "cell_type": "code",
   "execution_count": 17,
   "metadata": {},
   "outputs": [],
   "source": [
    "city1_n_smax = build_normal_city(0.75, 0.5)"
   ]
  },
  {
   "cell_type": "code",
   "execution_count": 18,
   "metadata": {},
   "outputs": [
    {
     "data": {
      "text/html": [
       "\n",
       "\n",
       "\n",
       "\n",
       "\n",
       "\n",
       "  <div class=\"bk-root\" id=\"fa24a1ce-9899-463c-832a-951676d045af\" data-root-id=\"1424\"></div>\n"
      ]
     },
     "metadata": {},
     "output_type": "display_data"
    },
    {
     "data": {
      "application/javascript": [
       "(function(root) {\n",
       "  function embed_document(root) {\n",
       "    \n",
       "  var docs_json = {\"22aa7bf6-fe63-4da1-94be-ce34502a3785\":{\"roots\":{\"references\":[{\"attributes\":{\"below\":[{\"id\":\"1435\"}],\"center\":[{\"id\":\"1438\"},{\"id\":\"1442\"},{\"id\":\"1471\"}],\"left\":[{\"id\":\"1439\"}],\"output_backend\":\"webgl\",\"plot_height\":400,\"renderers\":[{\"id\":\"1461\"}],\"sizing_mode\":\"fixed\",\"title\":{\"id\":\"1425\"},\"toolbar\":{\"id\":\"1450\"},\"x_range\":{\"id\":\"1427\"},\"x_scale\":{\"id\":\"1431\"},\"y_range\":{\"id\":\"1429\"},\"y_scale\":{\"id\":\"1433\"}},\"id\":\"1424\",\"subtype\":\"Figure\",\"type\":\"Plot\"},{\"attributes\":{},\"id\":\"1448\",\"type\":\"HelpTool\"},{\"attributes\":{},\"id\":\"1447\",\"type\":\"ResetTool\"},{\"attributes\":{\"data\":{\"__x__values\":[0,1,2,3,4,5,6,7,8,9,10,11,12,13,14,15,16,17,18,19,20,21,22,23,24,25,26,27,28,29,30,31,32,33,34,35,36,37,38,39,40,41,42,43,44,45,46,47,48,49,50,51,52,53,54,55,56,57,58,59,60,61,62,63,64,65,66,67,68,69,70,71,72,73,74,75,76,77,78,79,80,81,82,83,84,85,86,87,88,89,90,91,92,93,94,95,96,97,98,99,100,101,102,103,104,105,106,107,108,109,110,111,112,113,114,115,116,117,118,119,120,121,122,123,124,125,126,127,128,129,130,131,132,133,134,135,136,137,138,139,140,141,142,143,144,145,146,147,148,149,150],\"__x__values_original\":[0,1,2,3,4,5,6,7,8,9,10,11,12,13,14,15,16,17,18,19,20,21,22,23,24,25,26,27,28,29,30,31,32,33,34,35,36,37,38,39,40,41,42,43,44,45,46,47,48,49,50,51,52,53,54,55,56,57,58,59,60,61,62,63,64,65,66,67,68,69,70,71,72,73,74,75,76,77,78,79,80,81,82,83,84,85,86,87,88,89,90,91,92,93,94,95,96,97,98,99,100,101,102,103,104,105,106,107,108,109,110,111,112,113,114,115,116,117,118,119,120,121,122,123,124,125,126,127,128,129,130,131,132,133,134,135,136,137,138,139,140,141,142,143,144,145,146,147,148,149,150],\"satisfied_citizens\":[769,756,779,767,793,770,832,817,823,758,756,785,803,855,802,838,774,781,769,769,760,793,783,786,835,788,769,828,807,817,816,783,787,793,779,769,787,818,842,807,790,795,762,759,773,785,768,807,809,811,799,808,829,827,762,811,808,783,753,814,784,816,790,804,751,774,765,794,813,796,833,780,786,809,831,771,788,815,795,829,775,798,832,817,776,831,794,787,784,838,798,809,779,809,800,795,782,813,778,796,794,839,788,813,800,786,779,794,784,794,821,768,787,797,783,780,807,748,780,794,776,793,807,761,772,751,795,852,794,789,779,787,789,834,789,826,790,795,788,834,840,791,801,770,756,805,795,763,822,774,813]},\"selected\":{\"id\":\"1469\"},\"selection_policy\":{\"id\":\"1468\"}},\"id\":\"1457\",\"type\":\"ColumnDataSource\"},{\"attributes\":{\"text\":\"\"},\"id\":\"1425\",\"type\":\"Title\"},{\"attributes\":{},\"id\":\"1467\",\"type\":\"BasicTickFormatter\"},{\"attributes\":{\"callback\":null,\"mode\":\"vline\",\"renderers\":[{\"id\":\"1461\"}],\"tooltips\":[[\"steps\",\"@__x__values_original\"],[\"satisfied_citizens\",\"@{satisfied_citizens}\"]]},\"id\":\"1473\",\"type\":\"HoverTool\"},{\"attributes\":{\"axis_label\":\"satisfied citizens\",\"formatter\":{\"id\":\"1465\"},\"ticker\":{\"id\":\"1440\"}},\"id\":\"1439\",\"type\":\"LinearAxis\"},{\"attributes\":{\"data_source\":{\"id\":\"1457\"},\"glyph\":{\"id\":\"1459\"},\"hover_glyph\":null,\"muted_glyph\":null,\"nonselection_glyph\":{\"id\":\"1460\"},\"selection_glyph\":null,\"view\":{\"id\":\"1462\"}},\"id\":\"1461\",\"type\":\"GlyphRenderer\"},{\"attributes\":{},\"id\":\"1446\",\"type\":\"SaveTool\"},{\"attributes\":{\"line_alpha\":0.1,\"line_color\":\"#1f77b4\",\"line_width\":2,\"x\":{\"field\":\"__x__values\"},\"y\":{\"field\":\"satisfied_citizens\"}},\"id\":\"1460\",\"type\":\"Line\"},{\"attributes\":{\"line_color\":\"#1f77b4\",\"line_width\":2,\"x\":{\"field\":\"__x__values\"},\"y\":{\"field\":\"satisfied_citizens\"}},\"id\":\"1459\",\"type\":\"Line\"},{\"attributes\":{\"source\":{\"id\":\"1457\"}},\"id\":\"1462\",\"type\":\"CDSView\"},{\"attributes\":{\"bottom_units\":\"screen\",\"fill_alpha\":0.5,\"fill_color\":\"lightgrey\",\"left_units\":\"screen\",\"level\":\"overlay\",\"line_alpha\":1.0,\"line_color\":\"black\",\"line_dash\":[4,4],\"line_width\":2,\"right_units\":\"screen\",\"top_units\":\"screen\"},\"id\":\"1449\",\"type\":\"BoxAnnotation\"},{\"attributes\":{\"click_policy\":\"hide\",\"items\":[{\"id\":\"1472\"}],\"visible\":false},\"id\":\"1471\",\"type\":\"Legend\"},{\"attributes\":{\"label\":{\"value\":\" satisfied_citizens\"},\"renderers\":[{\"id\":\"1461\"}]},\"id\":\"1472\",\"type\":\"LegendItem\"},{\"attributes\":{},\"id\":\"1443\",\"type\":\"PanTool\"},{\"attributes\":{},\"id\":\"1468\",\"type\":\"UnionRenderers\"},{\"attributes\":{},\"id\":\"1469\",\"type\":\"Selection\"},{\"attributes\":{\"axis\":{\"id\":\"1439\"},\"dimension\":1,\"ticker\":null},\"id\":\"1442\",\"type\":\"Grid\"},{\"attributes\":{},\"id\":\"1429\",\"type\":\"DataRange1d\"},{\"attributes\":{},\"id\":\"1427\",\"type\":\"DataRange1d\"},{\"attributes\":{},\"id\":\"1440\",\"type\":\"BasicTicker\"},{\"attributes\":{},\"id\":\"1433\",\"type\":\"LinearScale\"},{\"attributes\":{\"ticks\":[0,10,20,30,40,50,60,70,80,90,100,110,120,130,140,150]},\"id\":\"1475\",\"type\":\"FixedTicker\"},{\"attributes\":{\"axis_label\":\"steps\",\"formatter\":{\"id\":\"1467\"},\"ticker\":{\"id\":\"1475\"}},\"id\":\"1435\",\"type\":\"LinearAxis\"},{\"attributes\":{},\"id\":\"1431\",\"type\":\"LinearScale\"},{\"attributes\":{},\"id\":\"1465\",\"type\":\"BasicTickFormatter\"},{\"attributes\":{},\"id\":\"1444\",\"type\":\"WheelZoomTool\"},{\"attributes\":{\"overlay\":{\"id\":\"1449\"}},\"id\":\"1445\",\"type\":\"BoxZoomTool\"},{\"attributes\":{\"axis\":{\"id\":\"1435\"},\"ticker\":null},\"id\":\"1438\",\"type\":\"Grid\"},{\"attributes\":{\"active_drag\":\"auto\",\"active_inspect\":\"auto\",\"active_multi\":null,\"active_scroll\":{\"id\":\"1444\"},\"active_tap\":\"auto\",\"tools\":[{\"id\":\"1443\"},{\"id\":\"1444\"},{\"id\":\"1445\"},{\"id\":\"1446\"},{\"id\":\"1447\"},{\"id\":\"1448\"},{\"id\":\"1473\"}]},\"id\":\"1450\",\"type\":\"Toolbar\"}],\"root_ids\":[\"1424\"]},\"title\":\"Bokeh Application\",\"version\":\"2.2.3\"}};\n",
       "  var render_items = [{\"docid\":\"22aa7bf6-fe63-4da1-94be-ce34502a3785\",\"root_ids\":[\"1424\"],\"roots\":{\"1424\":\"fa24a1ce-9899-463c-832a-951676d045af\"}}];\n",
       "  root.Bokeh.embed.embed_items_notebook(docs_json, render_items);\n",
       "\n",
       "  }\n",
       "  if (root.Bokeh !== undefined) {\n",
       "    embed_document(root);\n",
       "  } else {\n",
       "    var attempts = 0;\n",
       "    var timer = setInterval(function(root) {\n",
       "      if (root.Bokeh !== undefined) {\n",
       "        clearInterval(timer);\n",
       "        embed_document(root);\n",
       "      } else {\n",
       "        attempts++;\n",
       "        if (attempts > 100) {\n",
       "          clearInterval(timer);\n",
       "          console.log(\"Bokeh: ERROR: Unable to run BokehJS code because BokehJS library is missing\");\n",
       "        }\n",
       "      }\n",
       "    }, 10, root)\n",
       "  }\n",
       "})(window);"
      ],
      "application/vnd.bokehjs_exec.v0+json": ""
     },
     "metadata": {
      "application/vnd.bokehjs_exec.v0+json": {
       "id": "1424"
      }
     },
     "output_type": "display_data"
    }
   ],
   "source": [
    "run_and_plot(city1_n_smax, steps=150)"
   ]
  },
  {
   "cell_type": "markdown",
   "metadata": {},
   "source": [
    "## Tres grupos"
   ]
  },
  {
   "cell_type": "markdown",
   "metadata": {},
   "source": [
    "Modifique su programa previo para considerar tres tipos de agentes (rojos, verdes y azules). Inicialice cada grupo como $\\frac{1}{3}$ de la población y establezca de manera global el parámetro de similitud requerida.\n",
    "\n",
    "¿Se forman patrones de segregación? ¿Cuál es el valor del umbral $S_{max}$?"
   ]
  },
  {
   "cell_type": "code",
   "execution_count": 19,
   "metadata": {},
   "outputs": [],
   "source": [
    "def build_3_city(sim):\n",
    "    return City(\n",
    "        density = 0.9, \n",
    "        width= 50,\n",
    "        height= 50,\n",
    "        num_groups=3,\n",
    "        sim_type='constant',\n",
    "        sim_percentage=sim\n",
    "    )"
   ]
  },
  {
   "cell_type": "code",
   "execution_count": 20,
   "metadata": {},
   "outputs": [],
   "source": [
    "city3 = build_3_city(0.625)"
   ]
  },
  {
   "cell_type": "code",
   "execution_count": 21,
   "metadata": {},
   "outputs": [
    {
     "data": {
      "text/html": [
       "\n",
       "\n",
       "\n",
       "\n",
       "\n",
       "\n",
       "  <div class=\"bk-root\" id=\"70009047-3205-4705-9eda-8efcfa07d208\" data-root-id=\"1547\"></div>\n"
      ]
     },
     "metadata": {},
     "output_type": "display_data"
    },
    {
     "data": {
      "application/javascript": [
       "(function(root) {\n",
       "  function embed_document(root) {\n",
       "    \n",
       "  var docs_json = {\"cba79e97-640c-4b24-b28f-5f4f7c53e20f\":{\"roots\":{\"references\":[{\"attributes\":{\"below\":[{\"id\":\"1558\"}],\"center\":[{\"id\":\"1561\"},{\"id\":\"1565\"},{\"id\":\"1594\"}],\"left\":[{\"id\":\"1562\"}],\"output_backend\":\"webgl\",\"plot_height\":400,\"renderers\":[{\"id\":\"1584\"}],\"sizing_mode\":\"fixed\",\"title\":{\"id\":\"1548\"},\"toolbar\":{\"id\":\"1573\"},\"x_range\":{\"id\":\"1550\"},\"x_scale\":{\"id\":\"1554\"},\"y_range\":{\"id\":\"1552\"},\"y_scale\":{\"id\":\"1556\"}},\"id\":\"1547\",\"subtype\":\"Figure\",\"type\":\"Plot\"},{\"attributes\":{\"data_source\":{\"id\":\"1580\"},\"glyph\":{\"id\":\"1582\"},\"hover_glyph\":null,\"muted_glyph\":null,\"nonselection_glyph\":{\"id\":\"1583\"},\"selection_glyph\":null,\"view\":{\"id\":\"1585\"}},\"id\":\"1584\",\"type\":\"GlyphRenderer\"},{\"attributes\":{\"ticks\":[0,10,20,30,40,50,60,70,80,90,100,110,120,130,140]},\"id\":\"1598\",\"type\":\"FixedTicker\"},{\"attributes\":{\"line_alpha\":0.1,\"line_color\":\"#1f77b4\",\"line_width\":2,\"x\":{\"field\":\"__x__values\"},\"y\":{\"field\":\"satisfied_citizens\"}},\"id\":\"1583\",\"type\":\"Line\"},{\"attributes\":{},\"id\":\"1550\",\"type\":\"DataRange1d\"},{\"attributes\":{\"line_color\":\"#1f77b4\",\"line_width\":2,\"x\":{\"field\":\"__x__values\"},\"y\":{\"field\":\"satisfied_citizens\"}},\"id\":\"1582\",\"type\":\"Line\"},{\"attributes\":{\"text\":\"\"},\"id\":\"1548\",\"type\":\"Title\"},{\"attributes\":{\"source\":{\"id\":\"1580\"}},\"id\":\"1585\",\"type\":\"CDSView\"},{\"attributes\":{},\"id\":\"1552\",\"type\":\"DataRange1d\"},{\"attributes\":{\"bottom_units\":\"screen\",\"fill_alpha\":0.5,\"fill_color\":\"lightgrey\",\"left_units\":\"screen\",\"level\":\"overlay\",\"line_alpha\":1.0,\"line_color\":\"black\",\"line_dash\":[4,4],\"line_width\":2,\"right_units\":\"screen\",\"top_units\":\"screen\"},\"id\":\"1572\",\"type\":\"BoxAnnotation\"},{\"attributes\":{\"click_policy\":\"hide\",\"items\":[{\"id\":\"1595\"}],\"visible\":false},\"id\":\"1594\",\"type\":\"Legend\"},{\"attributes\":{},\"id\":\"1556\",\"type\":\"LinearScale\"},{\"attributes\":{},\"id\":\"1591\",\"type\":\"UnionRenderers\"},{\"attributes\":{},\"id\":\"1592\",\"type\":\"Selection\"},{\"attributes\":{\"axis_label\":\"steps\",\"formatter\":{\"id\":\"1590\"},\"ticker\":{\"id\":\"1598\"}},\"id\":\"1558\",\"type\":\"LinearAxis\"},{\"attributes\":{},\"id\":\"1554\",\"type\":\"LinearScale\"},{\"attributes\":{\"axis\":{\"id\":\"1558\"},\"ticker\":null},\"id\":\"1561\",\"type\":\"Grid\"},{\"attributes\":{\"axis_label\":\"satisfied citizens\",\"formatter\":{\"id\":\"1588\"},\"ticker\":{\"id\":\"1563\"}},\"id\":\"1562\",\"type\":\"LinearAxis\"},{\"attributes\":{},\"id\":\"1588\",\"type\":\"BasicTickFormatter\"},{\"attributes\":{\"axis\":{\"id\":\"1562\"},\"dimension\":1,\"ticker\":null},\"id\":\"1565\",\"type\":\"Grid\"},{\"attributes\":{},\"id\":\"1563\",\"type\":\"BasicTicker\"},{\"attributes\":{\"label\":{\"value\":\" satisfied_citizens\"},\"renderers\":[{\"id\":\"1584\"}]},\"id\":\"1595\",\"type\":\"LegendItem\"},{\"attributes\":{},\"id\":\"1571\",\"type\":\"HelpTool\"},{\"attributes\":{},\"id\":\"1567\",\"type\":\"WheelZoomTool\"},{\"attributes\":{\"active_drag\":\"auto\",\"active_inspect\":\"auto\",\"active_multi\":null,\"active_scroll\":{\"id\":\"1567\"},\"active_tap\":\"auto\",\"tools\":[{\"id\":\"1566\"},{\"id\":\"1567\"},{\"id\":\"1568\"},{\"id\":\"1569\"},{\"id\":\"1570\"},{\"id\":\"1571\"},{\"id\":\"1596\"}]},\"id\":\"1573\",\"type\":\"Toolbar\"},{\"attributes\":{},\"id\":\"1566\",\"type\":\"PanTool\"},{\"attributes\":{\"overlay\":{\"id\":\"1572\"}},\"id\":\"1568\",\"type\":\"BoxZoomTool\"},{\"attributes\":{},\"id\":\"1569\",\"type\":\"SaveTool\"},{\"attributes\":{},\"id\":\"1570\",\"type\":\"ResetTool\"},{\"attributes\":{\"callback\":null,\"mode\":\"vline\",\"renderers\":[{\"id\":\"1584\"}],\"tooltips\":[[\"steps\",\"@__x__values_original\"],[\"satisfied_citizens\",\"@{satisfied_citizens}\"]]},\"id\":\"1596\",\"type\":\"HoverTool\"},{\"attributes\":{},\"id\":\"1590\",\"type\":\"BasicTickFormatter\"},{\"attributes\":{\"data\":{\"__x__values\":[0,1,2,3,4,5,6,7,8,9,10,11,12,13,14,15,16,17,18,19,20,21,22,23,24,25,26,27,28,29,30,31,32,33,34,35,36,37,38,39,40,41,42,43,44,45,46,47,48,49,50,51,52,53,54,55,56,57,58,59,60,61,62,63,64,65,66,67,68,69,70,71,72,73,74,75,76,77,78,79,80,81,82,83,84,85,86,87,88,89,90,91,92,93,94,95,96,97,98,99,100,101,102,103,104,105,106,107,108,109,110,111,112,113,114,115,116,117,118,119,120,121,122,123,124,125,126,127,128,129,130,131,132,133,134,135,136,137,138,139],\"__x__values_original\":[0,1,2,3,4,5,6,7,8,9,10,11,12,13,14,15,16,17,18,19,20,21,22,23,24,25,26,27,28,29,30,31,32,33,34,35,36,37,38,39,40,41,42,43,44,45,46,47,48,49,50,51,52,53,54,55,56,57,58,59,60,61,62,63,64,65,66,67,68,69,70,71,72,73,74,75,76,77,78,79,80,81,82,83,84,85,86,87,88,89,90,91,92,93,94,95,96,97,98,99,100,101,102,103,104,105,106,107,108,109,110,111,112,113,114,115,116,117,118,119,120,121,122,123,124,125,126,127,128,129,130,131,132,133,134,135,136,137,138,139],\"satisfied_citizens\":[212,212,287,355,481,541,531,596,658,673,714,750,810,835,918,952,1031,1103,1173,1181,1185,1250,1241,1330,1371,1414,1400,1485,1508,1517,1553,1600,1669,1692,1692,1734,1773,1819,1821,1812,1863,1849,1866,1869,1886,1887,1907,1934,1947,1975,2017,2028,2031,2041,2055,2071,2086,2109,2115,2118,2130,2136,2141,2145,2145,2153,2151,2161,2162,2176,2171,2170,2172,2179,2179,2190,2198,2198,2207,2206,2214,2219,2218,2219,2221,2228,2231,2233,2233,2236,2241,2241,2242,2245,2245,2246,2246,2247,2247,2247,2246,2246,2246,2246,2245,2245,2243,2244,2247,2248,2247,2248,2248,2247,2246,2247,2247,2248,2247,2247,2248,2248,2248,2248,2248,2246,2248,2247,2249,2249,2250,2250,2250,2250,2250,2250,2250,2250,2250,2250]},\"selected\":{\"id\":\"1592\"},\"selection_policy\":{\"id\":\"1591\"}},\"id\":\"1580\",\"type\":\"ColumnDataSource\"}],\"root_ids\":[\"1547\"]},\"title\":\"Bokeh Application\",\"version\":\"2.2.3\"}};\n",
       "  var render_items = [{\"docid\":\"cba79e97-640c-4b24-b28f-5f4f7c53e20f\",\"root_ids\":[\"1547\"],\"roots\":{\"1547\":\"70009047-3205-4705-9eda-8efcfa07d208\"}}];\n",
       "  root.Bokeh.embed.embed_items_notebook(docs_json, render_items);\n",
       "\n",
       "  }\n",
       "  if (root.Bokeh !== undefined) {\n",
       "    embed_document(root);\n",
       "  } else {\n",
       "    var attempts = 0;\n",
       "    var timer = setInterval(function(root) {\n",
       "      if (root.Bokeh !== undefined) {\n",
       "        clearInterval(timer);\n",
       "        embed_document(root);\n",
       "      } else {\n",
       "        attempts++;\n",
       "        if (attempts > 100) {\n",
       "          clearInterval(timer);\n",
       "          console.log(\"Bokeh: ERROR: Unable to run BokehJS code because BokehJS library is missing\");\n",
       "        }\n",
       "      }\n",
       "    }, 10, root)\n",
       "  }\n",
       "})(window);"
      ],
      "application/vnd.bokehjs_exec.v0+json": ""
     },
     "metadata": {
      "application/vnd.bokehjs_exec.v0+json": {
       "id": "1547"
      }
     },
     "output_type": "display_data"
    }
   ],
   "source": [
    "run_and_plot(city3, steps=150)"
   ]
  },
  {
   "cell_type": "code",
   "execution_count": 22,
   "metadata": {},
   "outputs": [],
   "source": [
    "city3_bad = build_3_city(0.6251)"
   ]
  },
  {
   "cell_type": "code",
   "execution_count": 23,
   "metadata": {},
   "outputs": [
    {
     "data": {
      "text/html": [
       "\n",
       "\n",
       "\n",
       "\n",
       "\n",
       "\n",
       "  <div class=\"bk-root\" id=\"b16d58a9-fb58-4a5a-bd1c-2cedd5188473\" data-root-id=\"1677\"></div>\n"
      ]
     },
     "metadata": {},
     "output_type": "display_data"
    },
    {
     "data": {
      "application/javascript": [
       "(function(root) {\n",
       "  function embed_document(root) {\n",
       "    \n",
       "  var docs_json = {\"5fcf8618-65c0-45d4-a3ec-7a9951875970\":{\"roots\":{\"references\":[{\"attributes\":{\"below\":[{\"id\":\"1688\"}],\"center\":[{\"id\":\"1691\"},{\"id\":\"1695\"},{\"id\":\"1724\"}],\"left\":[{\"id\":\"1692\"}],\"output_backend\":\"webgl\",\"plot_height\":400,\"renderers\":[{\"id\":\"1714\"}],\"sizing_mode\":\"fixed\",\"title\":{\"id\":\"1678\"},\"toolbar\":{\"id\":\"1703\"},\"x_range\":{\"id\":\"1680\"},\"x_scale\":{\"id\":\"1684\"},\"y_range\":{\"id\":\"1682\"},\"y_scale\":{\"id\":\"1686\"}},\"id\":\"1677\",\"subtype\":\"Figure\",\"type\":\"Plot\"},{\"attributes\":{\"active_drag\":\"auto\",\"active_inspect\":\"auto\",\"active_multi\":null,\"active_scroll\":{\"id\":\"1697\"},\"active_tap\":\"auto\",\"tools\":[{\"id\":\"1696\"},{\"id\":\"1697\"},{\"id\":\"1698\"},{\"id\":\"1699\"},{\"id\":\"1700\"},{\"id\":\"1701\"},{\"id\":\"1726\"}]},\"id\":\"1703\",\"type\":\"Toolbar\"},{\"attributes\":{},\"id\":\"1701\",\"type\":\"HelpTool\"},{\"attributes\":{},\"id\":\"1696\",\"type\":\"PanTool\"},{\"attributes\":{\"overlay\":{\"id\":\"1702\"}},\"id\":\"1698\",\"type\":\"BoxZoomTool\"},{\"attributes\":{},\"id\":\"1699\",\"type\":\"SaveTool\"},{\"attributes\":{\"data\":{\"__x__values\":[0,1,2,3,4,5,6,7,8,9,10,11,12,13,14,15,16,17,18,19,20,21,22,23,24,25,26,27,28,29,30,31,32,33,34,35,36,37,38,39,40,41,42,43,44,45,46,47,48,49,50,51,52,53,54,55,56,57,58,59,60,61,62,63,64,65,66,67,68,69,70,71,72,73,74,75,76,77,78,79,80,81,82,83,84,85,86,87,88,89,90,91,92,93,94,95,96,97,98,99,100,101,102,103,104,105,106,107,108,109,110,111,112,113,114,115,116,117,118,119,120,121,122,123,124,125,126,127,128,129,130,131,132,133,134,135,136,137,138,139,140,141,142,143,144,145,146,147,148,149,150],\"__x__values_original\":[0,1,2,3,4,5,6,7,8,9,10,11,12,13,14,15,16,17,18,19,20,21,22,23,24,25,26,27,28,29,30,31,32,33,34,35,36,37,38,39,40,41,42,43,44,45,46,47,48,49,50,51,52,53,54,55,56,57,58,59,60,61,62,63,64,65,66,67,68,69,70,71,72,73,74,75,76,77,78,79,80,81,82,83,84,85,86,87,88,89,90,91,92,93,94,95,96,97,98,99,100,101,102,103,104,105,106,107,108,109,110,111,112,113,114,115,116,117,118,119,120,121,122,123,124,125,126,127,128,129,130,131,132,133,134,135,136,137,138,139,140,141,142,143,144,145,146,147,148,149,150],\"satisfied_citizens\":[275,275,227,274,284,311,375,321,320,259,285,293,264,239,226,238,213,231,220,253,241,222,255,231,258,244,204,208,216,257,207,202,208,217,224,230,257,215,210,245,221,208,210,225,258,245,282,318,297,244,204,190,214,230,285,255,254,263,237,276,296,248,230,283,314,304,359,291,271,274,181,228,205,195,176,209,157,189,245,252,279,253,250,243,281,273,243,246,285,337,283,273,257,190,205,211,225,244,206,268,267,229,256,270,222,229,226,198,226,187,219,200,194,159,159,192,235,241,290,315,289,235,225,204,195,243,236,245,239,271,273,215,268,266,263,252,220,242,203,202,229,270,274,269,251,248,270,260,193,293,272]},\"selected\":{\"id\":\"1722\"},\"selection_policy\":{\"id\":\"1721\"}},\"id\":\"1710\",\"type\":\"ColumnDataSource\"},{\"attributes\":{},\"id\":\"1700\",\"type\":\"ResetTool\"},{\"attributes\":{\"axis\":{\"id\":\"1692\"},\"dimension\":1,\"ticker\":null},\"id\":\"1695\",\"type\":\"Grid\"},{\"attributes\":{},\"id\":\"1720\",\"type\":\"BasicTickFormatter\"},{\"attributes\":{\"callback\":null,\"mode\":\"vline\",\"renderers\":[{\"id\":\"1714\"}],\"tooltips\":[[\"steps\",\"@__x__values_original\"],[\"satisfied_citizens\",\"@{satisfied_citizens}\"]]},\"id\":\"1726\",\"type\":\"HoverTool\"},{\"attributes\":{\"data_source\":{\"id\":\"1710\"},\"glyph\":{\"id\":\"1712\"},\"hover_glyph\":null,\"muted_glyph\":null,\"nonselection_glyph\":{\"id\":\"1713\"},\"selection_glyph\":null,\"view\":{\"id\":\"1715\"}},\"id\":\"1714\",\"type\":\"GlyphRenderer\"},{\"attributes\":{\"axis_label\":\"satisfied citizens\",\"formatter\":{\"id\":\"1718\"},\"ticker\":{\"id\":\"1693\"}},\"id\":\"1692\",\"type\":\"LinearAxis\"},{\"attributes\":{\"label\":{\"value\":\" satisfied_citizens\"},\"renderers\":[{\"id\":\"1714\"}]},\"id\":\"1725\",\"type\":\"LegendItem\"},{\"attributes\":{\"text\":\"\"},\"id\":\"1678\",\"type\":\"Title\"},{\"attributes\":{\"line_alpha\":0.1,\"line_color\":\"#1f77b4\",\"line_width\":2,\"x\":{\"field\":\"__x__values\"},\"y\":{\"field\":\"satisfied_citizens\"}},\"id\":\"1713\",\"type\":\"Line\"},{\"attributes\":{\"ticks\":[0,10,20,30,40,50,60,70,80,90,100,110,120,130,140,150]},\"id\":\"1728\",\"type\":\"FixedTicker\"},{\"attributes\":{\"line_color\":\"#1f77b4\",\"line_width\":2,\"x\":{\"field\":\"__x__values\"},\"y\":{\"field\":\"satisfied_citizens\"}},\"id\":\"1712\",\"type\":\"Line\"},{\"attributes\":{\"source\":{\"id\":\"1710\"}},\"id\":\"1715\",\"type\":\"CDSView\"},{\"attributes\":{\"bottom_units\":\"screen\",\"fill_alpha\":0.5,\"fill_color\":\"lightgrey\",\"left_units\":\"screen\",\"level\":\"overlay\",\"line_alpha\":1.0,\"line_color\":\"black\",\"line_dash\":[4,4],\"line_width\":2,\"right_units\":\"screen\",\"top_units\":\"screen\"},\"id\":\"1702\",\"type\":\"BoxAnnotation\"},{\"attributes\":{\"click_policy\":\"hide\",\"items\":[{\"id\":\"1725\"}],\"visible\":false},\"id\":\"1724\",\"type\":\"Legend\"},{\"attributes\":{},\"id\":\"1682\",\"type\":\"DataRange1d\"},{\"attributes\":{},\"id\":\"1721\",\"type\":\"UnionRenderers\"},{\"attributes\":{},\"id\":\"1722\",\"type\":\"Selection\"},{\"attributes\":{},\"id\":\"1680\",\"type\":\"DataRange1d\"},{\"attributes\":{},\"id\":\"1686\",\"type\":\"LinearScale\"},{\"attributes\":{\"axis_label\":\"steps\",\"formatter\":{\"id\":\"1720\"},\"ticker\":{\"id\":\"1728\"}},\"id\":\"1688\",\"type\":\"LinearAxis\"},{\"attributes\":{},\"id\":\"1684\",\"type\":\"LinearScale\"},{\"attributes\":{},\"id\":\"1697\",\"type\":\"WheelZoomTool\"},{\"attributes\":{\"axis\":{\"id\":\"1688\"},\"ticker\":null},\"id\":\"1691\",\"type\":\"Grid\"},{\"attributes\":{},\"id\":\"1718\",\"type\":\"BasicTickFormatter\"},{\"attributes\":{},\"id\":\"1693\",\"type\":\"BasicTicker\"}],\"root_ids\":[\"1677\"]},\"title\":\"Bokeh Application\",\"version\":\"2.2.3\"}};\n",
       "  var render_items = [{\"docid\":\"5fcf8618-65c0-45d4-a3ec-7a9951875970\",\"root_ids\":[\"1677\"],\"roots\":{\"1677\":\"b16d58a9-fb58-4a5a-bd1c-2cedd5188473\"}}];\n",
       "  root.Bokeh.embed.embed_items_notebook(docs_json, render_items);\n",
       "\n",
       "  }\n",
       "  if (root.Bokeh !== undefined) {\n",
       "    embed_document(root);\n",
       "  } else {\n",
       "    var attempts = 0;\n",
       "    var timer = setInterval(function(root) {\n",
       "      if (root.Bokeh !== undefined) {\n",
       "        clearInterval(timer);\n",
       "        embed_document(root);\n",
       "      } else {\n",
       "        attempts++;\n",
       "        if (attempts > 100) {\n",
       "          clearInterval(timer);\n",
       "          console.log(\"Bokeh: ERROR: Unable to run BokehJS code because BokehJS library is missing\");\n",
       "        }\n",
       "      }\n",
       "    }, 10, root)\n",
       "  }\n",
       "})(window);"
      ],
      "application/vnd.bokehjs_exec.v0+json": ""
     },
     "metadata": {
      "application/vnd.bokehjs_exec.v0+json": {
       "id": "1677"
      }
     },
     "output_type": "display_data"
    }
   ],
   "source": [
    "run_and_plot(city3_bad, steps=150)"
   ]
  }
 ],
 "metadata": {
  "kernelspec": {
   "display_name": "Python 3",
   "language": "python",
   "name": "python3"
  },
  "language_info": {
   "codemirror_mode": {
    "name": "ipython",
    "version": 3
   },
   "file_extension": ".py",
   "mimetype": "text/x-python",
   "name": "python",
   "nbconvert_exporter": "python",
   "pygments_lexer": "ipython3",
   "version": "3.8.6"
  }
 },
 "nbformat": 4,
 "nbformat_minor": 4
}
